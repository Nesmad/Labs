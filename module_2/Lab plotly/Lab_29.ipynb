{
 "cells": [
  {
   "cell_type": "markdown",
   "metadata": {
    "id": "bgx66llINAs1"
   },
   "source": [
    "# Interactive Visualization Lab\n",
    "\n",
    "Complete the following set of exercises to solidify your knowledge of interactive visualization using Plotly, Cufflinks, and IPyWidgets."
   ]
  },
  {
   "cell_type": "code",
   "execution_count": 1,
   "metadata": {
    "colab": {
     "base_uri": "https://localhost:8080/",
     "height": 17
    },
    "id": "Bd1NfGejNAs5",
    "outputId": "a3351317-4659-4319-d103-260ed437b54c"
   },
   "outputs": [
    {
     "data": {
      "text/html": [
       "        <script type=\"text/javascript\">\n",
       "        window.PlotlyConfig = {MathJaxConfig: 'local'};\n",
       "        if (window.MathJax) {MathJax.Hub.Config({SVG: {font: \"STIX-Web\"}});}\n",
       "        if (typeof require !== 'undefined') {\n",
       "        require.undef(\"plotly\");\n",
       "        requirejs.config({\n",
       "            paths: {\n",
       "                'plotly': ['https://cdn.plot.ly/plotly-2.8.3.min']\n",
       "            }\n",
       "        });\n",
       "        require(['plotly'], function(Plotly) {\n",
       "            window._Plotly = Plotly;\n",
       "        });\n",
       "        }\n",
       "        </script>\n",
       "        "
      ]
     },
     "metadata": {},
     "output_type": "display_data"
    }
   ],
   "source": [
    "import pandas as pd;\n",
    "import plotly.offline as py;\n",
    "from plotly import tools;\n",
    "import plotly.graph_objs as go;\n",
    "import warnings;\n",
    "from ipywidgets import interact;\n",
    "\n",
    "warnings.filterwarnings('ignore')\n",
    "py.init_notebook_mode(connected=True)"
   ]
  },
  {
   "cell_type": "code",
   "execution_count": 2,
   "metadata": {
    "colab": {
     "base_uri": "https://localhost:8080/",
     "height": 328
    },
    "id": "zzrhxOv-NAs8",
    "outputId": "903bbb1a-6984-443c-b466-2a5d02c8b65e"
   },
   "outputs": [
    {
     "data": {
      "text/html": [
       "<div>\n",
       "<style scoped>\n",
       "    .dataframe tbody tr th:only-of-type {\n",
       "        vertical-align: middle;\n",
       "    }\n",
       "\n",
       "    .dataframe tbody tr th {\n",
       "        vertical-align: top;\n",
       "    }\n",
       "\n",
       "    .dataframe thead th {\n",
       "        text-align: right;\n",
       "    }\n",
       "</style>\n",
       "<table border=\"1\" class=\"dataframe\">\n",
       "  <thead>\n",
       "    <tr style=\"text-align: right;\">\n",
       "      <th></th>\n",
       "      <th>InvoiceNo</th>\n",
       "      <th>InvoiceDate</th>\n",
       "      <th>StockCode</th>\n",
       "      <th>Description</th>\n",
       "      <th>Quantity</th>\n",
       "      <th>UnitPrice</th>\n",
       "      <th>Revenue</th>\n",
       "      <th>CustomerID</th>\n",
       "      <th>Country</th>\n",
       "    </tr>\n",
       "  </thead>\n",
       "  <tbody>\n",
       "    <tr>\n",
       "      <th>0</th>\n",
       "      <td>536365</td>\n",
       "      <td>2010-12-01 08:26:00</td>\n",
       "      <td>85123A</td>\n",
       "      <td>CREAM HANGING HEART T-LIGHT HOLDER</td>\n",
       "      <td>6</td>\n",
       "      <td>2.55</td>\n",
       "      <td>15.30</td>\n",
       "      <td>17850</td>\n",
       "      <td>United Kingdom</td>\n",
       "    </tr>\n",
       "    <tr>\n",
       "      <th>1</th>\n",
       "      <td>536373</td>\n",
       "      <td>2010-12-01 09:02:00</td>\n",
       "      <td>85123A</td>\n",
       "      <td>CREAM HANGING HEART T-LIGHT HOLDER</td>\n",
       "      <td>6</td>\n",
       "      <td>2.55</td>\n",
       "      <td>15.30</td>\n",
       "      <td>17850</td>\n",
       "      <td>United Kingdom</td>\n",
       "    </tr>\n",
       "    <tr>\n",
       "      <th>2</th>\n",
       "      <td>536375</td>\n",
       "      <td>2010-12-01 09:32:00</td>\n",
       "      <td>85123A</td>\n",
       "      <td>CREAM HANGING HEART T-LIGHT HOLDER</td>\n",
       "      <td>6</td>\n",
       "      <td>2.55</td>\n",
       "      <td>15.30</td>\n",
       "      <td>17850</td>\n",
       "      <td>United Kingdom</td>\n",
       "    </tr>\n",
       "    <tr>\n",
       "      <th>3</th>\n",
       "      <td>536390</td>\n",
       "      <td>2010-12-01 10:19:00</td>\n",
       "      <td>85123A</td>\n",
       "      <td>CREAM HANGING HEART T-LIGHT HOLDER</td>\n",
       "      <td>64</td>\n",
       "      <td>2.55</td>\n",
       "      <td>163.20</td>\n",
       "      <td>17511</td>\n",
       "      <td>United Kingdom</td>\n",
       "    </tr>\n",
       "    <tr>\n",
       "      <th>4</th>\n",
       "      <td>536394</td>\n",
       "      <td>2010-12-01 10:39:00</td>\n",
       "      <td>85123A</td>\n",
       "      <td>CREAM HANGING HEART T-LIGHT HOLDER</td>\n",
       "      <td>32</td>\n",
       "      <td>2.55</td>\n",
       "      <td>81.60</td>\n",
       "      <td>13408</td>\n",
       "      <td>United Kingdom</td>\n",
       "    </tr>\n",
       "    <tr>\n",
       "      <th>...</th>\n",
       "      <td>...</td>\n",
       "      <td>...</td>\n",
       "      <td>...</td>\n",
       "      <td>...</td>\n",
       "      <td>...</td>\n",
       "      <td>...</td>\n",
       "      <td>...</td>\n",
       "      <td>...</td>\n",
       "      <td>...</td>\n",
       "    </tr>\n",
       "    <tr>\n",
       "      <th>396029</th>\n",
       "      <td>580691</td>\n",
       "      <td>2011-12-05 15:48:00</td>\n",
       "      <td>90214W</td>\n",
       "      <td>LETTER \"W\" BLING KEY RING</td>\n",
       "      <td>12</td>\n",
       "      <td>0.29</td>\n",
       "      <td>3.48</td>\n",
       "      <td>13790</td>\n",
       "      <td>United Kingdom</td>\n",
       "    </tr>\n",
       "    <tr>\n",
       "      <th>396030</th>\n",
       "      <td>580691</td>\n",
       "      <td>2011-12-05 15:48:00</td>\n",
       "      <td>90214Z</td>\n",
       "      <td>LETTER \"Z\" BLING KEY RING</td>\n",
       "      <td>12</td>\n",
       "      <td>0.29</td>\n",
       "      <td>3.48</td>\n",
       "      <td>13790</td>\n",
       "      <td>United Kingdom</td>\n",
       "    </tr>\n",
       "    <tr>\n",
       "      <th>396031</th>\n",
       "      <td>580865</td>\n",
       "      <td>2011-12-06 11:58:00</td>\n",
       "      <td>90089</td>\n",
       "      <td>PINK CRYSTAL SKULL PHONE CHARM</td>\n",
       "      <td>12</td>\n",
       "      <td>0.19</td>\n",
       "      <td>2.28</td>\n",
       "      <td>17914</td>\n",
       "      <td>United Kingdom</td>\n",
       "    </tr>\n",
       "    <tr>\n",
       "      <th>396032</th>\n",
       "      <td>580865</td>\n",
       "      <td>2011-12-06 11:58:00</td>\n",
       "      <td>90089</td>\n",
       "      <td>PINK CRYSTAL SKULL PHONE CHARM</td>\n",
       "      <td>12</td>\n",
       "      <td>0.19</td>\n",
       "      <td>2.28</td>\n",
       "      <td>17914</td>\n",
       "      <td>United Kingdom</td>\n",
       "    </tr>\n",
       "    <tr>\n",
       "      <th>396033</th>\n",
       "      <td>581425</td>\n",
       "      <td>2011-12-08 15:31:00</td>\n",
       "      <td>90089</td>\n",
       "      <td>PINK CRYSTAL SKULL PHONE CHARM</td>\n",
       "      <td>1</td>\n",
       "      <td>0.19</td>\n",
       "      <td>0.19</td>\n",
       "      <td>14796</td>\n",
       "      <td>United Kingdom</td>\n",
       "    </tr>\n",
       "  </tbody>\n",
       "</table>\n",
       "<p>396034 rows × 9 columns</p>\n",
       "</div>"
      ],
      "text/plain": [
       "        InvoiceNo         InvoiceDate StockCode  \\\n",
       "0          536365 2010-12-01 08:26:00    85123A   \n",
       "1          536373 2010-12-01 09:02:00    85123A   \n",
       "2          536375 2010-12-01 09:32:00    85123A   \n",
       "3          536390 2010-12-01 10:19:00    85123A   \n",
       "4          536394 2010-12-01 10:39:00    85123A   \n",
       "...           ...                 ...       ...   \n",
       "396029     580691 2011-12-05 15:48:00    90214W   \n",
       "396030     580691 2011-12-05 15:48:00    90214Z   \n",
       "396031     580865 2011-12-06 11:58:00     90089   \n",
       "396032     580865 2011-12-06 11:58:00     90089   \n",
       "396033     581425 2011-12-08 15:31:00     90089   \n",
       "\n",
       "                               Description  Quantity  UnitPrice  Revenue  \\\n",
       "0       CREAM HANGING HEART T-LIGHT HOLDER         6       2.55    15.30   \n",
       "1       CREAM HANGING HEART T-LIGHT HOLDER         6       2.55    15.30   \n",
       "2       CREAM HANGING HEART T-LIGHT HOLDER         6       2.55    15.30   \n",
       "3       CREAM HANGING HEART T-LIGHT HOLDER        64       2.55   163.20   \n",
       "4       CREAM HANGING HEART T-LIGHT HOLDER        32       2.55    81.60   \n",
       "...                                    ...       ...        ...      ...   \n",
       "396029           LETTER \"W\" BLING KEY RING        12       0.29     3.48   \n",
       "396030           LETTER \"Z\" BLING KEY RING        12       0.29     3.48   \n",
       "396031      PINK CRYSTAL SKULL PHONE CHARM        12       0.19     2.28   \n",
       "396032      PINK CRYSTAL SKULL PHONE CHARM        12       0.19     2.28   \n",
       "396033      PINK CRYSTAL SKULL PHONE CHARM         1       0.19     0.19   \n",
       "\n",
       "        CustomerID         Country  \n",
       "0            17850  United Kingdom  \n",
       "1            17850  United Kingdom  \n",
       "2            17850  United Kingdom  \n",
       "3            17511  United Kingdom  \n",
       "4            13408  United Kingdom  \n",
       "...            ...             ...  \n",
       "396029       13790  United Kingdom  \n",
       "396030       13790  United Kingdom  \n",
       "396031       17914  United Kingdom  \n",
       "396032       17914  United Kingdom  \n",
       "396033       14796  United Kingdom  \n",
       "\n",
       "[396034 rows x 9 columns]"
      ]
     },
     "execution_count": 2,
     "metadata": {},
     "output_type": "execute_result"
    }
   ],
   "source": [
    "data=pd.read_excel('/Users/dehilinesma/Downloads/Lab_29(Extra)_Plotly/Online Retail.xlsx')\n",
    "data"
   ]
  },
  {
   "cell_type": "markdown",
   "metadata": {
    "id": "yksInHB4NAs9"
   },
   "source": [
    "#### 1. Create an interactive bar chart showing total quantity and revenue by country (excluding United Kingdom) for the month of April 2011."
   ]
  },
  {
   "cell_type": "code",
   "execution_count": 3,
   "metadata": {},
   "outputs": [
    {
     "data": {
      "text/plain": [
       "InvoiceNo               int64\n",
       "InvoiceDate    datetime64[ns]\n",
       "StockCode              object\n",
       "Description            object\n",
       "Quantity                int64\n",
       "UnitPrice             float64\n",
       "Revenue               float64\n",
       "CustomerID              int64\n",
       "Country                object\n",
       "dtype: object"
      ]
     },
     "execution_count": 3,
     "metadata": {},
     "output_type": "execute_result"
    }
   ],
   "source": [
    "data.dtypes"
   ]
  },
  {
   "cell_type": "code",
   "execution_count": 4,
   "metadata": {
    "id": "cRvqI28DNAs9"
   },
   "outputs": [
    {
     "data": {
      "text/html": [
       "<div>\n",
       "<style scoped>\n",
       "    .dataframe tbody tr th:only-of-type {\n",
       "        vertical-align: middle;\n",
       "    }\n",
       "\n",
       "    .dataframe tbody tr th {\n",
       "        vertical-align: top;\n",
       "    }\n",
       "\n",
       "    .dataframe thead th {\n",
       "        text-align: right;\n",
       "    }\n",
       "</style>\n",
       "<table border=\"1\" class=\"dataframe\">\n",
       "  <thead>\n",
       "    <tr style=\"text-align: right;\">\n",
       "      <th></th>\n",
       "      <th>Country</th>\n",
       "      <th>Quantity</th>\n",
       "      <th>Revenue</th>\n",
       "    </tr>\n",
       "  </thead>\n",
       "  <tbody>\n",
       "    <tr>\n",
       "      <th>0</th>\n",
       "      <td>Australia</td>\n",
       "      <td>224</td>\n",
       "      <td>421.60</td>\n",
       "    </tr>\n",
       "    <tr>\n",
       "      <th>1</th>\n",
       "      <td>Austria</td>\n",
       "      <td>308</td>\n",
       "      <td>584.78</td>\n",
       "    </tr>\n",
       "    <tr>\n",
       "      <th>2</th>\n",
       "      <td>Belgium</td>\n",
       "      <td>1170</td>\n",
       "      <td>1788.48</td>\n",
       "    </tr>\n",
       "    <tr>\n",
       "      <th>3</th>\n",
       "      <td>Brazil</td>\n",
       "      <td>356</td>\n",
       "      <td>1143.60</td>\n",
       "    </tr>\n",
       "    <tr>\n",
       "      <th>4</th>\n",
       "      <td>Channel Islands</td>\n",
       "      <td>96</td>\n",
       "      <td>243.00</td>\n",
       "    </tr>\n",
       "    <tr>\n",
       "      <th>5</th>\n",
       "      <td>EIRE</td>\n",
       "      <td>4129</td>\n",
       "      <td>7270.50</td>\n",
       "    </tr>\n",
       "    <tr>\n",
       "      <th>6</th>\n",
       "      <td>Finland</td>\n",
       "      <td>810</td>\n",
       "      <td>1368.92</td>\n",
       "    </tr>\n",
       "    <tr>\n",
       "      <th>7</th>\n",
       "      <td>France</td>\n",
       "      <td>2265</td>\n",
       "      <td>3899.31</td>\n",
       "    </tr>\n",
       "    <tr>\n",
       "      <th>8</th>\n",
       "      <td>Germany</td>\n",
       "      <td>5702</td>\n",
       "      <td>10994.79</td>\n",
       "    </tr>\n",
       "    <tr>\n",
       "      <th>9</th>\n",
       "      <td>Greece</td>\n",
       "      <td>260</td>\n",
       "      <td>509.74</td>\n",
       "    </tr>\n",
       "    <tr>\n",
       "      <th>10</th>\n",
       "      <td>Iceland</td>\n",
       "      <td>483</td>\n",
       "      <td>636.25</td>\n",
       "    </tr>\n",
       "    <tr>\n",
       "      <th>11</th>\n",
       "      <td>Italy</td>\n",
       "      <td>653</td>\n",
       "      <td>737.83</td>\n",
       "    </tr>\n",
       "    <tr>\n",
       "      <th>12</th>\n",
       "      <td>Japan</td>\n",
       "      <td>8058</td>\n",
       "      <td>6548.50</td>\n",
       "    </tr>\n",
       "    <tr>\n",
       "      <th>13</th>\n",
       "      <td>Netherlands</td>\n",
       "      <td>1762</td>\n",
       "      <td>2886.56</td>\n",
       "    </tr>\n",
       "    <tr>\n",
       "      <th>14</th>\n",
       "      <td>Poland</td>\n",
       "      <td>432</td>\n",
       "      <td>705.84</td>\n",
       "    </tr>\n",
       "    <tr>\n",
       "      <th>15</th>\n",
       "      <td>Portugal</td>\n",
       "      <td>951</td>\n",
       "      <td>1687.75</td>\n",
       "    </tr>\n",
       "    <tr>\n",
       "      <th>16</th>\n",
       "      <td>Singapore</td>\n",
       "      <td>1384</td>\n",
       "      <td>2118.74</td>\n",
       "    </tr>\n",
       "    <tr>\n",
       "      <th>17</th>\n",
       "      <td>Spain</td>\n",
       "      <td>948</td>\n",
       "      <td>1645.65</td>\n",
       "    </tr>\n",
       "    <tr>\n",
       "      <th>18</th>\n",
       "      <td>Sweden</td>\n",
       "      <td>306</td>\n",
       "      <td>649.10</td>\n",
       "    </tr>\n",
       "    <tr>\n",
       "      <th>19</th>\n",
       "      <td>Switzerland</td>\n",
       "      <td>878</td>\n",
       "      <td>1756.94</td>\n",
       "    </tr>\n",
       "    <tr>\n",
       "      <th>20</th>\n",
       "      <td>USA</td>\n",
       "      <td>137</td>\n",
       "      <td>383.95</td>\n",
       "    </tr>\n",
       "  </tbody>\n",
       "</table>\n",
       "</div>"
      ],
      "text/plain": [
       "            Country  Quantity   Revenue\n",
       "0         Australia       224    421.60\n",
       "1           Austria       308    584.78\n",
       "2           Belgium      1170   1788.48\n",
       "3            Brazil       356   1143.60\n",
       "4   Channel Islands        96    243.00\n",
       "5              EIRE      4129   7270.50\n",
       "6           Finland       810   1368.92\n",
       "7            France      2265   3899.31\n",
       "8           Germany      5702  10994.79\n",
       "9            Greece       260    509.74\n",
       "10          Iceland       483    636.25\n",
       "11            Italy       653    737.83\n",
       "12            Japan      8058   6548.50\n",
       "13      Netherlands      1762   2886.56\n",
       "14           Poland       432    705.84\n",
       "15         Portugal       951   1687.75\n",
       "16        Singapore      1384   2118.74\n",
       "17            Spain       948   1645.65\n",
       "18           Sweden       306    649.10\n",
       "19      Switzerland       878   1756.94\n",
       "20              USA       137    383.95"
      ]
     },
     "execution_count": 4,
     "metadata": {},
     "output_type": "execute_result"
    }
   ],
   "source": [
    "# Transform the data\n",
    "\n",
    "data1 =  data[(data['InvoiceDate'].dt.month == 4) & (data['Country']!='United Kingdom')]\n",
    "\n",
    "total_qty_rvn =data1[['Country','Quantity','Revenue']].groupby(['Country'],as_index=False).agg('sum')\n",
    "total_qty_rvn"
   ]
  },
  {
   "cell_type": "code",
   "execution_count": 5,
   "metadata": {
    "id": "YAZlj3jQNAs-",
    "outputId": "7345db26-94ad-4c40-b3fa-74694431de77"
   },
   "outputs": [
    {
     "data": {
      "application/vnd.plotly.v1+json": {
       "config": {
        "plotlyServerURL": "https://plot.ly"
       },
       "data": [
        {
         "alignmentgroup": "True",
         "hovertemplate": "variable=Quantity<br>Country=%{x}<br>value=%{y}<extra></extra>",
         "legendgroup": "Quantity",
         "marker": {
          "color": "#636efa",
          "pattern": {
           "shape": ""
          }
         },
         "name": "Quantity",
         "offsetgroup": "Quantity",
         "orientation": "v",
         "showlegend": true,
         "textposition": "auto",
         "type": "bar",
         "x": [
          "Australia",
          "Austria",
          "Belgium",
          "Brazil",
          "Channel Islands",
          "EIRE",
          "Finland",
          "France",
          "Germany",
          "Greece",
          "Iceland",
          "Italy",
          "Japan",
          "Netherlands",
          "Poland",
          "Portugal",
          "Singapore",
          "Spain",
          "Sweden",
          "Switzerland",
          "USA"
         ],
         "xaxis": "x",
         "y": [
          224,
          308,
          1170,
          356,
          96,
          4129,
          810,
          2265,
          5702,
          260,
          483,
          653,
          8058,
          1762,
          432,
          951,
          1384,
          948,
          306,
          878,
          137
         ],
         "yaxis": "y"
        },
        {
         "alignmentgroup": "True",
         "hovertemplate": "variable=Revenue<br>Country=%{x}<br>value=%{y}<extra></extra>",
         "legendgroup": "Revenue",
         "marker": {
          "color": "#EF553B",
          "pattern": {
           "shape": ""
          }
         },
         "name": "Revenue",
         "offsetgroup": "Revenue",
         "orientation": "v",
         "showlegend": true,
         "textposition": "auto",
         "type": "bar",
         "x": [
          "Australia",
          "Austria",
          "Belgium",
          "Brazil",
          "Channel Islands",
          "EIRE",
          "Finland",
          "France",
          "Germany",
          "Greece",
          "Iceland",
          "Italy",
          "Japan",
          "Netherlands",
          "Poland",
          "Portugal",
          "Singapore",
          "Spain",
          "Sweden",
          "Switzerland",
          "USA"
         ],
         "xaxis": "x",
         "y": [
          421.6,
          584.78,
          1788.48,
          1143.6,
          243,
          7270.5,
          1368.92,
          3899.31,
          10994.79,
          509.74,
          636.25,
          737.83,
          6548.5,
          2886.56,
          705.8399999999999,
          1687.75,
          2118.74,
          1645.65,
          649.1,
          1756.94,
          383.95
         ],
         "yaxis": "y"
        }
       ],
       "layout": {
        "barmode": "relative",
        "legend": {
         "title": {
          "text": "variable"
         },
         "tracegroupgap": 0
        },
        "template": {
         "data": {
          "bar": [
           {
            "error_x": {
             "color": "#2a3f5f"
            },
            "error_y": {
             "color": "#2a3f5f"
            },
            "marker": {
             "line": {
              "color": "#E5ECF6",
              "width": 0.5
             },
             "pattern": {
              "fillmode": "overlay",
              "size": 10,
              "solidity": 0.2
             }
            },
            "type": "bar"
           }
          ],
          "barpolar": [
           {
            "marker": {
             "line": {
              "color": "#E5ECF6",
              "width": 0.5
             },
             "pattern": {
              "fillmode": "overlay",
              "size": 10,
              "solidity": 0.2
             }
            },
            "type": "barpolar"
           }
          ],
          "carpet": [
           {
            "aaxis": {
             "endlinecolor": "#2a3f5f",
             "gridcolor": "white",
             "linecolor": "white",
             "minorgridcolor": "white",
             "startlinecolor": "#2a3f5f"
            },
            "baxis": {
             "endlinecolor": "#2a3f5f",
             "gridcolor": "white",
             "linecolor": "white",
             "minorgridcolor": "white",
             "startlinecolor": "#2a3f5f"
            },
            "type": "carpet"
           }
          ],
          "choropleth": [
           {
            "colorbar": {
             "outlinewidth": 0,
             "ticks": ""
            },
            "type": "choropleth"
           }
          ],
          "contour": [
           {
            "colorbar": {
             "outlinewidth": 0,
             "ticks": ""
            },
            "colorscale": [
             [
              0,
              "#0d0887"
             ],
             [
              0.1111111111111111,
              "#46039f"
             ],
             [
              0.2222222222222222,
              "#7201a8"
             ],
             [
              0.3333333333333333,
              "#9c179e"
             ],
             [
              0.4444444444444444,
              "#bd3786"
             ],
             [
              0.5555555555555556,
              "#d8576b"
             ],
             [
              0.6666666666666666,
              "#ed7953"
             ],
             [
              0.7777777777777778,
              "#fb9f3a"
             ],
             [
              0.8888888888888888,
              "#fdca26"
             ],
             [
              1,
              "#f0f921"
             ]
            ],
            "type": "contour"
           }
          ],
          "contourcarpet": [
           {
            "colorbar": {
             "outlinewidth": 0,
             "ticks": ""
            },
            "type": "contourcarpet"
           }
          ],
          "heatmap": [
           {
            "colorbar": {
             "outlinewidth": 0,
             "ticks": ""
            },
            "colorscale": [
             [
              0,
              "#0d0887"
             ],
             [
              0.1111111111111111,
              "#46039f"
             ],
             [
              0.2222222222222222,
              "#7201a8"
             ],
             [
              0.3333333333333333,
              "#9c179e"
             ],
             [
              0.4444444444444444,
              "#bd3786"
             ],
             [
              0.5555555555555556,
              "#d8576b"
             ],
             [
              0.6666666666666666,
              "#ed7953"
             ],
             [
              0.7777777777777778,
              "#fb9f3a"
             ],
             [
              0.8888888888888888,
              "#fdca26"
             ],
             [
              1,
              "#f0f921"
             ]
            ],
            "type": "heatmap"
           }
          ],
          "heatmapgl": [
           {
            "colorbar": {
             "outlinewidth": 0,
             "ticks": ""
            },
            "colorscale": [
             [
              0,
              "#0d0887"
             ],
             [
              0.1111111111111111,
              "#46039f"
             ],
             [
              0.2222222222222222,
              "#7201a8"
             ],
             [
              0.3333333333333333,
              "#9c179e"
             ],
             [
              0.4444444444444444,
              "#bd3786"
             ],
             [
              0.5555555555555556,
              "#d8576b"
             ],
             [
              0.6666666666666666,
              "#ed7953"
             ],
             [
              0.7777777777777778,
              "#fb9f3a"
             ],
             [
              0.8888888888888888,
              "#fdca26"
             ],
             [
              1,
              "#f0f921"
             ]
            ],
            "type": "heatmapgl"
           }
          ],
          "histogram": [
           {
            "marker": {
             "pattern": {
              "fillmode": "overlay",
              "size": 10,
              "solidity": 0.2
             }
            },
            "type": "histogram"
           }
          ],
          "histogram2d": [
           {
            "colorbar": {
             "outlinewidth": 0,
             "ticks": ""
            },
            "colorscale": [
             [
              0,
              "#0d0887"
             ],
             [
              0.1111111111111111,
              "#46039f"
             ],
             [
              0.2222222222222222,
              "#7201a8"
             ],
             [
              0.3333333333333333,
              "#9c179e"
             ],
             [
              0.4444444444444444,
              "#bd3786"
             ],
             [
              0.5555555555555556,
              "#d8576b"
             ],
             [
              0.6666666666666666,
              "#ed7953"
             ],
             [
              0.7777777777777778,
              "#fb9f3a"
             ],
             [
              0.8888888888888888,
              "#fdca26"
             ],
             [
              1,
              "#f0f921"
             ]
            ],
            "type": "histogram2d"
           }
          ],
          "histogram2dcontour": [
           {
            "colorbar": {
             "outlinewidth": 0,
             "ticks": ""
            },
            "colorscale": [
             [
              0,
              "#0d0887"
             ],
             [
              0.1111111111111111,
              "#46039f"
             ],
             [
              0.2222222222222222,
              "#7201a8"
             ],
             [
              0.3333333333333333,
              "#9c179e"
             ],
             [
              0.4444444444444444,
              "#bd3786"
             ],
             [
              0.5555555555555556,
              "#d8576b"
             ],
             [
              0.6666666666666666,
              "#ed7953"
             ],
             [
              0.7777777777777778,
              "#fb9f3a"
             ],
             [
              0.8888888888888888,
              "#fdca26"
             ],
             [
              1,
              "#f0f921"
             ]
            ],
            "type": "histogram2dcontour"
           }
          ],
          "mesh3d": [
           {
            "colorbar": {
             "outlinewidth": 0,
             "ticks": ""
            },
            "type": "mesh3d"
           }
          ],
          "parcoords": [
           {
            "line": {
             "colorbar": {
              "outlinewidth": 0,
              "ticks": ""
             }
            },
            "type": "parcoords"
           }
          ],
          "pie": [
           {
            "automargin": true,
            "type": "pie"
           }
          ],
          "scatter": [
           {
            "marker": {
             "colorbar": {
              "outlinewidth": 0,
              "ticks": ""
             }
            },
            "type": "scatter"
           }
          ],
          "scatter3d": [
           {
            "line": {
             "colorbar": {
              "outlinewidth": 0,
              "ticks": ""
             }
            },
            "marker": {
             "colorbar": {
              "outlinewidth": 0,
              "ticks": ""
             }
            },
            "type": "scatter3d"
           }
          ],
          "scattercarpet": [
           {
            "marker": {
             "colorbar": {
              "outlinewidth": 0,
              "ticks": ""
             }
            },
            "type": "scattercarpet"
           }
          ],
          "scattergeo": [
           {
            "marker": {
             "colorbar": {
              "outlinewidth": 0,
              "ticks": ""
             }
            },
            "type": "scattergeo"
           }
          ],
          "scattergl": [
           {
            "marker": {
             "colorbar": {
              "outlinewidth": 0,
              "ticks": ""
             }
            },
            "type": "scattergl"
           }
          ],
          "scattermapbox": [
           {
            "marker": {
             "colorbar": {
              "outlinewidth": 0,
              "ticks": ""
             }
            },
            "type": "scattermapbox"
           }
          ],
          "scatterpolar": [
           {
            "marker": {
             "colorbar": {
              "outlinewidth": 0,
              "ticks": ""
             }
            },
            "type": "scatterpolar"
           }
          ],
          "scatterpolargl": [
           {
            "marker": {
             "colorbar": {
              "outlinewidth": 0,
              "ticks": ""
             }
            },
            "type": "scatterpolargl"
           }
          ],
          "scatterternary": [
           {
            "marker": {
             "colorbar": {
              "outlinewidth": 0,
              "ticks": ""
             }
            },
            "type": "scatterternary"
           }
          ],
          "surface": [
           {
            "colorbar": {
             "outlinewidth": 0,
             "ticks": ""
            },
            "colorscale": [
             [
              0,
              "#0d0887"
             ],
             [
              0.1111111111111111,
              "#46039f"
             ],
             [
              0.2222222222222222,
              "#7201a8"
             ],
             [
              0.3333333333333333,
              "#9c179e"
             ],
             [
              0.4444444444444444,
              "#bd3786"
             ],
             [
              0.5555555555555556,
              "#d8576b"
             ],
             [
              0.6666666666666666,
              "#ed7953"
             ],
             [
              0.7777777777777778,
              "#fb9f3a"
             ],
             [
              0.8888888888888888,
              "#fdca26"
             ],
             [
              1,
              "#f0f921"
             ]
            ],
            "type": "surface"
           }
          ],
          "table": [
           {
            "cells": {
             "fill": {
              "color": "#EBF0F8"
             },
             "line": {
              "color": "white"
             }
            },
            "header": {
             "fill": {
              "color": "#C8D4E3"
             },
             "line": {
              "color": "white"
             }
            },
            "type": "table"
           }
          ]
         },
         "layout": {
          "annotationdefaults": {
           "arrowcolor": "#2a3f5f",
           "arrowhead": 0,
           "arrowwidth": 1
          },
          "autotypenumbers": "strict",
          "coloraxis": {
           "colorbar": {
            "outlinewidth": 0,
            "ticks": ""
           }
          },
          "colorscale": {
           "diverging": [
            [
             0,
             "#8e0152"
            ],
            [
             0.1,
             "#c51b7d"
            ],
            [
             0.2,
             "#de77ae"
            ],
            [
             0.3,
             "#f1b6da"
            ],
            [
             0.4,
             "#fde0ef"
            ],
            [
             0.5,
             "#f7f7f7"
            ],
            [
             0.6,
             "#e6f5d0"
            ],
            [
             0.7,
             "#b8e186"
            ],
            [
             0.8,
             "#7fbc41"
            ],
            [
             0.9,
             "#4d9221"
            ],
            [
             1,
             "#276419"
            ]
           ],
           "sequential": [
            [
             0,
             "#0d0887"
            ],
            [
             0.1111111111111111,
             "#46039f"
            ],
            [
             0.2222222222222222,
             "#7201a8"
            ],
            [
             0.3333333333333333,
             "#9c179e"
            ],
            [
             0.4444444444444444,
             "#bd3786"
            ],
            [
             0.5555555555555556,
             "#d8576b"
            ],
            [
             0.6666666666666666,
             "#ed7953"
            ],
            [
             0.7777777777777778,
             "#fb9f3a"
            ],
            [
             0.8888888888888888,
             "#fdca26"
            ],
            [
             1,
             "#f0f921"
            ]
           ],
           "sequentialminus": [
            [
             0,
             "#0d0887"
            ],
            [
             0.1111111111111111,
             "#46039f"
            ],
            [
             0.2222222222222222,
             "#7201a8"
            ],
            [
             0.3333333333333333,
             "#9c179e"
            ],
            [
             0.4444444444444444,
             "#bd3786"
            ],
            [
             0.5555555555555556,
             "#d8576b"
            ],
            [
             0.6666666666666666,
             "#ed7953"
            ],
            [
             0.7777777777777778,
             "#fb9f3a"
            ],
            [
             0.8888888888888888,
             "#fdca26"
            ],
            [
             1,
             "#f0f921"
            ]
           ]
          },
          "colorway": [
           "#636efa",
           "#EF553B",
           "#00cc96",
           "#ab63fa",
           "#FFA15A",
           "#19d3f3",
           "#FF6692",
           "#B6E880",
           "#FF97FF",
           "#FECB52"
          ],
          "font": {
           "color": "#2a3f5f"
          },
          "geo": {
           "bgcolor": "white",
           "lakecolor": "white",
           "landcolor": "#E5ECF6",
           "showlakes": true,
           "showland": true,
           "subunitcolor": "white"
          },
          "hoverlabel": {
           "align": "left"
          },
          "hovermode": "closest",
          "mapbox": {
           "style": "light"
          },
          "paper_bgcolor": "white",
          "plot_bgcolor": "#E5ECF6",
          "polar": {
           "angularaxis": {
            "gridcolor": "white",
            "linecolor": "white",
            "ticks": ""
           },
           "bgcolor": "#E5ECF6",
           "radialaxis": {
            "gridcolor": "white",
            "linecolor": "white",
            "ticks": ""
           }
          },
          "scene": {
           "xaxis": {
            "backgroundcolor": "#E5ECF6",
            "gridcolor": "white",
            "gridwidth": 2,
            "linecolor": "white",
            "showbackground": true,
            "ticks": "",
            "zerolinecolor": "white"
           },
           "yaxis": {
            "backgroundcolor": "#E5ECF6",
            "gridcolor": "white",
            "gridwidth": 2,
            "linecolor": "white",
            "showbackground": true,
            "ticks": "",
            "zerolinecolor": "white"
           },
           "zaxis": {
            "backgroundcolor": "#E5ECF6",
            "gridcolor": "white",
            "gridwidth": 2,
            "linecolor": "white",
            "showbackground": true,
            "ticks": "",
            "zerolinecolor": "white"
           }
          },
          "shapedefaults": {
           "line": {
            "color": "#2a3f5f"
           }
          },
          "ternary": {
           "aaxis": {
            "gridcolor": "white",
            "linecolor": "white",
            "ticks": ""
           },
           "baxis": {
            "gridcolor": "white",
            "linecolor": "white",
            "ticks": ""
           },
           "bgcolor": "#E5ECF6",
           "caxis": {
            "gridcolor": "white",
            "linecolor": "white",
            "ticks": ""
           }
          },
          "title": {
           "x": 0.05
          },
          "xaxis": {
           "automargin": true,
           "gridcolor": "white",
           "linecolor": "white",
           "ticks": "",
           "title": {
            "standoff": 15
           },
           "zerolinecolor": "white",
           "zerolinewidth": 2
          },
          "yaxis": {
           "automargin": true,
           "gridcolor": "white",
           "linecolor": "white",
           "ticks": "",
           "title": {
            "standoff": 15
           },
           "zerolinecolor": "white",
           "zerolinewidth": 2
          }
         }
        },
        "title": {
         "text": "QTY & Revenue by country (ex. UK) - April 2011"
        },
        "xaxis": {
         "anchor": "y",
         "domain": [
          0,
          1
         ],
         "title": {
          "text": "Country"
         }
        },
        "yaxis": {
         "anchor": "x",
         "domain": [
          0,
          1
         ],
         "title": {
          "text": "value"
         }
        }
       }
      },
      "text/html": [
       "<div>                            <div id=\"fa518464-f733-4dcb-b2e5-99eb48d6cb8e\" class=\"plotly-graph-div\" style=\"height:525px; width:100%;\"></div>            <script type=\"text/javascript\">                require([\"plotly\"], function(Plotly) {                    window.PLOTLYENV=window.PLOTLYENV || {};                                    if (document.getElementById(\"fa518464-f733-4dcb-b2e5-99eb48d6cb8e\")) {                    Plotly.newPlot(                        \"fa518464-f733-4dcb-b2e5-99eb48d6cb8e\",                        [{\"alignmentgroup\":\"True\",\"hovertemplate\":\"variable=Quantity<br>Country=%{x}<br>value=%{y}<extra></extra>\",\"legendgroup\":\"Quantity\",\"marker\":{\"color\":\"#636efa\",\"pattern\":{\"shape\":\"\"}},\"name\":\"Quantity\",\"offsetgroup\":\"Quantity\",\"orientation\":\"v\",\"showlegend\":true,\"textposition\":\"auto\",\"x\":[\"Australia\",\"Austria\",\"Belgium\",\"Brazil\",\"Channel Islands\",\"EIRE\",\"Finland\",\"France\",\"Germany\",\"Greece\",\"Iceland\",\"Italy\",\"Japan\",\"Netherlands\",\"Poland\",\"Portugal\",\"Singapore\",\"Spain\",\"Sweden\",\"Switzerland\",\"USA\"],\"xaxis\":\"x\",\"y\":[224.0,308.0,1170.0,356.0,96.0,4129.0,810.0,2265.0,5702.0,260.0,483.0,653.0,8058.0,1762.0,432.0,951.0,1384.0,948.0,306.0,878.0,137.0],\"yaxis\":\"y\",\"type\":\"bar\"},{\"alignmentgroup\":\"True\",\"hovertemplate\":\"variable=Revenue<br>Country=%{x}<br>value=%{y}<extra></extra>\",\"legendgroup\":\"Revenue\",\"marker\":{\"color\":\"#EF553B\",\"pattern\":{\"shape\":\"\"}},\"name\":\"Revenue\",\"offsetgroup\":\"Revenue\",\"orientation\":\"v\",\"showlegend\":true,\"textposition\":\"auto\",\"x\":[\"Australia\",\"Austria\",\"Belgium\",\"Brazil\",\"Channel Islands\",\"EIRE\",\"Finland\",\"France\",\"Germany\",\"Greece\",\"Iceland\",\"Italy\",\"Japan\",\"Netherlands\",\"Poland\",\"Portugal\",\"Singapore\",\"Spain\",\"Sweden\",\"Switzerland\",\"USA\"],\"xaxis\":\"x\",\"y\":[421.6,584.78,1788.48,1143.6,243.0,7270.5,1368.92,3899.31,10994.79,509.74,636.25,737.83,6548.5,2886.56,705.8399999999999,1687.75,2118.74,1645.65,649.1,1756.94,383.95],\"yaxis\":\"y\",\"type\":\"bar\"}],                        {\"template\":{\"data\":{\"bar\":[{\"error_x\":{\"color\":\"#2a3f5f\"},\"error_y\":{\"color\":\"#2a3f5f\"},\"marker\":{\"line\":{\"color\":\"#E5ECF6\",\"width\":0.5},\"pattern\":{\"fillmode\":\"overlay\",\"size\":10,\"solidity\":0.2}},\"type\":\"bar\"}],\"barpolar\":[{\"marker\":{\"line\":{\"color\":\"#E5ECF6\",\"width\":0.5},\"pattern\":{\"fillmode\":\"overlay\",\"size\":10,\"solidity\":0.2}},\"type\":\"barpolar\"}],\"carpet\":[{\"aaxis\":{\"endlinecolor\":\"#2a3f5f\",\"gridcolor\":\"white\",\"linecolor\":\"white\",\"minorgridcolor\":\"white\",\"startlinecolor\":\"#2a3f5f\"},\"baxis\":{\"endlinecolor\":\"#2a3f5f\",\"gridcolor\":\"white\",\"linecolor\":\"white\",\"minorgridcolor\":\"white\",\"startlinecolor\":\"#2a3f5f\"},\"type\":\"carpet\"}],\"choropleth\":[{\"colorbar\":{\"outlinewidth\":0,\"ticks\":\"\"},\"type\":\"choropleth\"}],\"contour\":[{\"colorbar\":{\"outlinewidth\":0,\"ticks\":\"\"},\"colorscale\":[[0.0,\"#0d0887\"],[0.1111111111111111,\"#46039f\"],[0.2222222222222222,\"#7201a8\"],[0.3333333333333333,\"#9c179e\"],[0.4444444444444444,\"#bd3786\"],[0.5555555555555556,\"#d8576b\"],[0.6666666666666666,\"#ed7953\"],[0.7777777777777778,\"#fb9f3a\"],[0.8888888888888888,\"#fdca26\"],[1.0,\"#f0f921\"]],\"type\":\"contour\"}],\"contourcarpet\":[{\"colorbar\":{\"outlinewidth\":0,\"ticks\":\"\"},\"type\":\"contourcarpet\"}],\"heatmap\":[{\"colorbar\":{\"outlinewidth\":0,\"ticks\":\"\"},\"colorscale\":[[0.0,\"#0d0887\"],[0.1111111111111111,\"#46039f\"],[0.2222222222222222,\"#7201a8\"],[0.3333333333333333,\"#9c179e\"],[0.4444444444444444,\"#bd3786\"],[0.5555555555555556,\"#d8576b\"],[0.6666666666666666,\"#ed7953\"],[0.7777777777777778,\"#fb9f3a\"],[0.8888888888888888,\"#fdca26\"],[1.0,\"#f0f921\"]],\"type\":\"heatmap\"}],\"heatmapgl\":[{\"colorbar\":{\"outlinewidth\":0,\"ticks\":\"\"},\"colorscale\":[[0.0,\"#0d0887\"],[0.1111111111111111,\"#46039f\"],[0.2222222222222222,\"#7201a8\"],[0.3333333333333333,\"#9c179e\"],[0.4444444444444444,\"#bd3786\"],[0.5555555555555556,\"#d8576b\"],[0.6666666666666666,\"#ed7953\"],[0.7777777777777778,\"#fb9f3a\"],[0.8888888888888888,\"#fdca26\"],[1.0,\"#f0f921\"]],\"type\":\"heatmapgl\"}],\"histogram\":[{\"marker\":{\"pattern\":{\"fillmode\":\"overlay\",\"size\":10,\"solidity\":0.2}},\"type\":\"histogram\"}],\"histogram2d\":[{\"colorbar\":{\"outlinewidth\":0,\"ticks\":\"\"},\"colorscale\":[[0.0,\"#0d0887\"],[0.1111111111111111,\"#46039f\"],[0.2222222222222222,\"#7201a8\"],[0.3333333333333333,\"#9c179e\"],[0.4444444444444444,\"#bd3786\"],[0.5555555555555556,\"#d8576b\"],[0.6666666666666666,\"#ed7953\"],[0.7777777777777778,\"#fb9f3a\"],[0.8888888888888888,\"#fdca26\"],[1.0,\"#f0f921\"]],\"type\":\"histogram2d\"}],\"histogram2dcontour\":[{\"colorbar\":{\"outlinewidth\":0,\"ticks\":\"\"},\"colorscale\":[[0.0,\"#0d0887\"],[0.1111111111111111,\"#46039f\"],[0.2222222222222222,\"#7201a8\"],[0.3333333333333333,\"#9c179e\"],[0.4444444444444444,\"#bd3786\"],[0.5555555555555556,\"#d8576b\"],[0.6666666666666666,\"#ed7953\"],[0.7777777777777778,\"#fb9f3a\"],[0.8888888888888888,\"#fdca26\"],[1.0,\"#f0f921\"]],\"type\":\"histogram2dcontour\"}],\"mesh3d\":[{\"colorbar\":{\"outlinewidth\":0,\"ticks\":\"\"},\"type\":\"mesh3d\"}],\"parcoords\":[{\"line\":{\"colorbar\":{\"outlinewidth\":0,\"ticks\":\"\"}},\"type\":\"parcoords\"}],\"pie\":[{\"automargin\":true,\"type\":\"pie\"}],\"scatter\":[{\"marker\":{\"colorbar\":{\"outlinewidth\":0,\"ticks\":\"\"}},\"type\":\"scatter\"}],\"scatter3d\":[{\"line\":{\"colorbar\":{\"outlinewidth\":0,\"ticks\":\"\"}},\"marker\":{\"colorbar\":{\"outlinewidth\":0,\"ticks\":\"\"}},\"type\":\"scatter3d\"}],\"scattercarpet\":[{\"marker\":{\"colorbar\":{\"outlinewidth\":0,\"ticks\":\"\"}},\"type\":\"scattercarpet\"}],\"scattergeo\":[{\"marker\":{\"colorbar\":{\"outlinewidth\":0,\"ticks\":\"\"}},\"type\":\"scattergeo\"}],\"scattergl\":[{\"marker\":{\"colorbar\":{\"outlinewidth\":0,\"ticks\":\"\"}},\"type\":\"scattergl\"}],\"scattermapbox\":[{\"marker\":{\"colorbar\":{\"outlinewidth\":0,\"ticks\":\"\"}},\"type\":\"scattermapbox\"}],\"scatterpolar\":[{\"marker\":{\"colorbar\":{\"outlinewidth\":0,\"ticks\":\"\"}},\"type\":\"scatterpolar\"}],\"scatterpolargl\":[{\"marker\":{\"colorbar\":{\"outlinewidth\":0,\"ticks\":\"\"}},\"type\":\"scatterpolargl\"}],\"scatterternary\":[{\"marker\":{\"colorbar\":{\"outlinewidth\":0,\"ticks\":\"\"}},\"type\":\"scatterternary\"}],\"surface\":[{\"colorbar\":{\"outlinewidth\":0,\"ticks\":\"\"},\"colorscale\":[[0.0,\"#0d0887\"],[0.1111111111111111,\"#46039f\"],[0.2222222222222222,\"#7201a8\"],[0.3333333333333333,\"#9c179e\"],[0.4444444444444444,\"#bd3786\"],[0.5555555555555556,\"#d8576b\"],[0.6666666666666666,\"#ed7953\"],[0.7777777777777778,\"#fb9f3a\"],[0.8888888888888888,\"#fdca26\"],[1.0,\"#f0f921\"]],\"type\":\"surface\"}],\"table\":[{\"cells\":{\"fill\":{\"color\":\"#EBF0F8\"},\"line\":{\"color\":\"white\"}},\"header\":{\"fill\":{\"color\":\"#C8D4E3\"},\"line\":{\"color\":\"white\"}},\"type\":\"table\"}]},\"layout\":{\"annotationdefaults\":{\"arrowcolor\":\"#2a3f5f\",\"arrowhead\":0,\"arrowwidth\":1},\"autotypenumbers\":\"strict\",\"coloraxis\":{\"colorbar\":{\"outlinewidth\":0,\"ticks\":\"\"}},\"colorscale\":{\"diverging\":[[0,\"#8e0152\"],[0.1,\"#c51b7d\"],[0.2,\"#de77ae\"],[0.3,\"#f1b6da\"],[0.4,\"#fde0ef\"],[0.5,\"#f7f7f7\"],[0.6,\"#e6f5d0\"],[0.7,\"#b8e186\"],[0.8,\"#7fbc41\"],[0.9,\"#4d9221\"],[1,\"#276419\"]],\"sequential\":[[0.0,\"#0d0887\"],[0.1111111111111111,\"#46039f\"],[0.2222222222222222,\"#7201a8\"],[0.3333333333333333,\"#9c179e\"],[0.4444444444444444,\"#bd3786\"],[0.5555555555555556,\"#d8576b\"],[0.6666666666666666,\"#ed7953\"],[0.7777777777777778,\"#fb9f3a\"],[0.8888888888888888,\"#fdca26\"],[1.0,\"#f0f921\"]],\"sequentialminus\":[[0.0,\"#0d0887\"],[0.1111111111111111,\"#46039f\"],[0.2222222222222222,\"#7201a8\"],[0.3333333333333333,\"#9c179e\"],[0.4444444444444444,\"#bd3786\"],[0.5555555555555556,\"#d8576b\"],[0.6666666666666666,\"#ed7953\"],[0.7777777777777778,\"#fb9f3a\"],[0.8888888888888888,\"#fdca26\"],[1.0,\"#f0f921\"]]},\"colorway\":[\"#636efa\",\"#EF553B\",\"#00cc96\",\"#ab63fa\",\"#FFA15A\",\"#19d3f3\",\"#FF6692\",\"#B6E880\",\"#FF97FF\",\"#FECB52\"],\"font\":{\"color\":\"#2a3f5f\"},\"geo\":{\"bgcolor\":\"white\",\"lakecolor\":\"white\",\"landcolor\":\"#E5ECF6\",\"showlakes\":true,\"showland\":true,\"subunitcolor\":\"white\"},\"hoverlabel\":{\"align\":\"left\"},\"hovermode\":\"closest\",\"mapbox\":{\"style\":\"light\"},\"paper_bgcolor\":\"white\",\"plot_bgcolor\":\"#E5ECF6\",\"polar\":{\"angularaxis\":{\"gridcolor\":\"white\",\"linecolor\":\"white\",\"ticks\":\"\"},\"bgcolor\":\"#E5ECF6\",\"radialaxis\":{\"gridcolor\":\"white\",\"linecolor\":\"white\",\"ticks\":\"\"}},\"scene\":{\"xaxis\":{\"backgroundcolor\":\"#E5ECF6\",\"gridcolor\":\"white\",\"gridwidth\":2,\"linecolor\":\"white\",\"showbackground\":true,\"ticks\":\"\",\"zerolinecolor\":\"white\"},\"yaxis\":{\"backgroundcolor\":\"#E5ECF6\",\"gridcolor\":\"white\",\"gridwidth\":2,\"linecolor\":\"white\",\"showbackground\":true,\"ticks\":\"\",\"zerolinecolor\":\"white\"},\"zaxis\":{\"backgroundcolor\":\"#E5ECF6\",\"gridcolor\":\"white\",\"gridwidth\":2,\"linecolor\":\"white\",\"showbackground\":true,\"ticks\":\"\",\"zerolinecolor\":\"white\"}},\"shapedefaults\":{\"line\":{\"color\":\"#2a3f5f\"}},\"ternary\":{\"aaxis\":{\"gridcolor\":\"white\",\"linecolor\":\"white\",\"ticks\":\"\"},\"baxis\":{\"gridcolor\":\"white\",\"linecolor\":\"white\",\"ticks\":\"\"},\"bgcolor\":\"#E5ECF6\",\"caxis\":{\"gridcolor\":\"white\",\"linecolor\":\"white\",\"ticks\":\"\"}},\"title\":{\"x\":0.05},\"xaxis\":{\"automargin\":true,\"gridcolor\":\"white\",\"linecolor\":\"white\",\"ticks\":\"\",\"title\":{\"standoff\":15},\"zerolinecolor\":\"white\",\"zerolinewidth\":2},\"yaxis\":{\"automargin\":true,\"gridcolor\":\"white\",\"linecolor\":\"white\",\"ticks\":\"\",\"title\":{\"standoff\":15},\"zerolinecolor\":\"white\",\"zerolinewidth\":2}}},\"xaxis\":{\"anchor\":\"y\",\"domain\":[0.0,1.0],\"title\":{\"text\":\"Country\"}},\"yaxis\":{\"anchor\":\"x\",\"domain\":[0.0,1.0],\"title\":{\"text\":\"value\"}},\"legend\":{\"title\":{\"text\":\"variable\"},\"tracegroupgap\":0},\"title\":{\"text\":\"QTY & Revenue by country (ex. UK) - April 2011\"},\"barmode\":\"relative\"},                        {\"responsive\": true}                    ).then(function(){\n",
       "                            \n",
       "var gd = document.getElementById('fa518464-f733-4dcb-b2e5-99eb48d6cb8e');\n",
       "var x = new MutationObserver(function (mutations, observer) {{\n",
       "        var display = window.getComputedStyle(gd).display;\n",
       "        if (!display || display === 'none') {{\n",
       "            console.log([gd, 'removed!']);\n",
       "            Plotly.purge(gd);\n",
       "            observer.disconnect();\n",
       "        }}\n",
       "}});\n",
       "\n",
       "// Listen for the removal of the full notebook cells\n",
       "var notebookContainer = gd.closest('#notebook-container');\n",
       "if (notebookContainer) {{\n",
       "    x.observe(notebookContainer, {childList: true});\n",
       "}}\n",
       "\n",
       "// Listen for the clearing of the current output cell\n",
       "var outputEl = gd.closest('.output');\n",
       "if (outputEl) {{\n",
       "    x.observe(outputEl, {childList: true});\n",
       "}}\n",
       "\n",
       "                        })                };                });            </script>        </div>"
      ]
     },
     "metadata": {},
     "output_type": "display_data"
    }
   ],
   "source": [
    "# Plot\n",
    "import plotly.express as px\n",
    "fig = px.bar(total_qty_rvn, x='Country', y=['Quantity','Revenue'], title=\"QTY & Revenue by country (ex. UK) - April 2011\")\n",
    "fig.show()"
   ]
  },
  {
   "cell_type": "markdown",
   "metadata": {
    "id": "MQ3_rCBxNAs_"
   },
   "source": [
    "#### 2. Create an interactive line chart showing quantity and revenue sold to France between January 1st and May 31st 2011."
   ]
  },
  {
   "cell_type": "code",
   "execution_count": 6,
   "metadata": {
    "id": "fjuRC30JNAtA"
   },
   "outputs": [
    {
     "data": {
      "text/html": [
       "<div>\n",
       "<style scoped>\n",
       "    .dataframe tbody tr th:only-of-type {\n",
       "        vertical-align: middle;\n",
       "    }\n",
       "\n",
       "    .dataframe tbody tr th {\n",
       "        vertical-align: top;\n",
       "    }\n",
       "\n",
       "    .dataframe thead th {\n",
       "        text-align: right;\n",
       "    }\n",
       "</style>\n",
       "<table border=\"1\" class=\"dataframe\">\n",
       "  <thead>\n",
       "    <tr style=\"text-align: right;\">\n",
       "      <th></th>\n",
       "      <th>InvoiceDate</th>\n",
       "      <th>Quantity</th>\n",
       "      <th>Revenue</th>\n",
       "    </tr>\n",
       "  </thead>\n",
       "  <tbody>\n",
       "    <tr>\n",
       "      <th>0</th>\n",
       "      <td>2011-01-05 12:42:00</td>\n",
       "      <td>359</td>\n",
       "      <td>502.07</td>\n",
       "    </tr>\n",
       "    <tr>\n",
       "      <th>1</th>\n",
       "      <td>2011-01-05 14:48:00</td>\n",
       "      <td>369</td>\n",
       "      <td>763.11</td>\n",
       "    </tr>\n",
       "    <tr>\n",
       "      <th>2</th>\n",
       "      <td>2011-01-06 14:26:00</td>\n",
       "      <td>261</td>\n",
       "      <td>283.77</td>\n",
       "    </tr>\n",
       "    <tr>\n",
       "      <th>3</th>\n",
       "      <td>2011-01-06 16:12:00</td>\n",
       "      <td>177</td>\n",
       "      <td>425.25</td>\n",
       "    </tr>\n",
       "    <tr>\n",
       "      <th>4</th>\n",
       "      <td>2011-01-07 12:07:00</td>\n",
       "      <td>488</td>\n",
       "      <td>676.16</td>\n",
       "    </tr>\n",
       "    <tr>\n",
       "      <th>...</th>\n",
       "      <td>...</td>\n",
       "      <td>...</td>\n",
       "      <td>...</td>\n",
       "    </tr>\n",
       "    <tr>\n",
       "      <th>118</th>\n",
       "      <td>2011-05-25 12:44:00</td>\n",
       "      <td>180</td>\n",
       "      <td>390.96</td>\n",
       "    </tr>\n",
       "    <tr>\n",
       "      <th>119</th>\n",
       "      <td>2011-05-25 12:54:00</td>\n",
       "      <td>374</td>\n",
       "      <td>514.74</td>\n",
       "    </tr>\n",
       "    <tr>\n",
       "      <th>120</th>\n",
       "      <td>2011-05-26 14:53:00</td>\n",
       "      <td>86</td>\n",
       "      <td>196.50</td>\n",
       "    </tr>\n",
       "    <tr>\n",
       "      <th>121</th>\n",
       "      <td>2011-05-26 17:16:00</td>\n",
       "      <td>424</td>\n",
       "      <td>362.00</td>\n",
       "    </tr>\n",
       "    <tr>\n",
       "      <th>122</th>\n",
       "      <td>2011-05-27 13:49:00</td>\n",
       "      <td>155</td>\n",
       "      <td>367.09</td>\n",
       "    </tr>\n",
       "  </tbody>\n",
       "</table>\n",
       "<p>123 rows × 3 columns</p>\n",
       "</div>"
      ],
      "text/plain": [
       "            InvoiceDate  Quantity  Revenue\n",
       "0   2011-01-05 12:42:00       359   502.07\n",
       "1   2011-01-05 14:48:00       369   763.11\n",
       "2   2011-01-06 14:26:00       261   283.77\n",
       "3   2011-01-06 16:12:00       177   425.25\n",
       "4   2011-01-07 12:07:00       488   676.16\n",
       "..                  ...       ...      ...\n",
       "118 2011-05-25 12:44:00       180   390.96\n",
       "119 2011-05-25 12:54:00       374   514.74\n",
       "120 2011-05-26 14:53:00        86   196.50\n",
       "121 2011-05-26 17:16:00       424   362.00\n",
       "122 2011-05-27 13:49:00       155   367.09\n",
       "\n",
       "[123 rows x 3 columns]"
      ]
     },
     "execution_count": 6,
     "metadata": {},
     "output_type": "execute_result"
    }
   ],
   "source": [
    "# Transform the data\n",
    "\n",
    "france = data[data['Country']=='France']\n",
    "\n",
    "france_5m_2011 =  france[(france['InvoiceDate'] >= '2011-1-1') & (france['InvoiceDate'] <= '2011-5-31')]\n",
    "\n",
    "france_qty_rvn = france_5m_2011[['InvoiceDate','Quantity','Revenue']].groupby(['InvoiceDate'],as_index=False).agg('sum')\n",
    "france_qty_rvn"
   ]
  },
  {
   "cell_type": "code",
   "execution_count": 7,
   "metadata": {
    "id": "BcpCxOTpNAtB",
    "outputId": "aebd06d3-01e7-4a9c-8413-2843b3f863d3"
   },
   "outputs": [
    {
     "data": {
      "application/vnd.plotly.v1+json": {
       "config": {
        "plotlyServerURL": "https://plot.ly"
       },
       "data": [
        {
         "hovertemplate": "variable=Quantity<br>InvoiceDate=%{x}<br>value=%{y}<extra></extra>",
         "legendgroup": "Quantity",
         "line": {
          "color": "#636efa",
          "dash": "solid"
         },
         "marker": {
          "symbol": "circle"
         },
         "mode": "lines",
         "name": "Quantity",
         "orientation": "v",
         "showlegend": true,
         "type": "scatter",
         "x": [
          "2011-01-05T12:42:00",
          "2011-01-05T14:48:00",
          "2011-01-06T14:26:00",
          "2011-01-06T16:12:00",
          "2011-01-07T12:07:00",
          "2011-01-07T13:13:00",
          "2011-01-09T12:46:00",
          "2011-01-10T13:22:00",
          "2011-01-11T07:57:00",
          "2011-01-11T11:48:00",
          "2011-01-11T13:31:00",
          "2011-01-11T15:00:00",
          "2011-01-12T09:43:00",
          "2011-01-12T14:13:00",
          "2011-01-12T15:00:00",
          "2011-01-14T09:13:00",
          "2011-01-14T09:20:00",
          "2011-01-14T10:42:00",
          "2011-01-17T15:17:00",
          "2011-01-19T11:51:00",
          "2011-01-20T10:47:00",
          "2011-01-20T10:48:00",
          "2011-01-23T15:17:00",
          "2011-01-24T15:32:00",
          "2011-01-28T09:20:00",
          "2011-01-28T10:45:00",
          "2011-01-28T13:37:00",
          "2011-01-31T09:57:00",
          "2011-01-31T15:36:00",
          "2011-02-01T14:58:00",
          "2011-02-02T09:06:00",
          "2011-02-02T15:22:00",
          "2011-02-04T11:45:00",
          "2011-02-08T13:28:00",
          "2011-02-09T10:11:00",
          "2011-02-10T15:38:00",
          "2011-02-15T14:17:00",
          "2011-02-16T11:45:00",
          "2011-02-17T10:08:00",
          "2011-02-18T10:53:00",
          "2011-02-18T15:23:00",
          "2011-02-21T08:38:00",
          "2011-02-21T14:58:00",
          "2011-02-23T16:44:00",
          "2011-02-23T16:45:00",
          "2011-02-27T11:58:00",
          "2011-02-28T11:43:00",
          "2011-02-28T11:58:00",
          "2011-02-28T14:42:00",
          "2011-02-28T14:45:00",
          "2011-03-01T10:31:00",
          "2011-03-01T12:26:00",
          "2011-03-03T12:06:00",
          "2011-03-03T12:20:00",
          "2011-03-04T09:08:00",
          "2011-03-11T12:00:00",
          "2011-03-13T14:55:00",
          "2011-03-14T11:38:00",
          "2011-03-15T16:39:00",
          "2011-03-16T14:37:00",
          "2011-03-16T15:17:00",
          "2011-03-20T15:58:00",
          "2011-03-21T12:42:00",
          "2011-03-21T12:44:00",
          "2011-03-22T11:28:00",
          "2011-03-23T12:06:00",
          "2011-03-23T13:33:00",
          "2011-03-23T13:39:00",
          "2011-03-23T14:55:00",
          "2011-03-25T10:19:00",
          "2011-03-27T13:07:00",
          "2011-03-28T10:15:00",
          "2011-03-31T10:27:00",
          "2011-03-31T10:29:00",
          "2011-03-31T13:40:00",
          "2011-04-01T09:19:00",
          "2011-04-01T11:10:00",
          "2011-04-04T11:18:00",
          "2011-04-07T13:07:00",
          "2011-04-14T14:15:00",
          "2011-04-17T11:21:00",
          "2011-04-17T15:33:00",
          "2011-04-20T09:20:00",
          "2011-04-21T08:54:00",
          "2011-04-21T10:16:00",
          "2011-04-26T15:52:00",
          "2011-04-28T11:45:00",
          "2011-05-03T08:40:00",
          "2011-05-03T09:33:00",
          "2011-05-03T09:34:00",
          "2011-05-03T12:02:00",
          "2011-05-03T12:03:00",
          "2011-05-05T09:29:00",
          "2011-05-08T16:10:00",
          "2011-05-09T09:47:00",
          "2011-05-09T15:12:00",
          "2011-05-10T12:55:00",
          "2011-05-11T13:20:00",
          "2011-05-11T15:07:00",
          "2011-05-12T11:50:00",
          "2011-05-13T09:24:00",
          "2011-05-13T13:15:00",
          "2011-05-13T15:48:00",
          "2011-05-15T13:45:00",
          "2011-05-16T09:10:00",
          "2011-05-16T12:04:00",
          "2011-05-17T09:28:00",
          "2011-05-18T09:09:00",
          "2011-05-18T10:34:00",
          "2011-05-18T12:18:00",
          "2011-05-19T12:10:00",
          "2011-05-19T12:29:00",
          "2011-05-20T11:34:00",
          "2011-05-22T13:01:00",
          "2011-05-22T14:33:00",
          "2011-05-23T09:48:00",
          "2011-05-24T09:25:00",
          "2011-05-25T10:08:00",
          "2011-05-25T12:44:00",
          "2011-05-25T12:54:00",
          "2011-05-26T14:53:00",
          "2011-05-26T17:16:00",
          "2011-05-27T13:49:00"
         ],
         "xaxis": "x",
         "y": [
          359,
          369,
          261,
          177,
          488,
          103,
          78,
          628,
          168,
          576,
          120,
          114,
          43,
          131,
          498,
          543,
          78,
          440,
          263,
          383,
          211,
          491,
          120,
          84,
          59,
          406,
          102,
          1617,
          202,
          197,
          159,
          206,
          611,
          214,
          298,
          452,
          96,
          772,
          114,
          748,
          15,
          256,
          77,
          264,
          96,
          70,
          213,
          310,
          72,
          54,
          245,
          329,
          314,
          24,
          123,
          323,
          183,
          184,
          314,
          97,
          62,
          422,
          85,
          5,
          198,
          136,
          713,
          242,
          130,
          261,
          59,
          842,
          946,
          132,
          2271,
          88,
          240,
          293,
          236,
          284,
          375,
          25,
          196,
          23,
          275,
          84,
          146,
          368,
          350,
          6,
          120,
          192,
          98,
          773,
          162,
          332,
          458,
          859,
          734,
          105,
          202,
          33,
          267,
          140,
          220,
          58,
          476,
          103,
          152,
          72,
          434,
          126,
          464,
          229,
          62,
          304,
          208,
          180,
          180,
          374,
          86,
          424,
          155
         ],
         "yaxis": "y"
        },
        {
         "hovertemplate": "variable=Revenue<br>InvoiceDate=%{x}<br>value=%{y}<extra></extra>",
         "legendgroup": "Revenue",
         "line": {
          "color": "#EF553B",
          "dash": "solid"
         },
         "marker": {
          "symbol": "circle"
         },
         "mode": "lines",
         "name": "Revenue",
         "orientation": "v",
         "showlegend": true,
         "type": "scatter",
         "x": [
          "2011-01-05T12:42:00",
          "2011-01-05T14:48:00",
          "2011-01-06T14:26:00",
          "2011-01-06T16:12:00",
          "2011-01-07T12:07:00",
          "2011-01-07T13:13:00",
          "2011-01-09T12:46:00",
          "2011-01-10T13:22:00",
          "2011-01-11T07:57:00",
          "2011-01-11T11:48:00",
          "2011-01-11T13:31:00",
          "2011-01-11T15:00:00",
          "2011-01-12T09:43:00",
          "2011-01-12T14:13:00",
          "2011-01-12T15:00:00",
          "2011-01-14T09:13:00",
          "2011-01-14T09:20:00",
          "2011-01-14T10:42:00",
          "2011-01-17T15:17:00",
          "2011-01-19T11:51:00",
          "2011-01-20T10:47:00",
          "2011-01-20T10:48:00",
          "2011-01-23T15:17:00",
          "2011-01-24T15:32:00",
          "2011-01-28T09:20:00",
          "2011-01-28T10:45:00",
          "2011-01-28T13:37:00",
          "2011-01-31T09:57:00",
          "2011-01-31T15:36:00",
          "2011-02-01T14:58:00",
          "2011-02-02T09:06:00",
          "2011-02-02T15:22:00",
          "2011-02-04T11:45:00",
          "2011-02-08T13:28:00",
          "2011-02-09T10:11:00",
          "2011-02-10T15:38:00",
          "2011-02-15T14:17:00",
          "2011-02-16T11:45:00",
          "2011-02-17T10:08:00",
          "2011-02-18T10:53:00",
          "2011-02-18T15:23:00",
          "2011-02-21T08:38:00",
          "2011-02-21T14:58:00",
          "2011-02-23T16:44:00",
          "2011-02-23T16:45:00",
          "2011-02-27T11:58:00",
          "2011-02-28T11:43:00",
          "2011-02-28T11:58:00",
          "2011-02-28T14:42:00",
          "2011-02-28T14:45:00",
          "2011-03-01T10:31:00",
          "2011-03-01T12:26:00",
          "2011-03-03T12:06:00",
          "2011-03-03T12:20:00",
          "2011-03-04T09:08:00",
          "2011-03-11T12:00:00",
          "2011-03-13T14:55:00",
          "2011-03-14T11:38:00",
          "2011-03-15T16:39:00",
          "2011-03-16T14:37:00",
          "2011-03-16T15:17:00",
          "2011-03-20T15:58:00",
          "2011-03-21T12:42:00",
          "2011-03-21T12:44:00",
          "2011-03-22T11:28:00",
          "2011-03-23T12:06:00",
          "2011-03-23T13:33:00",
          "2011-03-23T13:39:00",
          "2011-03-23T14:55:00",
          "2011-03-25T10:19:00",
          "2011-03-27T13:07:00",
          "2011-03-28T10:15:00",
          "2011-03-31T10:27:00",
          "2011-03-31T10:29:00",
          "2011-03-31T13:40:00",
          "2011-04-01T09:19:00",
          "2011-04-01T11:10:00",
          "2011-04-04T11:18:00",
          "2011-04-07T13:07:00",
          "2011-04-14T14:15:00",
          "2011-04-17T11:21:00",
          "2011-04-17T15:33:00",
          "2011-04-20T09:20:00",
          "2011-04-21T08:54:00",
          "2011-04-21T10:16:00",
          "2011-04-26T15:52:00",
          "2011-04-28T11:45:00",
          "2011-05-03T08:40:00",
          "2011-05-03T09:33:00",
          "2011-05-03T09:34:00",
          "2011-05-03T12:02:00",
          "2011-05-03T12:03:00",
          "2011-05-05T09:29:00",
          "2011-05-08T16:10:00",
          "2011-05-09T09:47:00",
          "2011-05-09T15:12:00",
          "2011-05-10T12:55:00",
          "2011-05-11T13:20:00",
          "2011-05-11T15:07:00",
          "2011-05-12T11:50:00",
          "2011-05-13T09:24:00",
          "2011-05-13T13:15:00",
          "2011-05-13T15:48:00",
          "2011-05-15T13:45:00",
          "2011-05-16T09:10:00",
          "2011-05-16T12:04:00",
          "2011-05-17T09:28:00",
          "2011-05-18T09:09:00",
          "2011-05-18T10:34:00",
          "2011-05-18T12:18:00",
          "2011-05-19T12:10:00",
          "2011-05-19T12:29:00",
          "2011-05-20T11:34:00",
          "2011-05-22T13:01:00",
          "2011-05-22T14:33:00",
          "2011-05-23T09:48:00",
          "2011-05-24T09:25:00",
          "2011-05-25T10:08:00",
          "2011-05-25T12:44:00",
          "2011-05-25T12:54:00",
          "2011-05-26T14:53:00",
          "2011-05-26T17:16:00",
          "2011-05-27T13:49:00"
         ],
         "xaxis": "x",
         "y": [
          502.07,
          763.11,
          283.77,
          425.25,
          676.16,
          298.93,
          114,
          1112.06,
          144,
          835.1999999999999,
          216.54,
          136.9,
          102.94999999999999,
          338.7,
          793.98,
          774.22,
          225.9,
          592.31,
          642.14,
          698.75,
          581.55,
          827.13,
          406.5,
          190.2,
          182.45,
          365.58,
          405.8,
          3174.43,
          363.54,
          456.84999999999997,
          454.89,
          132.5,
          1128.73,
          165.85999999999999,
          401.02,
          285.56,
          219.6,
          829.66,
          214,
          878.3,
          6.3,
          603.42,
          125.4,
          308,
          95.76,
          92.6,
          335.43,
          612.86,
          182.72,
          158.5,
          316.2,
          722.06,
          480.76000000000005,
          20.4,
          281.25,
          676.8499999999999,
          307.28999999999996,
          425.40000000000003,
          511.53999999999996,
          129.70999999999998,
          115.09,
          298.02,
          201.24,
          4.63,
          469.98,
          160.5,
          733.88,
          378,
          402.9,
          303.91,
          128.05,
          1028.3,
          1937.06,
          413.4,
          3243.13,
          138.75,
          252,
          513.55,
          312.2,
          615.2,
          509.57,
          84.65,
          469.20000000000005,
          73.5,
          579.05,
          160.54000000000002,
          191.10000000000002,
          528.88,
          620.84,
          24.9,
          162.48000000000002,
          336.24,
          200,
          984.4300000000001,
          295.5,
          205.4,
          453.09999999999997,
          1637.43,
          1381.3,
          278.53000000000003,
          459.98,
          89.25,
          397.28000000000003,
          133.4,
          550.74,
          121.88,
          739.62,
          335.01,
          332.20000000000005,
          76.32000000000001,
          561.66,
          316.85,
          956.4,
          615.21,
          169.5,
          385.96,
          357.34,
          231.12,
          390.96,
          514.74,
          196.5,
          362,
          367.09
         ],
         "yaxis": "y"
        }
       ],
       "layout": {
        "legend": {
         "title": {
          "text": "variable"
         },
         "tracegroupgap": 0
        },
        "template": {
         "data": {
          "bar": [
           {
            "error_x": {
             "color": "#2a3f5f"
            },
            "error_y": {
             "color": "#2a3f5f"
            },
            "marker": {
             "line": {
              "color": "#E5ECF6",
              "width": 0.5
             },
             "pattern": {
              "fillmode": "overlay",
              "size": 10,
              "solidity": 0.2
             }
            },
            "type": "bar"
           }
          ],
          "barpolar": [
           {
            "marker": {
             "line": {
              "color": "#E5ECF6",
              "width": 0.5
             },
             "pattern": {
              "fillmode": "overlay",
              "size": 10,
              "solidity": 0.2
             }
            },
            "type": "barpolar"
           }
          ],
          "carpet": [
           {
            "aaxis": {
             "endlinecolor": "#2a3f5f",
             "gridcolor": "white",
             "linecolor": "white",
             "minorgridcolor": "white",
             "startlinecolor": "#2a3f5f"
            },
            "baxis": {
             "endlinecolor": "#2a3f5f",
             "gridcolor": "white",
             "linecolor": "white",
             "minorgridcolor": "white",
             "startlinecolor": "#2a3f5f"
            },
            "type": "carpet"
           }
          ],
          "choropleth": [
           {
            "colorbar": {
             "outlinewidth": 0,
             "ticks": ""
            },
            "type": "choropleth"
           }
          ],
          "contour": [
           {
            "colorbar": {
             "outlinewidth": 0,
             "ticks": ""
            },
            "colorscale": [
             [
              0,
              "#0d0887"
             ],
             [
              0.1111111111111111,
              "#46039f"
             ],
             [
              0.2222222222222222,
              "#7201a8"
             ],
             [
              0.3333333333333333,
              "#9c179e"
             ],
             [
              0.4444444444444444,
              "#bd3786"
             ],
             [
              0.5555555555555556,
              "#d8576b"
             ],
             [
              0.6666666666666666,
              "#ed7953"
             ],
             [
              0.7777777777777778,
              "#fb9f3a"
             ],
             [
              0.8888888888888888,
              "#fdca26"
             ],
             [
              1,
              "#f0f921"
             ]
            ],
            "type": "contour"
           }
          ],
          "contourcarpet": [
           {
            "colorbar": {
             "outlinewidth": 0,
             "ticks": ""
            },
            "type": "contourcarpet"
           }
          ],
          "heatmap": [
           {
            "colorbar": {
             "outlinewidth": 0,
             "ticks": ""
            },
            "colorscale": [
             [
              0,
              "#0d0887"
             ],
             [
              0.1111111111111111,
              "#46039f"
             ],
             [
              0.2222222222222222,
              "#7201a8"
             ],
             [
              0.3333333333333333,
              "#9c179e"
             ],
             [
              0.4444444444444444,
              "#bd3786"
             ],
             [
              0.5555555555555556,
              "#d8576b"
             ],
             [
              0.6666666666666666,
              "#ed7953"
             ],
             [
              0.7777777777777778,
              "#fb9f3a"
             ],
             [
              0.8888888888888888,
              "#fdca26"
             ],
             [
              1,
              "#f0f921"
             ]
            ],
            "type": "heatmap"
           }
          ],
          "heatmapgl": [
           {
            "colorbar": {
             "outlinewidth": 0,
             "ticks": ""
            },
            "colorscale": [
             [
              0,
              "#0d0887"
             ],
             [
              0.1111111111111111,
              "#46039f"
             ],
             [
              0.2222222222222222,
              "#7201a8"
             ],
             [
              0.3333333333333333,
              "#9c179e"
             ],
             [
              0.4444444444444444,
              "#bd3786"
             ],
             [
              0.5555555555555556,
              "#d8576b"
             ],
             [
              0.6666666666666666,
              "#ed7953"
             ],
             [
              0.7777777777777778,
              "#fb9f3a"
             ],
             [
              0.8888888888888888,
              "#fdca26"
             ],
             [
              1,
              "#f0f921"
             ]
            ],
            "type": "heatmapgl"
           }
          ],
          "histogram": [
           {
            "marker": {
             "pattern": {
              "fillmode": "overlay",
              "size": 10,
              "solidity": 0.2
             }
            },
            "type": "histogram"
           }
          ],
          "histogram2d": [
           {
            "colorbar": {
             "outlinewidth": 0,
             "ticks": ""
            },
            "colorscale": [
             [
              0,
              "#0d0887"
             ],
             [
              0.1111111111111111,
              "#46039f"
             ],
             [
              0.2222222222222222,
              "#7201a8"
             ],
             [
              0.3333333333333333,
              "#9c179e"
             ],
             [
              0.4444444444444444,
              "#bd3786"
             ],
             [
              0.5555555555555556,
              "#d8576b"
             ],
             [
              0.6666666666666666,
              "#ed7953"
             ],
             [
              0.7777777777777778,
              "#fb9f3a"
             ],
             [
              0.8888888888888888,
              "#fdca26"
             ],
             [
              1,
              "#f0f921"
             ]
            ],
            "type": "histogram2d"
           }
          ],
          "histogram2dcontour": [
           {
            "colorbar": {
             "outlinewidth": 0,
             "ticks": ""
            },
            "colorscale": [
             [
              0,
              "#0d0887"
             ],
             [
              0.1111111111111111,
              "#46039f"
             ],
             [
              0.2222222222222222,
              "#7201a8"
             ],
             [
              0.3333333333333333,
              "#9c179e"
             ],
             [
              0.4444444444444444,
              "#bd3786"
             ],
             [
              0.5555555555555556,
              "#d8576b"
             ],
             [
              0.6666666666666666,
              "#ed7953"
             ],
             [
              0.7777777777777778,
              "#fb9f3a"
             ],
             [
              0.8888888888888888,
              "#fdca26"
             ],
             [
              1,
              "#f0f921"
             ]
            ],
            "type": "histogram2dcontour"
           }
          ],
          "mesh3d": [
           {
            "colorbar": {
             "outlinewidth": 0,
             "ticks": ""
            },
            "type": "mesh3d"
           }
          ],
          "parcoords": [
           {
            "line": {
             "colorbar": {
              "outlinewidth": 0,
              "ticks": ""
             }
            },
            "type": "parcoords"
           }
          ],
          "pie": [
           {
            "automargin": true,
            "type": "pie"
           }
          ],
          "scatter": [
           {
            "marker": {
             "colorbar": {
              "outlinewidth": 0,
              "ticks": ""
             }
            },
            "type": "scatter"
           }
          ],
          "scatter3d": [
           {
            "line": {
             "colorbar": {
              "outlinewidth": 0,
              "ticks": ""
             }
            },
            "marker": {
             "colorbar": {
              "outlinewidth": 0,
              "ticks": ""
             }
            },
            "type": "scatter3d"
           }
          ],
          "scattercarpet": [
           {
            "marker": {
             "colorbar": {
              "outlinewidth": 0,
              "ticks": ""
             }
            },
            "type": "scattercarpet"
           }
          ],
          "scattergeo": [
           {
            "marker": {
             "colorbar": {
              "outlinewidth": 0,
              "ticks": ""
             }
            },
            "type": "scattergeo"
           }
          ],
          "scattergl": [
           {
            "marker": {
             "colorbar": {
              "outlinewidth": 0,
              "ticks": ""
             }
            },
            "type": "scattergl"
           }
          ],
          "scattermapbox": [
           {
            "marker": {
             "colorbar": {
              "outlinewidth": 0,
              "ticks": ""
             }
            },
            "type": "scattermapbox"
           }
          ],
          "scatterpolar": [
           {
            "marker": {
             "colorbar": {
              "outlinewidth": 0,
              "ticks": ""
             }
            },
            "type": "scatterpolar"
           }
          ],
          "scatterpolargl": [
           {
            "marker": {
             "colorbar": {
              "outlinewidth": 0,
              "ticks": ""
             }
            },
            "type": "scatterpolargl"
           }
          ],
          "scatterternary": [
           {
            "marker": {
             "colorbar": {
              "outlinewidth": 0,
              "ticks": ""
             }
            },
            "type": "scatterternary"
           }
          ],
          "surface": [
           {
            "colorbar": {
             "outlinewidth": 0,
             "ticks": ""
            },
            "colorscale": [
             [
              0,
              "#0d0887"
             ],
             [
              0.1111111111111111,
              "#46039f"
             ],
             [
              0.2222222222222222,
              "#7201a8"
             ],
             [
              0.3333333333333333,
              "#9c179e"
             ],
             [
              0.4444444444444444,
              "#bd3786"
             ],
             [
              0.5555555555555556,
              "#d8576b"
             ],
             [
              0.6666666666666666,
              "#ed7953"
             ],
             [
              0.7777777777777778,
              "#fb9f3a"
             ],
             [
              0.8888888888888888,
              "#fdca26"
             ],
             [
              1,
              "#f0f921"
             ]
            ],
            "type": "surface"
           }
          ],
          "table": [
           {
            "cells": {
             "fill": {
              "color": "#EBF0F8"
             },
             "line": {
              "color": "white"
             }
            },
            "header": {
             "fill": {
              "color": "#C8D4E3"
             },
             "line": {
              "color": "white"
             }
            },
            "type": "table"
           }
          ]
         },
         "layout": {
          "annotationdefaults": {
           "arrowcolor": "#2a3f5f",
           "arrowhead": 0,
           "arrowwidth": 1
          },
          "autotypenumbers": "strict",
          "coloraxis": {
           "colorbar": {
            "outlinewidth": 0,
            "ticks": ""
           }
          },
          "colorscale": {
           "diverging": [
            [
             0,
             "#8e0152"
            ],
            [
             0.1,
             "#c51b7d"
            ],
            [
             0.2,
             "#de77ae"
            ],
            [
             0.3,
             "#f1b6da"
            ],
            [
             0.4,
             "#fde0ef"
            ],
            [
             0.5,
             "#f7f7f7"
            ],
            [
             0.6,
             "#e6f5d0"
            ],
            [
             0.7,
             "#b8e186"
            ],
            [
             0.8,
             "#7fbc41"
            ],
            [
             0.9,
             "#4d9221"
            ],
            [
             1,
             "#276419"
            ]
           ],
           "sequential": [
            [
             0,
             "#0d0887"
            ],
            [
             0.1111111111111111,
             "#46039f"
            ],
            [
             0.2222222222222222,
             "#7201a8"
            ],
            [
             0.3333333333333333,
             "#9c179e"
            ],
            [
             0.4444444444444444,
             "#bd3786"
            ],
            [
             0.5555555555555556,
             "#d8576b"
            ],
            [
             0.6666666666666666,
             "#ed7953"
            ],
            [
             0.7777777777777778,
             "#fb9f3a"
            ],
            [
             0.8888888888888888,
             "#fdca26"
            ],
            [
             1,
             "#f0f921"
            ]
           ],
           "sequentialminus": [
            [
             0,
             "#0d0887"
            ],
            [
             0.1111111111111111,
             "#46039f"
            ],
            [
             0.2222222222222222,
             "#7201a8"
            ],
            [
             0.3333333333333333,
             "#9c179e"
            ],
            [
             0.4444444444444444,
             "#bd3786"
            ],
            [
             0.5555555555555556,
             "#d8576b"
            ],
            [
             0.6666666666666666,
             "#ed7953"
            ],
            [
             0.7777777777777778,
             "#fb9f3a"
            ],
            [
             0.8888888888888888,
             "#fdca26"
            ],
            [
             1,
             "#f0f921"
            ]
           ]
          },
          "colorway": [
           "#636efa",
           "#EF553B",
           "#00cc96",
           "#ab63fa",
           "#FFA15A",
           "#19d3f3",
           "#FF6692",
           "#B6E880",
           "#FF97FF",
           "#FECB52"
          ],
          "font": {
           "color": "#2a3f5f"
          },
          "geo": {
           "bgcolor": "white",
           "lakecolor": "white",
           "landcolor": "#E5ECF6",
           "showlakes": true,
           "showland": true,
           "subunitcolor": "white"
          },
          "hoverlabel": {
           "align": "left"
          },
          "hovermode": "closest",
          "mapbox": {
           "style": "light"
          },
          "paper_bgcolor": "white",
          "plot_bgcolor": "#E5ECF6",
          "polar": {
           "angularaxis": {
            "gridcolor": "white",
            "linecolor": "white",
            "ticks": ""
           },
           "bgcolor": "#E5ECF6",
           "radialaxis": {
            "gridcolor": "white",
            "linecolor": "white",
            "ticks": ""
           }
          },
          "scene": {
           "xaxis": {
            "backgroundcolor": "#E5ECF6",
            "gridcolor": "white",
            "gridwidth": 2,
            "linecolor": "white",
            "showbackground": true,
            "ticks": "",
            "zerolinecolor": "white"
           },
           "yaxis": {
            "backgroundcolor": "#E5ECF6",
            "gridcolor": "white",
            "gridwidth": 2,
            "linecolor": "white",
            "showbackground": true,
            "ticks": "",
            "zerolinecolor": "white"
           },
           "zaxis": {
            "backgroundcolor": "#E5ECF6",
            "gridcolor": "white",
            "gridwidth": 2,
            "linecolor": "white",
            "showbackground": true,
            "ticks": "",
            "zerolinecolor": "white"
           }
          },
          "shapedefaults": {
           "line": {
            "color": "#2a3f5f"
           }
          },
          "ternary": {
           "aaxis": {
            "gridcolor": "white",
            "linecolor": "white",
            "ticks": ""
           },
           "baxis": {
            "gridcolor": "white",
            "linecolor": "white",
            "ticks": ""
           },
           "bgcolor": "#E5ECF6",
           "caxis": {
            "gridcolor": "white",
            "linecolor": "white",
            "ticks": ""
           }
          },
          "title": {
           "x": 0.05
          },
          "xaxis": {
           "automargin": true,
           "gridcolor": "white",
           "linecolor": "white",
           "ticks": "",
           "title": {
            "standoff": 15
           },
           "zerolinecolor": "white",
           "zerolinewidth": 2
          },
          "yaxis": {
           "automargin": true,
           "gridcolor": "white",
           "linecolor": "white",
           "ticks": "",
           "title": {
            "standoff": 15
           },
           "zerolinecolor": "white",
           "zerolinewidth": 2
          }
         }
        },
        "title": {
         "text": "France QTY& Revenue between January 1st and May 31st 2011"
        },
        "xaxis": {
         "anchor": "y",
         "domain": [
          0,
          1
         ],
         "title": {
          "text": "InvoiceDate"
         }
        },
        "yaxis": {
         "anchor": "x",
         "domain": [
          0,
          1
         ],
         "title": {
          "text": "value"
         }
        }
       }
      },
      "text/html": [
       "<div>                            <div id=\"586dd9d5-eb5e-4f10-adac-2655a25f5bc8\" class=\"plotly-graph-div\" style=\"height:525px; width:100%;\"></div>            <script type=\"text/javascript\">                require([\"plotly\"], function(Plotly) {                    window.PLOTLYENV=window.PLOTLYENV || {};                                    if (document.getElementById(\"586dd9d5-eb5e-4f10-adac-2655a25f5bc8\")) {                    Plotly.newPlot(                        \"586dd9d5-eb5e-4f10-adac-2655a25f5bc8\",                        [{\"hovertemplate\":\"variable=Quantity<br>InvoiceDate=%{x}<br>value=%{y}<extra></extra>\",\"legendgroup\":\"Quantity\",\"line\":{\"color\":\"#636efa\",\"dash\":\"solid\"},\"marker\":{\"symbol\":\"circle\"},\"mode\":\"lines\",\"name\":\"Quantity\",\"orientation\":\"v\",\"showlegend\":true,\"x\":[\"2011-01-05T12:42:00\",\"2011-01-05T14:48:00\",\"2011-01-06T14:26:00\",\"2011-01-06T16:12:00\",\"2011-01-07T12:07:00\",\"2011-01-07T13:13:00\",\"2011-01-09T12:46:00\",\"2011-01-10T13:22:00\",\"2011-01-11T07:57:00\",\"2011-01-11T11:48:00\",\"2011-01-11T13:31:00\",\"2011-01-11T15:00:00\",\"2011-01-12T09:43:00\",\"2011-01-12T14:13:00\",\"2011-01-12T15:00:00\",\"2011-01-14T09:13:00\",\"2011-01-14T09:20:00\",\"2011-01-14T10:42:00\",\"2011-01-17T15:17:00\",\"2011-01-19T11:51:00\",\"2011-01-20T10:47:00\",\"2011-01-20T10:48:00\",\"2011-01-23T15:17:00\",\"2011-01-24T15:32:00\",\"2011-01-28T09:20:00\",\"2011-01-28T10:45:00\",\"2011-01-28T13:37:00\",\"2011-01-31T09:57:00\",\"2011-01-31T15:36:00\",\"2011-02-01T14:58:00\",\"2011-02-02T09:06:00\",\"2011-02-02T15:22:00\",\"2011-02-04T11:45:00\",\"2011-02-08T13:28:00\",\"2011-02-09T10:11:00\",\"2011-02-10T15:38:00\",\"2011-02-15T14:17:00\",\"2011-02-16T11:45:00\",\"2011-02-17T10:08:00\",\"2011-02-18T10:53:00\",\"2011-02-18T15:23:00\",\"2011-02-21T08:38:00\",\"2011-02-21T14:58:00\",\"2011-02-23T16:44:00\",\"2011-02-23T16:45:00\",\"2011-02-27T11:58:00\",\"2011-02-28T11:43:00\",\"2011-02-28T11:58:00\",\"2011-02-28T14:42:00\",\"2011-02-28T14:45:00\",\"2011-03-01T10:31:00\",\"2011-03-01T12:26:00\",\"2011-03-03T12:06:00\",\"2011-03-03T12:20:00\",\"2011-03-04T09:08:00\",\"2011-03-11T12:00:00\",\"2011-03-13T14:55:00\",\"2011-03-14T11:38:00\",\"2011-03-15T16:39:00\",\"2011-03-16T14:37:00\",\"2011-03-16T15:17:00\",\"2011-03-20T15:58:00\",\"2011-03-21T12:42:00\",\"2011-03-21T12:44:00\",\"2011-03-22T11:28:00\",\"2011-03-23T12:06:00\",\"2011-03-23T13:33:00\",\"2011-03-23T13:39:00\",\"2011-03-23T14:55:00\",\"2011-03-25T10:19:00\",\"2011-03-27T13:07:00\",\"2011-03-28T10:15:00\",\"2011-03-31T10:27:00\",\"2011-03-31T10:29:00\",\"2011-03-31T13:40:00\",\"2011-04-01T09:19:00\",\"2011-04-01T11:10:00\",\"2011-04-04T11:18:00\",\"2011-04-07T13:07:00\",\"2011-04-14T14:15:00\",\"2011-04-17T11:21:00\",\"2011-04-17T15:33:00\",\"2011-04-20T09:20:00\",\"2011-04-21T08:54:00\",\"2011-04-21T10:16:00\",\"2011-04-26T15:52:00\",\"2011-04-28T11:45:00\",\"2011-05-03T08:40:00\",\"2011-05-03T09:33:00\",\"2011-05-03T09:34:00\",\"2011-05-03T12:02:00\",\"2011-05-03T12:03:00\",\"2011-05-05T09:29:00\",\"2011-05-08T16:10:00\",\"2011-05-09T09:47:00\",\"2011-05-09T15:12:00\",\"2011-05-10T12:55:00\",\"2011-05-11T13:20:00\",\"2011-05-11T15:07:00\",\"2011-05-12T11:50:00\",\"2011-05-13T09:24:00\",\"2011-05-13T13:15:00\",\"2011-05-13T15:48:00\",\"2011-05-15T13:45:00\",\"2011-05-16T09:10:00\",\"2011-05-16T12:04:00\",\"2011-05-17T09:28:00\",\"2011-05-18T09:09:00\",\"2011-05-18T10:34:00\",\"2011-05-18T12:18:00\",\"2011-05-19T12:10:00\",\"2011-05-19T12:29:00\",\"2011-05-20T11:34:00\",\"2011-05-22T13:01:00\",\"2011-05-22T14:33:00\",\"2011-05-23T09:48:00\",\"2011-05-24T09:25:00\",\"2011-05-25T10:08:00\",\"2011-05-25T12:44:00\",\"2011-05-25T12:54:00\",\"2011-05-26T14:53:00\",\"2011-05-26T17:16:00\",\"2011-05-27T13:49:00\"],\"xaxis\":\"x\",\"y\":[359.0,369.0,261.0,177.0,488.0,103.0,78.0,628.0,168.0,576.0,120.0,114.0,43.0,131.0,498.0,543.0,78.0,440.0,263.0,383.0,211.0,491.0,120.0,84.0,59.0,406.0,102.0,1617.0,202.0,197.0,159.0,206.0,611.0,214.0,298.0,452.0,96.0,772.0,114.0,748.0,15.0,256.0,77.0,264.0,96.0,70.0,213.0,310.0,72.0,54.0,245.0,329.0,314.0,24.0,123.0,323.0,183.0,184.0,314.0,97.0,62.0,422.0,85.0,5.0,198.0,136.0,713.0,242.0,130.0,261.0,59.0,842.0,946.0,132.0,2271.0,88.0,240.0,293.0,236.0,284.0,375.0,25.0,196.0,23.0,275.0,84.0,146.0,368.0,350.0,6.0,120.0,192.0,98.0,773.0,162.0,332.0,458.0,859.0,734.0,105.0,202.0,33.0,267.0,140.0,220.0,58.0,476.0,103.0,152.0,72.0,434.0,126.0,464.0,229.0,62.0,304.0,208.0,180.0,180.0,374.0,86.0,424.0,155.0],\"yaxis\":\"y\",\"type\":\"scatter\"},{\"hovertemplate\":\"variable=Revenue<br>InvoiceDate=%{x}<br>value=%{y}<extra></extra>\",\"legendgroup\":\"Revenue\",\"line\":{\"color\":\"#EF553B\",\"dash\":\"solid\"},\"marker\":{\"symbol\":\"circle\"},\"mode\":\"lines\",\"name\":\"Revenue\",\"orientation\":\"v\",\"showlegend\":true,\"x\":[\"2011-01-05T12:42:00\",\"2011-01-05T14:48:00\",\"2011-01-06T14:26:00\",\"2011-01-06T16:12:00\",\"2011-01-07T12:07:00\",\"2011-01-07T13:13:00\",\"2011-01-09T12:46:00\",\"2011-01-10T13:22:00\",\"2011-01-11T07:57:00\",\"2011-01-11T11:48:00\",\"2011-01-11T13:31:00\",\"2011-01-11T15:00:00\",\"2011-01-12T09:43:00\",\"2011-01-12T14:13:00\",\"2011-01-12T15:00:00\",\"2011-01-14T09:13:00\",\"2011-01-14T09:20:00\",\"2011-01-14T10:42:00\",\"2011-01-17T15:17:00\",\"2011-01-19T11:51:00\",\"2011-01-20T10:47:00\",\"2011-01-20T10:48:00\",\"2011-01-23T15:17:00\",\"2011-01-24T15:32:00\",\"2011-01-28T09:20:00\",\"2011-01-28T10:45:00\",\"2011-01-28T13:37:00\",\"2011-01-31T09:57:00\",\"2011-01-31T15:36:00\",\"2011-02-01T14:58:00\",\"2011-02-02T09:06:00\",\"2011-02-02T15:22:00\",\"2011-02-04T11:45:00\",\"2011-02-08T13:28:00\",\"2011-02-09T10:11:00\",\"2011-02-10T15:38:00\",\"2011-02-15T14:17:00\",\"2011-02-16T11:45:00\",\"2011-02-17T10:08:00\",\"2011-02-18T10:53:00\",\"2011-02-18T15:23:00\",\"2011-02-21T08:38:00\",\"2011-02-21T14:58:00\",\"2011-02-23T16:44:00\",\"2011-02-23T16:45:00\",\"2011-02-27T11:58:00\",\"2011-02-28T11:43:00\",\"2011-02-28T11:58:00\",\"2011-02-28T14:42:00\",\"2011-02-28T14:45:00\",\"2011-03-01T10:31:00\",\"2011-03-01T12:26:00\",\"2011-03-03T12:06:00\",\"2011-03-03T12:20:00\",\"2011-03-04T09:08:00\",\"2011-03-11T12:00:00\",\"2011-03-13T14:55:00\",\"2011-03-14T11:38:00\",\"2011-03-15T16:39:00\",\"2011-03-16T14:37:00\",\"2011-03-16T15:17:00\",\"2011-03-20T15:58:00\",\"2011-03-21T12:42:00\",\"2011-03-21T12:44:00\",\"2011-03-22T11:28:00\",\"2011-03-23T12:06:00\",\"2011-03-23T13:33:00\",\"2011-03-23T13:39:00\",\"2011-03-23T14:55:00\",\"2011-03-25T10:19:00\",\"2011-03-27T13:07:00\",\"2011-03-28T10:15:00\",\"2011-03-31T10:27:00\",\"2011-03-31T10:29:00\",\"2011-03-31T13:40:00\",\"2011-04-01T09:19:00\",\"2011-04-01T11:10:00\",\"2011-04-04T11:18:00\",\"2011-04-07T13:07:00\",\"2011-04-14T14:15:00\",\"2011-04-17T11:21:00\",\"2011-04-17T15:33:00\",\"2011-04-20T09:20:00\",\"2011-04-21T08:54:00\",\"2011-04-21T10:16:00\",\"2011-04-26T15:52:00\",\"2011-04-28T11:45:00\",\"2011-05-03T08:40:00\",\"2011-05-03T09:33:00\",\"2011-05-03T09:34:00\",\"2011-05-03T12:02:00\",\"2011-05-03T12:03:00\",\"2011-05-05T09:29:00\",\"2011-05-08T16:10:00\",\"2011-05-09T09:47:00\",\"2011-05-09T15:12:00\",\"2011-05-10T12:55:00\",\"2011-05-11T13:20:00\",\"2011-05-11T15:07:00\",\"2011-05-12T11:50:00\",\"2011-05-13T09:24:00\",\"2011-05-13T13:15:00\",\"2011-05-13T15:48:00\",\"2011-05-15T13:45:00\",\"2011-05-16T09:10:00\",\"2011-05-16T12:04:00\",\"2011-05-17T09:28:00\",\"2011-05-18T09:09:00\",\"2011-05-18T10:34:00\",\"2011-05-18T12:18:00\",\"2011-05-19T12:10:00\",\"2011-05-19T12:29:00\",\"2011-05-20T11:34:00\",\"2011-05-22T13:01:00\",\"2011-05-22T14:33:00\",\"2011-05-23T09:48:00\",\"2011-05-24T09:25:00\",\"2011-05-25T10:08:00\",\"2011-05-25T12:44:00\",\"2011-05-25T12:54:00\",\"2011-05-26T14:53:00\",\"2011-05-26T17:16:00\",\"2011-05-27T13:49:00\"],\"xaxis\":\"x\",\"y\":[502.07,763.11,283.77,425.25,676.16,298.93,114.0,1112.06,144.0,835.1999999999999,216.54,136.9,102.94999999999999,338.7,793.98,774.22,225.9,592.31,642.14,698.75,581.55,827.13,406.5,190.2,182.45,365.58,405.8,3174.43,363.54,456.84999999999997,454.89,132.5,1128.73,165.85999999999999,401.02,285.56,219.6,829.66,214.0,878.3,6.3,603.42,125.4,308.0,95.76,92.6,335.43,612.86,182.72,158.5,316.2,722.06,480.76000000000005,20.4,281.25,676.8499999999999,307.28999999999996,425.40000000000003,511.53999999999996,129.70999999999998,115.09,298.02,201.24,4.63,469.98,160.5,733.88,378.0,402.9,303.91,128.05,1028.3,1937.06,413.4,3243.13,138.75,252.0,513.55,312.2,615.2,509.57,84.65,469.20000000000005,73.5,579.05,160.54000000000002,191.10000000000002,528.88,620.84,24.9,162.48000000000002,336.24,200.0,984.4300000000001,295.5,205.4,453.09999999999997,1637.43,1381.3,278.53000000000003,459.98,89.25,397.28000000000003,133.4,550.74,121.88,739.62,335.01,332.20000000000005,76.32000000000001,561.66,316.85,956.4,615.21,169.5,385.96,357.34,231.12,390.96,514.74,196.5,362.0,367.09],\"yaxis\":\"y\",\"type\":\"scatter\"}],                        {\"template\":{\"data\":{\"bar\":[{\"error_x\":{\"color\":\"#2a3f5f\"},\"error_y\":{\"color\":\"#2a3f5f\"},\"marker\":{\"line\":{\"color\":\"#E5ECF6\",\"width\":0.5},\"pattern\":{\"fillmode\":\"overlay\",\"size\":10,\"solidity\":0.2}},\"type\":\"bar\"}],\"barpolar\":[{\"marker\":{\"line\":{\"color\":\"#E5ECF6\",\"width\":0.5},\"pattern\":{\"fillmode\":\"overlay\",\"size\":10,\"solidity\":0.2}},\"type\":\"barpolar\"}],\"carpet\":[{\"aaxis\":{\"endlinecolor\":\"#2a3f5f\",\"gridcolor\":\"white\",\"linecolor\":\"white\",\"minorgridcolor\":\"white\",\"startlinecolor\":\"#2a3f5f\"},\"baxis\":{\"endlinecolor\":\"#2a3f5f\",\"gridcolor\":\"white\",\"linecolor\":\"white\",\"minorgridcolor\":\"white\",\"startlinecolor\":\"#2a3f5f\"},\"type\":\"carpet\"}],\"choropleth\":[{\"colorbar\":{\"outlinewidth\":0,\"ticks\":\"\"},\"type\":\"choropleth\"}],\"contour\":[{\"colorbar\":{\"outlinewidth\":0,\"ticks\":\"\"},\"colorscale\":[[0.0,\"#0d0887\"],[0.1111111111111111,\"#46039f\"],[0.2222222222222222,\"#7201a8\"],[0.3333333333333333,\"#9c179e\"],[0.4444444444444444,\"#bd3786\"],[0.5555555555555556,\"#d8576b\"],[0.6666666666666666,\"#ed7953\"],[0.7777777777777778,\"#fb9f3a\"],[0.8888888888888888,\"#fdca26\"],[1.0,\"#f0f921\"]],\"type\":\"contour\"}],\"contourcarpet\":[{\"colorbar\":{\"outlinewidth\":0,\"ticks\":\"\"},\"type\":\"contourcarpet\"}],\"heatmap\":[{\"colorbar\":{\"outlinewidth\":0,\"ticks\":\"\"},\"colorscale\":[[0.0,\"#0d0887\"],[0.1111111111111111,\"#46039f\"],[0.2222222222222222,\"#7201a8\"],[0.3333333333333333,\"#9c179e\"],[0.4444444444444444,\"#bd3786\"],[0.5555555555555556,\"#d8576b\"],[0.6666666666666666,\"#ed7953\"],[0.7777777777777778,\"#fb9f3a\"],[0.8888888888888888,\"#fdca26\"],[1.0,\"#f0f921\"]],\"type\":\"heatmap\"}],\"heatmapgl\":[{\"colorbar\":{\"outlinewidth\":0,\"ticks\":\"\"},\"colorscale\":[[0.0,\"#0d0887\"],[0.1111111111111111,\"#46039f\"],[0.2222222222222222,\"#7201a8\"],[0.3333333333333333,\"#9c179e\"],[0.4444444444444444,\"#bd3786\"],[0.5555555555555556,\"#d8576b\"],[0.6666666666666666,\"#ed7953\"],[0.7777777777777778,\"#fb9f3a\"],[0.8888888888888888,\"#fdca26\"],[1.0,\"#f0f921\"]],\"type\":\"heatmapgl\"}],\"histogram\":[{\"marker\":{\"pattern\":{\"fillmode\":\"overlay\",\"size\":10,\"solidity\":0.2}},\"type\":\"histogram\"}],\"histogram2d\":[{\"colorbar\":{\"outlinewidth\":0,\"ticks\":\"\"},\"colorscale\":[[0.0,\"#0d0887\"],[0.1111111111111111,\"#46039f\"],[0.2222222222222222,\"#7201a8\"],[0.3333333333333333,\"#9c179e\"],[0.4444444444444444,\"#bd3786\"],[0.5555555555555556,\"#d8576b\"],[0.6666666666666666,\"#ed7953\"],[0.7777777777777778,\"#fb9f3a\"],[0.8888888888888888,\"#fdca26\"],[1.0,\"#f0f921\"]],\"type\":\"histogram2d\"}],\"histogram2dcontour\":[{\"colorbar\":{\"outlinewidth\":0,\"ticks\":\"\"},\"colorscale\":[[0.0,\"#0d0887\"],[0.1111111111111111,\"#46039f\"],[0.2222222222222222,\"#7201a8\"],[0.3333333333333333,\"#9c179e\"],[0.4444444444444444,\"#bd3786\"],[0.5555555555555556,\"#d8576b\"],[0.6666666666666666,\"#ed7953\"],[0.7777777777777778,\"#fb9f3a\"],[0.8888888888888888,\"#fdca26\"],[1.0,\"#f0f921\"]],\"type\":\"histogram2dcontour\"}],\"mesh3d\":[{\"colorbar\":{\"outlinewidth\":0,\"ticks\":\"\"},\"type\":\"mesh3d\"}],\"parcoords\":[{\"line\":{\"colorbar\":{\"outlinewidth\":0,\"ticks\":\"\"}},\"type\":\"parcoords\"}],\"pie\":[{\"automargin\":true,\"type\":\"pie\"}],\"scatter\":[{\"marker\":{\"colorbar\":{\"outlinewidth\":0,\"ticks\":\"\"}},\"type\":\"scatter\"}],\"scatter3d\":[{\"line\":{\"colorbar\":{\"outlinewidth\":0,\"ticks\":\"\"}},\"marker\":{\"colorbar\":{\"outlinewidth\":0,\"ticks\":\"\"}},\"type\":\"scatter3d\"}],\"scattercarpet\":[{\"marker\":{\"colorbar\":{\"outlinewidth\":0,\"ticks\":\"\"}},\"type\":\"scattercarpet\"}],\"scattergeo\":[{\"marker\":{\"colorbar\":{\"outlinewidth\":0,\"ticks\":\"\"}},\"type\":\"scattergeo\"}],\"scattergl\":[{\"marker\":{\"colorbar\":{\"outlinewidth\":0,\"ticks\":\"\"}},\"type\":\"scattergl\"}],\"scattermapbox\":[{\"marker\":{\"colorbar\":{\"outlinewidth\":0,\"ticks\":\"\"}},\"type\":\"scattermapbox\"}],\"scatterpolar\":[{\"marker\":{\"colorbar\":{\"outlinewidth\":0,\"ticks\":\"\"}},\"type\":\"scatterpolar\"}],\"scatterpolargl\":[{\"marker\":{\"colorbar\":{\"outlinewidth\":0,\"ticks\":\"\"}},\"type\":\"scatterpolargl\"}],\"scatterternary\":[{\"marker\":{\"colorbar\":{\"outlinewidth\":0,\"ticks\":\"\"}},\"type\":\"scatterternary\"}],\"surface\":[{\"colorbar\":{\"outlinewidth\":0,\"ticks\":\"\"},\"colorscale\":[[0.0,\"#0d0887\"],[0.1111111111111111,\"#46039f\"],[0.2222222222222222,\"#7201a8\"],[0.3333333333333333,\"#9c179e\"],[0.4444444444444444,\"#bd3786\"],[0.5555555555555556,\"#d8576b\"],[0.6666666666666666,\"#ed7953\"],[0.7777777777777778,\"#fb9f3a\"],[0.8888888888888888,\"#fdca26\"],[1.0,\"#f0f921\"]],\"type\":\"surface\"}],\"table\":[{\"cells\":{\"fill\":{\"color\":\"#EBF0F8\"},\"line\":{\"color\":\"white\"}},\"header\":{\"fill\":{\"color\":\"#C8D4E3\"},\"line\":{\"color\":\"white\"}},\"type\":\"table\"}]},\"layout\":{\"annotationdefaults\":{\"arrowcolor\":\"#2a3f5f\",\"arrowhead\":0,\"arrowwidth\":1},\"autotypenumbers\":\"strict\",\"coloraxis\":{\"colorbar\":{\"outlinewidth\":0,\"ticks\":\"\"}},\"colorscale\":{\"diverging\":[[0,\"#8e0152\"],[0.1,\"#c51b7d\"],[0.2,\"#de77ae\"],[0.3,\"#f1b6da\"],[0.4,\"#fde0ef\"],[0.5,\"#f7f7f7\"],[0.6,\"#e6f5d0\"],[0.7,\"#b8e186\"],[0.8,\"#7fbc41\"],[0.9,\"#4d9221\"],[1,\"#276419\"]],\"sequential\":[[0.0,\"#0d0887\"],[0.1111111111111111,\"#46039f\"],[0.2222222222222222,\"#7201a8\"],[0.3333333333333333,\"#9c179e\"],[0.4444444444444444,\"#bd3786\"],[0.5555555555555556,\"#d8576b\"],[0.6666666666666666,\"#ed7953\"],[0.7777777777777778,\"#fb9f3a\"],[0.8888888888888888,\"#fdca26\"],[1.0,\"#f0f921\"]],\"sequentialminus\":[[0.0,\"#0d0887\"],[0.1111111111111111,\"#46039f\"],[0.2222222222222222,\"#7201a8\"],[0.3333333333333333,\"#9c179e\"],[0.4444444444444444,\"#bd3786\"],[0.5555555555555556,\"#d8576b\"],[0.6666666666666666,\"#ed7953\"],[0.7777777777777778,\"#fb9f3a\"],[0.8888888888888888,\"#fdca26\"],[1.0,\"#f0f921\"]]},\"colorway\":[\"#636efa\",\"#EF553B\",\"#00cc96\",\"#ab63fa\",\"#FFA15A\",\"#19d3f3\",\"#FF6692\",\"#B6E880\",\"#FF97FF\",\"#FECB52\"],\"font\":{\"color\":\"#2a3f5f\"},\"geo\":{\"bgcolor\":\"white\",\"lakecolor\":\"white\",\"landcolor\":\"#E5ECF6\",\"showlakes\":true,\"showland\":true,\"subunitcolor\":\"white\"},\"hoverlabel\":{\"align\":\"left\"},\"hovermode\":\"closest\",\"mapbox\":{\"style\":\"light\"},\"paper_bgcolor\":\"white\",\"plot_bgcolor\":\"#E5ECF6\",\"polar\":{\"angularaxis\":{\"gridcolor\":\"white\",\"linecolor\":\"white\",\"ticks\":\"\"},\"bgcolor\":\"#E5ECF6\",\"radialaxis\":{\"gridcolor\":\"white\",\"linecolor\":\"white\",\"ticks\":\"\"}},\"scene\":{\"xaxis\":{\"backgroundcolor\":\"#E5ECF6\",\"gridcolor\":\"white\",\"gridwidth\":2,\"linecolor\":\"white\",\"showbackground\":true,\"ticks\":\"\",\"zerolinecolor\":\"white\"},\"yaxis\":{\"backgroundcolor\":\"#E5ECF6\",\"gridcolor\":\"white\",\"gridwidth\":2,\"linecolor\":\"white\",\"showbackground\":true,\"ticks\":\"\",\"zerolinecolor\":\"white\"},\"zaxis\":{\"backgroundcolor\":\"#E5ECF6\",\"gridcolor\":\"white\",\"gridwidth\":2,\"linecolor\":\"white\",\"showbackground\":true,\"ticks\":\"\",\"zerolinecolor\":\"white\"}},\"shapedefaults\":{\"line\":{\"color\":\"#2a3f5f\"}},\"ternary\":{\"aaxis\":{\"gridcolor\":\"white\",\"linecolor\":\"white\",\"ticks\":\"\"},\"baxis\":{\"gridcolor\":\"white\",\"linecolor\":\"white\",\"ticks\":\"\"},\"bgcolor\":\"#E5ECF6\",\"caxis\":{\"gridcolor\":\"white\",\"linecolor\":\"white\",\"ticks\":\"\"}},\"title\":{\"x\":0.05},\"xaxis\":{\"automargin\":true,\"gridcolor\":\"white\",\"linecolor\":\"white\",\"ticks\":\"\",\"title\":{\"standoff\":15},\"zerolinecolor\":\"white\",\"zerolinewidth\":2},\"yaxis\":{\"automargin\":true,\"gridcolor\":\"white\",\"linecolor\":\"white\",\"ticks\":\"\",\"title\":{\"standoff\":15},\"zerolinecolor\":\"white\",\"zerolinewidth\":2}}},\"xaxis\":{\"anchor\":\"y\",\"domain\":[0.0,1.0],\"title\":{\"text\":\"InvoiceDate\"}},\"yaxis\":{\"anchor\":\"x\",\"domain\":[0.0,1.0],\"title\":{\"text\":\"value\"}},\"legend\":{\"title\":{\"text\":\"variable\"},\"tracegroupgap\":0},\"title\":{\"text\":\"France QTY& Revenue between January 1st and May 31st 2011\"}},                        {\"responsive\": true}                    ).then(function(){\n",
       "                            \n",
       "var gd = document.getElementById('586dd9d5-eb5e-4f10-adac-2655a25f5bc8');\n",
       "var x = new MutationObserver(function (mutations, observer) {{\n",
       "        var display = window.getComputedStyle(gd).display;\n",
       "        if (!display || display === 'none') {{\n",
       "            console.log([gd, 'removed!']);\n",
       "            Plotly.purge(gd);\n",
       "            observer.disconnect();\n",
       "        }}\n",
       "}});\n",
       "\n",
       "// Listen for the removal of the full notebook cells\n",
       "var notebookContainer = gd.closest('#notebook-container');\n",
       "if (notebookContainer) {{\n",
       "    x.observe(notebookContainer, {childList: true});\n",
       "}}\n",
       "\n",
       "// Listen for the clearing of the current output cell\n",
       "var outputEl = gd.closest('.output');\n",
       "if (outputEl) {{\n",
       "    x.observe(outputEl, {childList: true});\n",
       "}}\n",
       "\n",
       "                        })                };                });            </script>        </div>"
      ]
     },
     "metadata": {},
     "output_type": "display_data"
    }
   ],
   "source": [
    "# Plot\n",
    "fig = px.line(france_qty_rvn, x='InvoiceDate', y=['Quantity','Revenue'], title='France QTY& Revenue between January 1st and May 31st 2011')\n",
    "fig.show()"
   ]
  },
  {
   "cell_type": "markdown",
   "metadata": {
    "id": "ha1KZGctNAtC"
   },
   "source": [
    "#### 3. Create an interactive scatter plot showing the relationship between average quantity (x-axis) and average unit price (y-axis) for the product PARTY BUNTING with the plot points color-coded by country (categories)."
   ]
  },
  {
   "cell_type": "code",
   "execution_count": 8,
   "metadata": {
    "id": "3-entwHwNAtD"
   },
   "outputs": [],
   "source": [
    "# Transform the data\n",
    "party_bunting = data[data['Description']=='PARTY BUNTING']\n",
    "pb_country_qty_up = party_bunting[['Country','Quantity','UnitPrice']].groupby(['Country'],as_index=False).agg('mean')"
   ]
  },
  {
   "cell_type": "code",
   "execution_count": 9,
   "metadata": {
    "id": "mukk7sHrNAtE",
    "outputId": "67c00f86-892b-4bf3-e6d1-2fee23f6585d"
   },
   "outputs": [
    {
     "data": {
      "application/vnd.plotly.v1+json": {
       "config": {
        "linkText": "Export to plot.ly",
        "plotlyServerURL": "https://plot.ly",
        "showLink": false
       },
       "data": [
        {
         "hovertemplate": "variable=Quantity<br>Country=%{x}<br>value=%{y}<extra></extra>",
         "legendgroup": "Quantity",
         "marker": {
          "color": "#636efa",
          "symbol": "circle"
         },
         "mode": "markers",
         "name": "Quantity",
         "orientation": "v",
         "showlegend": true,
         "type": "scatter",
         "x": [
          "Australia",
          "Austria",
          "Belgium",
          "Channel Islands",
          "Cyprus",
          "Denmark",
          "EIRE",
          "Finland",
          "France",
          "Germany",
          "Israel",
          "Japan",
          "Lebanon",
          "Netherlands",
          "Norway",
          "Singapore",
          "South Africa",
          "Spain",
          "Switzerland",
          "United Kingdom"
         ],
         "xaxis": "x",
         "y": [
          33.125,
          8,
          4,
          13.333333333333334,
          2.3333333333333335,
          12,
          21.210526315789473,
          6,
          5.7272727272727275,
          6.8,
          1,
          56.666666666666664,
          15,
          50,
          6,
          8,
          4,
          4.75,
          17.2,
          10.705432287681713
         ],
         "yaxis": "y"
        },
        {
         "hovertemplate": "variable=UnitPrice<br>Country=%{x}<br>value=%{y}<extra></extra>",
         "legendgroup": "UnitPrice",
         "marker": {
          "color": "#EF553B",
          "symbol": "circle"
         },
         "mode": "markers",
         "name": "UnitPrice",
         "orientation": "v",
         "showlegend": true,
         "type": "scatter",
         "x": [
          "Australia",
          "Austria",
          "Belgium",
          "Channel Islands",
          "Cyprus",
          "Denmark",
          "EIRE",
          "Finland",
          "France",
          "Germany",
          "Israel",
          "Japan",
          "Lebanon",
          "Netherlands",
          "Norway",
          "Singapore",
          "South Africa",
          "Spain",
          "Switzerland",
          "United Kingdom"
         ],
         "xaxis": "x",
         "y": [
          4.7125,
          4.95,
          4.95,
          4.95,
          4.75,
          4.95,
          4.739473684210527,
          4.95,
          4.922727272727273,
          4.890000000000001,
          4.95,
          4.183333333333334,
          4.65,
          4.15,
          4.95,
          4.95,
          4.95,
          4.8375,
          4.790000000000001,
          4.880925784238714
         ],
         "yaxis": "y"
        }
       ],
       "layout": {
        "legend": {
         "title": {
          "text": "variable"
         },
         "tracegroupgap": 0
        },
        "margin": {
         "t": 60
        },
        "template": {
         "data": {
          "bar": [
           {
            "error_x": {
             "color": "#2a3f5f"
            },
            "error_y": {
             "color": "#2a3f5f"
            },
            "marker": {
             "line": {
              "color": "#E5ECF6",
              "width": 0.5
             },
             "pattern": {
              "fillmode": "overlay",
              "size": 10,
              "solidity": 0.2
             }
            },
            "type": "bar"
           }
          ],
          "barpolar": [
           {
            "marker": {
             "line": {
              "color": "#E5ECF6",
              "width": 0.5
             },
             "pattern": {
              "fillmode": "overlay",
              "size": 10,
              "solidity": 0.2
             }
            },
            "type": "barpolar"
           }
          ],
          "carpet": [
           {
            "aaxis": {
             "endlinecolor": "#2a3f5f",
             "gridcolor": "white",
             "linecolor": "white",
             "minorgridcolor": "white",
             "startlinecolor": "#2a3f5f"
            },
            "baxis": {
             "endlinecolor": "#2a3f5f",
             "gridcolor": "white",
             "linecolor": "white",
             "minorgridcolor": "white",
             "startlinecolor": "#2a3f5f"
            },
            "type": "carpet"
           }
          ],
          "choropleth": [
           {
            "colorbar": {
             "outlinewidth": 0,
             "ticks": ""
            },
            "type": "choropleth"
           }
          ],
          "contour": [
           {
            "colorbar": {
             "outlinewidth": 0,
             "ticks": ""
            },
            "colorscale": [
             [
              0,
              "#0d0887"
             ],
             [
              0.1111111111111111,
              "#46039f"
             ],
             [
              0.2222222222222222,
              "#7201a8"
             ],
             [
              0.3333333333333333,
              "#9c179e"
             ],
             [
              0.4444444444444444,
              "#bd3786"
             ],
             [
              0.5555555555555556,
              "#d8576b"
             ],
             [
              0.6666666666666666,
              "#ed7953"
             ],
             [
              0.7777777777777778,
              "#fb9f3a"
             ],
             [
              0.8888888888888888,
              "#fdca26"
             ],
             [
              1,
              "#f0f921"
             ]
            ],
            "type": "contour"
           }
          ],
          "contourcarpet": [
           {
            "colorbar": {
             "outlinewidth": 0,
             "ticks": ""
            },
            "type": "contourcarpet"
           }
          ],
          "heatmap": [
           {
            "colorbar": {
             "outlinewidth": 0,
             "ticks": ""
            },
            "colorscale": [
             [
              0,
              "#0d0887"
             ],
             [
              0.1111111111111111,
              "#46039f"
             ],
             [
              0.2222222222222222,
              "#7201a8"
             ],
             [
              0.3333333333333333,
              "#9c179e"
             ],
             [
              0.4444444444444444,
              "#bd3786"
             ],
             [
              0.5555555555555556,
              "#d8576b"
             ],
             [
              0.6666666666666666,
              "#ed7953"
             ],
             [
              0.7777777777777778,
              "#fb9f3a"
             ],
             [
              0.8888888888888888,
              "#fdca26"
             ],
             [
              1,
              "#f0f921"
             ]
            ],
            "type": "heatmap"
           }
          ],
          "heatmapgl": [
           {
            "colorbar": {
             "outlinewidth": 0,
             "ticks": ""
            },
            "colorscale": [
             [
              0,
              "#0d0887"
             ],
             [
              0.1111111111111111,
              "#46039f"
             ],
             [
              0.2222222222222222,
              "#7201a8"
             ],
             [
              0.3333333333333333,
              "#9c179e"
             ],
             [
              0.4444444444444444,
              "#bd3786"
             ],
             [
              0.5555555555555556,
              "#d8576b"
             ],
             [
              0.6666666666666666,
              "#ed7953"
             ],
             [
              0.7777777777777778,
              "#fb9f3a"
             ],
             [
              0.8888888888888888,
              "#fdca26"
             ],
             [
              1,
              "#f0f921"
             ]
            ],
            "type": "heatmapgl"
           }
          ],
          "histogram": [
           {
            "marker": {
             "pattern": {
              "fillmode": "overlay",
              "size": 10,
              "solidity": 0.2
             }
            },
            "type": "histogram"
           }
          ],
          "histogram2d": [
           {
            "colorbar": {
             "outlinewidth": 0,
             "ticks": ""
            },
            "colorscale": [
             [
              0,
              "#0d0887"
             ],
             [
              0.1111111111111111,
              "#46039f"
             ],
             [
              0.2222222222222222,
              "#7201a8"
             ],
             [
              0.3333333333333333,
              "#9c179e"
             ],
             [
              0.4444444444444444,
              "#bd3786"
             ],
             [
              0.5555555555555556,
              "#d8576b"
             ],
             [
              0.6666666666666666,
              "#ed7953"
             ],
             [
              0.7777777777777778,
              "#fb9f3a"
             ],
             [
              0.8888888888888888,
              "#fdca26"
             ],
             [
              1,
              "#f0f921"
             ]
            ],
            "type": "histogram2d"
           }
          ],
          "histogram2dcontour": [
           {
            "colorbar": {
             "outlinewidth": 0,
             "ticks": ""
            },
            "colorscale": [
             [
              0,
              "#0d0887"
             ],
             [
              0.1111111111111111,
              "#46039f"
             ],
             [
              0.2222222222222222,
              "#7201a8"
             ],
             [
              0.3333333333333333,
              "#9c179e"
             ],
             [
              0.4444444444444444,
              "#bd3786"
             ],
             [
              0.5555555555555556,
              "#d8576b"
             ],
             [
              0.6666666666666666,
              "#ed7953"
             ],
             [
              0.7777777777777778,
              "#fb9f3a"
             ],
             [
              0.8888888888888888,
              "#fdca26"
             ],
             [
              1,
              "#f0f921"
             ]
            ],
            "type": "histogram2dcontour"
           }
          ],
          "mesh3d": [
           {
            "colorbar": {
             "outlinewidth": 0,
             "ticks": ""
            },
            "type": "mesh3d"
           }
          ],
          "parcoords": [
           {
            "line": {
             "colorbar": {
              "outlinewidth": 0,
              "ticks": ""
             }
            },
            "type": "parcoords"
           }
          ],
          "pie": [
           {
            "automargin": true,
            "type": "pie"
           }
          ],
          "scatter": [
           {
            "marker": {
             "colorbar": {
              "outlinewidth": 0,
              "ticks": ""
             }
            },
            "type": "scatter"
           }
          ],
          "scatter3d": [
           {
            "line": {
             "colorbar": {
              "outlinewidth": 0,
              "ticks": ""
             }
            },
            "marker": {
             "colorbar": {
              "outlinewidth": 0,
              "ticks": ""
             }
            },
            "type": "scatter3d"
           }
          ],
          "scattercarpet": [
           {
            "marker": {
             "colorbar": {
              "outlinewidth": 0,
              "ticks": ""
             }
            },
            "type": "scattercarpet"
           }
          ],
          "scattergeo": [
           {
            "marker": {
             "colorbar": {
              "outlinewidth": 0,
              "ticks": ""
             }
            },
            "type": "scattergeo"
           }
          ],
          "scattergl": [
           {
            "marker": {
             "colorbar": {
              "outlinewidth": 0,
              "ticks": ""
             }
            },
            "type": "scattergl"
           }
          ],
          "scattermapbox": [
           {
            "marker": {
             "colorbar": {
              "outlinewidth": 0,
              "ticks": ""
             }
            },
            "type": "scattermapbox"
           }
          ],
          "scatterpolar": [
           {
            "marker": {
             "colorbar": {
              "outlinewidth": 0,
              "ticks": ""
             }
            },
            "type": "scatterpolar"
           }
          ],
          "scatterpolargl": [
           {
            "marker": {
             "colorbar": {
              "outlinewidth": 0,
              "ticks": ""
             }
            },
            "type": "scatterpolargl"
           }
          ],
          "scatterternary": [
           {
            "marker": {
             "colorbar": {
              "outlinewidth": 0,
              "ticks": ""
             }
            },
            "type": "scatterternary"
           }
          ],
          "surface": [
           {
            "colorbar": {
             "outlinewidth": 0,
             "ticks": ""
            },
            "colorscale": [
             [
              0,
              "#0d0887"
             ],
             [
              0.1111111111111111,
              "#46039f"
             ],
             [
              0.2222222222222222,
              "#7201a8"
             ],
             [
              0.3333333333333333,
              "#9c179e"
             ],
             [
              0.4444444444444444,
              "#bd3786"
             ],
             [
              0.5555555555555556,
              "#d8576b"
             ],
             [
              0.6666666666666666,
              "#ed7953"
             ],
             [
              0.7777777777777778,
              "#fb9f3a"
             ],
             [
              0.8888888888888888,
              "#fdca26"
             ],
             [
              1,
              "#f0f921"
             ]
            ],
            "type": "surface"
           }
          ],
          "table": [
           {
            "cells": {
             "fill": {
              "color": "#EBF0F8"
             },
             "line": {
              "color": "white"
             }
            },
            "header": {
             "fill": {
              "color": "#C8D4E3"
             },
             "line": {
              "color": "white"
             }
            },
            "type": "table"
           }
          ]
         },
         "layout": {
          "annotationdefaults": {
           "arrowcolor": "#2a3f5f",
           "arrowhead": 0,
           "arrowwidth": 1
          },
          "autotypenumbers": "strict",
          "coloraxis": {
           "colorbar": {
            "outlinewidth": 0,
            "ticks": ""
           }
          },
          "colorscale": {
           "diverging": [
            [
             0,
             "#8e0152"
            ],
            [
             0.1,
             "#c51b7d"
            ],
            [
             0.2,
             "#de77ae"
            ],
            [
             0.3,
             "#f1b6da"
            ],
            [
             0.4,
             "#fde0ef"
            ],
            [
             0.5,
             "#f7f7f7"
            ],
            [
             0.6,
             "#e6f5d0"
            ],
            [
             0.7,
             "#b8e186"
            ],
            [
             0.8,
             "#7fbc41"
            ],
            [
             0.9,
             "#4d9221"
            ],
            [
             1,
             "#276419"
            ]
           ],
           "sequential": [
            [
             0,
             "#0d0887"
            ],
            [
             0.1111111111111111,
             "#46039f"
            ],
            [
             0.2222222222222222,
             "#7201a8"
            ],
            [
             0.3333333333333333,
             "#9c179e"
            ],
            [
             0.4444444444444444,
             "#bd3786"
            ],
            [
             0.5555555555555556,
             "#d8576b"
            ],
            [
             0.6666666666666666,
             "#ed7953"
            ],
            [
             0.7777777777777778,
             "#fb9f3a"
            ],
            [
             0.8888888888888888,
             "#fdca26"
            ],
            [
             1,
             "#f0f921"
            ]
           ],
           "sequentialminus": [
            [
             0,
             "#0d0887"
            ],
            [
             0.1111111111111111,
             "#46039f"
            ],
            [
             0.2222222222222222,
             "#7201a8"
            ],
            [
             0.3333333333333333,
             "#9c179e"
            ],
            [
             0.4444444444444444,
             "#bd3786"
            ],
            [
             0.5555555555555556,
             "#d8576b"
            ],
            [
             0.6666666666666666,
             "#ed7953"
            ],
            [
             0.7777777777777778,
             "#fb9f3a"
            ],
            [
             0.8888888888888888,
             "#fdca26"
            ],
            [
             1,
             "#f0f921"
            ]
           ]
          },
          "colorway": [
           "#636efa",
           "#EF553B",
           "#00cc96",
           "#ab63fa",
           "#FFA15A",
           "#19d3f3",
           "#FF6692",
           "#B6E880",
           "#FF97FF",
           "#FECB52"
          ],
          "font": {
           "color": "#2a3f5f"
          },
          "geo": {
           "bgcolor": "white",
           "lakecolor": "white",
           "landcolor": "#E5ECF6",
           "showlakes": true,
           "showland": true,
           "subunitcolor": "white"
          },
          "hoverlabel": {
           "align": "left"
          },
          "hovermode": "closest",
          "mapbox": {
           "style": "light"
          },
          "paper_bgcolor": "white",
          "plot_bgcolor": "#E5ECF6",
          "polar": {
           "angularaxis": {
            "gridcolor": "white",
            "linecolor": "white",
            "ticks": ""
           },
           "bgcolor": "#E5ECF6",
           "radialaxis": {
            "gridcolor": "white",
            "linecolor": "white",
            "ticks": ""
           }
          },
          "scene": {
           "xaxis": {
            "backgroundcolor": "#E5ECF6",
            "gridcolor": "white",
            "gridwidth": 2,
            "linecolor": "white",
            "showbackground": true,
            "ticks": "",
            "zerolinecolor": "white"
           },
           "yaxis": {
            "backgroundcolor": "#E5ECF6",
            "gridcolor": "white",
            "gridwidth": 2,
            "linecolor": "white",
            "showbackground": true,
            "ticks": "",
            "zerolinecolor": "white"
           },
           "zaxis": {
            "backgroundcolor": "#E5ECF6",
            "gridcolor": "white",
            "gridwidth": 2,
            "linecolor": "white",
            "showbackground": true,
            "ticks": "",
            "zerolinecolor": "white"
           }
          },
          "shapedefaults": {
           "line": {
            "color": "#2a3f5f"
           }
          },
          "ternary": {
           "aaxis": {
            "gridcolor": "white",
            "linecolor": "white",
            "ticks": ""
           },
           "baxis": {
            "gridcolor": "white",
            "linecolor": "white",
            "ticks": ""
           },
           "bgcolor": "#E5ECF6",
           "caxis": {
            "gridcolor": "white",
            "linecolor": "white",
            "ticks": ""
           }
          },
          "title": {
           "x": 0.05
          },
          "xaxis": {
           "automargin": true,
           "gridcolor": "white",
           "linecolor": "white",
           "ticks": "",
           "title": {
            "standoff": 15
           },
           "zerolinecolor": "white",
           "zerolinewidth": 2
          },
          "yaxis": {
           "automargin": true,
           "gridcolor": "white",
           "linecolor": "white",
           "ticks": "",
           "title": {
            "standoff": 15
           },
           "zerolinecolor": "white",
           "zerolinewidth": 2
          }
         }
        },
        "xaxis": {
         "anchor": "y",
         "domain": [
          0,
          1
         ],
         "title": {
          "text": "Country"
         }
        },
        "yaxis": {
         "anchor": "x",
         "domain": [
          0,
          1
         ],
         "title": {
          "text": "value"
         }
        }
       }
      },
      "text/html": [
       "<div>                            <div id=\"4136001e-bfd7-4fb5-89c8-ac3ff93bd9ba\" class=\"plotly-graph-div\" style=\"height:525px; width:100%;\"></div>            <script type=\"text/javascript\">                require([\"plotly\"], function(Plotly) {                    window.PLOTLYENV=window.PLOTLYENV || {};                                    if (document.getElementById(\"4136001e-bfd7-4fb5-89c8-ac3ff93bd9ba\")) {                    Plotly.newPlot(                        \"4136001e-bfd7-4fb5-89c8-ac3ff93bd9ba\",                        [{\"hovertemplate\":\"variable=Quantity<br>Country=%{x}<br>value=%{y}<extra></extra>\",\"legendgroup\":\"Quantity\",\"marker\":{\"color\":\"#636efa\",\"symbol\":\"circle\"},\"mode\":\"markers\",\"name\":\"Quantity\",\"orientation\":\"v\",\"showlegend\":true,\"x\":[\"Australia\",\"Austria\",\"Belgium\",\"Channel Islands\",\"Cyprus\",\"Denmark\",\"EIRE\",\"Finland\",\"France\",\"Germany\",\"Israel\",\"Japan\",\"Lebanon\",\"Netherlands\",\"Norway\",\"Singapore\",\"South Africa\",\"Spain\",\"Switzerland\",\"United Kingdom\"],\"xaxis\":\"x\",\"y\":[33.125,8.0,4.0,13.333333333333334,2.3333333333333335,12.0,21.210526315789473,6.0,5.7272727272727275,6.8,1.0,56.666666666666664,15.0,50.0,6.0,8.0,4.0,4.75,17.2,10.705432287681713],\"yaxis\":\"y\",\"type\":\"scatter\"},{\"hovertemplate\":\"variable=UnitPrice<br>Country=%{x}<br>value=%{y}<extra></extra>\",\"legendgroup\":\"UnitPrice\",\"marker\":{\"color\":\"#EF553B\",\"symbol\":\"circle\"},\"mode\":\"markers\",\"name\":\"UnitPrice\",\"orientation\":\"v\",\"showlegend\":true,\"x\":[\"Australia\",\"Austria\",\"Belgium\",\"Channel Islands\",\"Cyprus\",\"Denmark\",\"EIRE\",\"Finland\",\"France\",\"Germany\",\"Israel\",\"Japan\",\"Lebanon\",\"Netherlands\",\"Norway\",\"Singapore\",\"South Africa\",\"Spain\",\"Switzerland\",\"United Kingdom\"],\"xaxis\":\"x\",\"y\":[4.7125,4.95,4.95,4.95,4.75,4.95,4.739473684210527,4.95,4.922727272727273,4.890000000000001,4.95,4.183333333333334,4.65,4.15,4.95,4.95,4.95,4.8375,4.790000000000001,4.880925784238714],\"yaxis\":\"y\",\"type\":\"scatter\"}],                        {\"legend\":{\"title\":{\"text\":\"variable\"},\"tracegroupgap\":0},\"margin\":{\"t\":60},\"template\":{\"data\":{\"barpolar\":[{\"marker\":{\"line\":{\"color\":\"#E5ECF6\",\"width\":0.5},\"pattern\":{\"fillmode\":\"overlay\",\"size\":10,\"solidity\":0.2}},\"type\":\"barpolar\"}],\"bar\":[{\"error_x\":{\"color\":\"#2a3f5f\"},\"error_y\":{\"color\":\"#2a3f5f\"},\"marker\":{\"line\":{\"color\":\"#E5ECF6\",\"width\":0.5},\"pattern\":{\"fillmode\":\"overlay\",\"size\":10,\"solidity\":0.2}},\"type\":\"bar\"}],\"carpet\":[{\"aaxis\":{\"endlinecolor\":\"#2a3f5f\",\"gridcolor\":\"white\",\"linecolor\":\"white\",\"minorgridcolor\":\"white\",\"startlinecolor\":\"#2a3f5f\"},\"baxis\":{\"endlinecolor\":\"#2a3f5f\",\"gridcolor\":\"white\",\"linecolor\":\"white\",\"minorgridcolor\":\"white\",\"startlinecolor\":\"#2a3f5f\"},\"type\":\"carpet\"}],\"choropleth\":[{\"colorbar\":{\"outlinewidth\":0,\"ticks\":\"\"},\"type\":\"choropleth\"}],\"contourcarpet\":[{\"colorbar\":{\"outlinewidth\":0,\"ticks\":\"\"},\"type\":\"contourcarpet\"}],\"contour\":[{\"colorbar\":{\"outlinewidth\":0,\"ticks\":\"\"},\"colorscale\":[[0.0,\"#0d0887\"],[0.1111111111111111,\"#46039f\"],[0.2222222222222222,\"#7201a8\"],[0.3333333333333333,\"#9c179e\"],[0.4444444444444444,\"#bd3786\"],[0.5555555555555556,\"#d8576b\"],[0.6666666666666666,\"#ed7953\"],[0.7777777777777778,\"#fb9f3a\"],[0.8888888888888888,\"#fdca26\"],[1.0,\"#f0f921\"]],\"type\":\"contour\"}],\"heatmapgl\":[{\"colorbar\":{\"outlinewidth\":0,\"ticks\":\"\"},\"colorscale\":[[0.0,\"#0d0887\"],[0.1111111111111111,\"#46039f\"],[0.2222222222222222,\"#7201a8\"],[0.3333333333333333,\"#9c179e\"],[0.4444444444444444,\"#bd3786\"],[0.5555555555555556,\"#d8576b\"],[0.6666666666666666,\"#ed7953\"],[0.7777777777777778,\"#fb9f3a\"],[0.8888888888888888,\"#fdca26\"],[1.0,\"#f0f921\"]],\"type\":\"heatmapgl\"}],\"heatmap\":[{\"colorbar\":{\"outlinewidth\":0,\"ticks\":\"\"},\"colorscale\":[[0.0,\"#0d0887\"],[0.1111111111111111,\"#46039f\"],[0.2222222222222222,\"#7201a8\"],[0.3333333333333333,\"#9c179e\"],[0.4444444444444444,\"#bd3786\"],[0.5555555555555556,\"#d8576b\"],[0.6666666666666666,\"#ed7953\"],[0.7777777777777778,\"#fb9f3a\"],[0.8888888888888888,\"#fdca26\"],[1.0,\"#f0f921\"]],\"type\":\"heatmap\"}],\"histogram2dcontour\":[{\"colorbar\":{\"outlinewidth\":0,\"ticks\":\"\"},\"colorscale\":[[0.0,\"#0d0887\"],[0.1111111111111111,\"#46039f\"],[0.2222222222222222,\"#7201a8\"],[0.3333333333333333,\"#9c179e\"],[0.4444444444444444,\"#bd3786\"],[0.5555555555555556,\"#d8576b\"],[0.6666666666666666,\"#ed7953\"],[0.7777777777777778,\"#fb9f3a\"],[0.8888888888888888,\"#fdca26\"],[1.0,\"#f0f921\"]],\"type\":\"histogram2dcontour\"}],\"histogram2d\":[{\"colorbar\":{\"outlinewidth\":0,\"ticks\":\"\"},\"colorscale\":[[0.0,\"#0d0887\"],[0.1111111111111111,\"#46039f\"],[0.2222222222222222,\"#7201a8\"],[0.3333333333333333,\"#9c179e\"],[0.4444444444444444,\"#bd3786\"],[0.5555555555555556,\"#d8576b\"],[0.6666666666666666,\"#ed7953\"],[0.7777777777777778,\"#fb9f3a\"],[0.8888888888888888,\"#fdca26\"],[1.0,\"#f0f921\"]],\"type\":\"histogram2d\"}],\"histogram\":[{\"marker\":{\"pattern\":{\"fillmode\":\"overlay\",\"size\":10,\"solidity\":0.2}},\"type\":\"histogram\"}],\"mesh3d\":[{\"colorbar\":{\"outlinewidth\":0,\"ticks\":\"\"},\"type\":\"mesh3d\"}],\"parcoords\":[{\"line\":{\"colorbar\":{\"outlinewidth\":0,\"ticks\":\"\"}},\"type\":\"parcoords\"}],\"pie\":[{\"automargin\":true,\"type\":\"pie\"}],\"scatter3d\":[{\"line\":{\"colorbar\":{\"outlinewidth\":0,\"ticks\":\"\"}},\"marker\":{\"colorbar\":{\"outlinewidth\":0,\"ticks\":\"\"}},\"type\":\"scatter3d\"}],\"scattercarpet\":[{\"marker\":{\"colorbar\":{\"outlinewidth\":0,\"ticks\":\"\"}},\"type\":\"scattercarpet\"}],\"scattergeo\":[{\"marker\":{\"colorbar\":{\"outlinewidth\":0,\"ticks\":\"\"}},\"type\":\"scattergeo\"}],\"scattergl\":[{\"marker\":{\"colorbar\":{\"outlinewidth\":0,\"ticks\":\"\"}},\"type\":\"scattergl\"}],\"scattermapbox\":[{\"marker\":{\"colorbar\":{\"outlinewidth\":0,\"ticks\":\"\"}},\"type\":\"scattermapbox\"}],\"scatterpolargl\":[{\"marker\":{\"colorbar\":{\"outlinewidth\":0,\"ticks\":\"\"}},\"type\":\"scatterpolargl\"}],\"scatterpolar\":[{\"marker\":{\"colorbar\":{\"outlinewidth\":0,\"ticks\":\"\"}},\"type\":\"scatterpolar\"}],\"scatter\":[{\"marker\":{\"colorbar\":{\"outlinewidth\":0,\"ticks\":\"\"}},\"type\":\"scatter\"}],\"scatterternary\":[{\"marker\":{\"colorbar\":{\"outlinewidth\":0,\"ticks\":\"\"}},\"type\":\"scatterternary\"}],\"surface\":[{\"colorbar\":{\"outlinewidth\":0,\"ticks\":\"\"},\"colorscale\":[[0.0,\"#0d0887\"],[0.1111111111111111,\"#46039f\"],[0.2222222222222222,\"#7201a8\"],[0.3333333333333333,\"#9c179e\"],[0.4444444444444444,\"#bd3786\"],[0.5555555555555556,\"#d8576b\"],[0.6666666666666666,\"#ed7953\"],[0.7777777777777778,\"#fb9f3a\"],[0.8888888888888888,\"#fdca26\"],[1.0,\"#f0f921\"]],\"type\":\"surface\"}],\"table\":[{\"cells\":{\"fill\":{\"color\":\"#EBF0F8\"},\"line\":{\"color\":\"white\"}},\"header\":{\"fill\":{\"color\":\"#C8D4E3\"},\"line\":{\"color\":\"white\"}},\"type\":\"table\"}]},\"layout\":{\"annotationdefaults\":{\"arrowcolor\":\"#2a3f5f\",\"arrowhead\":0,\"arrowwidth\":1},\"autotypenumbers\":\"strict\",\"coloraxis\":{\"colorbar\":{\"outlinewidth\":0,\"ticks\":\"\"}},\"colorscale\":{\"diverging\":[[0,\"#8e0152\"],[0.1,\"#c51b7d\"],[0.2,\"#de77ae\"],[0.3,\"#f1b6da\"],[0.4,\"#fde0ef\"],[0.5,\"#f7f7f7\"],[0.6,\"#e6f5d0\"],[0.7,\"#b8e186\"],[0.8,\"#7fbc41\"],[0.9,\"#4d9221\"],[1,\"#276419\"]],\"sequential\":[[0.0,\"#0d0887\"],[0.1111111111111111,\"#46039f\"],[0.2222222222222222,\"#7201a8\"],[0.3333333333333333,\"#9c179e\"],[0.4444444444444444,\"#bd3786\"],[0.5555555555555556,\"#d8576b\"],[0.6666666666666666,\"#ed7953\"],[0.7777777777777778,\"#fb9f3a\"],[0.8888888888888888,\"#fdca26\"],[1.0,\"#f0f921\"]],\"sequentialminus\":[[0.0,\"#0d0887\"],[0.1111111111111111,\"#46039f\"],[0.2222222222222222,\"#7201a8\"],[0.3333333333333333,\"#9c179e\"],[0.4444444444444444,\"#bd3786\"],[0.5555555555555556,\"#d8576b\"],[0.6666666666666666,\"#ed7953\"],[0.7777777777777778,\"#fb9f3a\"],[0.8888888888888888,\"#fdca26\"],[1.0,\"#f0f921\"]]},\"colorway\":[\"#636efa\",\"#EF553B\",\"#00cc96\",\"#ab63fa\",\"#FFA15A\",\"#19d3f3\",\"#FF6692\",\"#B6E880\",\"#FF97FF\",\"#FECB52\"],\"font\":{\"color\":\"#2a3f5f\"},\"geo\":{\"bgcolor\":\"white\",\"lakecolor\":\"white\",\"landcolor\":\"#E5ECF6\",\"showlakes\":true,\"showland\":true,\"subunitcolor\":\"white\"},\"hoverlabel\":{\"align\":\"left\"},\"hovermode\":\"closest\",\"mapbox\":{\"style\":\"light\"},\"paper_bgcolor\":\"white\",\"plot_bgcolor\":\"#E5ECF6\",\"polar\":{\"angularaxis\":{\"gridcolor\":\"white\",\"linecolor\":\"white\",\"ticks\":\"\"},\"bgcolor\":\"#E5ECF6\",\"radialaxis\":{\"gridcolor\":\"white\",\"linecolor\":\"white\",\"ticks\":\"\"}},\"scene\":{\"xaxis\":{\"backgroundcolor\":\"#E5ECF6\",\"gridcolor\":\"white\",\"gridwidth\":2,\"linecolor\":\"white\",\"showbackground\":true,\"ticks\":\"\",\"zerolinecolor\":\"white\"},\"yaxis\":{\"backgroundcolor\":\"#E5ECF6\",\"gridcolor\":\"white\",\"gridwidth\":2,\"linecolor\":\"white\",\"showbackground\":true,\"ticks\":\"\",\"zerolinecolor\":\"white\"},\"zaxis\":{\"backgroundcolor\":\"#E5ECF6\",\"gridcolor\":\"white\",\"gridwidth\":2,\"linecolor\":\"white\",\"showbackground\":true,\"ticks\":\"\",\"zerolinecolor\":\"white\"}},\"shapedefaults\":{\"line\":{\"color\":\"#2a3f5f\"}},\"ternary\":{\"aaxis\":{\"gridcolor\":\"white\",\"linecolor\":\"white\",\"ticks\":\"\"},\"baxis\":{\"gridcolor\":\"white\",\"linecolor\":\"white\",\"ticks\":\"\"},\"bgcolor\":\"#E5ECF6\",\"caxis\":{\"gridcolor\":\"white\",\"linecolor\":\"white\",\"ticks\":\"\"}},\"title\":{\"x\":0.05},\"xaxis\":{\"automargin\":true,\"gridcolor\":\"white\",\"linecolor\":\"white\",\"ticks\":\"\",\"title\":{\"standoff\":15},\"zerolinecolor\":\"white\",\"zerolinewidth\":2},\"yaxis\":{\"automargin\":true,\"gridcolor\":\"white\",\"linecolor\":\"white\",\"ticks\":\"\",\"title\":{\"standoff\":15},\"zerolinecolor\":\"white\",\"zerolinewidth\":2}}},\"xaxis\":{\"anchor\":\"y\",\"domain\":[0.0,1.0],\"title\":{\"text\":\"Country\"}},\"yaxis\":{\"anchor\":\"x\",\"domain\":[0.0,1.0],\"title\":{\"text\":\"value\"}}},                        {\"responsive\": true}                    ).then(function(){\n",
       "                            \n",
       "var gd = document.getElementById('4136001e-bfd7-4fb5-89c8-ac3ff93bd9ba');\n",
       "var x = new MutationObserver(function (mutations, observer) {{\n",
       "        var display = window.getComputedStyle(gd).display;\n",
       "        if (!display || display === 'none') {{\n",
       "            console.log([gd, 'removed!']);\n",
       "            Plotly.purge(gd);\n",
       "            observer.disconnect();\n",
       "        }}\n",
       "}});\n",
       "\n",
       "// Listen for the removal of the full notebook cells\n",
       "var notebookContainer = gd.closest('#notebook-container');\n",
       "if (notebookContainer) {{\n",
       "    x.observe(notebookContainer, {childList: true});\n",
       "}}\n",
       "\n",
       "// Listen for the clearing of the current output cell\n",
       "var outputEl = gd.closest('.output');\n",
       "if (outputEl) {{\n",
       "    x.observe(outputEl, {childList: true});\n",
       "}}\n",
       "\n",
       "                        })                };                });            </script>        </div>"
      ]
     },
     "metadata": {},
     "output_type": "display_data"
    }
   ],
   "source": [
    "# Traces\n",
    "traces = px.scatter(pb_country_qty_up , x=\"Country\", y=[\"Quantity\",'UnitPrice'])\n",
    "\n",
    "# Layout \n",
    "layout = go.Layout(width=700, height=600,\n",
    "                   xaxis=go.layout.XAxis(title=go.layout.xaxis.Title(text='Average Quantity')),\n",
    "                   yaxis=go.layout.YAxis(title=go.layout.yaxis.Title(text='Average Unit Price')),\n",
    "                   title=go.layout.Title(text='Average Quantity VS Average Unit Price'));\n",
    "# Plot\n",
    "py.iplot(go.Figure(data=traces, layout=layout));"
   ]
  },
  {
   "cell_type": "markdown",
   "metadata": {
    "id": "pwjBscbdNAtE"
   },
   "source": [
    "#### 4. Create a set of interactive histograms showing the distributions of quantity per invoice for the following countries: EIRE, Germany, France, and Netherlands."
   ]
  },
  {
   "cell_type": "code",
   "execution_count": 10,
   "metadata": {
    "id": "iWxIEp-_NAtF"
   },
   "outputs": [
    {
     "data": {
      "text/html": [
       "<div>\n",
       "<style scoped>\n",
       "    .dataframe tbody tr th:only-of-type {\n",
       "        vertical-align: middle;\n",
       "    }\n",
       "\n",
       "    .dataframe tbody tr th {\n",
       "        vertical-align: top;\n",
       "    }\n",
       "\n",
       "    .dataframe thead th {\n",
       "        text-align: right;\n",
       "    }\n",
       "</style>\n",
       "<table border=\"1\" class=\"dataframe\">\n",
       "  <thead>\n",
       "    <tr style=\"text-align: right;\">\n",
       "      <th></th>\n",
       "      <th>Country</th>\n",
       "      <th>InvoiceNo</th>\n",
       "      <th>Quantity</th>\n",
       "    </tr>\n",
       "  </thead>\n",
       "  <tbody>\n",
       "    <tr>\n",
       "      <th>0</th>\n",
       "      <td>EIRE</td>\n",
       "      <td>536540</td>\n",
       "      <td>230</td>\n",
       "    </tr>\n",
       "    <tr>\n",
       "      <th>1</th>\n",
       "      <td>EIRE</td>\n",
       "      <td>536541</td>\n",
       "      <td>12</td>\n",
       "    </tr>\n",
       "    <tr>\n",
       "      <th>2</th>\n",
       "      <td>EIRE</td>\n",
       "      <td>536803</td>\n",
       "      <td>6</td>\n",
       "    </tr>\n",
       "    <tr>\n",
       "      <th>3</th>\n",
       "      <td>EIRE</td>\n",
       "      <td>536890</td>\n",
       "      <td>1548</td>\n",
       "    </tr>\n",
       "    <tr>\n",
       "      <th>4</th>\n",
       "      <td>EIRE</td>\n",
       "      <td>536975</td>\n",
       "      <td>827</td>\n",
       "    </tr>\n",
       "    <tr>\n",
       "      <th>...</th>\n",
       "      <td>...</td>\n",
       "      <td>...</td>\n",
       "      <td>...</td>\n",
       "    </tr>\n",
       "    <tr>\n",
       "      <th>1166</th>\n",
       "      <td>Netherlands</td>\n",
       "      <td>578143</td>\n",
       "      <td>1284</td>\n",
       "    </tr>\n",
       "    <tr>\n",
       "      <th>1167</th>\n",
       "      <td>Netherlands</td>\n",
       "      <td>579528</td>\n",
       "      <td>50</td>\n",
       "    </tr>\n",
       "    <tr>\n",
       "      <th>1168</th>\n",
       "      <td>Netherlands</td>\n",
       "      <td>581175</td>\n",
       "      <td>7366</td>\n",
       "    </tr>\n",
       "    <tr>\n",
       "      <th>1169</th>\n",
       "      <td>Netherlands</td>\n",
       "      <td>581176</td>\n",
       "      <td>452</td>\n",
       "    </tr>\n",
       "    <tr>\n",
       "      <th>1170</th>\n",
       "      <td>Netherlands</td>\n",
       "      <td>581338</td>\n",
       "      <td>140</td>\n",
       "    </tr>\n",
       "  </tbody>\n",
       "</table>\n",
       "<p>1171 rows × 3 columns</p>\n",
       "</div>"
      ],
      "text/plain": [
       "          Country  InvoiceNo  Quantity\n",
       "0            EIRE     536540       230\n",
       "1            EIRE     536541        12\n",
       "2            EIRE     536803         6\n",
       "3            EIRE     536890      1548\n",
       "4            EIRE     536975       827\n",
       "...           ...        ...       ...\n",
       "1166  Netherlands     578143      1284\n",
       "1167  Netherlands     579528        50\n",
       "1168  Netherlands     581175      7366\n",
       "1169  Netherlands     581176       452\n",
       "1170  Netherlands     581338       140\n",
       "\n",
       "[1171 rows x 3 columns]"
      ]
     },
     "execution_count": 10,
     "metadata": {},
     "output_type": "execute_result"
    }
   ],
   "source": [
    "# Transform the data\n",
    "countries = data[(data['Country']=='EIRE') | (data['Country']=='Germany') | (data['Country']=='France') | (data['Country']=='Netherlands')]\n",
    "\n",
    "qty_invc = countries[['InvoiceNo','Country','Quantity']].groupby(['Country','InvoiceNo'],as_index=False).agg('sum')\n",
    "qty_invc\n"
   ]
  },
  {
   "cell_type": "code",
   "execution_count": 11,
   "metadata": {
    "id": "NgfadjIRNAtF",
    "outputId": "82ccf2a8-9932-4d02-90aa-1b6722a15a41"
   },
   "outputs": [
    {
     "data": {
      "application/vnd.plotly.v1+json": {
       "config": {
        "linkText": "Export to plot.ly",
        "plotlyServerURL": "https://plot.ly",
        "showLink": false
       },
       "data": [
        {
         "alignmentgroup": "True",
         "bingroup": "x",
         "histfunc": "sum",
         "hovertemplate": "Country=EIRE<br>InvoiceNo=%{x}<br>sum of Quantity=%{y}<extra></extra>",
         "legendgroup": "EIRE",
         "marker": {
          "color": "#636efa",
          "pattern": {
           "shape": ""
          }
         },
         "name": "EIRE",
         "offsetgroup": "EIRE",
         "orientation": "v",
         "showlegend": true,
         "type": "histogram",
         "x": [
          536540,
          536541,
          536803,
          536890,
          536975,
          537368,
          537378,
          537386,
          538009,
          538255,
          539320,
          539421,
          539473,
          539722,
          539984,
          540547,
          541220,
          541434,
          541670,
          541979,
          542216,
          542278,
          542777,
          543114,
          543178,
          543828,
          544074,
          544075,
          544210,
          544390,
          544690,
          545320,
          545634,
          545657,
          546172,
          546212,
          546213,
          546263,
          546509,
          546520,
          546541,
          546569,
          546580,
          546660,
          546861,
          546917,
          547048,
          547702,
          547789,
          547882,
          548449,
          548664,
          548718,
          548858,
          549118,
          549196,
          549242,
          549667,
          549721,
          550302,
          550618,
          551187,
          551656,
          551657,
          551950,
          552038,
          552262,
          553203,
          553206,
          553210,
          553348,
          553375,
          553686,
          553897,
          553901,
          553931,
          554139,
          554770,
          554776,
          554791,
          555650,
          555858,
          555947,
          556060,
          556126,
          556206,
          556510,
          556927,
          556928,
          556953,
          557136,
          557318,
          557605,
          557742,
          557759,
          557872,
          557880,
          558067,
          558069,
          558113,
          558114,
          558417,
          558431,
          558613,
          558640,
          558644,
          558684,
          559010,
          560036,
          560041,
          560300,
          560445,
          560446,
          560451,
          560534,
          560894,
          560916,
          560922,
          561257,
          561471,
          561472,
          561631,
          561645,
          561798,
          561870,
          561901,
          562374,
          562560,
          562670,
          562935,
          562960,
          562973,
          563098,
          563169,
          563355,
          563558,
          563559,
          563685,
          563848,
          563913,
          564565,
          564654,
          565213,
          565214,
          565289,
          565412,
          565475,
          565476,
          565748,
          565749,
          565800,
          565851,
          565857,
          565916,
          566625,
          566776,
          566846,
          567334,
          567378,
          567428,
          567616,
          567720,
          567899,
          567900,
          568048,
          568095,
          568221,
          568310,
          568417,
          568654,
          568656,
          568698,
          568706,
          568707,
          569010,
          569028,
          569130,
          569739,
          570016,
          570253,
          570388,
          570485,
          570651,
          570657,
          570674,
          570694,
          570700,
          570703,
          570706,
          570839,
          571129,
          571313,
          571314,
          571377,
          571409,
          571425,
          571446,
          571447,
          571559,
          571562,
          571745,
          571937,
          572069,
          572124,
          572127,
          572459,
          573391,
          573581,
          573748,
          573892,
          574745,
          574841,
          574874,
          574938,
          575486,
          575728,
          575735,
          575751,
          575871,
          575933,
          576051,
          576141,
          576371,
          576595,
          576596,
          576602,
          576603,
          576653,
          576880,
          576899,
          577061,
          577355,
          577479,
          577607,
          577613,
          577850,
          578054,
          578093,
          578105,
          578331,
          578792,
          578994,
          579069,
          579102,
          579539,
          579553,
          579768,
          579910,
          580127,
          580528,
          580555,
          580557,
          581003,
          581006,
          581098,
          581433
         ],
         "xaxis": "x",
         "y": [
          230,
          12,
          6,
          1548,
          827,
          134,
          475,
          3,
          287,
          379,
          358,
          373,
          154,
          344,
          107,
          84,
          6198,
          286,
          1332,
          46,
          690,
          154,
          463,
          270,
          74,
          939,
          470,
          1932,
          86,
          60,
          668,
          669,
          263,
          593,
          263,
          2826,
          108,
          218,
          206,
          498,
          230,
          511,
          328,
          335,
          416,
          265,
          72,
          113,
          533,
          744,
          44,
          713,
          1162,
          76,
          655,
          271,
          118,
          477,
          112,
          150,
          233,
          162,
          297,
          235,
          192,
          1694,
          446,
          138,
          526,
          543,
          711,
          494,
          636,
          112,
          284,
          225,
          401,
          304,
          4,
          4,
          404,
          191,
          2090,
          492,
          244,
          261,
          427,
          2642,
          384,
          268,
          355,
          83,
          48,
          308,
          280,
          186,
          1,
          571,
          48,
          314,
          79,
          2086,
          17,
          394,
          81,
          18,
          697,
          20,
          688,
          177,
          1202,
          5726,
          496,
          762,
          256,
          269,
          228,
          146,
          251,
          602,
          55,
          362,
          2270,
          286,
          1410,
          5246,
          2270,
          744,
          603,
          391,
          314,
          872,
          554,
          491,
          579,
          579,
          12,
          38,
          644,
          147,
          572,
          276,
          1776,
          408,
          163,
          1272,
          5034,
          456,
          1145,
          140,
          417,
          331,
          942,
          185,
          734,
          225,
          84,
          166,
          615,
          342,
          93,
          132,
          670,
          5,
          717,
          1242,
          223,
          256,
          202,
          549,
          70,
          333,
          58,
          16,
          2720,
          385,
          18,
          228,
          448,
          360,
          646,
          12,
          85,
          416,
          1704,
          46,
          75,
          510,
          2,
          406,
          352,
          668,
          456,
          66,
          599,
          223,
          572,
          36,
          283,
          342,
          711,
          4462,
          490,
          414,
          487,
          220,
          184,
          391,
          624,
          270,
          324,
          29,
          334,
          78,
          580,
          496,
          152,
          840,
          258,
          1200,
          945,
          205,
          533,
          198,
          52,
          226,
          194,
          2900,
          147,
          248,
          383,
          296,
          440,
          12,
          614,
          870,
          238,
          375,
          59,
          142,
          91,
          225,
          605,
          340,
          99,
          354,
          132,
          131,
          256,
          534,
          184,
          34,
          817,
          609,
          572,
          806
         ],
         "yaxis": "y"
        },
        {
         "alignmentgroup": "True",
         "bingroup": "x",
         "histfunc": "sum",
         "hovertemplate": "Country=France<br>InvoiceNo=%{x}<br>sum of Quantity=%{y}<extra></extra>",
         "legendgroup": "France",
         "marker": {
          "color": "#EF553B",
          "pattern": {
           "shape": ""
          }
         },
         "name": "France",
         "offsetgroup": "France",
         "orientation": "v",
         "showlegend": true,
         "type": "histogram",
         "x": [
          536370,
          536852,
          536974,
          537065,
          537463,
          537468,
          537693,
          537897,
          537967,
          538008,
          538093,
          538196,
          539050,
          539113,
          539407,
          539435,
          539551,
          539607,
          539727,
          539829,
          540178,
          540239,
          540351,
          540365,
          540455,
          540463,
          540521,
          540642,
          540688,
          540789,
          540824,
          540835,
          540851,
          540972,
          540976,
          541120,
          541121,
          541138,
          541405,
          541567,
          541631,
          541857,
          541981,
          542425,
          542433,
          542535,
          542629,
          542735,
          542904,
          542922,
          543030,
          543188,
          543459,
          543484,
          543625,
          544069,
          544115,
          544200,
          544355,
          544423,
          544470,
          544585,
          544817,
          544818,
          545051,
          545086,
          545105,
          545180,
          545181,
          545235,
          545301,
          545515,
          545517,
          545583,
          546373,
          546428,
          546479,
          546678,
          546765,
          546770,
          547087,
          547194,
          547196,
          547327,
          547492,
          547504,
          547508,
          547520,
          547722,
          547863,
          547892,
          548409,
          548410,
          548496,
          548553,
          548606,
          548737,
          549274,
          550145,
          550313,
          550338,
          550661,
          550821,
          550827,
          551163,
          551389,
          551539,
          551544,
          551545,
          551649,
          551652,
          551887,
          552315,
          552325,
          552464,
          552631,
          552826,
          552851,
          552946,
          553044,
          553143,
          553161,
          553195,
          553208,
          553316,
          553411,
          553566,
          553577,
          553666,
          553838,
          553843,
          553997,
          554097,
          554109,
          554134,
          554356,
          554555,
          554648,
          554650,
          554826,
          554840,
          554940,
          555096,
          555531,
          555547,
          555569,
          555637,
          555933,
          555936,
          555937,
          555941,
          556258,
          556259,
          556305,
          556463,
          556507,
          556526,
          556529,
          556816,
          556819,
          556820,
          556886,
          557069,
          557247,
          557295,
          557483,
          557489,
          557627,
          557669,
          557734,
          558045,
          558124,
          558334,
          558687,
          558699,
          558813,
          559036,
          559134,
          559418,
          559422,
          559441,
          559607,
          559685,
          559699,
          559704,
          559782,
          559819,
          559889,
          560272,
          560363,
          560398,
          560452,
          561029,
          561470,
          561795,
          562039,
          562207,
          562275,
          562450,
          562520,
          562894,
          563189,
          563202,
          563288,
          563502,
          563662,
          563712,
          563753,
          563897,
          563926,
          564159,
          564173,
          564226,
          564314,
          564372,
          564471,
          564479,
          564531,
          564670,
          564897,
          564906,
          564912,
          565239,
          565321,
          565322,
          565443,
          565587,
          565612,
          565801,
          565854,
          565865,
          565930,
          565931,
          566074,
          566115,
          566163,
          566256,
          566492,
          566736,
          566816,
          566873,
          566918,
          567191,
          567293,
          567296,
          567300,
          567380,
          567552,
          567618,
          567640,
          567657,
          567756,
          567793,
          567910,
          567915,
          568040,
          568137,
          568176,
          568518,
          568645,
          568798,
          568953,
          568988,
          568994,
          569097,
          569120,
          569122,
          569332,
          569402,
          569531,
          569568,
          569686,
          569699,
          569701,
          569921,
          570020,
          570030,
          570267,
          570409,
          570672,
          570724,
          570798,
          570823,
          570841,
          570851,
          570879,
          571240,
          571864,
          571923,
          572087,
          572925,
          572986,
          572992,
          573036,
          573153,
          573273,
          573316,
          573402,
          573428,
          573442,
          573867,
          573868,
          573891,
          574068,
          574093,
          574104,
          574252,
          574501,
          574506,
          575049,
          575067,
          575193,
          575326,
          575519,
          575581,
          575584,
          575629,
          575661,
          575671,
          575692,
          575747,
          575845,
          575880,
          575884,
          575916,
          576064,
          576087,
          576222,
          576245,
          576373,
          576399,
          576669,
          576672,
          576894,
          576927,
          576941,
          577121,
          577152,
          577295,
          577344,
          577502,
          577512,
          577687,
          577856,
          578033,
          578277,
          578287,
          578348,
          578541,
          578698,
          578736,
          578835,
          579153,
          579190,
          579193,
          579345,
          579492,
          579529,
          579634,
          579708,
          579792,
          579870,
          580120,
          580126,
          580144,
          580160,
          580285,
          580509,
          580534,
          580536,
          580705,
          580736,
          580753,
          580756,
          580986,
          581001,
          581171,
          581279,
          581587
         ],
         "xaxis": "x",
         "y": [
          446,
          106,
          130,
          602,
          581,
          164,
          120,
          106,
          8,
          552,
          339,
          410,
          134,
          3,
          332,
          64,
          128,
          599,
          24,
          88,
          359,
          369,
          261,
          177,
          488,
          103,
          78,
          628,
          168,
          576,
          120,
          114,
          43,
          131,
          498,
          543,
          78,
          440,
          263,
          383,
          702,
          120,
          84,
          59,
          406,
          102,
          1617,
          202,
          197,
          159,
          206,
          611,
          214,
          298,
          452,
          96,
          772,
          114,
          748,
          15,
          256,
          77,
          264,
          96,
          70,
          213,
          310,
          72,
          54,
          245,
          329,
          314,
          24,
          123,
          323,
          183,
          184,
          314,
          97,
          62,
          422,
          85,
          5,
          198,
          136,
          713,
          242,
          130,
          261,
          59,
          842,
          946,
          132,
          2271,
          88,
          240,
          293,
          236,
          284,
          375,
          25,
          196,
          23,
          275,
          84,
          146,
          368,
          350,
          6,
          120,
          192,
          98,
          773,
          162,
          332,
          458,
          859,
          734,
          105,
          202,
          33,
          267,
          140,
          220,
          58,
          476,
          103,
          152,
          72,
          434,
          126,
          464,
          229,
          62,
          304,
          208,
          180,
          180,
          374,
          86,
          424,
          155,
          200,
          1184,
          347,
          358,
          115,
          216,
          216,
          464,
          444,
          320,
          460,
          160,
          714,
          549,
          110,
          232,
          356,
          170,
          139,
          206,
          267,
          514,
          62,
          50,
          208,
          350,
          270,
          384,
          410,
          118,
          108,
          284,
          78,
          256,
          321,
          592,
          322,
          135,
          198,
          236,
          48,
          76,
          262,
          156,
          116,
          666,
          46,
          82,
          838,
          32,
          234,
          147,
          500,
          52,
          690,
          279,
          320,
          162,
          197,
          178,
          3,
          603,
          400,
          231,
          228,
          459,
          33,
          234,
          54,
          402,
          105,
          139,
          784,
          170,
          204,
          145,
          688,
          820,
          120,
          198,
          270,
          98,
          54,
          506,
          142,
          184,
          265,
          646,
          719,
          644,
          209,
          104,
          292,
          719,
          42,
          72,
          436,
          1060,
          164,
          6,
          228,
          241,
          177,
          189,
          306,
          274,
          416,
          64,
          63,
          484,
          255,
          172,
          282,
          475,
          169,
          111,
          64,
          265,
          335,
          162,
          201,
          286,
          710,
          173,
          183,
          156,
          80,
          34,
          885,
          160,
          188,
          2,
          29,
          184,
          342,
          60,
          158,
          2801,
          162,
          72,
          98,
          218,
          100,
          122,
          232,
          566,
          165,
          524,
          136,
          297,
          48,
          76,
          5202,
          36,
          5,
          208,
          326,
          90,
          344,
          258,
          421,
          288,
          567,
          373,
          92,
          304,
          33,
          406,
          459,
          341,
          151,
          183,
          104,
          100,
          206,
          213,
          330,
          203,
          220,
          336,
          760,
          200,
          96,
          69,
          343,
          320,
          222,
          36,
          439,
          24,
          662,
          108,
          766,
          210,
          510,
          298,
          154,
          92,
          221,
          77,
          268,
          182,
          171,
          212,
          7,
          132,
          825,
          439,
          310,
          68,
          126,
          386,
          386,
          338,
          300,
          267,
          147,
          236,
          806,
          97,
          168,
          320,
          84,
          694,
          14,
          210,
          74,
          252,
          467,
          203,
          300,
          24,
          250,
          309,
          247,
          18,
          105
         ],
         "yaxis": "y"
        },
        {
         "alignmentgroup": "True",
         "bingroup": "x",
         "histfunc": "sum",
         "hovertemplate": "Country=Germany<br>InvoiceNo=%{x}<br>sum of Quantity=%{y}<extra></extra>",
         "legendgroup": "Germany",
         "marker": {
          "color": "#00cc96",
          "pattern": {
           "shape": ""
          }
         },
         "name": "Germany",
         "offsetgroup": "Germany",
         "orientation": "v",
         "showlegend": true,
         "type": "histogram",
         "x": [
          536527,
          536840,
          536861,
          536967,
          536983,
          537197,
          537198,
          537201,
          537212,
          537250,
          537594,
          537673,
          537892,
          537894,
          537995,
          538174,
          538644,
          539327,
          539395,
          539398,
          539401,
          539403,
          539405,
          539408,
          539446,
          539466,
          539636,
          539946,
          539957,
          540410,
          540414,
          540458,
          540480,
          540553,
          540562,
          540769,
          540900,
          541093,
          541122,
          541125,
          541224,
          541269,
          541277,
          541480,
          541517,
          541877,
          541962,
          541965,
          542080,
          542106,
          542128,
          542215,
          542229,
          542369,
          542371,
          542375,
          542621,
          542626,
          542648,
          542713,
          542782,
          542926,
          543048,
          543056,
          543121,
          543492,
          543550,
          543587,
          543737,
          543833,
          543900,
          544281,
          544302,
          544340,
          544483,
          544573,
          544811,
          544933,
          544996,
          545295,
          545533,
          545557,
          545706,
          545709,
          545718,
          545916,
          545988,
          545994,
          546365,
          546759,
          546843,
          546851,
          546919,
          546920,
          546921,
          546925,
          547005,
          547071,
          547085,
          547379,
          547383,
          547715,
          547821,
          547822,
          547925,
          547926,
          547934,
          548320,
          548412,
          548489,
          548654,
          548745,
          548746,
          549193,
          549316,
          549434,
          549614,
          549680,
          550002,
          550004,
          550137,
          550162,
          550178,
          550187,
          550527,
          550620,
          550625,
          550665,
          550946,
          550960,
          551258,
          551467,
          551529,
          551728,
          551729,
          551818,
          551820,
          551886,
          552008,
          552211,
          552337,
          552649,
          552656,
          552844,
          552871,
          552874,
          552875,
          552878,
          552978,
          553037,
          553038,
          553547,
          553731,
          553732,
          553741,
          553842,
          553884,
          553885,
          554104,
          554106,
          554137,
          554263,
          554324,
          554325,
          554363,
          554699,
          554700,
          554711,
          554713,
          554794,
          554861,
          554985,
          555093,
          555162,
          555282,
          555383,
          555417,
          555523,
          555553,
          555719,
          556114,
          556118,
          556443,
          556469,
          556509,
          556517,
          556578,
          557055,
          557056,
          557466,
          557569,
          557850,
          557972,
          558109,
          558608,
          558626,
          558628,
          558717,
          558881,
          559298,
          559300,
          559316,
          559362,
          559421,
          559710,
          559797,
          559798,
          559899,
          559987,
          560038,
          560202,
          560211,
          560230,
          560544,
          560545,
          560566,
          560569,
          560590,
          560635,
          560728,
          560876,
          560901,
          560997,
          561037,
          561094,
          561194,
          561468,
          561583,
          561911,
          562035,
          562038,
          562045,
          562137,
          562370,
          562435,
          562527,
          562537,
          562568,
          562605,
          562729,
          563345,
          563373,
          563540,
          563548,
          563776,
          563808,
          563914,
          563950,
          564039,
          564079,
          564140,
          564216,
          564309,
          564328,
          564329,
          564337,
          564338,
          564360,
          564367,
          564475,
          564638,
          564666,
          564749,
          564856,
          564972,
          565261,
          565416,
          565423,
          565430,
          565440,
          565442,
          565759,
          565760,
          565765,
          565777,
          566041,
          566054,
          566059,
          566233,
          566267,
          566268,
          566586,
          566739,
          566984,
          566987,
          567134,
          567291,
          567298,
          567305,
          567336,
          567512,
          567578,
          567666,
          567904,
          567914,
          567924,
          567958,
          567959,
          568056,
          568103,
          568350,
          568472,
          568674,
          568987,
          569001,
          569017,
          569562,
          569563,
          569640,
          569721,
          569727,
          569844,
          569860,
          569861,
          569867,
          569893,
          569907,
          570002,
          570007,
          570082,
          570095,
          570189,
          570452,
          570637,
          570640,
          570718,
          570754,
          570784,
          570792,
          570881,
          571065,
          571215,
          571227,
          571304,
          571308,
          571312,
          571328,
          571556,
          571565,
          571658,
          571724,
          571729,
          571739,
          571824,
          571904,
          572054,
          572060,
          572061,
          572134,
          572241,
          572559,
          572560,
          572894,
          572895,
          573106,
          573136,
          573284,
          573289,
          573417,
          573424,
          573430,
          573629,
          574071,
          574097,
          574255,
          574653,
          574679,
          574713,
          574869,
          574885,
          575352,
          575498,
          575713,
          575732,
          575733,
          575750,
          575787,
          575886,
          575896,
          576322,
          576327,
          576390,
          576607,
          576629,
          576630,
          576657,
          576787,
          576789,
          576790,
          576863,
          576869,
          576890,
          576891,
          576893,
          576909,
          576910,
          577027,
          577054,
          577135,
          577168,
          577299,
          577301,
          577406,
          577615,
          577776,
          578024,
          578043,
          578273,
          578295,
          578298,
          578333,
          578469,
          578472,
          578509,
          578547,
          578550,
          578626,
          578705,
          579094,
          579152,
          579276,
          579393,
          579416,
          579419,
          579747,
          579786,
          579901,
          579927,
          580154,
          580511,
          580512,
          580531,
          580548,
          580648,
          581000,
          581179,
          581183,
          581184,
          581266,
          581494,
          581570,
          581574,
          581578
         ],
         "xaxis": "x",
         "y": [
          156,
          147,
          76,
          30,
          59,
          76,
          10,
          966,
          295,
          88,
          150,
          132,
          84,
          225,
          82,
          1075,
          2,
          42,
          433,
          6,
          133,
          81,
          322,
          221,
          388,
          333,
          228,
          62,
          866,
          92,
          410,
          1775,
          363,
          242,
          389,
          86,
          95,
          95,
          164,
          10,
          70,
          404,
          171,
          112,
          36,
          245,
          45,
          902,
          603,
          314,
          221,
          482,
          206,
          234,
          125,
          46,
          278,
          180,
          126,
          468,
          59,
          36,
          102,
          174,
          182,
          159,
          50,
          177,
          639,
          46,
          409,
          302,
          76,
          108,
          266,
          515,
          198,
          583,
          122,
          384,
          341,
          192,
          90,
          190,
          76,
          75,
          168,
          189,
          613,
          48,
          366,
          388,
          168,
          288,
          12,
          222,
          546,
          87,
          24,
          484,
          482,
          126,
          480,
          506,
          421,
          268,
          156,
          172,
          48,
          44,
          108,
          347,
          40,
          236,
          757,
          84,
          218,
          244,
          40,
          98,
          728,
          78,
          226,
          27,
          617,
          401,
          466,
          230,
          145,
          68,
          460,
          84,
          639,
          110,
          10,
          142,
          238,
          48,
          16,
          224,
          377,
          164,
          145,
          202,
          83,
          643,
          104,
          695,
          4282,
          288,
          32,
          526,
          425,
          90,
          196,
          468,
          46,
          34,
          578,
          382,
          161,
          12,
          30,
          242,
          119,
          191,
          79,
          39,
          34,
          184,
          337,
          254,
          32,
          553,
          653,
          420,
          22,
          237,
          288,
          290,
          78,
          36,
          88,
          342,
          99,
          412,
          784,
          457,
          12,
          1346,
          270,
          143,
          71,
          15,
          166,
          46,
          578,
          60,
          863,
          292,
          148,
          142,
          396,
          159,
          124,
          252,
          192,
          91,
          776,
          300,
          115,
          294,
          105,
          25,
          56,
          192,
          331,
          812,
          306,
          152,
          516,
          297,
          422,
          469,
          408,
          332,
          222,
          174,
          645,
          262,
          136,
          325,
          187,
          552,
          32,
          132,
          416,
          60,
          271,
          34,
          460,
          20,
          316,
          48,
          99,
          214,
          185,
          384,
          348,
          322,
          359,
          275,
          70,
          176,
          29,
          375,
          6,
          392,
          109,
          288,
          190,
          68,
          131,
          1151,
          486,
          312,
          402,
          38,
          340,
          266,
          556,
          324,
          10,
          316,
          20,
          532,
          124,
          8,
          766,
          193,
          80,
          212,
          262,
          226,
          181,
          68,
          13,
          1231,
          174,
          230,
          104,
          430,
          336,
          128,
          63,
          138,
          424,
          526,
          456,
          292,
          260,
          208,
          163,
          321,
          163,
          175,
          395,
          782,
          962,
          194,
          50,
          849,
          66,
          175,
          244,
          862,
          12,
          346,
          180,
          1292,
          100,
          122,
          112,
          311,
          252,
          322,
          93,
          26,
          328,
          67,
          878,
          176,
          316,
          222,
          532,
          476,
          1550,
          295,
          82,
          343,
          290,
          576,
          1,
          917,
          128,
          106,
          48,
          552,
          201,
          68,
          292,
          128,
          4,
          18,
          136,
          108,
          74,
          457,
          160,
          154,
          112,
          64,
          63,
          372,
          39,
          520,
          256,
          105,
          139,
          136,
          84,
          12,
          146,
          48,
          131,
          158,
          321,
          317,
          603,
          165,
          70,
          55,
          536,
          250,
          90,
          259,
          495,
          108,
          5,
          121,
          576,
          221,
          42,
          152,
          511,
          473,
          127,
          96,
          338,
          56,
          80,
          9,
          52,
          317,
          3,
          341,
          219,
          39,
          72,
          458,
          200,
          256,
          582,
          130,
          358,
          59,
          322,
          45,
          292,
          382,
          48,
          306,
          228,
          48,
          148,
          108,
          85,
          156,
          8,
          286,
          178,
          33,
          6,
          146,
          163,
          889,
          134,
          22,
          987,
          186,
          95,
          86,
          505
         ],
         "yaxis": "y"
        },
        {
         "alignmentgroup": "True",
         "bingroup": "x",
         "histfunc": "sum",
         "hovertemplate": "Country=Netherlands<br>InvoiceNo=%{x}<br>sum of Quantity=%{y}<extra></extra>",
         "legendgroup": "Netherlands",
         "marker": {
          "color": "#ab63fa",
          "pattern": {
           "shape": ""
          }
         },
         "name": "Netherlands",
         "offsetgroup": "Netherlands",
         "orientation": "v",
         "showlegend": true,
         "type": "histogram",
         "x": [
          536403,
          539491,
          539731,
          541206,
          541570,
          541608,
          541711,
          542720,
          542894,
          543387,
          544479,
          544480,
          544672,
          546027,
          546433,
          547365,
          547796,
          547825,
          548010,
          548011,
          548211,
          548969,
          548970,
          551345,
          552845,
          552846,
          552882,
          552883,
          552885,
          553682,
          554038,
          554642,
          554827,
          555003,
          555106,
          555160,
          555164,
          555407,
          555589,
          556235,
          557263,
          557328,
          557525,
          558262,
          558263,
          558311,
          560710,
          562789,
          562790,
          563076,
          563165,
          564169,
          564650,
          564652,
          565967,
          565975,
          566173,
          566557,
          567280,
          567290,
          567795,
          569665,
          569719,
          569720,
          570191,
          571697,
          572035,
          572051,
          572052,
          572123,
          572233,
          572236,
          573002,
          573003,
          573004,
          574056,
          574058,
          574059,
          575508,
          575510,
          575709,
          576664,
          577326,
          577474,
          578034,
          578082,
          578140,
          578141,
          578143,
          579528,
          581175,
          581176,
          581338
         ],
         "xaxis": "x",
         "y": [
          96,
          45,
          6668,
          8210,
          6072,
          288,
          5730,
          116,
          111,
          1116,
          8174,
          4034,
          2940,
          275,
          151,
          169,
          722,
          103,
          1070,
          11116,
          1208,
          636,
          700,
          426,
          200,
          72,
          924,
          12266,
          72,
          408,
          126,
          960,
          4664,
          64,
          164,
          1038,
          1836,
          328,
          312,
          84,
          4718,
          61,
          350,
          8998,
          424,
          1588,
          9,
          7807,
          375,
          14730,
          992,
          288,
          4628,
          480,
          1012,
          1,
          144,
          4951,
          6932,
          3717,
          545,
          3,
          332,
          15,
          211,
          269,
          13392,
          3020,
          1728,
          1780,
          660,
          29,
          3069,
          2400,
          300,
          2454,
          216,
          62,
          6712,
          1040,
          32,
          146,
          32,
          152,
          372,
          136,
          5760,
          200,
          1284,
          50,
          7366,
          452,
          140
         ],
         "yaxis": "y"
        }
       ],
       "layout": {
        "barmode": "relative",
        "height": 600,
        "legend": {
         "title": {
          "text": "Country"
         },
         "tracegroupgap": 0
        },
        "margin": {
         "t": 60
        },
        "template": {
         "data": {
          "bar": [
           {
            "error_x": {
             "color": "#2a3f5f"
            },
            "error_y": {
             "color": "#2a3f5f"
            },
            "marker": {
             "line": {
              "color": "#E5ECF6",
              "width": 0.5
             },
             "pattern": {
              "fillmode": "overlay",
              "size": 10,
              "solidity": 0.2
             }
            },
            "type": "bar"
           }
          ],
          "barpolar": [
           {
            "marker": {
             "line": {
              "color": "#E5ECF6",
              "width": 0.5
             },
             "pattern": {
              "fillmode": "overlay",
              "size": 10,
              "solidity": 0.2
             }
            },
            "type": "barpolar"
           }
          ],
          "carpet": [
           {
            "aaxis": {
             "endlinecolor": "#2a3f5f",
             "gridcolor": "white",
             "linecolor": "white",
             "minorgridcolor": "white",
             "startlinecolor": "#2a3f5f"
            },
            "baxis": {
             "endlinecolor": "#2a3f5f",
             "gridcolor": "white",
             "linecolor": "white",
             "minorgridcolor": "white",
             "startlinecolor": "#2a3f5f"
            },
            "type": "carpet"
           }
          ],
          "choropleth": [
           {
            "colorbar": {
             "outlinewidth": 0,
             "ticks": ""
            },
            "type": "choropleth"
           }
          ],
          "contour": [
           {
            "colorbar": {
             "outlinewidth": 0,
             "ticks": ""
            },
            "colorscale": [
             [
              0,
              "#0d0887"
             ],
             [
              0.1111111111111111,
              "#46039f"
             ],
             [
              0.2222222222222222,
              "#7201a8"
             ],
             [
              0.3333333333333333,
              "#9c179e"
             ],
             [
              0.4444444444444444,
              "#bd3786"
             ],
             [
              0.5555555555555556,
              "#d8576b"
             ],
             [
              0.6666666666666666,
              "#ed7953"
             ],
             [
              0.7777777777777778,
              "#fb9f3a"
             ],
             [
              0.8888888888888888,
              "#fdca26"
             ],
             [
              1,
              "#f0f921"
             ]
            ],
            "type": "contour"
           }
          ],
          "contourcarpet": [
           {
            "colorbar": {
             "outlinewidth": 0,
             "ticks": ""
            },
            "type": "contourcarpet"
           }
          ],
          "heatmap": [
           {
            "colorbar": {
             "outlinewidth": 0,
             "ticks": ""
            },
            "colorscale": [
             [
              0,
              "#0d0887"
             ],
             [
              0.1111111111111111,
              "#46039f"
             ],
             [
              0.2222222222222222,
              "#7201a8"
             ],
             [
              0.3333333333333333,
              "#9c179e"
             ],
             [
              0.4444444444444444,
              "#bd3786"
             ],
             [
              0.5555555555555556,
              "#d8576b"
             ],
             [
              0.6666666666666666,
              "#ed7953"
             ],
             [
              0.7777777777777778,
              "#fb9f3a"
             ],
             [
              0.8888888888888888,
              "#fdca26"
             ],
             [
              1,
              "#f0f921"
             ]
            ],
            "type": "heatmap"
           }
          ],
          "heatmapgl": [
           {
            "colorbar": {
             "outlinewidth": 0,
             "ticks": ""
            },
            "colorscale": [
             [
              0,
              "#0d0887"
             ],
             [
              0.1111111111111111,
              "#46039f"
             ],
             [
              0.2222222222222222,
              "#7201a8"
             ],
             [
              0.3333333333333333,
              "#9c179e"
             ],
             [
              0.4444444444444444,
              "#bd3786"
             ],
             [
              0.5555555555555556,
              "#d8576b"
             ],
             [
              0.6666666666666666,
              "#ed7953"
             ],
             [
              0.7777777777777778,
              "#fb9f3a"
             ],
             [
              0.8888888888888888,
              "#fdca26"
             ],
             [
              1,
              "#f0f921"
             ]
            ],
            "type": "heatmapgl"
           }
          ],
          "histogram": [
           {
            "marker": {
             "pattern": {
              "fillmode": "overlay",
              "size": 10,
              "solidity": 0.2
             }
            },
            "type": "histogram"
           }
          ],
          "histogram2d": [
           {
            "colorbar": {
             "outlinewidth": 0,
             "ticks": ""
            },
            "colorscale": [
             [
              0,
              "#0d0887"
             ],
             [
              0.1111111111111111,
              "#46039f"
             ],
             [
              0.2222222222222222,
              "#7201a8"
             ],
             [
              0.3333333333333333,
              "#9c179e"
             ],
             [
              0.4444444444444444,
              "#bd3786"
             ],
             [
              0.5555555555555556,
              "#d8576b"
             ],
             [
              0.6666666666666666,
              "#ed7953"
             ],
             [
              0.7777777777777778,
              "#fb9f3a"
             ],
             [
              0.8888888888888888,
              "#fdca26"
             ],
             [
              1,
              "#f0f921"
             ]
            ],
            "type": "histogram2d"
           }
          ],
          "histogram2dcontour": [
           {
            "colorbar": {
             "outlinewidth": 0,
             "ticks": ""
            },
            "colorscale": [
             [
              0,
              "#0d0887"
             ],
             [
              0.1111111111111111,
              "#46039f"
             ],
             [
              0.2222222222222222,
              "#7201a8"
             ],
             [
              0.3333333333333333,
              "#9c179e"
             ],
             [
              0.4444444444444444,
              "#bd3786"
             ],
             [
              0.5555555555555556,
              "#d8576b"
             ],
             [
              0.6666666666666666,
              "#ed7953"
             ],
             [
              0.7777777777777778,
              "#fb9f3a"
             ],
             [
              0.8888888888888888,
              "#fdca26"
             ],
             [
              1,
              "#f0f921"
             ]
            ],
            "type": "histogram2dcontour"
           }
          ],
          "mesh3d": [
           {
            "colorbar": {
             "outlinewidth": 0,
             "ticks": ""
            },
            "type": "mesh3d"
           }
          ],
          "parcoords": [
           {
            "line": {
             "colorbar": {
              "outlinewidth": 0,
              "ticks": ""
             }
            },
            "type": "parcoords"
           }
          ],
          "pie": [
           {
            "automargin": true,
            "type": "pie"
           }
          ],
          "scatter": [
           {
            "marker": {
             "colorbar": {
              "outlinewidth": 0,
              "ticks": ""
             }
            },
            "type": "scatter"
           }
          ],
          "scatter3d": [
           {
            "line": {
             "colorbar": {
              "outlinewidth": 0,
              "ticks": ""
             }
            },
            "marker": {
             "colorbar": {
              "outlinewidth": 0,
              "ticks": ""
             }
            },
            "type": "scatter3d"
           }
          ],
          "scattercarpet": [
           {
            "marker": {
             "colorbar": {
              "outlinewidth": 0,
              "ticks": ""
             }
            },
            "type": "scattercarpet"
           }
          ],
          "scattergeo": [
           {
            "marker": {
             "colorbar": {
              "outlinewidth": 0,
              "ticks": ""
             }
            },
            "type": "scattergeo"
           }
          ],
          "scattergl": [
           {
            "marker": {
             "colorbar": {
              "outlinewidth": 0,
              "ticks": ""
             }
            },
            "type": "scattergl"
           }
          ],
          "scattermapbox": [
           {
            "marker": {
             "colorbar": {
              "outlinewidth": 0,
              "ticks": ""
             }
            },
            "type": "scattermapbox"
           }
          ],
          "scatterpolar": [
           {
            "marker": {
             "colorbar": {
              "outlinewidth": 0,
              "ticks": ""
             }
            },
            "type": "scatterpolar"
           }
          ],
          "scatterpolargl": [
           {
            "marker": {
             "colorbar": {
              "outlinewidth": 0,
              "ticks": ""
             }
            },
            "type": "scatterpolargl"
           }
          ],
          "scatterternary": [
           {
            "marker": {
             "colorbar": {
              "outlinewidth": 0,
              "ticks": ""
             }
            },
            "type": "scatterternary"
           }
          ],
          "surface": [
           {
            "colorbar": {
             "outlinewidth": 0,
             "ticks": ""
            },
            "colorscale": [
             [
              0,
              "#0d0887"
             ],
             [
              0.1111111111111111,
              "#46039f"
             ],
             [
              0.2222222222222222,
              "#7201a8"
             ],
             [
              0.3333333333333333,
              "#9c179e"
             ],
             [
              0.4444444444444444,
              "#bd3786"
             ],
             [
              0.5555555555555556,
              "#d8576b"
             ],
             [
              0.6666666666666666,
              "#ed7953"
             ],
             [
              0.7777777777777778,
              "#fb9f3a"
             ],
             [
              0.8888888888888888,
              "#fdca26"
             ],
             [
              1,
              "#f0f921"
             ]
            ],
            "type": "surface"
           }
          ],
          "table": [
           {
            "cells": {
             "fill": {
              "color": "#EBF0F8"
             },
             "line": {
              "color": "white"
             }
            },
            "header": {
             "fill": {
              "color": "#C8D4E3"
             },
             "line": {
              "color": "white"
             }
            },
            "type": "table"
           }
          ]
         },
         "layout": {
          "annotationdefaults": {
           "arrowcolor": "#2a3f5f",
           "arrowhead": 0,
           "arrowwidth": 1
          },
          "autotypenumbers": "strict",
          "coloraxis": {
           "colorbar": {
            "outlinewidth": 0,
            "ticks": ""
           }
          },
          "colorscale": {
           "diverging": [
            [
             0,
             "#8e0152"
            ],
            [
             0.1,
             "#c51b7d"
            ],
            [
             0.2,
             "#de77ae"
            ],
            [
             0.3,
             "#f1b6da"
            ],
            [
             0.4,
             "#fde0ef"
            ],
            [
             0.5,
             "#f7f7f7"
            ],
            [
             0.6,
             "#e6f5d0"
            ],
            [
             0.7,
             "#b8e186"
            ],
            [
             0.8,
             "#7fbc41"
            ],
            [
             0.9,
             "#4d9221"
            ],
            [
             1,
             "#276419"
            ]
           ],
           "sequential": [
            [
             0,
             "#0d0887"
            ],
            [
             0.1111111111111111,
             "#46039f"
            ],
            [
             0.2222222222222222,
             "#7201a8"
            ],
            [
             0.3333333333333333,
             "#9c179e"
            ],
            [
             0.4444444444444444,
             "#bd3786"
            ],
            [
             0.5555555555555556,
             "#d8576b"
            ],
            [
             0.6666666666666666,
             "#ed7953"
            ],
            [
             0.7777777777777778,
             "#fb9f3a"
            ],
            [
             0.8888888888888888,
             "#fdca26"
            ],
            [
             1,
             "#f0f921"
            ]
           ],
           "sequentialminus": [
            [
             0,
             "#0d0887"
            ],
            [
             0.1111111111111111,
             "#46039f"
            ],
            [
             0.2222222222222222,
             "#7201a8"
            ],
            [
             0.3333333333333333,
             "#9c179e"
            ],
            [
             0.4444444444444444,
             "#bd3786"
            ],
            [
             0.5555555555555556,
             "#d8576b"
            ],
            [
             0.6666666666666666,
             "#ed7953"
            ],
            [
             0.7777777777777778,
             "#fb9f3a"
            ],
            [
             0.8888888888888888,
             "#fdca26"
            ],
            [
             1,
             "#f0f921"
            ]
           ]
          },
          "colorway": [
           "#636efa",
           "#EF553B",
           "#00cc96",
           "#ab63fa",
           "#FFA15A",
           "#19d3f3",
           "#FF6692",
           "#B6E880",
           "#FF97FF",
           "#FECB52"
          ],
          "font": {
           "color": "#2a3f5f"
          },
          "geo": {
           "bgcolor": "white",
           "lakecolor": "white",
           "landcolor": "#E5ECF6",
           "showlakes": true,
           "showland": true,
           "subunitcolor": "white"
          },
          "hoverlabel": {
           "align": "left"
          },
          "hovermode": "closest",
          "mapbox": {
           "style": "light"
          },
          "paper_bgcolor": "white",
          "plot_bgcolor": "#E5ECF6",
          "polar": {
           "angularaxis": {
            "gridcolor": "white",
            "linecolor": "white",
            "ticks": ""
           },
           "bgcolor": "#E5ECF6",
           "radialaxis": {
            "gridcolor": "white",
            "linecolor": "white",
            "ticks": ""
           }
          },
          "scene": {
           "xaxis": {
            "backgroundcolor": "#E5ECF6",
            "gridcolor": "white",
            "gridwidth": 2,
            "linecolor": "white",
            "showbackground": true,
            "ticks": "",
            "zerolinecolor": "white"
           },
           "yaxis": {
            "backgroundcolor": "#E5ECF6",
            "gridcolor": "white",
            "gridwidth": 2,
            "linecolor": "white",
            "showbackground": true,
            "ticks": "",
            "zerolinecolor": "white"
           },
           "zaxis": {
            "backgroundcolor": "#E5ECF6",
            "gridcolor": "white",
            "gridwidth": 2,
            "linecolor": "white",
            "showbackground": true,
            "ticks": "",
            "zerolinecolor": "white"
           }
          },
          "shapedefaults": {
           "line": {
            "color": "#2a3f5f"
           }
          },
          "ternary": {
           "aaxis": {
            "gridcolor": "white",
            "linecolor": "white",
            "ticks": ""
           },
           "baxis": {
            "gridcolor": "white",
            "linecolor": "white",
            "ticks": ""
           },
           "bgcolor": "#E5ECF6",
           "caxis": {
            "gridcolor": "white",
            "linecolor": "white",
            "ticks": ""
           }
          },
          "title": {
           "x": 0.05
          },
          "xaxis": {
           "automargin": true,
           "gridcolor": "white",
           "linecolor": "white",
           "ticks": "",
           "title": {
            "standoff": 15
           },
           "zerolinecolor": "white",
           "zerolinewidth": 2
          },
          "yaxis": {
           "automargin": true,
           "gridcolor": "white",
           "linecolor": "white",
           "ticks": "",
           "title": {
            "standoff": 15
           },
           "zerolinecolor": "white",
           "zerolinewidth": 2
          }
         }
        },
        "title": {
         "text": "Histogram (Quantity per Invoice)"
        },
        "width": 1000,
        "xaxis": {
         "anchor": "y",
         "domain": [
          0,
          1
         ],
         "title": {
          "text": "InvoiceNo"
         }
        },
        "yaxis": {
         "anchor": "x",
         "domain": [
          0,
          1
         ],
         "title": {
          "text": "sum of Quantity"
         }
        }
       }
      },
      "text/html": [
       "<div>                            <div id=\"07bce316-c9d3-403b-8811-6724b83991d1\" class=\"plotly-graph-div\" style=\"height:600px; width:1000px;\"></div>            <script type=\"text/javascript\">                require([\"plotly\"], function(Plotly) {                    window.PLOTLYENV=window.PLOTLYENV || {};                                    if (document.getElementById(\"07bce316-c9d3-403b-8811-6724b83991d1\")) {                    Plotly.newPlot(                        \"07bce316-c9d3-403b-8811-6724b83991d1\",                        [{\"alignmentgroup\":\"True\",\"bingroup\":\"x\",\"histfunc\":\"sum\",\"hovertemplate\":\"Country=EIRE<br>InvoiceNo=%{x}<br>sum of Quantity=%{y}<extra></extra>\",\"legendgroup\":\"EIRE\",\"marker\":{\"color\":\"#636efa\",\"pattern\":{\"shape\":\"\"}},\"name\":\"EIRE\",\"offsetgroup\":\"EIRE\",\"orientation\":\"v\",\"showlegend\":true,\"x\":[536540,536541,536803,536890,536975,537368,537378,537386,538009,538255,539320,539421,539473,539722,539984,540547,541220,541434,541670,541979,542216,542278,542777,543114,543178,543828,544074,544075,544210,544390,544690,545320,545634,545657,546172,546212,546213,546263,546509,546520,546541,546569,546580,546660,546861,546917,547048,547702,547789,547882,548449,548664,548718,548858,549118,549196,549242,549667,549721,550302,550618,551187,551656,551657,551950,552038,552262,553203,553206,553210,553348,553375,553686,553897,553901,553931,554139,554770,554776,554791,555650,555858,555947,556060,556126,556206,556510,556927,556928,556953,557136,557318,557605,557742,557759,557872,557880,558067,558069,558113,558114,558417,558431,558613,558640,558644,558684,559010,560036,560041,560300,560445,560446,560451,560534,560894,560916,560922,561257,561471,561472,561631,561645,561798,561870,561901,562374,562560,562670,562935,562960,562973,563098,563169,563355,563558,563559,563685,563848,563913,564565,564654,565213,565214,565289,565412,565475,565476,565748,565749,565800,565851,565857,565916,566625,566776,566846,567334,567378,567428,567616,567720,567899,567900,568048,568095,568221,568310,568417,568654,568656,568698,568706,568707,569010,569028,569130,569739,570016,570253,570388,570485,570651,570657,570674,570694,570700,570703,570706,570839,571129,571313,571314,571377,571409,571425,571446,571447,571559,571562,571745,571937,572069,572124,572127,572459,573391,573581,573748,573892,574745,574841,574874,574938,575486,575728,575735,575751,575871,575933,576051,576141,576371,576595,576596,576602,576603,576653,576880,576899,577061,577355,577479,577607,577613,577850,578054,578093,578105,578331,578792,578994,579069,579102,579539,579553,579768,579910,580127,580528,580555,580557,581003,581006,581098,581433],\"xaxis\":\"x\",\"y\":[230,12,6,1548,827,134,475,3,287,379,358,373,154,344,107,84,6198,286,1332,46,690,154,463,270,74,939,470,1932,86,60,668,669,263,593,263,2826,108,218,206,498,230,511,328,335,416,265,72,113,533,744,44,713,1162,76,655,271,118,477,112,150,233,162,297,235,192,1694,446,138,526,543,711,494,636,112,284,225,401,304,4,4,404,191,2090,492,244,261,427,2642,384,268,355,83,48,308,280,186,1,571,48,314,79,2086,17,394,81,18,697,20,688,177,1202,5726,496,762,256,269,228,146,251,602,55,362,2270,286,1410,5246,2270,744,603,391,314,872,554,491,579,579,12,38,644,147,572,276,1776,408,163,1272,5034,456,1145,140,417,331,942,185,734,225,84,166,615,342,93,132,670,5,717,1242,223,256,202,549,70,333,58,16,2720,385,18,228,448,360,646,12,85,416,1704,46,75,510,2,406,352,668,456,66,599,223,572,36,283,342,711,4462,490,414,487,220,184,391,624,270,324,29,334,78,580,496,152,840,258,1200,945,205,533,198,52,226,194,2900,147,248,383,296,440,12,614,870,238,375,59,142,91,225,605,340,99,354,132,131,256,534,184,34,817,609,572,806],\"yaxis\":\"y\",\"type\":\"histogram\"},{\"alignmentgroup\":\"True\",\"bingroup\":\"x\",\"histfunc\":\"sum\",\"hovertemplate\":\"Country=France<br>InvoiceNo=%{x}<br>sum of Quantity=%{y}<extra></extra>\",\"legendgroup\":\"France\",\"marker\":{\"color\":\"#EF553B\",\"pattern\":{\"shape\":\"\"}},\"name\":\"France\",\"offsetgroup\":\"France\",\"orientation\":\"v\",\"showlegend\":true,\"x\":[536370,536852,536974,537065,537463,537468,537693,537897,537967,538008,538093,538196,539050,539113,539407,539435,539551,539607,539727,539829,540178,540239,540351,540365,540455,540463,540521,540642,540688,540789,540824,540835,540851,540972,540976,541120,541121,541138,541405,541567,541631,541857,541981,542425,542433,542535,542629,542735,542904,542922,543030,543188,543459,543484,543625,544069,544115,544200,544355,544423,544470,544585,544817,544818,545051,545086,545105,545180,545181,545235,545301,545515,545517,545583,546373,546428,546479,546678,546765,546770,547087,547194,547196,547327,547492,547504,547508,547520,547722,547863,547892,548409,548410,548496,548553,548606,548737,549274,550145,550313,550338,550661,550821,550827,551163,551389,551539,551544,551545,551649,551652,551887,552315,552325,552464,552631,552826,552851,552946,553044,553143,553161,553195,553208,553316,553411,553566,553577,553666,553838,553843,553997,554097,554109,554134,554356,554555,554648,554650,554826,554840,554940,555096,555531,555547,555569,555637,555933,555936,555937,555941,556258,556259,556305,556463,556507,556526,556529,556816,556819,556820,556886,557069,557247,557295,557483,557489,557627,557669,557734,558045,558124,558334,558687,558699,558813,559036,559134,559418,559422,559441,559607,559685,559699,559704,559782,559819,559889,560272,560363,560398,560452,561029,561470,561795,562039,562207,562275,562450,562520,562894,563189,563202,563288,563502,563662,563712,563753,563897,563926,564159,564173,564226,564314,564372,564471,564479,564531,564670,564897,564906,564912,565239,565321,565322,565443,565587,565612,565801,565854,565865,565930,565931,566074,566115,566163,566256,566492,566736,566816,566873,566918,567191,567293,567296,567300,567380,567552,567618,567640,567657,567756,567793,567910,567915,568040,568137,568176,568518,568645,568798,568953,568988,568994,569097,569120,569122,569332,569402,569531,569568,569686,569699,569701,569921,570020,570030,570267,570409,570672,570724,570798,570823,570841,570851,570879,571240,571864,571923,572087,572925,572986,572992,573036,573153,573273,573316,573402,573428,573442,573867,573868,573891,574068,574093,574104,574252,574501,574506,575049,575067,575193,575326,575519,575581,575584,575629,575661,575671,575692,575747,575845,575880,575884,575916,576064,576087,576222,576245,576373,576399,576669,576672,576894,576927,576941,577121,577152,577295,577344,577502,577512,577687,577856,578033,578277,578287,578348,578541,578698,578736,578835,579153,579190,579193,579345,579492,579529,579634,579708,579792,579870,580120,580126,580144,580160,580285,580509,580534,580536,580705,580736,580753,580756,580986,581001,581171,581279,581587],\"xaxis\":\"x\",\"y\":[446,106,130,602,581,164,120,106,8,552,339,410,134,3,332,64,128,599,24,88,359,369,261,177,488,103,78,628,168,576,120,114,43,131,498,543,78,440,263,383,702,120,84,59,406,102,1617,202,197,159,206,611,214,298,452,96,772,114,748,15,256,77,264,96,70,213,310,72,54,245,329,314,24,123,323,183,184,314,97,62,422,85,5,198,136,713,242,130,261,59,842,946,132,2271,88,240,293,236,284,375,25,196,23,275,84,146,368,350,6,120,192,98,773,162,332,458,859,734,105,202,33,267,140,220,58,476,103,152,72,434,126,464,229,62,304,208,180,180,374,86,424,155,200,1184,347,358,115,216,216,464,444,320,460,160,714,549,110,232,356,170,139,206,267,514,62,50,208,350,270,384,410,118,108,284,78,256,321,592,322,135,198,236,48,76,262,156,116,666,46,82,838,32,234,147,500,52,690,279,320,162,197,178,3,603,400,231,228,459,33,234,54,402,105,139,784,170,204,145,688,820,120,198,270,98,54,506,142,184,265,646,719,644,209,104,292,719,42,72,436,1060,164,6,228,241,177,189,306,274,416,64,63,484,255,172,282,475,169,111,64,265,335,162,201,286,710,173,183,156,80,34,885,160,188,2,29,184,342,60,158,2801,162,72,98,218,100,122,232,566,165,524,136,297,48,76,5202,36,5,208,326,90,344,258,421,288,567,373,92,304,33,406,459,341,151,183,104,100,206,213,330,203,220,336,760,200,96,69,343,320,222,36,439,24,662,108,766,210,510,298,154,92,221,77,268,182,171,212,7,132,825,439,310,68,126,386,386,338,300,267,147,236,806,97,168,320,84,694,14,210,74,252,467,203,300,24,250,309,247,18,105],\"yaxis\":\"y\",\"type\":\"histogram\"},{\"alignmentgroup\":\"True\",\"bingroup\":\"x\",\"histfunc\":\"sum\",\"hovertemplate\":\"Country=Germany<br>InvoiceNo=%{x}<br>sum of Quantity=%{y}<extra></extra>\",\"legendgroup\":\"Germany\",\"marker\":{\"color\":\"#00cc96\",\"pattern\":{\"shape\":\"\"}},\"name\":\"Germany\",\"offsetgroup\":\"Germany\",\"orientation\":\"v\",\"showlegend\":true,\"x\":[536527,536840,536861,536967,536983,537197,537198,537201,537212,537250,537594,537673,537892,537894,537995,538174,538644,539327,539395,539398,539401,539403,539405,539408,539446,539466,539636,539946,539957,540410,540414,540458,540480,540553,540562,540769,540900,541093,541122,541125,541224,541269,541277,541480,541517,541877,541962,541965,542080,542106,542128,542215,542229,542369,542371,542375,542621,542626,542648,542713,542782,542926,543048,543056,543121,543492,543550,543587,543737,543833,543900,544281,544302,544340,544483,544573,544811,544933,544996,545295,545533,545557,545706,545709,545718,545916,545988,545994,546365,546759,546843,546851,546919,546920,546921,546925,547005,547071,547085,547379,547383,547715,547821,547822,547925,547926,547934,548320,548412,548489,548654,548745,548746,549193,549316,549434,549614,549680,550002,550004,550137,550162,550178,550187,550527,550620,550625,550665,550946,550960,551258,551467,551529,551728,551729,551818,551820,551886,552008,552211,552337,552649,552656,552844,552871,552874,552875,552878,552978,553037,553038,553547,553731,553732,553741,553842,553884,553885,554104,554106,554137,554263,554324,554325,554363,554699,554700,554711,554713,554794,554861,554985,555093,555162,555282,555383,555417,555523,555553,555719,556114,556118,556443,556469,556509,556517,556578,557055,557056,557466,557569,557850,557972,558109,558608,558626,558628,558717,558881,559298,559300,559316,559362,559421,559710,559797,559798,559899,559987,560038,560202,560211,560230,560544,560545,560566,560569,560590,560635,560728,560876,560901,560997,561037,561094,561194,561468,561583,561911,562035,562038,562045,562137,562370,562435,562527,562537,562568,562605,562729,563345,563373,563540,563548,563776,563808,563914,563950,564039,564079,564140,564216,564309,564328,564329,564337,564338,564360,564367,564475,564638,564666,564749,564856,564972,565261,565416,565423,565430,565440,565442,565759,565760,565765,565777,566041,566054,566059,566233,566267,566268,566586,566739,566984,566987,567134,567291,567298,567305,567336,567512,567578,567666,567904,567914,567924,567958,567959,568056,568103,568350,568472,568674,568987,569001,569017,569562,569563,569640,569721,569727,569844,569860,569861,569867,569893,569907,570002,570007,570082,570095,570189,570452,570637,570640,570718,570754,570784,570792,570881,571065,571215,571227,571304,571308,571312,571328,571556,571565,571658,571724,571729,571739,571824,571904,572054,572060,572061,572134,572241,572559,572560,572894,572895,573106,573136,573284,573289,573417,573424,573430,573629,574071,574097,574255,574653,574679,574713,574869,574885,575352,575498,575713,575732,575733,575750,575787,575886,575896,576322,576327,576390,576607,576629,576630,576657,576787,576789,576790,576863,576869,576890,576891,576893,576909,576910,577027,577054,577135,577168,577299,577301,577406,577615,577776,578024,578043,578273,578295,578298,578333,578469,578472,578509,578547,578550,578626,578705,579094,579152,579276,579393,579416,579419,579747,579786,579901,579927,580154,580511,580512,580531,580548,580648,581000,581179,581183,581184,581266,581494,581570,581574,581578],\"xaxis\":\"x\",\"y\":[156,147,76,30,59,76,10,966,295,88,150,132,84,225,82,1075,2,42,433,6,133,81,322,221,388,333,228,62,866,92,410,1775,363,242,389,86,95,95,164,10,70,404,171,112,36,245,45,902,603,314,221,482,206,234,125,46,278,180,126,468,59,36,102,174,182,159,50,177,639,46,409,302,76,108,266,515,198,583,122,384,341,192,90,190,76,75,168,189,613,48,366,388,168,288,12,222,546,87,24,484,482,126,480,506,421,268,156,172,48,44,108,347,40,236,757,84,218,244,40,98,728,78,226,27,617,401,466,230,145,68,460,84,639,110,10,142,238,48,16,224,377,164,145,202,83,643,104,695,4282,288,32,526,425,90,196,468,46,34,578,382,161,12,30,242,119,191,79,39,34,184,337,254,32,553,653,420,22,237,288,290,78,36,88,342,99,412,784,457,12,1346,270,143,71,15,166,46,578,60,863,292,148,142,396,159,124,252,192,91,776,300,115,294,105,25,56,192,331,812,306,152,516,297,422,469,408,332,222,174,645,262,136,325,187,552,32,132,416,60,271,34,460,20,316,48,99,214,185,384,348,322,359,275,70,176,29,375,6,392,109,288,190,68,131,1151,486,312,402,38,340,266,556,324,10,316,20,532,124,8,766,193,80,212,262,226,181,68,13,1231,174,230,104,430,336,128,63,138,424,526,456,292,260,208,163,321,163,175,395,782,962,194,50,849,66,175,244,862,12,346,180,1292,100,122,112,311,252,322,93,26,328,67,878,176,316,222,532,476,1550,295,82,343,290,576,1,917,128,106,48,552,201,68,292,128,4,18,136,108,74,457,160,154,112,64,63,372,39,520,256,105,139,136,84,12,146,48,131,158,321,317,603,165,70,55,536,250,90,259,495,108,5,121,576,221,42,152,511,473,127,96,338,56,80,9,52,317,3,341,219,39,72,458,200,256,582,130,358,59,322,45,292,382,48,306,228,48,148,108,85,156,8,286,178,33,6,146,163,889,134,22,987,186,95,86,505],\"yaxis\":\"y\",\"type\":\"histogram\"},{\"alignmentgroup\":\"True\",\"bingroup\":\"x\",\"histfunc\":\"sum\",\"hovertemplate\":\"Country=Netherlands<br>InvoiceNo=%{x}<br>sum of Quantity=%{y}<extra></extra>\",\"legendgroup\":\"Netherlands\",\"marker\":{\"color\":\"#ab63fa\",\"pattern\":{\"shape\":\"\"}},\"name\":\"Netherlands\",\"offsetgroup\":\"Netherlands\",\"orientation\":\"v\",\"showlegend\":true,\"x\":[536403,539491,539731,541206,541570,541608,541711,542720,542894,543387,544479,544480,544672,546027,546433,547365,547796,547825,548010,548011,548211,548969,548970,551345,552845,552846,552882,552883,552885,553682,554038,554642,554827,555003,555106,555160,555164,555407,555589,556235,557263,557328,557525,558262,558263,558311,560710,562789,562790,563076,563165,564169,564650,564652,565967,565975,566173,566557,567280,567290,567795,569665,569719,569720,570191,571697,572035,572051,572052,572123,572233,572236,573002,573003,573004,574056,574058,574059,575508,575510,575709,576664,577326,577474,578034,578082,578140,578141,578143,579528,581175,581176,581338],\"xaxis\":\"x\",\"y\":[96,45,6668,8210,6072,288,5730,116,111,1116,8174,4034,2940,275,151,169,722,103,1070,11116,1208,636,700,426,200,72,924,12266,72,408,126,960,4664,64,164,1038,1836,328,312,84,4718,61,350,8998,424,1588,9,7807,375,14730,992,288,4628,480,1012,1,144,4951,6932,3717,545,3,332,15,211,269,13392,3020,1728,1780,660,29,3069,2400,300,2454,216,62,6712,1040,32,146,32,152,372,136,5760,200,1284,50,7366,452,140],\"yaxis\":\"y\",\"type\":\"histogram\"}],                        {\"barmode\":\"relative\",\"height\":600,\"legend\":{\"title\":{\"text\":\"Country\"},\"tracegroupgap\":0},\"margin\":{\"t\":60},\"template\":{\"data\":{\"barpolar\":[{\"marker\":{\"line\":{\"color\":\"#E5ECF6\",\"width\":0.5},\"pattern\":{\"fillmode\":\"overlay\",\"size\":10,\"solidity\":0.2}},\"type\":\"barpolar\"}],\"bar\":[{\"error_x\":{\"color\":\"#2a3f5f\"},\"error_y\":{\"color\":\"#2a3f5f\"},\"marker\":{\"line\":{\"color\":\"#E5ECF6\",\"width\":0.5},\"pattern\":{\"fillmode\":\"overlay\",\"size\":10,\"solidity\":0.2}},\"type\":\"bar\"}],\"carpet\":[{\"aaxis\":{\"endlinecolor\":\"#2a3f5f\",\"gridcolor\":\"white\",\"linecolor\":\"white\",\"minorgridcolor\":\"white\",\"startlinecolor\":\"#2a3f5f\"},\"baxis\":{\"endlinecolor\":\"#2a3f5f\",\"gridcolor\":\"white\",\"linecolor\":\"white\",\"minorgridcolor\":\"white\",\"startlinecolor\":\"#2a3f5f\"},\"type\":\"carpet\"}],\"choropleth\":[{\"colorbar\":{\"outlinewidth\":0,\"ticks\":\"\"},\"type\":\"choropleth\"}],\"contourcarpet\":[{\"colorbar\":{\"outlinewidth\":0,\"ticks\":\"\"},\"type\":\"contourcarpet\"}],\"contour\":[{\"colorbar\":{\"outlinewidth\":0,\"ticks\":\"\"},\"colorscale\":[[0.0,\"#0d0887\"],[0.1111111111111111,\"#46039f\"],[0.2222222222222222,\"#7201a8\"],[0.3333333333333333,\"#9c179e\"],[0.4444444444444444,\"#bd3786\"],[0.5555555555555556,\"#d8576b\"],[0.6666666666666666,\"#ed7953\"],[0.7777777777777778,\"#fb9f3a\"],[0.8888888888888888,\"#fdca26\"],[1.0,\"#f0f921\"]],\"type\":\"contour\"}],\"heatmapgl\":[{\"colorbar\":{\"outlinewidth\":0,\"ticks\":\"\"},\"colorscale\":[[0.0,\"#0d0887\"],[0.1111111111111111,\"#46039f\"],[0.2222222222222222,\"#7201a8\"],[0.3333333333333333,\"#9c179e\"],[0.4444444444444444,\"#bd3786\"],[0.5555555555555556,\"#d8576b\"],[0.6666666666666666,\"#ed7953\"],[0.7777777777777778,\"#fb9f3a\"],[0.8888888888888888,\"#fdca26\"],[1.0,\"#f0f921\"]],\"type\":\"heatmapgl\"}],\"heatmap\":[{\"colorbar\":{\"outlinewidth\":0,\"ticks\":\"\"},\"colorscale\":[[0.0,\"#0d0887\"],[0.1111111111111111,\"#46039f\"],[0.2222222222222222,\"#7201a8\"],[0.3333333333333333,\"#9c179e\"],[0.4444444444444444,\"#bd3786\"],[0.5555555555555556,\"#d8576b\"],[0.6666666666666666,\"#ed7953\"],[0.7777777777777778,\"#fb9f3a\"],[0.8888888888888888,\"#fdca26\"],[1.0,\"#f0f921\"]],\"type\":\"heatmap\"}],\"histogram2dcontour\":[{\"colorbar\":{\"outlinewidth\":0,\"ticks\":\"\"},\"colorscale\":[[0.0,\"#0d0887\"],[0.1111111111111111,\"#46039f\"],[0.2222222222222222,\"#7201a8\"],[0.3333333333333333,\"#9c179e\"],[0.4444444444444444,\"#bd3786\"],[0.5555555555555556,\"#d8576b\"],[0.6666666666666666,\"#ed7953\"],[0.7777777777777778,\"#fb9f3a\"],[0.8888888888888888,\"#fdca26\"],[1.0,\"#f0f921\"]],\"type\":\"histogram2dcontour\"}],\"histogram2d\":[{\"colorbar\":{\"outlinewidth\":0,\"ticks\":\"\"},\"colorscale\":[[0.0,\"#0d0887\"],[0.1111111111111111,\"#46039f\"],[0.2222222222222222,\"#7201a8\"],[0.3333333333333333,\"#9c179e\"],[0.4444444444444444,\"#bd3786\"],[0.5555555555555556,\"#d8576b\"],[0.6666666666666666,\"#ed7953\"],[0.7777777777777778,\"#fb9f3a\"],[0.8888888888888888,\"#fdca26\"],[1.0,\"#f0f921\"]],\"type\":\"histogram2d\"}],\"histogram\":[{\"marker\":{\"pattern\":{\"fillmode\":\"overlay\",\"size\":10,\"solidity\":0.2}},\"type\":\"histogram\"}],\"mesh3d\":[{\"colorbar\":{\"outlinewidth\":0,\"ticks\":\"\"},\"type\":\"mesh3d\"}],\"parcoords\":[{\"line\":{\"colorbar\":{\"outlinewidth\":0,\"ticks\":\"\"}},\"type\":\"parcoords\"}],\"pie\":[{\"automargin\":true,\"type\":\"pie\"}],\"scatter3d\":[{\"line\":{\"colorbar\":{\"outlinewidth\":0,\"ticks\":\"\"}},\"marker\":{\"colorbar\":{\"outlinewidth\":0,\"ticks\":\"\"}},\"type\":\"scatter3d\"}],\"scattercarpet\":[{\"marker\":{\"colorbar\":{\"outlinewidth\":0,\"ticks\":\"\"}},\"type\":\"scattercarpet\"}],\"scattergeo\":[{\"marker\":{\"colorbar\":{\"outlinewidth\":0,\"ticks\":\"\"}},\"type\":\"scattergeo\"}],\"scattergl\":[{\"marker\":{\"colorbar\":{\"outlinewidth\":0,\"ticks\":\"\"}},\"type\":\"scattergl\"}],\"scattermapbox\":[{\"marker\":{\"colorbar\":{\"outlinewidth\":0,\"ticks\":\"\"}},\"type\":\"scattermapbox\"}],\"scatterpolargl\":[{\"marker\":{\"colorbar\":{\"outlinewidth\":0,\"ticks\":\"\"}},\"type\":\"scatterpolargl\"}],\"scatterpolar\":[{\"marker\":{\"colorbar\":{\"outlinewidth\":0,\"ticks\":\"\"}},\"type\":\"scatterpolar\"}],\"scatter\":[{\"marker\":{\"colorbar\":{\"outlinewidth\":0,\"ticks\":\"\"}},\"type\":\"scatter\"}],\"scatterternary\":[{\"marker\":{\"colorbar\":{\"outlinewidth\":0,\"ticks\":\"\"}},\"type\":\"scatterternary\"}],\"surface\":[{\"colorbar\":{\"outlinewidth\":0,\"ticks\":\"\"},\"colorscale\":[[0.0,\"#0d0887\"],[0.1111111111111111,\"#46039f\"],[0.2222222222222222,\"#7201a8\"],[0.3333333333333333,\"#9c179e\"],[0.4444444444444444,\"#bd3786\"],[0.5555555555555556,\"#d8576b\"],[0.6666666666666666,\"#ed7953\"],[0.7777777777777778,\"#fb9f3a\"],[0.8888888888888888,\"#fdca26\"],[1.0,\"#f0f921\"]],\"type\":\"surface\"}],\"table\":[{\"cells\":{\"fill\":{\"color\":\"#EBF0F8\"},\"line\":{\"color\":\"white\"}},\"header\":{\"fill\":{\"color\":\"#C8D4E3\"},\"line\":{\"color\":\"white\"}},\"type\":\"table\"}]},\"layout\":{\"annotationdefaults\":{\"arrowcolor\":\"#2a3f5f\",\"arrowhead\":0,\"arrowwidth\":1},\"autotypenumbers\":\"strict\",\"coloraxis\":{\"colorbar\":{\"outlinewidth\":0,\"ticks\":\"\"}},\"colorscale\":{\"diverging\":[[0,\"#8e0152\"],[0.1,\"#c51b7d\"],[0.2,\"#de77ae\"],[0.3,\"#f1b6da\"],[0.4,\"#fde0ef\"],[0.5,\"#f7f7f7\"],[0.6,\"#e6f5d0\"],[0.7,\"#b8e186\"],[0.8,\"#7fbc41\"],[0.9,\"#4d9221\"],[1,\"#276419\"]],\"sequential\":[[0.0,\"#0d0887\"],[0.1111111111111111,\"#46039f\"],[0.2222222222222222,\"#7201a8\"],[0.3333333333333333,\"#9c179e\"],[0.4444444444444444,\"#bd3786\"],[0.5555555555555556,\"#d8576b\"],[0.6666666666666666,\"#ed7953\"],[0.7777777777777778,\"#fb9f3a\"],[0.8888888888888888,\"#fdca26\"],[1.0,\"#f0f921\"]],\"sequentialminus\":[[0.0,\"#0d0887\"],[0.1111111111111111,\"#46039f\"],[0.2222222222222222,\"#7201a8\"],[0.3333333333333333,\"#9c179e\"],[0.4444444444444444,\"#bd3786\"],[0.5555555555555556,\"#d8576b\"],[0.6666666666666666,\"#ed7953\"],[0.7777777777777778,\"#fb9f3a\"],[0.8888888888888888,\"#fdca26\"],[1.0,\"#f0f921\"]]},\"colorway\":[\"#636efa\",\"#EF553B\",\"#00cc96\",\"#ab63fa\",\"#FFA15A\",\"#19d3f3\",\"#FF6692\",\"#B6E880\",\"#FF97FF\",\"#FECB52\"],\"font\":{\"color\":\"#2a3f5f\"},\"geo\":{\"bgcolor\":\"white\",\"lakecolor\":\"white\",\"landcolor\":\"#E5ECF6\",\"showlakes\":true,\"showland\":true,\"subunitcolor\":\"white\"},\"hoverlabel\":{\"align\":\"left\"},\"hovermode\":\"closest\",\"mapbox\":{\"style\":\"light\"},\"paper_bgcolor\":\"white\",\"plot_bgcolor\":\"#E5ECF6\",\"polar\":{\"angularaxis\":{\"gridcolor\":\"white\",\"linecolor\":\"white\",\"ticks\":\"\"},\"bgcolor\":\"#E5ECF6\",\"radialaxis\":{\"gridcolor\":\"white\",\"linecolor\":\"white\",\"ticks\":\"\"}},\"scene\":{\"xaxis\":{\"backgroundcolor\":\"#E5ECF6\",\"gridcolor\":\"white\",\"gridwidth\":2,\"linecolor\":\"white\",\"showbackground\":true,\"ticks\":\"\",\"zerolinecolor\":\"white\"},\"yaxis\":{\"backgroundcolor\":\"#E5ECF6\",\"gridcolor\":\"white\",\"gridwidth\":2,\"linecolor\":\"white\",\"showbackground\":true,\"ticks\":\"\",\"zerolinecolor\":\"white\"},\"zaxis\":{\"backgroundcolor\":\"#E5ECF6\",\"gridcolor\":\"white\",\"gridwidth\":2,\"linecolor\":\"white\",\"showbackground\":true,\"ticks\":\"\",\"zerolinecolor\":\"white\"}},\"shapedefaults\":{\"line\":{\"color\":\"#2a3f5f\"}},\"ternary\":{\"aaxis\":{\"gridcolor\":\"white\",\"linecolor\":\"white\",\"ticks\":\"\"},\"baxis\":{\"gridcolor\":\"white\",\"linecolor\":\"white\",\"ticks\":\"\"},\"bgcolor\":\"#E5ECF6\",\"caxis\":{\"gridcolor\":\"white\",\"linecolor\":\"white\",\"ticks\":\"\"}},\"title\":{\"x\":0.05},\"xaxis\":{\"automargin\":true,\"gridcolor\":\"white\",\"linecolor\":\"white\",\"ticks\":\"\",\"title\":{\"standoff\":15},\"zerolinecolor\":\"white\",\"zerolinewidth\":2},\"yaxis\":{\"automargin\":true,\"gridcolor\":\"white\",\"linecolor\":\"white\",\"ticks\":\"\",\"title\":{\"standoff\":15},\"zerolinecolor\":\"white\",\"zerolinewidth\":2}}},\"title\":{\"text\":\"Histogram (Quantity per Invoice)\"},\"width\":1000,\"xaxis\":{\"anchor\":\"y\",\"domain\":[0.0,1.0],\"title\":{\"text\":\"InvoiceNo\"}},\"yaxis\":{\"anchor\":\"x\",\"domain\":[0.0,1.0],\"title\":{\"text\":\"sum of Quantity\"}}},                        {\"responsive\": true}                    ).then(function(){\n",
       "                            \n",
       "var gd = document.getElementById('07bce316-c9d3-403b-8811-6724b83991d1');\n",
       "var x = new MutationObserver(function (mutations, observer) {{\n",
       "        var display = window.getComputedStyle(gd).display;\n",
       "        if (!display || display === 'none') {{\n",
       "            console.log([gd, 'removed!']);\n",
       "            Plotly.purge(gd);\n",
       "            observer.disconnect();\n",
       "        }}\n",
       "}});\n",
       "\n",
       "// Listen for the removal of the full notebook cells\n",
       "var notebookContainer = gd.closest('#notebook-container');\n",
       "if (notebookContainer) {{\n",
       "    x.observe(notebookContainer, {childList: true});\n",
       "}}\n",
       "\n",
       "// Listen for the clearing of the current output cell\n",
       "var outputEl = gd.closest('.output');\n",
       "if (outputEl) {{\n",
       "    x.observe(outputEl, {childList: true});\n",
       "}}\n",
       "\n",
       "                        })                };                });            </script>        </div>"
      ]
     },
     "metadata": {},
     "output_type": "display_data"
    }
   ],
   "source": [
    "# Traces\n",
    "fig = px.histogram(qty_invc, x=\"InvoiceNo\", y='Quantity', color=\"Country\")\n",
    "\n",
    "# Layout\n",
    "fig['layout'].update(width=1000, height=600, title='Histogram (Quantity per Invoice)');\n",
    "\n",
    "# Plot\n",
    "py.iplot(fig)"
   ]
  },
  {
   "cell_type": "markdown",
   "metadata": {
    "id": "OXbE5Hg6NAtF"
   },
   "source": [
    "#### 5. Create an interactive side-by-side bar chart showing the revenue by country listed below (bars) for each of the products listed below."
   ]
  },
  {
   "cell_type": "code",
   "execution_count": 12,
   "metadata": {
    "id": "VVGK5IofNAtG"
   },
   "outputs": [],
   "source": [
    "# Variables\n",
    "product_list = ['JUMBO BAG RED RETROSPOT', \n",
    "                'CREAM HANGING HEART T-LIGHT HOLDER',\n",
    "                'REGENCY CAKESTAND 3 TIER']\n",
    "\n",
    "country_list = ['EIRE', 'Germany', 'France', 'Netherlands']"
   ]
  },
  {
   "cell_type": "code",
   "execution_count": 13,
   "metadata": {
    "id": "mu4DdnxINAtG"
   },
   "outputs": [
    {
     "data": {
      "text/html": [
       "<div>\n",
       "<style scoped>\n",
       "    .dataframe tbody tr th:only-of-type {\n",
       "        vertical-align: middle;\n",
       "    }\n",
       "\n",
       "    .dataframe tbody tr th {\n",
       "        vertical-align: top;\n",
       "    }\n",
       "\n",
       "    .dataframe thead th {\n",
       "        text-align: right;\n",
       "    }\n",
       "</style>\n",
       "<table border=\"1\" class=\"dataframe\">\n",
       "  <thead>\n",
       "    <tr style=\"text-align: right;\">\n",
       "      <th>Description</th>\n",
       "      <th>CREAM HANGING HEART T-LIGHT HOLDER</th>\n",
       "      <th>JUMBO BAG RED RETROSPOT</th>\n",
       "      <th>REGENCY CAKESTAND 3 TIER</th>\n",
       "    </tr>\n",
       "    <tr>\n",
       "      <th>Country</th>\n",
       "      <th></th>\n",
       "      <th></th>\n",
       "      <th></th>\n",
       "    </tr>\n",
       "  </thead>\n",
       "  <tbody>\n",
       "    <tr>\n",
       "      <th>EIRE</th>\n",
       "      <td>2740.80</td>\n",
       "      <td>278.72</td>\n",
       "      <td>7388.55</td>\n",
       "    </tr>\n",
       "    <tr>\n",
       "      <th>France</th>\n",
       "      <td>131.75</td>\n",
       "      <td>903.37</td>\n",
       "      <td>2816.85</td>\n",
       "    </tr>\n",
       "    <tr>\n",
       "      <th>Germany</th>\n",
       "      <td>35.40</td>\n",
       "      <td>1072.76</td>\n",
       "      <td>9061.95</td>\n",
       "    </tr>\n",
       "    <tr>\n",
       "      <th>Netherlands</th>\n",
       "      <td>1167.00</td>\n",
       "      <td>3468.00</td>\n",
       "      <td>3166.35</td>\n",
       "    </tr>\n",
       "  </tbody>\n",
       "</table>\n",
       "</div>"
      ],
      "text/plain": [
       "Description  CREAM HANGING HEART T-LIGHT HOLDER  JUMBO BAG RED RETROSPOT  \\\n",
       "Country                                                                    \n",
       "EIRE                                    2740.80                   278.72   \n",
       "France                                   131.75                   903.37   \n",
       "Germany                                   35.40                  1072.76   \n",
       "Netherlands                             1167.00                  3468.00   \n",
       "\n",
       "Description  REGENCY CAKESTAND 3 TIER  \n",
       "Country                                \n",
       "EIRE                          7388.55  \n",
       "France                        2816.85  \n",
       "Germany                       9061.95  \n",
       "Netherlands                   3166.35  "
      ]
     },
     "execution_count": 13,
     "metadata": {},
     "output_type": "execute_result"
    }
   ],
   "source": [
    "# Transform the data\n",
    "rvn_country = data[data['Country'].isin(country_list) &\n",
    "                   data['Description'].isin(product_list)]\n",
    "rvn_country = rvn_country.pivot_table(index='Country', columns='Description', values='Revenue', aggfunc='sum')\n",
    "rvn_country"
   ]
  },
  {
   "cell_type": "code",
   "execution_count": 14,
   "metadata": {
    "id": "SuRiE0LdNAtG",
    "outputId": "3aabd795-6693-4f48-9abe-718db0dce2d5"
   },
   "outputs": [
    {
     "data": {
      "application/vnd.plotly.v1+json": {
       "config": {
        "linkText": "Export to plot.ly",
        "plotlyServerURL": "https://plot.ly",
        "showLink": false
       },
       "data": [
        {
         "alignmentgroup": "True",
         "hovertemplate": "variable=CREAM HANGING HEART T-LIGHT HOLDER<br>Country=%{x}<br>value=%{y}<extra></extra>",
         "legendgroup": "CREAM HANGING HEART T-LIGHT HOLDER",
         "marker": {
          "color": "#636efa",
          "pattern": {
           "shape": ""
          }
         },
         "name": "CREAM HANGING HEART T-LIGHT HOLDER",
         "offsetgroup": "CREAM HANGING HEART T-LIGHT HOLDER",
         "orientation": "v",
         "showlegend": true,
         "textposition": "auto",
         "type": "bar",
         "x": [
          "EIRE",
          "France",
          "Germany",
          "Netherlands"
         ],
         "xaxis": "x",
         "y": [
          2740.8,
          131.75,
          35.40000000000001,
          1167
         ],
         "yaxis": "y"
        },
        {
         "alignmentgroup": "True",
         "hovertemplate": "variable=JUMBO BAG RED RETROSPOT<br>Country=%{x}<br>value=%{y}<extra></extra>",
         "legendgroup": "JUMBO BAG RED RETROSPOT",
         "marker": {
          "color": "#EF553B",
          "pattern": {
           "shape": ""
          }
         },
         "name": "JUMBO BAG RED RETROSPOT",
         "offsetgroup": "JUMBO BAG RED RETROSPOT",
         "orientation": "v",
         "showlegend": true,
         "textposition": "auto",
         "type": "bar",
         "x": [
          "EIRE",
          "France",
          "Germany",
          "Netherlands"
         ],
         "xaxis": "x",
         "y": [
          278.72,
          903.37,
          1072.76,
          3468
         ],
         "yaxis": "y"
        },
        {
         "alignmentgroup": "True",
         "hovertemplate": "variable=REGENCY CAKESTAND 3 TIER<br>Country=%{x}<br>value=%{y}<extra></extra>",
         "legendgroup": "REGENCY CAKESTAND 3 TIER",
         "marker": {
          "color": "#00cc96",
          "pattern": {
           "shape": ""
          }
         },
         "name": "REGENCY CAKESTAND 3 TIER",
         "offsetgroup": "REGENCY CAKESTAND 3 TIER",
         "orientation": "v",
         "showlegend": true,
         "textposition": "auto",
         "type": "bar",
         "x": [
          "EIRE",
          "France",
          "Germany",
          "Netherlands"
         ],
         "xaxis": "x",
         "y": [
          7388.55,
          2816.85,
          9061.949999999999,
          3166.35
         ],
         "yaxis": "y"
        }
       ],
       "layout": {
        "barmode": "group",
        "legend": {
         "title": {
          "text": "variable"
         },
         "tracegroupgap": 0
        },
        "margin": {
         "t": 60
        },
        "template": {
         "data": {
          "bar": [
           {
            "error_x": {
             "color": "#2a3f5f"
            },
            "error_y": {
             "color": "#2a3f5f"
            },
            "marker": {
             "line": {
              "color": "#E5ECF6",
              "width": 0.5
             },
             "pattern": {
              "fillmode": "overlay",
              "size": 10,
              "solidity": 0.2
             }
            },
            "type": "bar"
           }
          ],
          "barpolar": [
           {
            "marker": {
             "line": {
              "color": "#E5ECF6",
              "width": 0.5
             },
             "pattern": {
              "fillmode": "overlay",
              "size": 10,
              "solidity": 0.2
             }
            },
            "type": "barpolar"
           }
          ],
          "carpet": [
           {
            "aaxis": {
             "endlinecolor": "#2a3f5f",
             "gridcolor": "white",
             "linecolor": "white",
             "minorgridcolor": "white",
             "startlinecolor": "#2a3f5f"
            },
            "baxis": {
             "endlinecolor": "#2a3f5f",
             "gridcolor": "white",
             "linecolor": "white",
             "minorgridcolor": "white",
             "startlinecolor": "#2a3f5f"
            },
            "type": "carpet"
           }
          ],
          "choropleth": [
           {
            "colorbar": {
             "outlinewidth": 0,
             "ticks": ""
            },
            "type": "choropleth"
           }
          ],
          "contour": [
           {
            "colorbar": {
             "outlinewidth": 0,
             "ticks": ""
            },
            "colorscale": [
             [
              0,
              "#0d0887"
             ],
             [
              0.1111111111111111,
              "#46039f"
             ],
             [
              0.2222222222222222,
              "#7201a8"
             ],
             [
              0.3333333333333333,
              "#9c179e"
             ],
             [
              0.4444444444444444,
              "#bd3786"
             ],
             [
              0.5555555555555556,
              "#d8576b"
             ],
             [
              0.6666666666666666,
              "#ed7953"
             ],
             [
              0.7777777777777778,
              "#fb9f3a"
             ],
             [
              0.8888888888888888,
              "#fdca26"
             ],
             [
              1,
              "#f0f921"
             ]
            ],
            "type": "contour"
           }
          ],
          "contourcarpet": [
           {
            "colorbar": {
             "outlinewidth": 0,
             "ticks": ""
            },
            "type": "contourcarpet"
           }
          ],
          "heatmap": [
           {
            "colorbar": {
             "outlinewidth": 0,
             "ticks": ""
            },
            "colorscale": [
             [
              0,
              "#0d0887"
             ],
             [
              0.1111111111111111,
              "#46039f"
             ],
             [
              0.2222222222222222,
              "#7201a8"
             ],
             [
              0.3333333333333333,
              "#9c179e"
             ],
             [
              0.4444444444444444,
              "#bd3786"
             ],
             [
              0.5555555555555556,
              "#d8576b"
             ],
             [
              0.6666666666666666,
              "#ed7953"
             ],
             [
              0.7777777777777778,
              "#fb9f3a"
             ],
             [
              0.8888888888888888,
              "#fdca26"
             ],
             [
              1,
              "#f0f921"
             ]
            ],
            "type": "heatmap"
           }
          ],
          "heatmapgl": [
           {
            "colorbar": {
             "outlinewidth": 0,
             "ticks": ""
            },
            "colorscale": [
             [
              0,
              "#0d0887"
             ],
             [
              0.1111111111111111,
              "#46039f"
             ],
             [
              0.2222222222222222,
              "#7201a8"
             ],
             [
              0.3333333333333333,
              "#9c179e"
             ],
             [
              0.4444444444444444,
              "#bd3786"
             ],
             [
              0.5555555555555556,
              "#d8576b"
             ],
             [
              0.6666666666666666,
              "#ed7953"
             ],
             [
              0.7777777777777778,
              "#fb9f3a"
             ],
             [
              0.8888888888888888,
              "#fdca26"
             ],
             [
              1,
              "#f0f921"
             ]
            ],
            "type": "heatmapgl"
           }
          ],
          "histogram": [
           {
            "marker": {
             "pattern": {
              "fillmode": "overlay",
              "size": 10,
              "solidity": 0.2
             }
            },
            "type": "histogram"
           }
          ],
          "histogram2d": [
           {
            "colorbar": {
             "outlinewidth": 0,
             "ticks": ""
            },
            "colorscale": [
             [
              0,
              "#0d0887"
             ],
             [
              0.1111111111111111,
              "#46039f"
             ],
             [
              0.2222222222222222,
              "#7201a8"
             ],
             [
              0.3333333333333333,
              "#9c179e"
             ],
             [
              0.4444444444444444,
              "#bd3786"
             ],
             [
              0.5555555555555556,
              "#d8576b"
             ],
             [
              0.6666666666666666,
              "#ed7953"
             ],
             [
              0.7777777777777778,
              "#fb9f3a"
             ],
             [
              0.8888888888888888,
              "#fdca26"
             ],
             [
              1,
              "#f0f921"
             ]
            ],
            "type": "histogram2d"
           }
          ],
          "histogram2dcontour": [
           {
            "colorbar": {
             "outlinewidth": 0,
             "ticks": ""
            },
            "colorscale": [
             [
              0,
              "#0d0887"
             ],
             [
              0.1111111111111111,
              "#46039f"
             ],
             [
              0.2222222222222222,
              "#7201a8"
             ],
             [
              0.3333333333333333,
              "#9c179e"
             ],
             [
              0.4444444444444444,
              "#bd3786"
             ],
             [
              0.5555555555555556,
              "#d8576b"
             ],
             [
              0.6666666666666666,
              "#ed7953"
             ],
             [
              0.7777777777777778,
              "#fb9f3a"
             ],
             [
              0.8888888888888888,
              "#fdca26"
             ],
             [
              1,
              "#f0f921"
             ]
            ],
            "type": "histogram2dcontour"
           }
          ],
          "mesh3d": [
           {
            "colorbar": {
             "outlinewidth": 0,
             "ticks": ""
            },
            "type": "mesh3d"
           }
          ],
          "parcoords": [
           {
            "line": {
             "colorbar": {
              "outlinewidth": 0,
              "ticks": ""
             }
            },
            "type": "parcoords"
           }
          ],
          "pie": [
           {
            "automargin": true,
            "type": "pie"
           }
          ],
          "scatter": [
           {
            "marker": {
             "colorbar": {
              "outlinewidth": 0,
              "ticks": ""
             }
            },
            "type": "scatter"
           }
          ],
          "scatter3d": [
           {
            "line": {
             "colorbar": {
              "outlinewidth": 0,
              "ticks": ""
             }
            },
            "marker": {
             "colorbar": {
              "outlinewidth": 0,
              "ticks": ""
             }
            },
            "type": "scatter3d"
           }
          ],
          "scattercarpet": [
           {
            "marker": {
             "colorbar": {
              "outlinewidth": 0,
              "ticks": ""
             }
            },
            "type": "scattercarpet"
           }
          ],
          "scattergeo": [
           {
            "marker": {
             "colorbar": {
              "outlinewidth": 0,
              "ticks": ""
             }
            },
            "type": "scattergeo"
           }
          ],
          "scattergl": [
           {
            "marker": {
             "colorbar": {
              "outlinewidth": 0,
              "ticks": ""
             }
            },
            "type": "scattergl"
           }
          ],
          "scattermapbox": [
           {
            "marker": {
             "colorbar": {
              "outlinewidth": 0,
              "ticks": ""
             }
            },
            "type": "scattermapbox"
           }
          ],
          "scatterpolar": [
           {
            "marker": {
             "colorbar": {
              "outlinewidth": 0,
              "ticks": ""
             }
            },
            "type": "scatterpolar"
           }
          ],
          "scatterpolargl": [
           {
            "marker": {
             "colorbar": {
              "outlinewidth": 0,
              "ticks": ""
             }
            },
            "type": "scatterpolargl"
           }
          ],
          "scatterternary": [
           {
            "marker": {
             "colorbar": {
              "outlinewidth": 0,
              "ticks": ""
             }
            },
            "type": "scatterternary"
           }
          ],
          "surface": [
           {
            "colorbar": {
             "outlinewidth": 0,
             "ticks": ""
            },
            "colorscale": [
             [
              0,
              "#0d0887"
             ],
             [
              0.1111111111111111,
              "#46039f"
             ],
             [
              0.2222222222222222,
              "#7201a8"
             ],
             [
              0.3333333333333333,
              "#9c179e"
             ],
             [
              0.4444444444444444,
              "#bd3786"
             ],
             [
              0.5555555555555556,
              "#d8576b"
             ],
             [
              0.6666666666666666,
              "#ed7953"
             ],
             [
              0.7777777777777778,
              "#fb9f3a"
             ],
             [
              0.8888888888888888,
              "#fdca26"
             ],
             [
              1,
              "#f0f921"
             ]
            ],
            "type": "surface"
           }
          ],
          "table": [
           {
            "cells": {
             "fill": {
              "color": "#EBF0F8"
             },
             "line": {
              "color": "white"
             }
            },
            "header": {
             "fill": {
              "color": "#C8D4E3"
             },
             "line": {
              "color": "white"
             }
            },
            "type": "table"
           }
          ]
         },
         "layout": {
          "annotationdefaults": {
           "arrowcolor": "#2a3f5f",
           "arrowhead": 0,
           "arrowwidth": 1
          },
          "autotypenumbers": "strict",
          "coloraxis": {
           "colorbar": {
            "outlinewidth": 0,
            "ticks": ""
           }
          },
          "colorscale": {
           "diverging": [
            [
             0,
             "#8e0152"
            ],
            [
             0.1,
             "#c51b7d"
            ],
            [
             0.2,
             "#de77ae"
            ],
            [
             0.3,
             "#f1b6da"
            ],
            [
             0.4,
             "#fde0ef"
            ],
            [
             0.5,
             "#f7f7f7"
            ],
            [
             0.6,
             "#e6f5d0"
            ],
            [
             0.7,
             "#b8e186"
            ],
            [
             0.8,
             "#7fbc41"
            ],
            [
             0.9,
             "#4d9221"
            ],
            [
             1,
             "#276419"
            ]
           ],
           "sequential": [
            [
             0,
             "#0d0887"
            ],
            [
             0.1111111111111111,
             "#46039f"
            ],
            [
             0.2222222222222222,
             "#7201a8"
            ],
            [
             0.3333333333333333,
             "#9c179e"
            ],
            [
             0.4444444444444444,
             "#bd3786"
            ],
            [
             0.5555555555555556,
             "#d8576b"
            ],
            [
             0.6666666666666666,
             "#ed7953"
            ],
            [
             0.7777777777777778,
             "#fb9f3a"
            ],
            [
             0.8888888888888888,
             "#fdca26"
            ],
            [
             1,
             "#f0f921"
            ]
           ],
           "sequentialminus": [
            [
             0,
             "#0d0887"
            ],
            [
             0.1111111111111111,
             "#46039f"
            ],
            [
             0.2222222222222222,
             "#7201a8"
            ],
            [
             0.3333333333333333,
             "#9c179e"
            ],
            [
             0.4444444444444444,
             "#bd3786"
            ],
            [
             0.5555555555555556,
             "#d8576b"
            ],
            [
             0.6666666666666666,
             "#ed7953"
            ],
            [
             0.7777777777777778,
             "#fb9f3a"
            ],
            [
             0.8888888888888888,
             "#fdca26"
            ],
            [
             1,
             "#f0f921"
            ]
           ]
          },
          "colorway": [
           "#636efa",
           "#EF553B",
           "#00cc96",
           "#ab63fa",
           "#FFA15A",
           "#19d3f3",
           "#FF6692",
           "#B6E880",
           "#FF97FF",
           "#FECB52"
          ],
          "font": {
           "color": "#2a3f5f"
          },
          "geo": {
           "bgcolor": "white",
           "lakecolor": "white",
           "landcolor": "#E5ECF6",
           "showlakes": true,
           "showland": true,
           "subunitcolor": "white"
          },
          "hoverlabel": {
           "align": "left"
          },
          "hovermode": "closest",
          "mapbox": {
           "style": "light"
          },
          "paper_bgcolor": "white",
          "plot_bgcolor": "#E5ECF6",
          "polar": {
           "angularaxis": {
            "gridcolor": "white",
            "linecolor": "white",
            "ticks": ""
           },
           "bgcolor": "#E5ECF6",
           "radialaxis": {
            "gridcolor": "white",
            "linecolor": "white",
            "ticks": ""
           }
          },
          "scene": {
           "xaxis": {
            "backgroundcolor": "#E5ECF6",
            "gridcolor": "white",
            "gridwidth": 2,
            "linecolor": "white",
            "showbackground": true,
            "ticks": "",
            "zerolinecolor": "white"
           },
           "yaxis": {
            "backgroundcolor": "#E5ECF6",
            "gridcolor": "white",
            "gridwidth": 2,
            "linecolor": "white",
            "showbackground": true,
            "ticks": "",
            "zerolinecolor": "white"
           },
           "zaxis": {
            "backgroundcolor": "#E5ECF6",
            "gridcolor": "white",
            "gridwidth": 2,
            "linecolor": "white",
            "showbackground": true,
            "ticks": "",
            "zerolinecolor": "white"
           }
          },
          "shapedefaults": {
           "line": {
            "color": "#2a3f5f"
           }
          },
          "ternary": {
           "aaxis": {
            "gridcolor": "white",
            "linecolor": "white",
            "ticks": ""
           },
           "baxis": {
            "gridcolor": "white",
            "linecolor": "white",
            "ticks": ""
           },
           "bgcolor": "#E5ECF6",
           "caxis": {
            "gridcolor": "white",
            "linecolor": "white",
            "ticks": ""
           }
          },
          "title": {
           "x": 0.05
          },
          "xaxis": {
           "automargin": true,
           "gridcolor": "white",
           "linecolor": "white",
           "ticks": "",
           "title": {
            "standoff": 15
           },
           "zerolinecolor": "white",
           "zerolinewidth": 2
          },
          "yaxis": {
           "automargin": true,
           "gridcolor": "white",
           "linecolor": "white",
           "ticks": "",
           "title": {
            "standoff": 15
           },
           "zerolinecolor": "white",
           "zerolinewidth": 2
          }
         }
        },
        "xaxis": {
         "anchor": "y",
         "domain": [
          0,
          1
         ],
         "title": {
          "text": "Country"
         }
        },
        "yaxis": {
         "anchor": "x",
         "domain": [
          0,
          1
         ],
         "title": {
          "text": "value"
         }
        }
       }
      },
      "text/html": [
       "<div>                            <div id=\"3013b4f0-6fd2-4011-8214-cc7ffad2349f\" class=\"plotly-graph-div\" style=\"height:525px; width:100%;\"></div>            <script type=\"text/javascript\">                require([\"plotly\"], function(Plotly) {                    window.PLOTLYENV=window.PLOTLYENV || {};                                    if (document.getElementById(\"3013b4f0-6fd2-4011-8214-cc7ffad2349f\")) {                    Plotly.newPlot(                        \"3013b4f0-6fd2-4011-8214-cc7ffad2349f\",                        [{\"alignmentgroup\":\"True\",\"hovertemplate\":\"variable=CREAM HANGING HEART T-LIGHT HOLDER<br>Country=%{x}<br>value=%{y}<extra></extra>\",\"legendgroup\":\"CREAM HANGING HEART T-LIGHT HOLDER\",\"marker\":{\"color\":\"#636efa\",\"pattern\":{\"shape\":\"\"}},\"name\":\"CREAM HANGING HEART T-LIGHT HOLDER\",\"offsetgroup\":\"CREAM HANGING HEART T-LIGHT HOLDER\",\"orientation\":\"v\",\"showlegend\":true,\"textposition\":\"auto\",\"x\":[\"EIRE\",\"France\",\"Germany\",\"Netherlands\"],\"xaxis\":\"x\",\"y\":[2740.8,131.75,35.40000000000001,1167.0],\"yaxis\":\"y\",\"type\":\"bar\"},{\"alignmentgroup\":\"True\",\"hovertemplate\":\"variable=JUMBO BAG RED RETROSPOT<br>Country=%{x}<br>value=%{y}<extra></extra>\",\"legendgroup\":\"JUMBO BAG RED RETROSPOT\",\"marker\":{\"color\":\"#EF553B\",\"pattern\":{\"shape\":\"\"}},\"name\":\"JUMBO BAG RED RETROSPOT\",\"offsetgroup\":\"JUMBO BAG RED RETROSPOT\",\"orientation\":\"v\",\"showlegend\":true,\"textposition\":\"auto\",\"x\":[\"EIRE\",\"France\",\"Germany\",\"Netherlands\"],\"xaxis\":\"x\",\"y\":[278.72,903.37,1072.76,3468.0],\"yaxis\":\"y\",\"type\":\"bar\"},{\"alignmentgroup\":\"True\",\"hovertemplate\":\"variable=REGENCY CAKESTAND 3 TIER<br>Country=%{x}<br>value=%{y}<extra></extra>\",\"legendgroup\":\"REGENCY CAKESTAND 3 TIER\",\"marker\":{\"color\":\"#00cc96\",\"pattern\":{\"shape\":\"\"}},\"name\":\"REGENCY CAKESTAND 3 TIER\",\"offsetgroup\":\"REGENCY CAKESTAND 3 TIER\",\"orientation\":\"v\",\"showlegend\":true,\"textposition\":\"auto\",\"x\":[\"EIRE\",\"France\",\"Germany\",\"Netherlands\"],\"xaxis\":\"x\",\"y\":[7388.55,2816.85,9061.949999999999,3166.35],\"yaxis\":\"y\",\"type\":\"bar\"}],                        {\"barmode\":\"group\",\"legend\":{\"title\":{\"text\":\"variable\"},\"tracegroupgap\":0},\"margin\":{\"t\":60},\"template\":{\"data\":{\"barpolar\":[{\"marker\":{\"line\":{\"color\":\"#E5ECF6\",\"width\":0.5},\"pattern\":{\"fillmode\":\"overlay\",\"size\":10,\"solidity\":0.2}},\"type\":\"barpolar\"}],\"bar\":[{\"error_x\":{\"color\":\"#2a3f5f\"},\"error_y\":{\"color\":\"#2a3f5f\"},\"marker\":{\"line\":{\"color\":\"#E5ECF6\",\"width\":0.5},\"pattern\":{\"fillmode\":\"overlay\",\"size\":10,\"solidity\":0.2}},\"type\":\"bar\"}],\"carpet\":[{\"aaxis\":{\"endlinecolor\":\"#2a3f5f\",\"gridcolor\":\"white\",\"linecolor\":\"white\",\"minorgridcolor\":\"white\",\"startlinecolor\":\"#2a3f5f\"},\"baxis\":{\"endlinecolor\":\"#2a3f5f\",\"gridcolor\":\"white\",\"linecolor\":\"white\",\"minorgridcolor\":\"white\",\"startlinecolor\":\"#2a3f5f\"},\"type\":\"carpet\"}],\"choropleth\":[{\"colorbar\":{\"outlinewidth\":0,\"ticks\":\"\"},\"type\":\"choropleth\"}],\"contourcarpet\":[{\"colorbar\":{\"outlinewidth\":0,\"ticks\":\"\"},\"type\":\"contourcarpet\"}],\"contour\":[{\"colorbar\":{\"outlinewidth\":0,\"ticks\":\"\"},\"colorscale\":[[0.0,\"#0d0887\"],[0.1111111111111111,\"#46039f\"],[0.2222222222222222,\"#7201a8\"],[0.3333333333333333,\"#9c179e\"],[0.4444444444444444,\"#bd3786\"],[0.5555555555555556,\"#d8576b\"],[0.6666666666666666,\"#ed7953\"],[0.7777777777777778,\"#fb9f3a\"],[0.8888888888888888,\"#fdca26\"],[1.0,\"#f0f921\"]],\"type\":\"contour\"}],\"heatmapgl\":[{\"colorbar\":{\"outlinewidth\":0,\"ticks\":\"\"},\"colorscale\":[[0.0,\"#0d0887\"],[0.1111111111111111,\"#46039f\"],[0.2222222222222222,\"#7201a8\"],[0.3333333333333333,\"#9c179e\"],[0.4444444444444444,\"#bd3786\"],[0.5555555555555556,\"#d8576b\"],[0.6666666666666666,\"#ed7953\"],[0.7777777777777778,\"#fb9f3a\"],[0.8888888888888888,\"#fdca26\"],[1.0,\"#f0f921\"]],\"type\":\"heatmapgl\"}],\"heatmap\":[{\"colorbar\":{\"outlinewidth\":0,\"ticks\":\"\"},\"colorscale\":[[0.0,\"#0d0887\"],[0.1111111111111111,\"#46039f\"],[0.2222222222222222,\"#7201a8\"],[0.3333333333333333,\"#9c179e\"],[0.4444444444444444,\"#bd3786\"],[0.5555555555555556,\"#d8576b\"],[0.6666666666666666,\"#ed7953\"],[0.7777777777777778,\"#fb9f3a\"],[0.8888888888888888,\"#fdca26\"],[1.0,\"#f0f921\"]],\"type\":\"heatmap\"}],\"histogram2dcontour\":[{\"colorbar\":{\"outlinewidth\":0,\"ticks\":\"\"},\"colorscale\":[[0.0,\"#0d0887\"],[0.1111111111111111,\"#46039f\"],[0.2222222222222222,\"#7201a8\"],[0.3333333333333333,\"#9c179e\"],[0.4444444444444444,\"#bd3786\"],[0.5555555555555556,\"#d8576b\"],[0.6666666666666666,\"#ed7953\"],[0.7777777777777778,\"#fb9f3a\"],[0.8888888888888888,\"#fdca26\"],[1.0,\"#f0f921\"]],\"type\":\"histogram2dcontour\"}],\"histogram2d\":[{\"colorbar\":{\"outlinewidth\":0,\"ticks\":\"\"},\"colorscale\":[[0.0,\"#0d0887\"],[0.1111111111111111,\"#46039f\"],[0.2222222222222222,\"#7201a8\"],[0.3333333333333333,\"#9c179e\"],[0.4444444444444444,\"#bd3786\"],[0.5555555555555556,\"#d8576b\"],[0.6666666666666666,\"#ed7953\"],[0.7777777777777778,\"#fb9f3a\"],[0.8888888888888888,\"#fdca26\"],[1.0,\"#f0f921\"]],\"type\":\"histogram2d\"}],\"histogram\":[{\"marker\":{\"pattern\":{\"fillmode\":\"overlay\",\"size\":10,\"solidity\":0.2}},\"type\":\"histogram\"}],\"mesh3d\":[{\"colorbar\":{\"outlinewidth\":0,\"ticks\":\"\"},\"type\":\"mesh3d\"}],\"parcoords\":[{\"line\":{\"colorbar\":{\"outlinewidth\":0,\"ticks\":\"\"}},\"type\":\"parcoords\"}],\"pie\":[{\"automargin\":true,\"type\":\"pie\"}],\"scatter3d\":[{\"line\":{\"colorbar\":{\"outlinewidth\":0,\"ticks\":\"\"}},\"marker\":{\"colorbar\":{\"outlinewidth\":0,\"ticks\":\"\"}},\"type\":\"scatter3d\"}],\"scattercarpet\":[{\"marker\":{\"colorbar\":{\"outlinewidth\":0,\"ticks\":\"\"}},\"type\":\"scattercarpet\"}],\"scattergeo\":[{\"marker\":{\"colorbar\":{\"outlinewidth\":0,\"ticks\":\"\"}},\"type\":\"scattergeo\"}],\"scattergl\":[{\"marker\":{\"colorbar\":{\"outlinewidth\":0,\"ticks\":\"\"}},\"type\":\"scattergl\"}],\"scattermapbox\":[{\"marker\":{\"colorbar\":{\"outlinewidth\":0,\"ticks\":\"\"}},\"type\":\"scattermapbox\"}],\"scatterpolargl\":[{\"marker\":{\"colorbar\":{\"outlinewidth\":0,\"ticks\":\"\"}},\"type\":\"scatterpolargl\"}],\"scatterpolar\":[{\"marker\":{\"colorbar\":{\"outlinewidth\":0,\"ticks\":\"\"}},\"type\":\"scatterpolar\"}],\"scatter\":[{\"marker\":{\"colorbar\":{\"outlinewidth\":0,\"ticks\":\"\"}},\"type\":\"scatter\"}],\"scatterternary\":[{\"marker\":{\"colorbar\":{\"outlinewidth\":0,\"ticks\":\"\"}},\"type\":\"scatterternary\"}],\"surface\":[{\"colorbar\":{\"outlinewidth\":0,\"ticks\":\"\"},\"colorscale\":[[0.0,\"#0d0887\"],[0.1111111111111111,\"#46039f\"],[0.2222222222222222,\"#7201a8\"],[0.3333333333333333,\"#9c179e\"],[0.4444444444444444,\"#bd3786\"],[0.5555555555555556,\"#d8576b\"],[0.6666666666666666,\"#ed7953\"],[0.7777777777777778,\"#fb9f3a\"],[0.8888888888888888,\"#fdca26\"],[1.0,\"#f0f921\"]],\"type\":\"surface\"}],\"table\":[{\"cells\":{\"fill\":{\"color\":\"#EBF0F8\"},\"line\":{\"color\":\"white\"}},\"header\":{\"fill\":{\"color\":\"#C8D4E3\"},\"line\":{\"color\":\"white\"}},\"type\":\"table\"}]},\"layout\":{\"annotationdefaults\":{\"arrowcolor\":\"#2a3f5f\",\"arrowhead\":0,\"arrowwidth\":1},\"autotypenumbers\":\"strict\",\"coloraxis\":{\"colorbar\":{\"outlinewidth\":0,\"ticks\":\"\"}},\"colorscale\":{\"diverging\":[[0,\"#8e0152\"],[0.1,\"#c51b7d\"],[0.2,\"#de77ae\"],[0.3,\"#f1b6da\"],[0.4,\"#fde0ef\"],[0.5,\"#f7f7f7\"],[0.6,\"#e6f5d0\"],[0.7,\"#b8e186\"],[0.8,\"#7fbc41\"],[0.9,\"#4d9221\"],[1,\"#276419\"]],\"sequential\":[[0.0,\"#0d0887\"],[0.1111111111111111,\"#46039f\"],[0.2222222222222222,\"#7201a8\"],[0.3333333333333333,\"#9c179e\"],[0.4444444444444444,\"#bd3786\"],[0.5555555555555556,\"#d8576b\"],[0.6666666666666666,\"#ed7953\"],[0.7777777777777778,\"#fb9f3a\"],[0.8888888888888888,\"#fdca26\"],[1.0,\"#f0f921\"]],\"sequentialminus\":[[0.0,\"#0d0887\"],[0.1111111111111111,\"#46039f\"],[0.2222222222222222,\"#7201a8\"],[0.3333333333333333,\"#9c179e\"],[0.4444444444444444,\"#bd3786\"],[0.5555555555555556,\"#d8576b\"],[0.6666666666666666,\"#ed7953\"],[0.7777777777777778,\"#fb9f3a\"],[0.8888888888888888,\"#fdca26\"],[1.0,\"#f0f921\"]]},\"colorway\":[\"#636efa\",\"#EF553B\",\"#00cc96\",\"#ab63fa\",\"#FFA15A\",\"#19d3f3\",\"#FF6692\",\"#B6E880\",\"#FF97FF\",\"#FECB52\"],\"font\":{\"color\":\"#2a3f5f\"},\"geo\":{\"bgcolor\":\"white\",\"lakecolor\":\"white\",\"landcolor\":\"#E5ECF6\",\"showlakes\":true,\"showland\":true,\"subunitcolor\":\"white\"},\"hoverlabel\":{\"align\":\"left\"},\"hovermode\":\"closest\",\"mapbox\":{\"style\":\"light\"},\"paper_bgcolor\":\"white\",\"plot_bgcolor\":\"#E5ECF6\",\"polar\":{\"angularaxis\":{\"gridcolor\":\"white\",\"linecolor\":\"white\",\"ticks\":\"\"},\"bgcolor\":\"#E5ECF6\",\"radialaxis\":{\"gridcolor\":\"white\",\"linecolor\":\"white\",\"ticks\":\"\"}},\"scene\":{\"xaxis\":{\"backgroundcolor\":\"#E5ECF6\",\"gridcolor\":\"white\",\"gridwidth\":2,\"linecolor\":\"white\",\"showbackground\":true,\"ticks\":\"\",\"zerolinecolor\":\"white\"},\"yaxis\":{\"backgroundcolor\":\"#E5ECF6\",\"gridcolor\":\"white\",\"gridwidth\":2,\"linecolor\":\"white\",\"showbackground\":true,\"ticks\":\"\",\"zerolinecolor\":\"white\"},\"zaxis\":{\"backgroundcolor\":\"#E5ECF6\",\"gridcolor\":\"white\",\"gridwidth\":2,\"linecolor\":\"white\",\"showbackground\":true,\"ticks\":\"\",\"zerolinecolor\":\"white\"}},\"shapedefaults\":{\"line\":{\"color\":\"#2a3f5f\"}},\"ternary\":{\"aaxis\":{\"gridcolor\":\"white\",\"linecolor\":\"white\",\"ticks\":\"\"},\"baxis\":{\"gridcolor\":\"white\",\"linecolor\":\"white\",\"ticks\":\"\"},\"bgcolor\":\"#E5ECF6\",\"caxis\":{\"gridcolor\":\"white\",\"linecolor\":\"white\",\"ticks\":\"\"}},\"title\":{\"x\":0.05},\"xaxis\":{\"automargin\":true,\"gridcolor\":\"white\",\"linecolor\":\"white\",\"ticks\":\"\",\"title\":{\"standoff\":15},\"zerolinecolor\":\"white\",\"zerolinewidth\":2},\"yaxis\":{\"automargin\":true,\"gridcolor\":\"white\",\"linecolor\":\"white\",\"ticks\":\"\",\"title\":{\"standoff\":15},\"zerolinecolor\":\"white\",\"zerolinewidth\":2}}},\"xaxis\":{\"anchor\":\"y\",\"domain\":[0.0,1.0],\"title\":{\"text\":\"Country\"}},\"yaxis\":{\"anchor\":\"x\",\"domain\":[0.0,1.0],\"title\":{\"text\":\"value\"}}},                        {\"responsive\": true}                    ).then(function(){\n",
       "                            \n",
       "var gd = document.getElementById('3013b4f0-6fd2-4011-8214-cc7ffad2349f');\n",
       "var x = new MutationObserver(function (mutations, observer) {{\n",
       "        var display = window.getComputedStyle(gd).display;\n",
       "        if (!display || display === 'none') {{\n",
       "            console.log([gd, 'removed!']);\n",
       "            Plotly.purge(gd);\n",
       "            observer.disconnect();\n",
       "        }}\n",
       "}});\n",
       "\n",
       "// Listen for the removal of the full notebook cells\n",
       "var notebookContainer = gd.closest('#notebook-container');\n",
       "if (notebookContainer) {{\n",
       "    x.observe(notebookContainer, {childList: true});\n",
       "}}\n",
       "\n",
       "// Listen for the clearing of the current output cell\n",
       "var outputEl = gd.closest('.output');\n",
       "if (outputEl) {{\n",
       "    x.observe(outputEl, {childList: true});\n",
       "}}\n",
       "\n",
       "                        })                };                });            </script>        </div>"
      ]
     },
     "metadata": {},
     "output_type": "display_data"
    }
   ],
   "source": [
    "# Traces\n",
    "traces = px.bar(rvn_country, x=rvn_country.index, y=['CREAM HANGING HEART T-LIGHT HOLDER', 'JUMBO BAG RED RETROSPOT', 'REGENCY CAKESTAND 3 TIER'], barmode='group')\n",
    "\n",
    "# Layout\n",
    "fig['layout'].update(width=1000, height=600, title=' revenue by country for each of the products');\n",
    "\n",
    "# Plot\n",
    "py.iplot(go.Figure(data=traces, layout=layout));"
   ]
  },
  {
   "cell_type": "markdown",
   "metadata": {
    "id": "a59UtlFxNAtG"
   },
   "source": [
    "#### 6. Create an interactive line chart showing quantity sold by day for the United Kingdom. Add drop-down boxes for Year and Month that allow you to filter the date range that appears in the chart."
   ]
  },
  {
   "cell_type": "code",
   "execution_count": 15,
   "metadata": {
    "id": "t1v0acnwNAtH"
   },
   "outputs": [
    {
     "data": {
      "text/html": [
       "<div>\n",
       "<style scoped>\n",
       "    .dataframe tbody tr th:only-of-type {\n",
       "        vertical-align: middle;\n",
       "    }\n",
       "\n",
       "    .dataframe tbody tr th {\n",
       "        vertical-align: top;\n",
       "    }\n",
       "\n",
       "    .dataframe thead th {\n",
       "        text-align: right;\n",
       "    }\n",
       "</style>\n",
       "<table border=\"1\" class=\"dataframe\">\n",
       "  <thead>\n",
       "    <tr style=\"text-align: right;\">\n",
       "      <th></th>\n",
       "      <th>InvoiceNo</th>\n",
       "      <th>InvoiceDate</th>\n",
       "      <th>StockCode</th>\n",
       "      <th>Description</th>\n",
       "      <th>Quantity</th>\n",
       "      <th>UnitPrice</th>\n",
       "      <th>Revenue</th>\n",
       "      <th>CustomerID</th>\n",
       "      <th>Country</th>\n",
       "      <th>Year</th>\n",
       "      <th>Month</th>\n",
       "      <th>Day</th>\n",
       "    </tr>\n",
       "  </thead>\n",
       "  <tbody>\n",
       "    <tr>\n",
       "      <th>0</th>\n",
       "      <td>536365</td>\n",
       "      <td>2010-12-01 08:26:00</td>\n",
       "      <td>85123A</td>\n",
       "      <td>CREAM HANGING HEART T-LIGHT HOLDER</td>\n",
       "      <td>6</td>\n",
       "      <td>2.55</td>\n",
       "      <td>15.30</td>\n",
       "      <td>17850</td>\n",
       "      <td>United Kingdom</td>\n",
       "      <td>2010</td>\n",
       "      <td>12</td>\n",
       "      <td>1</td>\n",
       "    </tr>\n",
       "    <tr>\n",
       "      <th>1</th>\n",
       "      <td>536373</td>\n",
       "      <td>2010-12-01 09:02:00</td>\n",
       "      <td>85123A</td>\n",
       "      <td>CREAM HANGING HEART T-LIGHT HOLDER</td>\n",
       "      <td>6</td>\n",
       "      <td>2.55</td>\n",
       "      <td>15.30</td>\n",
       "      <td>17850</td>\n",
       "      <td>United Kingdom</td>\n",
       "      <td>2010</td>\n",
       "      <td>12</td>\n",
       "      <td>1</td>\n",
       "    </tr>\n",
       "    <tr>\n",
       "      <th>2</th>\n",
       "      <td>536375</td>\n",
       "      <td>2010-12-01 09:32:00</td>\n",
       "      <td>85123A</td>\n",
       "      <td>CREAM HANGING HEART T-LIGHT HOLDER</td>\n",
       "      <td>6</td>\n",
       "      <td>2.55</td>\n",
       "      <td>15.30</td>\n",
       "      <td>17850</td>\n",
       "      <td>United Kingdom</td>\n",
       "      <td>2010</td>\n",
       "      <td>12</td>\n",
       "      <td>1</td>\n",
       "    </tr>\n",
       "    <tr>\n",
       "      <th>3</th>\n",
       "      <td>536390</td>\n",
       "      <td>2010-12-01 10:19:00</td>\n",
       "      <td>85123A</td>\n",
       "      <td>CREAM HANGING HEART T-LIGHT HOLDER</td>\n",
       "      <td>64</td>\n",
       "      <td>2.55</td>\n",
       "      <td>163.20</td>\n",
       "      <td>17511</td>\n",
       "      <td>United Kingdom</td>\n",
       "      <td>2010</td>\n",
       "      <td>12</td>\n",
       "      <td>1</td>\n",
       "    </tr>\n",
       "    <tr>\n",
       "      <th>4</th>\n",
       "      <td>536394</td>\n",
       "      <td>2010-12-01 10:39:00</td>\n",
       "      <td>85123A</td>\n",
       "      <td>CREAM HANGING HEART T-LIGHT HOLDER</td>\n",
       "      <td>32</td>\n",
       "      <td>2.55</td>\n",
       "      <td>81.60</td>\n",
       "      <td>13408</td>\n",
       "      <td>United Kingdom</td>\n",
       "      <td>2010</td>\n",
       "      <td>12</td>\n",
       "      <td>1</td>\n",
       "    </tr>\n",
       "    <tr>\n",
       "      <th>...</th>\n",
       "      <td>...</td>\n",
       "      <td>...</td>\n",
       "      <td>...</td>\n",
       "      <td>...</td>\n",
       "      <td>...</td>\n",
       "      <td>...</td>\n",
       "      <td>...</td>\n",
       "      <td>...</td>\n",
       "      <td>...</td>\n",
       "      <td>...</td>\n",
       "      <td>...</td>\n",
       "      <td>...</td>\n",
       "    </tr>\n",
       "    <tr>\n",
       "      <th>396029</th>\n",
       "      <td>580691</td>\n",
       "      <td>2011-12-05 15:48:00</td>\n",
       "      <td>90214W</td>\n",
       "      <td>LETTER \"W\" BLING KEY RING</td>\n",
       "      <td>12</td>\n",
       "      <td>0.29</td>\n",
       "      <td>3.48</td>\n",
       "      <td>13790</td>\n",
       "      <td>United Kingdom</td>\n",
       "      <td>2011</td>\n",
       "      <td>12</td>\n",
       "      <td>5</td>\n",
       "    </tr>\n",
       "    <tr>\n",
       "      <th>396030</th>\n",
       "      <td>580691</td>\n",
       "      <td>2011-12-05 15:48:00</td>\n",
       "      <td>90214Z</td>\n",
       "      <td>LETTER \"Z\" BLING KEY RING</td>\n",
       "      <td>12</td>\n",
       "      <td>0.29</td>\n",
       "      <td>3.48</td>\n",
       "      <td>13790</td>\n",
       "      <td>United Kingdom</td>\n",
       "      <td>2011</td>\n",
       "      <td>12</td>\n",
       "      <td>5</td>\n",
       "    </tr>\n",
       "    <tr>\n",
       "      <th>396031</th>\n",
       "      <td>580865</td>\n",
       "      <td>2011-12-06 11:58:00</td>\n",
       "      <td>90089</td>\n",
       "      <td>PINK CRYSTAL SKULL PHONE CHARM</td>\n",
       "      <td>12</td>\n",
       "      <td>0.19</td>\n",
       "      <td>2.28</td>\n",
       "      <td>17914</td>\n",
       "      <td>United Kingdom</td>\n",
       "      <td>2011</td>\n",
       "      <td>12</td>\n",
       "      <td>6</td>\n",
       "    </tr>\n",
       "    <tr>\n",
       "      <th>396032</th>\n",
       "      <td>580865</td>\n",
       "      <td>2011-12-06 11:58:00</td>\n",
       "      <td>90089</td>\n",
       "      <td>PINK CRYSTAL SKULL PHONE CHARM</td>\n",
       "      <td>12</td>\n",
       "      <td>0.19</td>\n",
       "      <td>2.28</td>\n",
       "      <td>17914</td>\n",
       "      <td>United Kingdom</td>\n",
       "      <td>2011</td>\n",
       "      <td>12</td>\n",
       "      <td>6</td>\n",
       "    </tr>\n",
       "    <tr>\n",
       "      <th>396033</th>\n",
       "      <td>581425</td>\n",
       "      <td>2011-12-08 15:31:00</td>\n",
       "      <td>90089</td>\n",
       "      <td>PINK CRYSTAL SKULL PHONE CHARM</td>\n",
       "      <td>1</td>\n",
       "      <td>0.19</td>\n",
       "      <td>0.19</td>\n",
       "      <td>14796</td>\n",
       "      <td>United Kingdom</td>\n",
       "      <td>2011</td>\n",
       "      <td>12</td>\n",
       "      <td>8</td>\n",
       "    </tr>\n",
       "  </tbody>\n",
       "</table>\n",
       "<p>353983 rows × 12 columns</p>\n",
       "</div>"
      ],
      "text/plain": [
       "        InvoiceNo         InvoiceDate StockCode  \\\n",
       "0          536365 2010-12-01 08:26:00    85123A   \n",
       "1          536373 2010-12-01 09:02:00    85123A   \n",
       "2          536375 2010-12-01 09:32:00    85123A   \n",
       "3          536390 2010-12-01 10:19:00    85123A   \n",
       "4          536394 2010-12-01 10:39:00    85123A   \n",
       "...           ...                 ...       ...   \n",
       "396029     580691 2011-12-05 15:48:00    90214W   \n",
       "396030     580691 2011-12-05 15:48:00    90214Z   \n",
       "396031     580865 2011-12-06 11:58:00     90089   \n",
       "396032     580865 2011-12-06 11:58:00     90089   \n",
       "396033     581425 2011-12-08 15:31:00     90089   \n",
       "\n",
       "                               Description  Quantity  UnitPrice  Revenue  \\\n",
       "0       CREAM HANGING HEART T-LIGHT HOLDER         6       2.55    15.30   \n",
       "1       CREAM HANGING HEART T-LIGHT HOLDER         6       2.55    15.30   \n",
       "2       CREAM HANGING HEART T-LIGHT HOLDER         6       2.55    15.30   \n",
       "3       CREAM HANGING HEART T-LIGHT HOLDER        64       2.55   163.20   \n",
       "4       CREAM HANGING HEART T-LIGHT HOLDER        32       2.55    81.60   \n",
       "...                                    ...       ...        ...      ...   \n",
       "396029           LETTER \"W\" BLING KEY RING        12       0.29     3.48   \n",
       "396030           LETTER \"Z\" BLING KEY RING        12       0.29     3.48   \n",
       "396031      PINK CRYSTAL SKULL PHONE CHARM        12       0.19     2.28   \n",
       "396032      PINK CRYSTAL SKULL PHONE CHARM        12       0.19     2.28   \n",
       "396033      PINK CRYSTAL SKULL PHONE CHARM         1       0.19     0.19   \n",
       "\n",
       "        CustomerID         Country  Year  Month  Day  \n",
       "0            17850  United Kingdom  2010     12    1  \n",
       "1            17850  United Kingdom  2010     12    1  \n",
       "2            17850  United Kingdom  2010     12    1  \n",
       "3            17511  United Kingdom  2010     12    1  \n",
       "4            13408  United Kingdom  2010     12    1  \n",
       "...            ...             ...   ...    ...  ...  \n",
       "396029       13790  United Kingdom  2011     12    5  \n",
       "396030       13790  United Kingdom  2011     12    5  \n",
       "396031       17914  United Kingdom  2011     12    6  \n",
       "396032       17914  United Kingdom  2011     12    6  \n",
       "396033       14796  United Kingdom  2011     12    8  \n",
       "\n",
       "[353983 rows x 12 columns]"
      ]
     },
     "execution_count": 15,
     "metadata": {},
     "output_type": "execute_result"
    }
   ],
   "source": [
    "# Transform the data\n",
    "data['Year'] = pd.DatetimeIndex(data['InvoiceDate']).year;\n",
    "data['Month'] = pd.DatetimeIndex(data['InvoiceDate']).month;\n",
    "data['Day'] = pd.DatetimeIndex(data['InvoiceDate']).day;\n",
    "uk = data[data['Country']=='United Kingdom'];\n",
    "uk"
   ]
  },
  {
   "cell_type": "code",
   "execution_count": 16,
   "metadata": {
    "id": "84QsN0n3NAtH"
   },
   "outputs": [],
   "source": [
    "# Variables\n",
    "years = uk['Year'].unique();\n",
    "months = uk['Month'].unique();\n",
    "months.sort();"
   ]
  },
  {
   "cell_type": "code",
   "execution_count": 17,
   "metadata": {
    "colab": {
     "referenced_widgets": [
      "32df48c1d431443bb2f121f23202ae9b"
     ]
    },
    "id": "HKRGdmQ5NAtH",
    "outputId": "86c73a78-39ca-495c-f03d-1925da9c013a"
   },
   "outputs": [
    {
     "data": {
      "application/vnd.jupyter.widget-view+json": {
       "model_id": "4fd9c030e912496e9a5586d8cf8b8e6f",
       "version_major": 2,
       "version_minor": 0
      },
      "text/plain": [
       "interactive(children=(Dropdown(description='year', index=1, options=(2010, 2011), value=2011), Dropdown(descri…"
      ]
     },
     "metadata": {},
     "output_type": "display_data"
    }
   ],
   "source": [
    "# Interactive menu\n",
    "@interact(year=years, \n",
    "          month=months)\n",
    "\n",
    "# Update function\n",
    "def linechart(year=2011, month=4):\n",
    "    # Transform the data\n",
    "    to_plot=uk[(uk['Year']==year)&(uk['Month']==month)]\n",
    "    to_plot=to_plot[[\"Quantity\",\"Day\"]].groupby(\"Day\",as_index=False).agg('sum')\n",
    "    \n",
    "    fig = px.line(to_plot, x=\"Day\", y=\"Quantity\", title=\"quantity sold by day for the United Kingdom\")\n",
    "    fig.show() "
   ]
  },
  {
   "cell_type": "markdown",
   "metadata": {
    "id": "QfXfw8NCNAtH"
   },
   "source": [
    "#### 7. Create an interactive scatter plot that plots number of invoices (x-axis) vs. number of customers (y-axis) and the plot points represent individual products. Add two sliders that control the x and y axis ranges."
   ]
  },
  {
   "cell_type": "code",
   "execution_count": 18,
   "metadata": {
    "id": "0rt8_YlKNAtI"
   },
   "outputs": [
    {
     "data": {
      "text/html": [
       "<div>\n",
       "<style scoped>\n",
       "    .dataframe tbody tr th:only-of-type {\n",
       "        vertical-align: middle;\n",
       "    }\n",
       "\n",
       "    .dataframe tbody tr th {\n",
       "        vertical-align: top;\n",
       "    }\n",
       "\n",
       "    .dataframe thead th {\n",
       "        text-align: right;\n",
       "    }\n",
       "</style>\n",
       "<table border=\"1\" class=\"dataframe\">\n",
       "  <thead>\n",
       "    <tr style=\"text-align: right;\">\n",
       "      <th></th>\n",
       "      <th>InvoiceNo</th>\n",
       "      <th>Quantity</th>\n",
       "      <th>UnitPrice</th>\n",
       "      <th>Revenue</th>\n",
       "      <th>CustomerID</th>\n",
       "    </tr>\n",
       "    <tr>\n",
       "      <th>Description</th>\n",
       "      <th></th>\n",
       "      <th></th>\n",
       "      <th></th>\n",
       "      <th></th>\n",
       "      <th></th>\n",
       "    </tr>\n",
       "  </thead>\n",
       "  <tbody>\n",
       "    <tr>\n",
       "      <th>4 PURPLE FLOCK DINNER CANDLES</th>\n",
       "      <td>36</td>\n",
       "      <td>140</td>\n",
       "      <td>2.324359</td>\n",
       "      <td>270.76</td>\n",
       "      <td>31</td>\n",
       "    </tr>\n",
       "    <tr>\n",
       "      <th>50'S CHRISTMAS GIFT BAG LARGE</th>\n",
       "      <td>111</td>\n",
       "      <td>1909</td>\n",
       "      <td>1.248108</td>\n",
       "      <td>2302.25</td>\n",
       "      <td>108</td>\n",
       "    </tr>\n",
       "    <tr>\n",
       "      <th>DOLLY GIRL BEAKER</th>\n",
       "      <td>133</td>\n",
       "      <td>2398</td>\n",
       "      <td>1.243841</td>\n",
       "      <td>2759.50</td>\n",
       "      <td>100</td>\n",
       "    </tr>\n",
       "    <tr>\n",
       "      <th>I LOVE LONDON MINI BACKPACK</th>\n",
       "      <td>69</td>\n",
       "      <td>361</td>\n",
       "      <td>4.138732</td>\n",
       "      <td>1458.15</td>\n",
       "      <td>58</td>\n",
       "    </tr>\n",
       "    <tr>\n",
       "      <th>NINE DRAWER OFFICE TIDY</th>\n",
       "      <td>30</td>\n",
       "      <td>55</td>\n",
       "      <td>14.791935</td>\n",
       "      <td>792.85</td>\n",
       "      <td>29</td>\n",
       "    </tr>\n",
       "    <tr>\n",
       "      <th>...</th>\n",
       "      <td>...</td>\n",
       "      <td>...</td>\n",
       "      <td>...</td>\n",
       "      <td>...</td>\n",
       "      <td>...</td>\n",
       "    </tr>\n",
       "    <tr>\n",
       "      <th>ZINC T-LIGHT HOLDER STARS SMALL</th>\n",
       "      <td>237</td>\n",
       "      <td>4894</td>\n",
       "      <td>0.836975</td>\n",
       "      <td>3879.98</td>\n",
       "      <td>180</td>\n",
       "    </tr>\n",
       "    <tr>\n",
       "      <th>ZINC TOP  2 DOOR WOODEN SHELF</th>\n",
       "      <td>9</td>\n",
       "      <td>10</td>\n",
       "      <td>16.950000</td>\n",
       "      <td>169.50</td>\n",
       "      <td>9</td>\n",
       "    </tr>\n",
       "    <tr>\n",
       "      <th>ZINC WILLIE WINKIE  CANDLE STICK</th>\n",
       "      <td>188</td>\n",
       "      <td>2607</td>\n",
       "      <td>0.872344</td>\n",
       "      <td>2176.95</td>\n",
       "      <td>137</td>\n",
       "    </tr>\n",
       "    <tr>\n",
       "      <th>ZINC WIRE KITCHEN ORGANISER</th>\n",
       "      <td>12</td>\n",
       "      <td>25</td>\n",
       "      <td>7.175000</td>\n",
       "      <td>156.80</td>\n",
       "      <td>12</td>\n",
       "    </tr>\n",
       "    <tr>\n",
       "      <th>ZINC WIRE SWEETHEART LETTER TRAY</th>\n",
       "      <td>20</td>\n",
       "      <td>80</td>\n",
       "      <td>3.454000</td>\n",
       "      <td>253.24</td>\n",
       "      <td>18</td>\n",
       "    </tr>\n",
       "  </tbody>\n",
       "</table>\n",
       "<p>3640 rows × 5 columns</p>\n",
       "</div>"
      ],
      "text/plain": [
       "                                  InvoiceNo  Quantity  UnitPrice  Revenue  \\\n",
       "Description                                                                 \n",
       " 4 PURPLE FLOCK DINNER CANDLES           36       140   2.324359   270.76   \n",
       " 50'S CHRISTMAS GIFT BAG LARGE          111      1909   1.248108  2302.25   \n",
       " DOLLY GIRL BEAKER                      133      2398   1.243841  2759.50   \n",
       " I LOVE LONDON MINI BACKPACK             69       361   4.138732  1458.15   \n",
       " NINE DRAWER OFFICE TIDY                 30        55  14.791935   792.85   \n",
       "...                                     ...       ...        ...      ...   \n",
       "ZINC T-LIGHT HOLDER STARS SMALL         237      4894   0.836975  3879.98   \n",
       "ZINC TOP  2 DOOR WOODEN SHELF             9        10  16.950000   169.50   \n",
       "ZINC WILLIE WINKIE  CANDLE STICK        188      2607   0.872344  2176.95   \n",
       "ZINC WIRE KITCHEN ORGANISER              12        25   7.175000   156.80   \n",
       "ZINC WIRE SWEETHEART LETTER TRAY         20        80   3.454000   253.24   \n",
       "\n",
       "                                  CustomerID  \n",
       "Description                                   \n",
       " 4 PURPLE FLOCK DINNER CANDLES            31  \n",
       " 50'S CHRISTMAS GIFT BAG LARGE           108  \n",
       " DOLLY GIRL BEAKER                       100  \n",
       " I LOVE LONDON MINI BACKPACK              58  \n",
       " NINE DRAWER OFFICE TIDY                  29  \n",
       "...                                      ...  \n",
       "ZINC T-LIGHT HOLDER STARS SMALL          180  \n",
       "ZINC TOP  2 DOOR WOODEN SHELF              9  \n",
       "ZINC WILLIE WINKIE  CANDLE STICK         137  \n",
       "ZINC WIRE KITCHEN ORGANISER               12  \n",
       "ZINC WIRE SWEETHEART LETTER TRAY          18  \n",
       "\n",
       "[3640 rows x 5 columns]"
      ]
     },
     "execution_count": 18,
     "metadata": {},
     "output_type": "execute_result"
    }
   ],
   "source": [
    "# Transform the data\n",
    "agg_func = {'InvoiceNo':'nunique',\n",
    "            'Quantity':'sum',\n",
    "            'UnitPrice':'mean',\n",
    "            'Revenue':'sum',\n",
    "            'CustomerID':'nunique'}\n",
    "\n",
    "products = data.groupby('Description').agg(agg_func)\n",
    "products"
   ]
  },
  {
   "cell_type": "code",
   "execution_count": 19,
   "metadata": {
    "colab": {
     "referenced_widgets": [
      "66bba1a9a1d14afd896f17a6dd5c8e8b"
     ]
    },
    "id": "OZyt32ZQNAtI",
    "outputId": "e15c1047-c766-420a-e4b5-d0f368d21f62"
   },
   "outputs": [
    {
     "data": {
      "application/vnd.jupyter.widget-view+json": {
       "model_id": "8cbe19d0238d4cf483cd3feb4095712f",
       "version_major": 2,
       "version_minor": 0
      },
      "text/plain": [
       "interactive(children=(IntSlider(value=1, description='invoices', max=1978, min=1, step=10), IntSlider(value=1,…"
      ]
     },
     "metadata": {},
     "output_type": "display_data"
    }
   ],
   "source": [
    "# Interactive menu\n",
    "@interact(invoices=(products['InvoiceNo'].min(), products['InvoiceNo'].max(), 10), \n",
    "          customers=(products['CustomerID'].min(), products['CustomerID'].max(), 10))\n",
    "\n",
    "# Update function\n",
    "def scatter(invoices=1, customers=1):\n",
    "    # Transform the data\n",
    "    to_plot = products[(products[\"InvoiceNo\"] < invoices) & (products[\"CustomerID\"] < customers)]\n",
    "    \n",
    "    # Layout \n",
    "    fig=px.scatter(to_plot , x=\"InvoiceNo\", y=\"CustomerID\",title ='Total quantity sold in UK')\n",
    "    \n",
    "    # Plot\n",
    "    fig.show()"
   ]
  },
  {
   "cell_type": "markdown",
   "metadata": {
    "id": "C1Ylpbt2NAtI"
   },
   "source": [
    "#### 8. Create an interactive bar chart that shows revenue by product description. Add a text field widget that filters the results to show the product that contain the text entered in their description."
   ]
  },
  {
   "cell_type": "code",
   "execution_count": 21,
   "metadata": {
    "colab": {
     "referenced_widgets": [
      "c698b7cf4d6b49b3a02f3ec7ca1cd285"
     ]
    },
    "id": "V6p7_KLjNAtI",
    "outputId": "ade748e2-d6fa-4138-94ec-a128d70e57d8"
   },
   "outputs": [
    {
     "data": {
      "application/vnd.jupyter.widget-view+json": {
       "model_id": "01f5c237c8a14d68b62b201ca9c40f96",
       "version_major": 2,
       "version_minor": 0
      },
      "text/plain": [
       "interactive(children=(Text(value='', description='product'), Output()), _dom_classes=('widget-interact',))"
      ]
     },
     "metadata": {},
     "output_type": "display_data"
    }
   ],
   "source": [
    "# Interactive menu\n",
    "@interact(product='')\n",
    "\n",
    "# Update function\n",
    "def chart(product):\n",
    "    # Transform the data\n",
    "    to_plot=data[data['Description']==product]\n",
    "    to_plot=to_plot[['Description',\"Revenue\"]].groupby('Description',as_index=False).agg('sum')\n",
    "\n",
    "    # Layout\n",
    "    fig = px.bar(to_plot, x=\"Description\", y=\"Revenue\", title=\"Revenue by product description\")\n",
    "   \n",
    "    # Plot\n",
    "    fig.show()"
   ]
  },
  {
   "cell_type": "code",
   "execution_count": null,
   "metadata": {},
   "outputs": [],
   "source": []
  }
 ],
 "metadata": {
  "colab": {
   "name": "main.ipynb",
   "provenance": []
  },
  "kernelspec": {
   "display_name": "Python 3 (ipykernel)",
   "language": "python",
   "name": "python3"
  },
  "language_info": {
   "codemirror_mode": {
    "name": "ipython",
    "version": 3
   },
   "file_extension": ".py",
   "mimetype": "text/x-python",
   "name": "python",
   "nbconvert_exporter": "python",
   "pygments_lexer": "ipython3",
   "version": "3.9.7"
  }
 },
 "nbformat": 4,
 "nbformat_minor": 1
}
