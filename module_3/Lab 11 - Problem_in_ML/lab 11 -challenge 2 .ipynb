{
 "cells": [
  {
   "cell_type": "markdown",
   "metadata": {},
   "source": [
    "# Understanding Over & Underfitting\n",
    "## Predicting Boston Housing Prices"
   ]
  },
  {
   "cell_type": "markdown",
   "metadata": {},
   "source": [
    "## Getting Started\n",
    "In this project, you will use the Boston Housing Prices dataset to build several models to predict the prices of homes with particular qualities from the suburbs of Boston, MA.\n",
    "We will build models with several different parameters, which will change the goodness of fit for each. "
   ]
  },
  {
   "cell_type": "markdown",
   "metadata": {},
   "source": [
    "---\n",
    "## Data Exploration\n",
    "Since we want to predict the value of houses, the **target variable**, `'MEDV'`, will be the variable we seek to predict."
   ]
  },
  {
   "cell_type": "markdown",
   "metadata": {},
   "source": [
    "### Import and explore the data. Clean the data for outliers and missing values. "
   ]
  },
  {
   "cell_type": "code",
   "execution_count": 1,
   "metadata": {},
   "outputs": [
    {
     "data": {
      "text/html": [
       "<div>\n",
       "<style scoped>\n",
       "    .dataframe tbody tr th:only-of-type {\n",
       "        vertical-align: middle;\n",
       "    }\n",
       "\n",
       "    .dataframe tbody tr th {\n",
       "        vertical-align: top;\n",
       "    }\n",
       "\n",
       "    .dataframe thead th {\n",
       "        text-align: right;\n",
       "    }\n",
       "</style>\n",
       "<table border=\"1\" class=\"dataframe\">\n",
       "  <thead>\n",
       "    <tr style=\"text-align: right;\">\n",
       "      <th></th>\n",
       "      <th>crim</th>\n",
       "      <th>zn</th>\n",
       "      <th>indus</th>\n",
       "      <th>chas</th>\n",
       "      <th>nox</th>\n",
       "      <th>rm</th>\n",
       "      <th>age</th>\n",
       "      <th>dis</th>\n",
       "      <th>rad</th>\n",
       "      <th>tax</th>\n",
       "      <th>ptratio</th>\n",
       "      <th>black</th>\n",
       "      <th>lstat</th>\n",
       "      <th>medv</th>\n",
       "    </tr>\n",
       "  </thead>\n",
       "  <tbody>\n",
       "    <tr>\n",
       "      <th>0</th>\n",
       "      <td>0.15876</td>\n",
       "      <td>0.0</td>\n",
       "      <td>10.81</td>\n",
       "      <td>0.0</td>\n",
       "      <td>0.413</td>\n",
       "      <td>5.961</td>\n",
       "      <td>17.5</td>\n",
       "      <td>5.2873</td>\n",
       "      <td>4.0</td>\n",
       "      <td>305.0</td>\n",
       "      <td>19.2</td>\n",
       "      <td>376.94</td>\n",
       "      <td>9.88</td>\n",
       "      <td>21.7</td>\n",
       "    </tr>\n",
       "    <tr>\n",
       "      <th>1</th>\n",
       "      <td>0.10328</td>\n",
       "      <td>25.0</td>\n",
       "      <td>5.13</td>\n",
       "      <td>0.0</td>\n",
       "      <td>0.453</td>\n",
       "      <td>5.927</td>\n",
       "      <td>47.2</td>\n",
       "      <td>6.9320</td>\n",
       "      <td>8.0</td>\n",
       "      <td>284.0</td>\n",
       "      <td>19.7</td>\n",
       "      <td>396.90</td>\n",
       "      <td>9.22</td>\n",
       "      <td>19.6</td>\n",
       "    </tr>\n",
       "    <tr>\n",
       "      <th>2</th>\n",
       "      <td>0.34940</td>\n",
       "      <td>0.0</td>\n",
       "      <td>9.90</td>\n",
       "      <td>0.0</td>\n",
       "      <td>0.544</td>\n",
       "      <td>5.972</td>\n",
       "      <td>76.7</td>\n",
       "      <td>3.1025</td>\n",
       "      <td>4.0</td>\n",
       "      <td>304.0</td>\n",
       "      <td>18.4</td>\n",
       "      <td>396.24</td>\n",
       "      <td>9.97</td>\n",
       "      <td>20.3</td>\n",
       "    </tr>\n",
       "    <tr>\n",
       "      <th>3</th>\n",
       "      <td>2.73397</td>\n",
       "      <td>0.0</td>\n",
       "      <td>19.58</td>\n",
       "      <td>0.0</td>\n",
       "      <td>0.871</td>\n",
       "      <td>5.597</td>\n",
       "      <td>94.9</td>\n",
       "      <td>1.5257</td>\n",
       "      <td>5.0</td>\n",
       "      <td>403.0</td>\n",
       "      <td>14.7</td>\n",
       "      <td>351.85</td>\n",
       "      <td>21.45</td>\n",
       "      <td>15.4</td>\n",
       "    </tr>\n",
       "    <tr>\n",
       "      <th>4</th>\n",
       "      <td>0.04337</td>\n",
       "      <td>21.0</td>\n",
       "      <td>5.64</td>\n",
       "      <td>0.0</td>\n",
       "      <td>0.439</td>\n",
       "      <td>6.115</td>\n",
       "      <td>63.0</td>\n",
       "      <td>6.8147</td>\n",
       "      <td>4.0</td>\n",
       "      <td>243.0</td>\n",
       "      <td>16.8</td>\n",
       "      <td>393.97</td>\n",
       "      <td>9.43</td>\n",
       "      <td>20.5</td>\n",
       "    </tr>\n",
       "    <tr>\n",
       "      <th>...</th>\n",
       "      <td>...</td>\n",
       "      <td>...</td>\n",
       "      <td>...</td>\n",
       "      <td>...</td>\n",
       "      <td>...</td>\n",
       "      <td>...</td>\n",
       "      <td>...</td>\n",
       "      <td>...</td>\n",
       "      <td>...</td>\n",
       "      <td>...</td>\n",
       "      <td>...</td>\n",
       "      <td>...</td>\n",
       "      <td>...</td>\n",
       "      <td>...</td>\n",
       "    </tr>\n",
       "    <tr>\n",
       "      <th>399</th>\n",
       "      <td>9.32909</td>\n",
       "      <td>0.0</td>\n",
       "      <td>18.10</td>\n",
       "      <td>0.0</td>\n",
       "      <td>0.713</td>\n",
       "      <td>6.185</td>\n",
       "      <td>98.7</td>\n",
       "      <td>2.2616</td>\n",
       "      <td>24.0</td>\n",
       "      <td>666.0</td>\n",
       "      <td>20.2</td>\n",
       "      <td>396.90</td>\n",
       "      <td>18.13</td>\n",
       "      <td>14.1</td>\n",
       "    </tr>\n",
       "    <tr>\n",
       "      <th>400</th>\n",
       "      <td>51.13580</td>\n",
       "      <td>0.0</td>\n",
       "      <td>18.10</td>\n",
       "      <td>0.0</td>\n",
       "      <td>0.597</td>\n",
       "      <td>5.757</td>\n",
       "      <td>100.0</td>\n",
       "      <td>1.4130</td>\n",
       "      <td>24.0</td>\n",
       "      <td>666.0</td>\n",
       "      <td>20.2</td>\n",
       "      <td>2.60</td>\n",
       "      <td>10.11</td>\n",
       "      <td>15.0</td>\n",
       "    </tr>\n",
       "    <tr>\n",
       "      <th>401</th>\n",
       "      <td>0.01501</td>\n",
       "      <td>90.0</td>\n",
       "      <td>1.21</td>\n",
       "      <td>1.0</td>\n",
       "      <td>0.401</td>\n",
       "      <td>7.923</td>\n",
       "      <td>24.8</td>\n",
       "      <td>5.8850</td>\n",
       "      <td>1.0</td>\n",
       "      <td>198.0</td>\n",
       "      <td>13.6</td>\n",
       "      <td>395.52</td>\n",
       "      <td>3.16</td>\n",
       "      <td>50.0</td>\n",
       "    </tr>\n",
       "    <tr>\n",
       "      <th>402</th>\n",
       "      <td>0.02055</td>\n",
       "      <td>85.0</td>\n",
       "      <td>0.74</td>\n",
       "      <td>0.0</td>\n",
       "      <td>0.410</td>\n",
       "      <td>6.383</td>\n",
       "      <td>35.7</td>\n",
       "      <td>9.1876</td>\n",
       "      <td>2.0</td>\n",
       "      <td>313.0</td>\n",
       "      <td>17.3</td>\n",
       "      <td>396.90</td>\n",
       "      <td>5.77</td>\n",
       "      <td>24.7</td>\n",
       "    </tr>\n",
       "    <tr>\n",
       "      <th>403</th>\n",
       "      <td>0.08244</td>\n",
       "      <td>30.0</td>\n",
       "      <td>4.93</td>\n",
       "      <td>0.0</td>\n",
       "      <td>0.428</td>\n",
       "      <td>6.481</td>\n",
       "      <td>18.5</td>\n",
       "      <td>6.1899</td>\n",
       "      <td>6.0</td>\n",
       "      <td>300.0</td>\n",
       "      <td>16.6</td>\n",
       "      <td>379.41</td>\n",
       "      <td>6.36</td>\n",
       "      <td>23.7</td>\n",
       "    </tr>\n",
       "  </tbody>\n",
       "</table>\n",
       "<p>404 rows × 14 columns</p>\n",
       "</div>"
      ],
      "text/plain": [
       "         crim    zn  indus  chas    nox     rm    age     dis   rad    tax  \\\n",
       "0     0.15876   0.0  10.81   0.0  0.413  5.961   17.5  5.2873   4.0  305.0   \n",
       "1     0.10328  25.0   5.13   0.0  0.453  5.927   47.2  6.9320   8.0  284.0   \n",
       "2     0.34940   0.0   9.90   0.0  0.544  5.972   76.7  3.1025   4.0  304.0   \n",
       "3     2.73397   0.0  19.58   0.0  0.871  5.597   94.9  1.5257   5.0  403.0   \n",
       "4     0.04337  21.0   5.64   0.0  0.439  6.115   63.0  6.8147   4.0  243.0   \n",
       "..        ...   ...    ...   ...    ...    ...    ...     ...   ...    ...   \n",
       "399   9.32909   0.0  18.10   0.0  0.713  6.185   98.7  2.2616  24.0  666.0   \n",
       "400  51.13580   0.0  18.10   0.0  0.597  5.757  100.0  1.4130  24.0  666.0   \n",
       "401   0.01501  90.0   1.21   1.0  0.401  7.923   24.8  5.8850   1.0  198.0   \n",
       "402   0.02055  85.0   0.74   0.0  0.410  6.383   35.7  9.1876   2.0  313.0   \n",
       "403   0.08244  30.0   4.93   0.0  0.428  6.481   18.5  6.1899   6.0  300.0   \n",
       "\n",
       "     ptratio   black  lstat  medv  \n",
       "0       19.2  376.94   9.88  21.7  \n",
       "1       19.7  396.90   9.22  19.6  \n",
       "2       18.4  396.24   9.97  20.3  \n",
       "3       14.7  351.85  21.45  15.4  \n",
       "4       16.8  393.97   9.43  20.5  \n",
       "..       ...     ...    ...   ...  \n",
       "399     20.2  396.90  18.13  14.1  \n",
       "400     20.2    2.60  10.11  15.0  \n",
       "401     13.6  395.52   3.16  50.0  \n",
       "402     17.3  396.90   5.77  24.7  \n",
       "403     16.6  379.41   6.36  23.7  \n",
       "\n",
       "[404 rows x 14 columns]"
      ]
     },
     "execution_count": 1,
     "metadata": {},
     "output_type": "execute_result"
    }
   ],
   "source": [
    "# Your code here\n",
    "import pandas as pd\n",
    "import numpy as np\n",
    "import seaborn as sns\n",
    "import matplotlib.pyplot as plt\n",
    "\n",
    "data=pd.read_csv('/Users/dehilinesma/Downloads/boston_data.csv')\n",
    "data"
   ]
  },
  {
   "cell_type": "markdown",
   "metadata": {},
   "source": [
    "### Next, we want to explore the data. Pick several varibables you think will be ost correlated with the prices of homes in Boston, and create plots that show the data dispersion as well as the regression line of best fit."
   ]
  },
  {
   "cell_type": "code",
   "execution_count": 2,
   "metadata": {},
   "outputs": [
    {
     "data": {
      "text/html": [
       "<div>\n",
       "<style scoped>\n",
       "    .dataframe tbody tr th:only-of-type {\n",
       "        vertical-align: middle;\n",
       "    }\n",
       "\n",
       "    .dataframe tbody tr th {\n",
       "        vertical-align: top;\n",
       "    }\n",
       "\n",
       "    .dataframe thead th {\n",
       "        text-align: right;\n",
       "    }\n",
       "</style>\n",
       "<table border=\"1\" class=\"dataframe\">\n",
       "  <thead>\n",
       "    <tr style=\"text-align: right;\">\n",
       "      <th></th>\n",
       "      <th>crim</th>\n",
       "      <th>zn</th>\n",
       "      <th>indus</th>\n",
       "      <th>chas</th>\n",
       "      <th>nox</th>\n",
       "      <th>rm</th>\n",
       "      <th>age</th>\n",
       "      <th>dis</th>\n",
       "      <th>rad</th>\n",
       "      <th>tax</th>\n",
       "      <th>ptratio</th>\n",
       "      <th>black</th>\n",
       "      <th>lstat</th>\n",
       "      <th>medv</th>\n",
       "    </tr>\n",
       "  </thead>\n",
       "  <tbody>\n",
       "    <tr>\n",
       "      <th>crim</th>\n",
       "      <td>1.000000</td>\n",
       "      <td>-0.194770</td>\n",
       "      <td>0.404249</td>\n",
       "      <td>-0.060688</td>\n",
       "      <td>0.405290</td>\n",
       "      <td>-0.172226</td>\n",
       "      <td>0.349288</td>\n",
       "      <td>-0.376493</td>\n",
       "      <td>0.603044</td>\n",
       "      <td>0.565047</td>\n",
       "      <td>0.292092</td>\n",
       "      <td>-0.377436</td>\n",
       "      <td>0.428940</td>\n",
       "      <td>-0.400956</td>\n",
       "    </tr>\n",
       "    <tr>\n",
       "      <th>zn</th>\n",
       "      <td>-0.194770</td>\n",
       "      <td>1.000000</td>\n",
       "      <td>-0.532268</td>\n",
       "      <td>-0.037290</td>\n",
       "      <td>-0.497114</td>\n",
       "      <td>0.302404</td>\n",
       "      <td>-0.546587</td>\n",
       "      <td>0.659018</td>\n",
       "      <td>-0.311313</td>\n",
       "      <td>-0.289332</td>\n",
       "      <td>-0.371315</td>\n",
       "      <td>0.176350</td>\n",
       "      <td>-0.412075</td>\n",
       "      <td>0.355608</td>\n",
       "    </tr>\n",
       "    <tr>\n",
       "      <th>indus</th>\n",
       "      <td>0.404249</td>\n",
       "      <td>-0.532268</td>\n",
       "      <td>1.000000</td>\n",
       "      <td>0.059928</td>\n",
       "      <td>0.760913</td>\n",
       "      <td>-0.353589</td>\n",
       "      <td>0.630048</td>\n",
       "      <td>-0.702583</td>\n",
       "      <td>0.616375</td>\n",
       "      <td>0.722828</td>\n",
       "      <td>0.356549</td>\n",
       "      <td>-0.378189</td>\n",
       "      <td>0.608309</td>\n",
       "      <td>-0.501698</td>\n",
       "    </tr>\n",
       "    <tr>\n",
       "      <th>chas</th>\n",
       "      <td>-0.060688</td>\n",
       "      <td>-0.037290</td>\n",
       "      <td>0.059928</td>\n",
       "      <td>1.000000</td>\n",
       "      <td>0.100650</td>\n",
       "      <td>0.090146</td>\n",
       "      <td>0.084852</td>\n",
       "      <td>-0.103124</td>\n",
       "      <td>-0.022561</td>\n",
       "      <td>-0.043708</td>\n",
       "      <td>-0.121835</td>\n",
       "      <td>0.042580</td>\n",
       "      <td>-0.041061</td>\n",
       "      <td>0.141400</td>\n",
       "    </tr>\n",
       "    <tr>\n",
       "      <th>nox</th>\n",
       "      <td>0.405290</td>\n",
       "      <td>-0.497114</td>\n",
       "      <td>0.760913</td>\n",
       "      <td>0.100650</td>\n",
       "      <td>1.000000</td>\n",
       "      <td>-0.266114</td>\n",
       "      <td>0.728882</td>\n",
       "      <td>-0.762469</td>\n",
       "      <td>0.612115</td>\n",
       "      <td>0.660607</td>\n",
       "      <td>0.166715</td>\n",
       "      <td>-0.393876</td>\n",
       "      <td>0.587573</td>\n",
       "      <td>-0.439225</td>\n",
       "    </tr>\n",
       "    <tr>\n",
       "      <th>rm</th>\n",
       "      <td>-0.172226</td>\n",
       "      <td>0.302404</td>\n",
       "      <td>-0.353589</td>\n",
       "      <td>0.090146</td>\n",
       "      <td>-0.266114</td>\n",
       "      <td>1.000000</td>\n",
       "      <td>-0.210589</td>\n",
       "      <td>0.178700</td>\n",
       "      <td>-0.173222</td>\n",
       "      <td>-0.241733</td>\n",
       "      <td>-0.323330</td>\n",
       "      <td>0.128410</td>\n",
       "      <td>-0.578025</td>\n",
       "      <td>0.683541</td>\n",
       "    </tr>\n",
       "    <tr>\n",
       "      <th>age</th>\n",
       "      <td>0.349288</td>\n",
       "      <td>-0.546587</td>\n",
       "      <td>0.630048</td>\n",
       "      <td>0.084852</td>\n",
       "      <td>0.728882</td>\n",
       "      <td>-0.210589</td>\n",
       "      <td>1.000000</td>\n",
       "      <td>-0.734915</td>\n",
       "      <td>0.467341</td>\n",
       "      <td>0.503830</td>\n",
       "      <td>0.231820</td>\n",
       "      <td>-0.276469</td>\n",
       "      <td>0.602001</td>\n",
       "      <td>-0.390863</td>\n",
       "    </tr>\n",
       "    <tr>\n",
       "      <th>dis</th>\n",
       "      <td>-0.376493</td>\n",
       "      <td>0.659018</td>\n",
       "      <td>-0.702583</td>\n",
       "      <td>-0.103124</td>\n",
       "      <td>-0.762469</td>\n",
       "      <td>0.178700</td>\n",
       "      <td>-0.734915</td>\n",
       "      <td>1.000000</td>\n",
       "      <td>-0.503471</td>\n",
       "      <td>-0.526938</td>\n",
       "      <td>-0.206016</td>\n",
       "      <td>0.306445</td>\n",
       "      <td>-0.500912</td>\n",
       "      <td>0.264876</td>\n",
       "    </tr>\n",
       "    <tr>\n",
       "      <th>rad</th>\n",
       "      <td>0.603044</td>\n",
       "      <td>-0.311313</td>\n",
       "      <td>0.616375</td>\n",
       "      <td>-0.022561</td>\n",
       "      <td>0.612115</td>\n",
       "      <td>-0.173222</td>\n",
       "      <td>0.467341</td>\n",
       "      <td>-0.503471</td>\n",
       "      <td>1.000000</td>\n",
       "      <td>0.917344</td>\n",
       "      <td>0.487733</td>\n",
       "      <td>-0.468700</td>\n",
       "      <td>0.499279</td>\n",
       "      <td>-0.423508</td>\n",
       "    </tr>\n",
       "    <tr>\n",
       "      <th>tax</th>\n",
       "      <td>0.565047</td>\n",
       "      <td>-0.289332</td>\n",
       "      <td>0.722828</td>\n",
       "      <td>-0.043708</td>\n",
       "      <td>0.660607</td>\n",
       "      <td>-0.241733</td>\n",
       "      <td>0.503830</td>\n",
       "      <td>-0.526938</td>\n",
       "      <td>0.917344</td>\n",
       "      <td>1.000000</td>\n",
       "      <td>0.465997</td>\n",
       "      <td>-0.462250</td>\n",
       "      <td>0.542732</td>\n",
       "      <td>-0.495792</td>\n",
       "    </tr>\n",
       "    <tr>\n",
       "      <th>ptratio</th>\n",
       "      <td>0.292092</td>\n",
       "      <td>-0.371315</td>\n",
       "      <td>0.356549</td>\n",
       "      <td>-0.121835</td>\n",
       "      <td>0.166715</td>\n",
       "      <td>-0.323330</td>\n",
       "      <td>0.231820</td>\n",
       "      <td>-0.206016</td>\n",
       "      <td>0.487733</td>\n",
       "      <td>0.465997</td>\n",
       "      <td>1.000000</td>\n",
       "      <td>-0.194891</td>\n",
       "      <td>0.351408</td>\n",
       "      <td>-0.506313</td>\n",
       "    </tr>\n",
       "    <tr>\n",
       "      <th>black</th>\n",
       "      <td>-0.377436</td>\n",
       "      <td>0.176350</td>\n",
       "      <td>-0.378189</td>\n",
       "      <td>0.042580</td>\n",
       "      <td>-0.393876</td>\n",
       "      <td>0.128410</td>\n",
       "      <td>-0.276469</td>\n",
       "      <td>0.306445</td>\n",
       "      <td>-0.468700</td>\n",
       "      <td>-0.462250</td>\n",
       "      <td>-0.194891</td>\n",
       "      <td>1.000000</td>\n",
       "      <td>-0.388913</td>\n",
       "      <td>0.360071</td>\n",
       "    </tr>\n",
       "    <tr>\n",
       "      <th>lstat</th>\n",
       "      <td>0.428940</td>\n",
       "      <td>-0.412075</td>\n",
       "      <td>0.608309</td>\n",
       "      <td>-0.041061</td>\n",
       "      <td>0.587573</td>\n",
       "      <td>-0.578025</td>\n",
       "      <td>0.602001</td>\n",
       "      <td>-0.500912</td>\n",
       "      <td>0.499279</td>\n",
       "      <td>0.542732</td>\n",
       "      <td>0.351408</td>\n",
       "      <td>-0.388913</td>\n",
       "      <td>1.000000</td>\n",
       "      <td>-0.742695</td>\n",
       "    </tr>\n",
       "    <tr>\n",
       "      <th>medv</th>\n",
       "      <td>-0.400956</td>\n",
       "      <td>0.355608</td>\n",
       "      <td>-0.501698</td>\n",
       "      <td>0.141400</td>\n",
       "      <td>-0.439225</td>\n",
       "      <td>0.683541</td>\n",
       "      <td>-0.390863</td>\n",
       "      <td>0.264876</td>\n",
       "      <td>-0.423508</td>\n",
       "      <td>-0.495792</td>\n",
       "      <td>-0.506313</td>\n",
       "      <td>0.360071</td>\n",
       "      <td>-0.742695</td>\n",
       "      <td>1.000000</td>\n",
       "    </tr>\n",
       "  </tbody>\n",
       "</table>\n",
       "</div>"
      ],
      "text/plain": [
       "             crim        zn     indus      chas       nox        rm       age  \\\n",
       "crim     1.000000 -0.194770  0.404249 -0.060688  0.405290 -0.172226  0.349288   \n",
       "zn      -0.194770  1.000000 -0.532268 -0.037290 -0.497114  0.302404 -0.546587   \n",
       "indus    0.404249 -0.532268  1.000000  0.059928  0.760913 -0.353589  0.630048   \n",
       "chas    -0.060688 -0.037290  0.059928  1.000000  0.100650  0.090146  0.084852   \n",
       "nox      0.405290 -0.497114  0.760913  0.100650  1.000000 -0.266114  0.728882   \n",
       "rm      -0.172226  0.302404 -0.353589  0.090146 -0.266114  1.000000 -0.210589   \n",
       "age      0.349288 -0.546587  0.630048  0.084852  0.728882 -0.210589  1.000000   \n",
       "dis     -0.376493  0.659018 -0.702583 -0.103124 -0.762469  0.178700 -0.734915   \n",
       "rad      0.603044 -0.311313  0.616375 -0.022561  0.612115 -0.173222  0.467341   \n",
       "tax      0.565047 -0.289332  0.722828 -0.043708  0.660607 -0.241733  0.503830   \n",
       "ptratio  0.292092 -0.371315  0.356549 -0.121835  0.166715 -0.323330  0.231820   \n",
       "black   -0.377436  0.176350 -0.378189  0.042580 -0.393876  0.128410 -0.276469   \n",
       "lstat    0.428940 -0.412075  0.608309 -0.041061  0.587573 -0.578025  0.602001   \n",
       "medv    -0.400956  0.355608 -0.501698  0.141400 -0.439225  0.683541 -0.390863   \n",
       "\n",
       "              dis       rad       tax   ptratio     black     lstat      medv  \n",
       "crim    -0.376493  0.603044  0.565047  0.292092 -0.377436  0.428940 -0.400956  \n",
       "zn       0.659018 -0.311313 -0.289332 -0.371315  0.176350 -0.412075  0.355608  \n",
       "indus   -0.702583  0.616375  0.722828  0.356549 -0.378189  0.608309 -0.501698  \n",
       "chas    -0.103124 -0.022561 -0.043708 -0.121835  0.042580 -0.041061  0.141400  \n",
       "nox     -0.762469  0.612115  0.660607  0.166715 -0.393876  0.587573 -0.439225  \n",
       "rm       0.178700 -0.173222 -0.241733 -0.323330  0.128410 -0.578025  0.683541  \n",
       "age     -0.734915  0.467341  0.503830  0.231820 -0.276469  0.602001 -0.390863  \n",
       "dis      1.000000 -0.503471 -0.526938 -0.206016  0.306445 -0.500912  0.264876  \n",
       "rad     -0.503471  1.000000  0.917344  0.487733 -0.468700  0.499279 -0.423508  \n",
       "tax     -0.526938  0.917344  1.000000  0.465997 -0.462250  0.542732 -0.495792  \n",
       "ptratio -0.206016  0.487733  0.465997  1.000000 -0.194891  0.351408 -0.506313  \n",
       "black    0.306445 -0.468700 -0.462250 -0.194891  1.000000 -0.388913  0.360071  \n",
       "lstat   -0.500912  0.499279  0.542732  0.351408 -0.388913  1.000000 -0.742695  \n",
       "medv     0.264876 -0.423508 -0.495792 -0.506313  0.360071 -0.742695  1.000000  "
      ]
     },
     "execution_count": 2,
     "metadata": {},
     "output_type": "execute_result"
    }
   ],
   "source": [
    "# Your plots here\n",
    "data.corr()"
   ]
  },
  {
   "cell_type": "code",
   "execution_count": 3,
   "metadata": {},
   "outputs": [
    {
     "data": {
      "text/plain": [
       "<Figure size 720x432 with 0 Axes>"
      ]
     },
     "metadata": {},
     "output_type": "display_data"
    },
    {
     "data": {
      "image/png": "[encoded data removed]",
      "text/plain": [
       "<Figure size 720x432 with 1 Axes>"
      ]
     },
     "metadata": {
      "needs_background": "light"
     },
     "output_type": "display_data"
    },
    {
     "data": {
      "image/png": "[encoded data removed]",
      "text/plain": [
       "<Figure size 720x432 with 1 Axes>"
      ]
     },
     "metadata": {
      "needs_background": "light"
     },
     "output_type": "display_data"
    },
    {
     "data": {
      "image/png": "[encoded data removed]",
      "text/plain": [
       "<Figure size 720x432 with 1 Axes>"
      ]
     },
     "metadata": {
      "needs_background": "light"
     },
     "output_type": "display_data"
    },
    {
     "data": {
      "image/png": "[encoded data removed]",
      "text/plain": [
       "<Figure size 720x432 with 1 Axes>"
      ]
     },
     "metadata": {
      "needs_background": "light"
     },
     "output_type": "display_data"
    },
    {
     "data": {
      "image/png": "[encoded data removed]",
      "text/plain": [
       "<Figure size 720x432 with 1 Axes>"
      ]
     },
     "metadata": {
      "needs_background": "light"
     },
     "output_type": "display_data"
    },
    {
     "data": {
      "image/png": "[encoded data removed]",
      "text/plain": [
       "<Figure size 720x432 with 1 Axes>"
      ]
     },
     "metadata": {
      "needs_background": "light"
     },
     "output_type": "display_data"
    },
    {
     "data": {
      "image/png": "[encoded data removed]",
      "text/plain": [
       "<Figure size 720x432 with 1 Axes>"
      ]
     },
     "metadata": {
      "needs_background": "light"
     },
     "output_type": "display_data"
    },
    {
     "data": {
      "image/png": "[encoded data removed]",
      "text/plain": [
       "<Figure size 720x432 with 1 Axes>"
      ]
     },
     "metadata": {
      "needs_background": "light"
     },
     "output_type": "display_data"
    },
    {
     "data": {
      "image/png": "[encoded data removed]",
      "text/plain": [
       "<Figure size 720x432 with 1 Axes>"
      ]
     },
     "metadata": {
      "needs_background": "light"
     },
     "output_type": "display_data"
    },
    {
     "data": {
      "image/png": "[encoded data removed]",
      "text/plain": [
       "<Figure size 720x432 with 1 Axes>"
      ]
     },
     "metadata": {
      "needs_background": "light"
     },
     "output_type": "display_data"
    },
    {
     "data": {
      "image/png": "[encoded data removed]",
      "text/plain": [
       "<Figure size 720x432 with 1 Axes>"
      ]
     },
     "metadata": {
      "needs_background": "light"
     },
     "output_type": "display_data"
    },
    {
     "data": {
      "image/png": "[encoded data removed]",
      "text/plain": [
       "<Figure size 720x432 with 1 Axes>"
      ]
     },
     "metadata": {
      "needs_background": "light"
     },
     "output_type": "display_data"
    },
    {
     "data": {
      "image/png": "[encoded data removed]",
      "text/plain": [
       "<Figure size 720x432 with 1 Axes>"
      ]
     },
     "metadata": {
      "needs_background": "light"
     },
     "output_type": "display_data"
    },
    {
     "data": {
      "image/png": "[encoded data removed]",
      "text/plain": [
       "<Figure size 720x432 with 1 Axes>"
      ]
     },
     "metadata": {
      "needs_background": "light"
     },
     "output_type": "display_data"
    }
   ],
   "source": [
    "#Check Outliers\n",
    "num_df = data.select_dtypes(exclude=['object'])\n",
    "# Plot the variables (loop for plot variables) for num values\n",
    "plt.figure(figsize=(10, 6))\n",
    "for col in num_df:\n",
    "    plt.figure(figsize=(10, 6))\n",
    "    data.boxplot(column=[col])\n",
    "    plt.title(col)\n",
    "    plt.savefig(col+r'.png',bbox_inches='tight')"
   ]
  },
  {
   "cell_type": "markdown",
   "metadata": {},
   "source": [
    "### What do these plots tell you about the relationships between these variables and the prices of homes in Boston? Are these the relationships you expected to see in these variables?"
   ]
  },
  {
   "cell_type": "code",
   "execution_count": 4,
   "metadata": {},
   "outputs": [],
   "source": [
    "data = data.drop(data[data['crim'] >40].index)\n",
    "data = data.drop(data[data['zn'] > 40].index)\n",
    "data = data.drop(data[data['chas'] >0.1].index)\n",
    "data = data.drop(data[data['dis'] > 12].index)\n",
    "data = data.drop(data[data['black'] < 200].index)"
   ]
  },
  {
   "cell_type": "code",
   "execution_count": 5,
   "metadata": {},
   "outputs": [
    {
     "data": {
      "text/plain": [
       "(304, 14)"
      ]
     },
     "execution_count": 5,
     "metadata": {},
     "output_type": "execute_result"
    }
   ],
   "source": [
    "data.shape"
   ]
  },
  {
   "cell_type": "code",
   "execution_count": 7,
   "metadata": {},
   "outputs": [
    {
     "data": {
      "text/plain": [
       "0.0    304\n",
       "Name: chas, dtype: int64"
      ]
     },
     "execution_count": 7,
     "metadata": {},
     "output_type": "execute_result"
    }
   ],
   "source": [
    "data['chas'].value_counts()"
   ]
  },
  {
   "cell_type": "code",
   "execution_count": 8,
   "metadata": {},
   "outputs": [],
   "source": [
    "data=data.drop(columns= ['chas'])"
   ]
  },
  {
   "cell_type": "markdown",
   "metadata": {},
   "source": [
    "### Your response here\n",
    "\n",
    "source: https://www.kaggle.com/c/boston-housing\n",
    "\n",
    "The first graph represents the relation between lower status of the population (percent) and the value of the house. As expected, as the lower status of the population increases, the value of the houses decrease.\n",
    "\n",
    "The second graph represents the relation between the number of rooms per dwelling and the value of the house. As the number of rooms increase, the value on the house also increases.\n",
    "\n",
    "The last graph represents the relation between pupil-teacher ratio by town. I was expecting that the lower the pupil-teach ratio the lower the value of the houses in the region. The linear regression, actually shows the opposite. The bigger the ptratio, the lower the house values are.\n"
   ]
  },
  {
   "cell_type": "markdown",
   "metadata": {},
   "source": [
    "### Make a heatmap of the remaining variables. Are there any variables that you did not consider that have very high correlations? What are they?"
   ]
  },
  {
   "cell_type": "code",
   "execution_count": 9,
   "metadata": {},
   "outputs": [
    {
     "data": {
      "text/plain": [
       "<AxesSubplot:>"
      ]
     },
     "execution_count": 9,
     "metadata": {},
     "output_type": "execute_result"
    },
    {
     "data": {
      "image/png": "[encoded data removed]",
      "text/plain": [
       "<Figure size 1080x720 with 2 Axes>"
      ]
     },
     "metadata": {
      "needs_background": "light"
     },
     "output_type": "display_data"
    }
   ],
   "source": [
    "# Your response here\n",
    "f, axes = plt.subplots(1, 1, figsize=(15, 10), sharex=True)\n",
    "sns.heatmap(data[['crim','zn','indus','nox','age','dis','rad','tax','black','medv']].corr(),annot=True)"
   ]
  },
  {
   "cell_type": "markdown",
   "metadata": {},
   "source": [
    "#### Significant correlations\n",
    "\n",
    "* nox - indus\n",
    "* indus - tax\n",
    "* age - tax\n",
    "* tax - rad\n",
    "* zn - dis"
   ]
  },
  {
   "cell_type": "markdown",
   "metadata": {},
   "source": [
    "### Calculate Statistics\n",
    "Calculate descriptive statistics for housing price. Include the minimum, maximum, mean, median, and standard deviation. "
   ]
  },
  {
   "cell_type": "code",
   "execution_count": 10,
   "metadata": {},
   "outputs": [
    {
     "data": {
      "text/html": [
       "<div>\n",
       "<style scoped>\n",
       "    .dataframe tbody tr th:only-of-type {\n",
       "        vertical-align: middle;\n",
       "    }\n",
       "\n",
       "    .dataframe tbody tr th {\n",
       "        vertical-align: top;\n",
       "    }\n",
       "\n",
       "    .dataframe thead th {\n",
       "        text-align: right;\n",
       "    }\n",
       "</style>\n",
       "<table border=\"1\" class=\"dataframe\">\n",
       "  <thead>\n",
       "    <tr style=\"text-align: right;\">\n",
       "      <th></th>\n",
       "      <th>crim</th>\n",
       "      <th>zn</th>\n",
       "      <th>indus</th>\n",
       "      <th>nox</th>\n",
       "      <th>rm</th>\n",
       "      <th>age</th>\n",
       "      <th>dis</th>\n",
       "      <th>rad</th>\n",
       "      <th>tax</th>\n",
       "      <th>ptratio</th>\n",
       "      <th>black</th>\n",
       "      <th>lstat</th>\n",
       "      <th>medv</th>\n",
       "    </tr>\n",
       "  </thead>\n",
       "  <tbody>\n",
       "    <tr>\n",
       "      <th>count</th>\n",
       "      <td>304.000000</td>\n",
       "      <td>304.000000</td>\n",
       "      <td>304.000000</td>\n",
       "      <td>304.000000</td>\n",
       "      <td>304.000000</td>\n",
       "      <td>304.000000</td>\n",
       "      <td>304.000000</td>\n",
       "      <td>304.000000</td>\n",
       "      <td>304.000000</td>\n",
       "      <td>304.000000</td>\n",
       "      <td>304.000000</td>\n",
       "      <td>304.000000</td>\n",
       "      <td>304.000000</td>\n",
       "    </tr>\n",
       "    <tr>\n",
       "      <th>mean</th>\n",
       "      <td>2.567715</td>\n",
       "      <td>4.847039</td>\n",
       "      <td>11.219375</td>\n",
       "      <td>0.554542</td>\n",
       "      <td>6.254868</td>\n",
       "      <td>69.886842</td>\n",
       "      <td>3.683134</td>\n",
       "      <td>9.078947</td>\n",
       "      <td>395.384868</td>\n",
       "      <td>18.584539</td>\n",
       "      <td>381.936118</td>\n",
       "      <td>12.539770</td>\n",
       "      <td>22.261513</td>\n",
       "    </tr>\n",
       "    <tr>\n",
       "      <th>std</th>\n",
       "      <td>5.050181</td>\n",
       "      <td>10.058843</td>\n",
       "      <td>6.630813</td>\n",
       "      <td>0.106295</td>\n",
       "      <td>0.653054</td>\n",
       "      <td>27.074056</td>\n",
       "      <td>1.842694</td>\n",
       "      <td>8.364254</td>\n",
       "      <td>166.708555</td>\n",
       "      <td>2.049807</td>\n",
       "      <td>26.181768</td>\n",
       "      <td>6.502274</td>\n",
       "      <td>8.119190</td>\n",
       "    </tr>\n",
       "    <tr>\n",
       "      <th>min</th>\n",
       "      <td>0.006320</td>\n",
       "      <td>0.000000</td>\n",
       "      <td>1.250000</td>\n",
       "      <td>0.409000</td>\n",
       "      <td>3.561000</td>\n",
       "      <td>2.900000</td>\n",
       "      <td>1.169100</td>\n",
       "      <td>1.000000</td>\n",
       "      <td>188.000000</td>\n",
       "      <td>13.000000</td>\n",
       "      <td>248.310000</td>\n",
       "      <td>1.730000</td>\n",
       "      <td>5.000000</td>\n",
       "    </tr>\n",
       "    <tr>\n",
       "      <th>25%</th>\n",
       "      <td>0.092625</td>\n",
       "      <td>0.000000</td>\n",
       "      <td>5.860000</td>\n",
       "      <td>0.467750</td>\n",
       "      <td>5.879750</td>\n",
       "      <td>50.725000</td>\n",
       "      <td>2.181375</td>\n",
       "      <td>4.000000</td>\n",
       "      <td>279.000000</td>\n",
       "      <td>17.800000</td>\n",
       "      <td>379.627500</td>\n",
       "      <td>7.537500</td>\n",
       "      <td>18.100000</td>\n",
       "    </tr>\n",
       "    <tr>\n",
       "      <th>50%</th>\n",
       "      <td>0.243125</td>\n",
       "      <td>0.000000</td>\n",
       "      <td>9.125000</td>\n",
       "      <td>0.538000</td>\n",
       "      <td>6.202000</td>\n",
       "      <td>76.600000</td>\n",
       "      <td>3.239250</td>\n",
       "      <td>5.000000</td>\n",
       "      <td>307.000000</td>\n",
       "      <td>19.100000</td>\n",
       "      <td>392.655000</td>\n",
       "      <td>11.265000</td>\n",
       "      <td>21.200000</td>\n",
       "    </tr>\n",
       "    <tr>\n",
       "      <th>75%</th>\n",
       "      <td>2.360625</td>\n",
       "      <td>0.000000</td>\n",
       "      <td>18.100000</td>\n",
       "      <td>0.614000</td>\n",
       "      <td>6.538500</td>\n",
       "      <td>94.525000</td>\n",
       "      <td>4.812200</td>\n",
       "      <td>8.000000</td>\n",
       "      <td>437.000000</td>\n",
       "      <td>20.200000</td>\n",
       "      <td>396.900000</td>\n",
       "      <td>16.312500</td>\n",
       "      <td>24.525000</td>\n",
       "    </tr>\n",
       "    <tr>\n",
       "      <th>max</th>\n",
       "      <td>38.351800</td>\n",
       "      <td>40.000000</td>\n",
       "      <td>27.740000</td>\n",
       "      <td>0.871000</td>\n",
       "      <td>8.704000</td>\n",
       "      <td>100.000000</td>\n",
       "      <td>9.222900</td>\n",
       "      <td>24.000000</td>\n",
       "      <td>711.000000</td>\n",
       "      <td>21.200000</td>\n",
       "      <td>396.900000</td>\n",
       "      <td>30.810000</td>\n",
       "      <td>50.000000</td>\n",
       "    </tr>\n",
       "  </tbody>\n",
       "</table>\n",
       "</div>"
      ],
      "text/plain": [
       "             crim          zn       indus         nox          rm         age  \\\n",
       "count  304.000000  304.000000  304.000000  304.000000  304.000000  304.000000   \n",
       "mean     2.567715    4.847039   11.219375    0.554542    6.254868   69.886842   \n",
       "std      5.050181   10.058843    6.630813    0.106295    0.653054   27.074056   \n",
       "min      0.006320    0.000000    1.250000    0.409000    3.561000    2.900000   \n",
       "25%      0.092625    0.000000    5.860000    0.467750    5.879750   50.725000   \n",
       "50%      0.243125    0.000000    9.125000    0.538000    6.202000   76.600000   \n",
       "75%      2.360625    0.000000   18.100000    0.614000    6.538500   94.525000   \n",
       "max     38.351800   40.000000   27.740000    0.871000    8.704000  100.000000   \n",
       "\n",
       "              dis         rad         tax     ptratio       black       lstat  \\\n",
       "count  304.000000  304.000000  304.000000  304.000000  304.000000  304.000000   \n",
       "mean     3.683134    9.078947  395.384868   18.584539  381.936118   12.539770   \n",
       "std      1.842694    8.364254  166.708555    2.049807   26.181768    6.502274   \n",
       "min      1.169100    1.000000  188.000000   13.000000  248.310000    1.730000   \n",
       "25%      2.181375    4.000000  279.000000   17.800000  379.627500    7.537500   \n",
       "50%      3.239250    5.000000  307.000000   19.100000  392.655000   11.265000   \n",
       "75%      4.812200    8.000000  437.000000   20.200000  396.900000   16.312500   \n",
       "max      9.222900   24.000000  711.000000   21.200000  396.900000   30.810000   \n",
       "\n",
       "             medv  \n",
       "count  304.000000  \n",
       "mean    22.261513  \n",
       "std      8.119190  \n",
       "min      5.000000  \n",
       "25%     18.100000  \n",
       "50%     21.200000  \n",
       "75%     24.525000  \n",
       "max     50.000000  "
      ]
     },
     "execution_count": 10,
     "metadata": {},
     "output_type": "execute_result"
    }
   ],
   "source": [
    "# Your code here\n",
    "data.describe()"
   ]
  },
  {
   "cell_type": "markdown",
   "metadata": {},
   "source": [
    "----\n",
    "\n",
    "## Developing a Model"
   ]
  },
  {
   "cell_type": "markdown",
   "metadata": {},
   "source": [
    "### Implementation: Define a Performance Metric\n",
    "What is the performance meteric with which you will determine the performance of your model? Create a function that calculates this performance metric, and then returns the score. "
   ]
  },
  {
   "cell_type": "code",
   "execution_count": 11,
   "metadata": {},
   "outputs": [],
   "source": [
    "from sklearn.metrics import r2_score\n",
    "\n",
    "def performance_metric(y_true, y_predict):\n",
    "    return r2_score(y_true, y_predict)"
   ]
  },
  {
   "cell_type": "markdown",
   "metadata": {},
   "source": [
    "### Implementation: Shuffle and Split Data\n",
    "Split the data into the testing and training datasets. Shuffle the data as well to remove any bias in selecting the traing and test. "
   ]
  },
  {
   "cell_type": "code",
   "execution_count": 12,
   "metadata": {},
   "outputs": [
    {
     "data": {
      "text/plain": [
       "Index(['crim', 'zn', 'indus', 'nox', 'rm', 'age', 'dis', 'rad', 'tax',\n",
       "       'ptratio', 'black', 'lstat', 'medv'],\n",
       "      dtype='object')"
      ]
     },
     "execution_count": 12,
     "metadata": {},
     "output_type": "execute_result"
    }
   ],
   "source": [
    "data.columns"
   ]
  },
  {
   "cell_type": "code",
   "execution_count": 16,
   "metadata": {},
   "outputs": [],
   "source": [
    "# Your code here\n",
    "from sklearn.model_selection import train_test_split\n",
    "\n",
    "X=data[['crim', 'zn', 'indus','nox', 'rm', 'age', 'dis', 'rad', 'tax',\n",
    "       'ptratio', 'black', 'lstat']]\n",
    "y=data['medv']\n",
    "\n",
    "X_train, X_test, y_train, y_test = train_test_split(X, y, test_size = 0.2, random_state=29)"
   ]
  },
  {
   "cell_type": "markdown",
   "metadata": {},
   "source": [
    "----\n",
    "\n",
    "## Analyzing Model Performance\n",
    "Next, we are going to build a Random Forest Regressor, and test its performance with several different parameter settings."
   ]
  },
  {
   "cell_type": "markdown",
   "metadata": {},
   "source": [
    "### Learning Curves\n",
    "Lets build the different models. Set the max_depth parameter to 2, 4, 6, 8, and 10 respectively. "
   ]
  },
  {
   "cell_type": "code",
   "execution_count": 17,
   "metadata": {},
   "outputs": [],
   "source": [
    "# Five separate RFR here with the given max depths\n",
    "from sklearn.ensemble import RandomForestRegressor\n",
    "train=[]\n",
    "test=[]\n",
    "for i in range(1,30,2):\n",
    "    regr = RandomForestRegressor(max_depth=i)\n",
    "    regr.fit(X_train, y_train)\n",
    "    train.append(regr.score(X_train,y_train))\n",
    "    test.append(regr.score(X_test,y_test))"
   ]
  },
  {
   "cell_type": "markdown",
   "metadata": {},
   "source": [
    "Now, plot the score for each tree on the training set and on the testing set."
   ]
  },
  {
   "cell_type": "code",
   "execution_count": 19,
   "metadata": {
    "scrolled": false
   },
   "outputs": [
    {
     "data": {
      "text/plain": [
       "[<matplotlib.lines.Line2D at 0x7fa1f37532b0>]"
      ]
     },
     "execution_count": 19,
     "metadata": {},
     "output_type": "execute_result"
    },
    {
     "data": {
      "image/png": "[encoded data removed]",
      "text/plain": [
       "<Figure size 432x288 with 1 Axes>"
      ]
     },
     "metadata": {
      "needs_background": "light"
     },
     "output_type": "display_data"
    }
   ],
   "source": [
    "# Produce a plot with the score for the testing and training for the different max depths\n",
    "plt.plot(train)\n",
    "plt.plot(test)"
   ]
  },
  {
   "cell_type": "markdown",
   "metadata": {},
   "source": [
    "What do these results tell you about the effect of the depth of the trees on the performance of the model?"
   ]
  },
  {
   "cell_type": "markdown",
   "metadata": {},
   "source": [
    "#### Your response here\n",
    "\n",
    "As the depth increases, the score of the model increases. However, when the model is trained with the maximum depth of 6 or higher, the score stabilizes."
   ]
  },
  {
   "cell_type": "markdown",
   "metadata": {},
   "source": [
    "### Bias-Variance Tradeoff\n",
    "When the model is trained with a maximum depth of 1, does the model suffer from high bias or from high variance? How about when the model is trained with a maximum depth of 10?"
   ]
  },
  {
   "cell_type": "code",
   "execution_count": null,
   "metadata": {},
   "outputs": [],
   "source": [
    "### Your response here\n",
    "\n",
    "##When the model is trained with a maximum depth of 1, the model suffers from high bias.\n",
    "##When the model is trained with a maximum depth of 10, the model suffers with low bias and high variance."
   ]
  },
  {
   "cell_type": "markdown",
   "metadata": {},
   "source": [
    "### Best-Guess Optimal Model\n",
    "What is the max_depth parameter that you think would optimize the model? Run your model and explain its performance."
   ]
  },
  {
   "cell_type": "code",
   "execution_count": 20,
   "metadata": {},
   "outputs": [
    {
     "data": {
      "text/plain": [
       "RandomForestRegressor(max_depth=6)"
      ]
     },
     "execution_count": 20,
     "metadata": {},
     "output_type": "execute_result"
    }
   ],
   "source": [
    "regr = RandomForestRegressor(max_depth=6)\n",
    "regr.fit(X_train, y_train)"
   ]
  },
  {
   "cell_type": "code",
   "execution_count": 21,
   "metadata": {},
   "outputs": [
    {
     "data": {
      "text/plain": [
       "0.8746666445720119"
      ]
     },
     "execution_count": 21,
     "metadata": {},
     "output_type": "execute_result"
    }
   ],
   "source": [
    "regr.score(X_test,y_test)"
   ]
  },
  {
   "cell_type": "code",
   "execution_count": 22,
   "metadata": {},
   "outputs": [
    {
     "data": {
      "text/plain": [
       "2.1613898040382162"
      ]
     },
     "execution_count": 22,
     "metadata": {},
     "output_type": "execute_result"
    }
   ],
   "source": [
    "from sklearn.metrics import mean_absolute_error\n",
    "y_pred=regr.predict(X_test)\n",
    "mean_absolute_error(y_test, y_pred)"
   ]
  },
  {
   "cell_type": "code",
   "execution_count": 23,
   "metadata": {},
   "outputs": [
    {
     "data": {
      "text/plain": [
       "8.340456846110055"
      ]
     },
     "execution_count": 23,
     "metadata": {},
     "output_type": "execute_result"
    }
   ],
   "source": [
    "from sklearn.metrics import mean_squared_error\n",
    "mean_squared_error(y_test, y_pred)"
   ]
  },
  {
   "cell_type": "code",
   "execution_count": 24,
   "metadata": {},
   "outputs": [],
   "source": [
    "## Your response here\n",
    "##87% at depth 6 "
   ]
  },
  {
   "cell_type": "markdown",
   "metadata": {},
   "source": [
    "### Applicability\n",
    "*In a few sentences, discuss whether the constructed model should or should not be used in a real-world setting.*  \n",
    "**Hint:** Some questions to answering:\n",
    "- *How relevant today is data that was collected from 1978?*\n",
    "- *Are the features present in the data sufficient to describe a home?*\n",
    "- *Is the model robust enough to make consistent predictions?*\n",
    "- *Would data collected in an urban city like Boston be applicable in a rural city?*"
   ]
  },
  {
   "cell_type": "code",
   "execution_count": null,
   "metadata": {},
   "outputs": [],
   "source": []
  }
 ],
 "metadata": {
  "anaconda-cloud": {},
  "kernelspec": {
   "display_name": "Python 3 (ipykernel)",
   "language": "python",
   "name": "python3"
  },
  "language_info": {
   "codemirror_mode": {
    "name": "ipython",
    "version": 3
   },
   "file_extension": ".py",
   "mimetype": "text/x-python",
   "name": "python",
   "nbconvert_exporter": "python",
   "pygments_lexer": "ipython3",
   "version": "3.9.7"
  }
 },
 "nbformat": 4,
 "nbformat_minor": 1
}
