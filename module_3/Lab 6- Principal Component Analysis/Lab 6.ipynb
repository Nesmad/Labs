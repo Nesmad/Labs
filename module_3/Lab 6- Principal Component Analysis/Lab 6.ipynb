{
 "cells": [
  {
   "cell_type": "markdown",
   "metadata": {
    "id": "xLLW4yjDFDOg"
   },
   "source": [
    "# Before your start:\n",
    "- Read the README.md file\n",
    "- Comment as much as you can and use the resources (README.md file)\n",
    "- Happy learning!"
   ]
  },
  {
   "cell_type": "code",
   "execution_count": 1,
   "metadata": {
    "id": "5IO5yAWPFDOl"
   },
   "outputs": [],
   "source": [
    "# Run this code:\n",
    "\n",
    "%matplotlib inline\n",
    "\n",
    "import matplotlib.pyplot as plt"
   ]
  },
  {
   "cell_type": "code",
   "execution_count": 2,
   "metadata": {
    "id": "MGqPNs-JFDOm"
   },
   "outputs": [],
   "source": [
    "# Import numpy and pandas:\n",
    "import numpy as np\n",
    "import pandas as pd\n"
   ]
  },
  {
   "cell_type": "markdown",
   "metadata": {
    "id": "nISH216QFDOm"
   },
   "source": [
    "# Challenge 1 - Reading and Standardizing the Data\n",
    "\n",
    "In this challenge we will work with image data and reduce the dimensions of the data to create a 2 dimensional plot. While we have not worked much with image data before, it can be represented as a numpy array where each pixel is assigned a numeric value. In this lesson, we will look at a dataset of cats and a dataset of dogs and see whether reducing them to two dimensions allows us to see if the data is separable. We will start by loading and processing the data. Run the cell below to load the two csv files and convert them into numpy arrays."
   ]
  },
  {
   "cell_type": "code",
   "execution_count": 3,
   "metadata": {
    "id": "6sb4RKhGFDOm"
   },
   "outputs": [],
   "source": [
    "# Run this code\n",
    "\n",
    "cats = np.array(pd.read_csv(\"https://raw.githubusercontent.com/bioramble/pca/master/cat.csv\", header=None))\n",
    "dogs = np.array(pd.read_csv(\"https://raw.githubusercontent.com/bioramble/pca/master/dog.csv\", header=None))"
   ]
  },
  {
   "cell_type": "markdown",
   "metadata": {
    "id": "ea9CtFZOFDOn"
   },
   "source": [
    "Next, we'll examine the shape of both the cats and the dogs arrays. Print out both shapes below."
   ]
  },
  {
   "cell_type": "code",
   "execution_count": 4,
   "metadata": {
    "id": "zwfJ_fAzFDOn",
    "outputId": "7ba12f2a-ea93-45a9-b98d-8ab77ae243c6"
   },
   "outputs": [
    {
     "data": {
      "text/plain": [
       "(4096, 80)"
      ]
     },
     "execution_count": 4,
     "metadata": {},
     "output_type": "execute_result"
    }
   ],
   "source": [
    "# Your code here:\n",
    "cats.shape"
   ]
  },
  {
   "cell_type": "code",
   "execution_count": null,
   "metadata": {},
   "outputs": [],
   "source": []
  },
  {
   "cell_type": "code",
   "execution_count": 5,
   "metadata": {
    "id": "FFzKMIp2FDOo",
    "outputId": "a719376c-ac66-4766-cb59-9c7461c6a3db"
   },
   "outputs": [
    {
     "data": {
      "text/plain": [
       "(4096, 80)"
      ]
     },
     "execution_count": 5,
     "metadata": {},
     "output_type": "execute_result"
    }
   ],
   "source": [
    "dogs.shape"
   ]
  },
  {
   "cell_type": "markdown",
   "metadata": {
    "id": "y_lOarPjFDOo"
   },
   "source": [
    "What this means is that both arrays contain 80 images each (the number of columns). Each image is comprised of 64x64 pixels (so a total of 4096 pixels per image). The images have been flattened such that all 4096 are in a single row.\n",
    "\n",
    "Print out column 0 of the cats array to see what the pixels values look like."
   ]
  },
  {
   "cell_type": "code",
   "execution_count": 6,
   "metadata": {
    "ExecuteTime": {
     "end_time": "2021-02-25T13:05:54.979105Z",
     "start_time": "2021-02-25T13:05:54.969235Z"
    },
    "id": "hiQS9EY8FDOo"
   },
   "outputs": [
    {
     "data": {
      "text/plain": [
       "array([64, 64, 64, ..., 64, 64, 61])"
      ]
     },
     "execution_count": 6,
     "metadata": {},
     "output_type": "execute_result"
    }
   ],
   "source": [
    "# Your code here:\n",
    "cats[:,0]\n"
   ]
  },
  {
   "cell_type": "markdown",
   "metadata": {
    "id": "9UvFnMgPFDOo"
   },
   "source": [
    "Using `matplotlib` we can plot a single cat or a single dog. We do this by reshaping the vector back to a 64x64 image and then using the `imshow` function.\n",
    "\n",
    "Run the code below to look at the first dog and the first cat."
   ]
  },
  {
   "cell_type": "code",
   "execution_count": 7,
   "metadata": {
    "id": "AcqumTdRFDOp",
    "outputId": "97aa7604-9987-474a-dd74-8a0b45cfbd79"
   },
   "outputs": [
    {
     "data": {
      "text/plain": [
       "<matplotlib.image.AxesImage at 0x7fae62bdbf10>"
      ]
     },
     "execution_count": 7,
     "metadata": {},
     "output_type": "execute_result"
    },
    {
     "data": {
      "image/png": "[encoded data removed]",
      "text/plain": [
       "<Figure size 432x288 with 1 Axes>"
      ]
     },
     "metadata": {
      "needs_background": "light"
     },
     "output_type": "display_data"
    }
   ],
   "source": [
    "# Run this code:\n",
    "\n",
    "fig, ax = plt.subplots()\n",
    "ax.imshow(cats[:,0].reshape(64, 64).T, cmap=plt.cm.bone, interpolation='nearest') "
   ]
  },
  {
   "cell_type": "code",
   "execution_count": 8,
   "metadata": {
    "id": "CZzjFZRdFDOp",
    "outputId": "4e5bd9ca-1742-4f29-c9bb-f893baf36747"
   },
   "outputs": [
    {
     "data": {
      "text/plain": [
       "<matplotlib.image.AxesImage at 0x7fae62ce7be0>"
      ]
     },
     "execution_count": 8,
     "metadata": {},
     "output_type": "execute_result"
    },
    {
     "data": {
      "image/png": "[encoded data removed]",
      "text/plain": [
       "<Figure size 432x288 with 1 Axes>"
      ]
     },
     "metadata": {
      "needs_background": "light"
     },
     "output_type": "display_data"
    }
   ],
   "source": [
    "# Run this code:\n",
    "\n",
    "fig, ax = plt.subplots()\n",
    "ax.imshow(dogs[:,0].reshape(64, 64).T, cmap=plt.cm.bone, interpolation='nearest') "
   ]
  },
  {
   "cell_type": "markdown",
   "metadata": {
    "id": "bOFINuuHFDOq"
   },
   "source": [
    "Now, use the `np.concatenate` function to combine the cats and dogs arrays. Use `axis=1` to combine the two correctly. Make sure to put dogs first."
   ]
  },
  {
   "cell_type": "code",
   "execution_count": 11,
   "metadata": {
    "id": "V2VJM2NYFDOq"
   },
   "outputs": [],
   "source": [
    "# Your code here:\n",
    "CD = np.concatenate((dogs,cats),axis=1)\n",
    "\n"
   ]
  },
  {
   "cell_type": "code",
   "execution_count": 12,
   "metadata": {},
   "outputs": [
    {
     "data": {
      "text/plain": [
       "<matplotlib.image.AxesImage at 0x7fae70f44370>"
      ]
     },
     "execution_count": 12,
     "metadata": {},
     "output_type": "execute_result"
    },
    {
     "data": {
      "image/png": "[encoded data removed]",
      "text/plain": [
       "<Figure size 432x288 with 1 Axes>"
      ]
     },
     "metadata": {
      "needs_background": "light"
     },
     "output_type": "display_data"
    }
   ],
   "source": [
    "fig, ax = plt.subplots()\n",
    "ax.imshow(CD[:,79].reshape(64, 64).T, cmap=plt.cm.bone, interpolation='nearest') "
   ]
  },
  {
   "cell_type": "code",
   "execution_count": 13,
   "metadata": {},
   "outputs": [
    {
     "data": {
      "text/plain": [
       "<matplotlib.image.AxesImage at 0x7fae4049b340>"
      ]
     },
     "execution_count": 13,
     "metadata": {},
     "output_type": "execute_result"
    },
    {
     "data": {
      "image/png": "[encoded data removed]",
      "text/plain": [
       "<Figure size 432x288 with 1 Axes>"
      ]
     },
     "metadata": {
      "needs_background": "light"
     },
     "output_type": "display_data"
    }
   ],
   "source": [
    "fig, ax = plt.subplots()\n",
    "ax.imshow(CD[:,81].reshape(64, 64).T, cmap=plt.cm.bone, interpolation='nearest') "
   ]
  },
  {
   "cell_type": "markdown",
   "metadata": {
    "id": "PycXeWQNFDOp"
   },
   "source": [
    "Next, we would like to create a standardization function. This function will find the mean and standard deviation of each image. We subtract the mean from each pixel and divide each pixel by the standard deviation. Write the function below."
   ]
  },
  {
   "cell_type": "code",
   "execution_count": 14,
   "metadata": {
    "id": "7JM7-kq0FDOp"
   },
   "outputs": [],
   "source": [
    "#Your code here:\n",
    "def standardization(array):\n",
    "    standardized = np.copy(array)\n",
    "    for i in range(standardized.shape[1]):\n",
    "        mean = np.mean(standardized[:, i])\n",
    "        std = np.std(standardized[:, i])\n",
    "        standardized[:, i] = (standardized[:, i] - mean) / std\n",
    "    return standardized"
   ]
  },
  {
   "cell_type": "code",
   "execution_count": 15,
   "metadata": {},
   "outputs": [
    {
     "data": {
      "text/plain": [
       "(4096, 160)"
      ]
     },
     "execution_count": 15,
     "metadata": {},
     "output_type": "execute_result"
    }
   ],
   "source": [
    "CDSTD = standardization(cats_dogs)\n",
    "CDSTD.shape"
   ]
  },
  {
   "cell_type": "markdown",
   "metadata": {},
   "source": [
    "Standarized images"
   ]
  },
  {
   "cell_type": "code",
   "execution_count": 16,
   "metadata": {},
   "outputs": [
    {
     "data": {
      "text/plain": [
       "<matplotlib.image.AxesImage at 0x7fae403f05b0>"
      ]
     },
     "execution_count": 16,
     "metadata": {},
     "output_type": "execute_result"
    },
    {
     "data": {
      "image/png": "[encoded data removed]",
      "text/plain": [
       "<Figure size 432x288 with 1 Axes>"
      ]
     },
     "metadata": {
      "needs_background": "light"
     },
     "output_type": "display_data"
    }
   ],
   "source": [
    "fig, ax = plt.subplots()\n",
    "ax.imshow(CD[:,159].reshape(64, 64).T, cmap=plt.cm.bone, interpolation='nearest') "
   ]
  },
  {
   "cell_type": "code",
   "execution_count": 18,
   "metadata": {},
   "outputs": [
    {
     "data": {
      "text/plain": [
       "<matplotlib.image.AxesImage at 0x7fae62d3d1c0>"
      ]
     },
     "execution_count": 18,
     "metadata": {},
     "output_type": "execute_result"
    },
    {
     "data": {
      "image/png": "[encoded data removed]",
      "text/plain": [
       "<Figure size 432x288 with 1 Axes>"
      ]
     },
     "metadata": {
      "needs_background": "light"
     },
     "output_type": "display_data"
    }
   ],
   "source": [
    "fig, ax = plt.subplots()\n",
    "ax.imshow(CDSTD[:,159].reshape(64, 64).T, cmap=plt.cm.bone, interpolation='nearest') "
   ]
  },
  {
   "cell_type": "code",
   "execution_count": 20,
   "metadata": {},
   "outputs": [
    {
     "data": {
      "text/plain": [
       "(160, 4096)"
      ]
     },
     "execution_count": 20,
     "metadata": {},
     "output_type": "execute_result"
    }
   ],
   "source": [
    "CDSTD.T.shape"
   ]
  },
  {
   "cell_type": "markdown",
   "metadata": {
    "id": "kRMcgTapFDOq"
   },
   "source": [
    "# Challenge 2 - Using PCA\n",
    "\n",
    "Now that we have created a standardized matrix of cats and dogs, we'll find the two most important components in the data.\n",
    "\n",
    "1. Load the `PCA` function from statsmodel. Create a PCA model with two components.\n",
    "You might need to transpose your data to get the right results."
   ]
  },
  {
   "cell_type": "code",
   "execution_count": 23,
   "metadata": {
    "id": "o6JKMVCpFDOq"
   },
   "outputs": [],
   "source": [
    "# Your code here:\n",
    "from statsmodels.multivariate.pca import PCA\n",
    "\n",
    "pca_stats= PCA(CDSTD.T,ncomp=2)\n"
   ]
  },
  {
   "cell_type": "code",
   "execution_count": 24,
   "metadata": {},
   "outputs": [],
   "source": [
    "components_stats = pca_stats.factors"
   ]
  },
  {
   "cell_type": "markdown",
   "metadata": {
    "id": "HJ0il4Ggehd3"
   },
   "source": [
    "2.  And now lets do the same with sklearn library."
   ]
  },
  {
   "cell_type": "code",
   "execution_count": 26,
   "metadata": {
    "id": "aXde8FwZFDOr"
   },
   "outputs": [],
   "source": [
    "from sklearn.decomposition import PCA\n",
    "pca = PCA(n_components=2)\n",
    "pca_sklearn = pca.fit_transform(CDSTD.T)"
   ]
  },
  {
   "cell_type": "markdown",
   "metadata": {
    "id": "no-JSnrxFDOr"
   },
   "source": [
    "# Challenge 3 - Plotting the Data\n",
    "\n",
    "Now that we have reduced our cats and dogs arrays, we can easily plot the data in a way that the human eye can understand. We can look at this plot to see whether there are differences between the cat and dog images. \n",
    "\n",
    "In the cell below, turn the two dimensional projection into a pandas dataframe and name the columns `pc1`, and `pc2` respectively."
   ]
  },
  {
   "cell_type": "markdown",
   "metadata": {},
   "source": [
    "### First I will do that for the PCA obtained from stats models"
   ]
  },
  {
   "cell_type": "markdown",
   "metadata": {},
   "source": [
    "### PCA from sklearn"
   ]
  },
  {
   "cell_type": "code",
   "execution_count": 27,
   "metadata": {
    "id": "65tZL3XTFDOr"
   },
   "outputs": [
    {
     "data": {
      "text/plain": [
       "array([[ 2.87110314e+01,  1.81156267e+01],\n",
       "       [ 2.35876691e+01, -8.60241879e+00],\n",
       "       [-6.25011186e+00,  1.40603898e-02],\n",
       "       [ 4.15210456e+00, -1.86780080e+01],\n",
       "       [ 1.55528759e+01, -3.48181387e-01],\n",
       "       [-4.93141427e+00, -2.42692202e+01],\n",
       "       [ 1.02934386e+01, -3.20361465e+00],\n",
       "       [ 1.13429529e+01, -1.70641495e+01],\n",
       "       [ 9.19733569e+00, -2.02722530e+01],\n",
       "       [ 2.07340725e+01,  5.28356009e+00],\n",
       "       [-2.12372234e+00, -1.63099594e+01],\n",
       "       [ 1.27094362e+01, -1.20208434e+01],\n",
       "       [ 3.81267880e+00, -2.54255957e+00],\n",
       "       [ 1.99425196e-01, -8.61809111e-01],\n",
       "       [ 1.14740302e+01, -1.02508044e+01],\n",
       "       [ 1.44066743e+01, -1.75955614e+01],\n",
       "       [ 9.27944510e+00,  1.14242510e-01],\n",
       "       [ 2.55182056e+01, -8.51618492e+00],\n",
       "       [ 1.17061598e+01, -1.16193663e+01],\n",
       "       [ 1.15473568e+01, -2.15805551e+01],\n",
       "       [-6.36388764e+00, -2.06429945e+01],\n",
       "       [ 1.56399241e+00, -1.91510256e+01],\n",
       "       [ 4.60996590e+00,  2.12766716e+00],\n",
       "       [ 1.04595745e+01, -2.07274487e+01],\n",
       "       [ 1.97352027e+01, -1.57006124e+01],\n",
       "       [-1.56572802e+00, -1.69443649e+01],\n",
       "       [ 3.65383741e-01, -3.92699975e-01],\n",
       "       [-1.39903864e+00, -9.44183925e+00],\n",
       "       [ 4.78780298e+00, -2.53605367e+01],\n",
       "       [ 6.51502738e+00, -7.53766677e+00],\n",
       "       [ 3.39966806e+00, -9.76411129e+00],\n",
       "       [ 5.25852174e+00, -8.92662888e+00],\n",
       "       [ 2.11092081e+01, -1.31702479e+01],\n",
       "       [ 1.24292457e+01, -1.83007655e+01],\n",
       "       [-6.15629993e+00, -2.12827686e+01],\n",
       "       [ 9.91937722e+00, -1.12260732e+00],\n",
       "       [-1.14049650e+01, -1.94448258e+01],\n",
       "       [-2.41950214e+00, -1.52069880e+01],\n",
       "       [-4.52333849e+00, -1.96875633e+01],\n",
       "       [ 1.99034289e+01, -6.06829364e+00],\n",
       "       [ 1.17500715e+01, -1.57674417e+01],\n",
       "       [ 4.03543180e+00,  1.67359248e+01],\n",
       "       [-7.85905702e+00, -2.22269430e+01],\n",
       "       [ 1.27930923e+01, -1.47997689e+01],\n",
       "       [-3.76278009e+00, -4.72218260e+00],\n",
       "       [ 1.48377355e+01,  1.25034762e+01],\n",
       "       [ 8.80038964e+00, -1.61273891e+00],\n",
       "       [-2.24995124e+00, -4.61101757e+00],\n",
       "       [ 6.10268239e+00,  4.70178479e+00],\n",
       "       [-1.35670460e+01, -1.61429008e+01],\n",
       "       [ 1.84293210e+01,  4.73114778e+00],\n",
       "       [ 2.97257742e+01,  2.58275827e+01],\n",
       "       [-1.02245516e+00,  1.03516043e+01],\n",
       "       [-1.36652619e+01, -2.19862137e+01],\n",
       "       [-1.08988938e+01,  6.85539166e+00],\n",
       "       [-9.58559729e+00, -6.33529764e-01],\n",
       "       [ 1.35812903e+01,  6.96250758e+00],\n",
       "       [ 9.34931585e+00,  9.26621234e+00],\n",
       "       [-1.20183461e+01, -1.29069571e+01],\n",
       "       [-2.36308057e+00, -9.54301875e+00],\n",
       "       [ 5.65929081e+00, -2.12857290e+01],\n",
       "       [ 1.88318600e+01,  1.15653013e+01],\n",
       "       [ 2.40484939e+01,  5.78113046e+00],\n",
       "       [-1.13180691e+01,  7.87172483e+00],\n",
       "       [-3.65069016e+00, -6.81673011e+00],\n",
       "       [ 1.92946748e+01, -1.00076332e-01],\n",
       "       [ 5.13291427e+00,  1.52397528e+01],\n",
       "       [-2.22810727e+01, -5.19264222e+00],\n",
       "       [-1.14849909e+00,  3.52478865e+00],\n",
       "       [ 9.72545965e+00, -1.36811637e+01],\n",
       "       [-3.62138670e+00, -3.92536061e+00],\n",
       "       [ 3.21336579e+00, -1.22905461e+01],\n",
       "       [ 1.60712191e+01, -1.18860810e+01],\n",
       "       [-1.08977114e+01, -1.58957020e+01],\n",
       "       [ 4.81462366e+00,  1.56518855e+01],\n",
       "       [ 2.59085089e+01,  1.26964253e+01],\n",
       "       [ 1.64368429e+01, -4.11674382e+00],\n",
       "       [-5.73166940e+00, -1.66031210e+01],\n",
       "       [-4.08594801e+00, -2.03786197e+01],\n",
       "       [ 2.81007313e+01,  2.66176236e+00],\n",
       "       [-1.26612324e+01,  1.25014156e+01],\n",
       "       [-2.85591169e+01,  4.32033796e+00],\n",
       "       [ 2.16517972e+01,  8.10569642e+00],\n",
       "       [ 2.37133158e+01,  2.46805019e+00],\n",
       "       [-1.51532810e+01,  1.86728078e+01],\n",
       "       [-1.32916050e+01,  1.99568197e+01],\n",
       "       [-2.91220520e+01,  1.58404580e+00],\n",
       "       [-8.19581604e+00,  1.24985033e+01],\n",
       "       [-2.64819103e+01,  9.16997424e+00],\n",
       "       [-1.09943672e+01,  1.33624565e+01],\n",
       "       [ 2.64961289e+00,  4.11934236e+00],\n",
       "       [-9.47874130e-01,  6.64516178e+00],\n",
       "       [-3.29512583e+01,  9.17720941e+00],\n",
       "       [-1.82175887e+01,  1.80776223e+01],\n",
       "       [ 1.54991623e+01,  1.21098033e+01],\n",
       "       [-1.74904341e+01,  1.54068363e+01],\n",
       "       [ 1.84332788e+01,  9.82843365e+00],\n",
       "       [-2.26695620e+01,  1.32120424e+01],\n",
       "       [ 2.87679745e+01,  1.87143952e-01],\n",
       "       [-3.13751850e+01,  8.96332978e+00],\n",
       "       [-4.65214131e+00,  1.47561672e+01],\n",
       "       [-2.22683151e+01,  3.95184213e+00],\n",
       "       [-2.27851580e+01, -1.64865002e+00],\n",
       "       [-2.34774753e+01, -1.59189093e+01],\n",
       "       [ 3.56645019e+01,  1.47706004e+01],\n",
       "       [-1.98882877e+00, -5.10155813e+00],\n",
       "       [-1.55617680e+01,  1.74754468e+01],\n",
       "       [-2.22224711e+01, -9.20801351e+00],\n",
       "       [ 1.31679432e+01,  6.38922031e+00],\n",
       "       [-8.91988444e+00,  1.27844845e+01],\n",
       "       [-6.69678025e-02,  1.32576834e+01],\n",
       "       [ 6.43511245e+00,  1.85964965e+01],\n",
       "       [-1.45440591e+01,  2.13148287e+01],\n",
       "       [ 2.24984521e+01,  1.01896079e+01],\n",
       "       [-3.68595463e+01, -3.91985384e-01],\n",
       "       [-6.44631764e+00, -1.07081891e+00],\n",
       "       [ 3.49375093e+01,  3.88208450e+00],\n",
       "       [-2.59572041e+01,  6.88660216e+00],\n",
       "       [-1.63666092e+01, -8.08201262e+00],\n",
       "       [-3.60057489e+00,  1.06208440e+01],\n",
       "       [-4.05594263e+00,  8.54993575e+00],\n",
       "       [-1.15289107e+01,  1.41102017e+01],\n",
       "       [-2.51307089e+01, -4.84856785e+00],\n",
       "       [-1.38967389e+01, -1.19110996e+01],\n",
       "       [-2.45829030e+01, -9.75818410e+00],\n",
       "       [ 1.97455219e+01,  8.28886626e+00],\n",
       "       [ 2.22425705e+01,  3.17386137e+00],\n",
       "       [ 1.85799334e+01,  6.34541585e+00],\n",
       "       [-2.84011512e+01, -3.48550845e+00],\n",
       "       [-4.90866964e+00,  7.49605013e+00],\n",
       "       [-1.01541018e+01,  1.11548041e+01],\n",
       "       [-1.13761698e+01, -4.89558631e+00],\n",
       "       [-2.82907687e+01,  1.53490542e+01],\n",
       "       [-2.15804978e+01,  1.35451540e+01],\n",
       "       [ 1.38361029e+01,  1.51208517e+01],\n",
       "       [-1.97929077e+01,  1.52125739e+01],\n",
       "       [-1.76174689e+01,  2.37261743e+01],\n",
       "       [-9.69057923e+00,  4.01889093e-01],\n",
       "       [ 2.25289863e+01,  2.27781755e+01],\n",
       "       [-1.41085660e+01, -1.15858529e+01],\n",
       "       [-2.97540373e+00,  1.66716092e+00],\n",
       "       [-6.15010794e+00,  1.72361696e+01],\n",
       "       [-2.90098920e+01,  1.24615212e+01],\n",
       "       [-2.32018322e+01, -4.06421242e+00],\n",
       "       [ 9.74350274e+00,  2.14104044e+00],\n",
       "       [-8.21157878e-01,  1.40042004e+01],\n",
       "       [ 3.75274899e+01,  1.16998857e+01],\n",
       "       [-7.46099378e+00,  6.04171530e+00],\n",
       "       [ 1.54912454e+01,  5.92357892e+00],\n",
       "       [ 1.64163725e+01, -7.51739967e-01],\n",
       "       [ 1.25422919e+01,  9.32349626e+00],\n",
       "       [-2.30819472e+01, -1.60528591e+00],\n",
       "       [-4.75814381e+00,  1.84087982e+01],\n",
       "       [ 1.51779493e-01,  5.13679347e+00],\n",
       "       [ 8.99565338e+00,  2.96060343e+00],\n",
       "       [-1.31870909e+01, -3.93079537e+00],\n",
       "       [-1.58558023e+01, -1.21660622e+01],\n",
       "       [-3.04026757e+01, -6.65134921e+00],\n",
       "       [ 1.33116052e+01,  3.39207101e-01],\n",
       "       [-2.74083704e+00,  1.03872185e+01]])"
      ]
     },
     "execution_count": 27,
     "metadata": {},
     "output_type": "execute_result"
    }
   ],
   "source": [
    "# Your code here:\n",
    "pca_sklearn\n"
   ]
  },
  {
   "cell_type": "code",
   "execution_count": 31,
   "metadata": {},
   "outputs": [
    {
     "data": {
      "text/html": [
       "<div>\n",
       "<style scoped>\n",
       "    .dataframe tbody tr th:only-of-type {\n",
       "        vertical-align: middle;\n",
       "    }\n",
       "\n",
       "    .dataframe tbody tr th {\n",
       "        vertical-align: top;\n",
       "    }\n",
       "\n",
       "    .dataframe thead th {\n",
       "        text-align: right;\n",
       "    }\n",
       "</style>\n",
       "<table border=\"1\" class=\"dataframe\">\n",
       "  <thead>\n",
       "    <tr style=\"text-align: right;\">\n",
       "      <th></th>\n",
       "      <th>pca1</th>\n",
       "      <th>pca2</th>\n",
       "    </tr>\n",
       "  </thead>\n",
       "  <tbody>\n",
       "    <tr>\n",
       "      <th>0</th>\n",
       "      <td>28.711031</td>\n",
       "      <td>18.115627</td>\n",
       "    </tr>\n",
       "    <tr>\n",
       "      <th>1</th>\n",
       "      <td>23.587669</td>\n",
       "      <td>-8.602419</td>\n",
       "    </tr>\n",
       "    <tr>\n",
       "      <th>2</th>\n",
       "      <td>-6.250112</td>\n",
       "      <td>0.014060</td>\n",
       "    </tr>\n",
       "    <tr>\n",
       "      <th>3</th>\n",
       "      <td>4.152105</td>\n",
       "      <td>-18.678008</td>\n",
       "    </tr>\n",
       "    <tr>\n",
       "      <th>4</th>\n",
       "      <td>15.552876</td>\n",
       "      <td>-0.348181</td>\n",
       "    </tr>\n",
       "    <tr>\n",
       "      <th>...</th>\n",
       "      <td>...</td>\n",
       "      <td>...</td>\n",
       "    </tr>\n",
       "    <tr>\n",
       "      <th>155</th>\n",
       "      <td>-13.187091</td>\n",
       "      <td>-3.930795</td>\n",
       "    </tr>\n",
       "    <tr>\n",
       "      <th>156</th>\n",
       "      <td>-15.855802</td>\n",
       "      <td>-12.166062</td>\n",
       "    </tr>\n",
       "    <tr>\n",
       "      <th>157</th>\n",
       "      <td>-30.402676</td>\n",
       "      <td>-6.651349</td>\n",
       "    </tr>\n",
       "    <tr>\n",
       "      <th>158</th>\n",
       "      <td>13.311605</td>\n",
       "      <td>0.339207</td>\n",
       "    </tr>\n",
       "    <tr>\n",
       "      <th>159</th>\n",
       "      <td>-2.740837</td>\n",
       "      <td>10.387219</td>\n",
       "    </tr>\n",
       "  </tbody>\n",
       "</table>\n",
       "<p>160 rows × 2 columns</p>\n",
       "</div>"
      ],
      "text/plain": [
       "          pca1       pca2\n",
       "0    28.711031  18.115627\n",
       "1    23.587669  -8.602419\n",
       "2    -6.250112   0.014060\n",
       "3     4.152105 -18.678008\n",
       "4    15.552876  -0.348181\n",
       "..         ...        ...\n",
       "155 -13.187091  -3.930795\n",
       "156 -15.855802 -12.166062\n",
       "157 -30.402676  -6.651349\n",
       "158  13.311605   0.339207\n",
       "159  -2.740837  10.387219\n",
       "\n",
       "[160 rows x 2 columns]"
      ]
     },
     "execution_count": 31,
     "metadata": {},
     "output_type": "execute_result"
    }
   ],
   "source": [
    "df = pd.DataFrame(pca_sklearn)\n",
    "df.columns =['pca1','pca2']\n",
    "df"
   ]
  },
  {
   "cell_type": "markdown",
   "metadata": {
    "id": "a77mi_VUFDOr"
   },
   "source": [
    "Create a labels list. This list will be of size 160. The first 80 elements in the list will be the word `blue`, and the last 80 elements will be `red`. This will ensure that all dog observations will be colored in blue and all cats will be colored in red. Name this list `colors`."
   ]
  },
  {
   "cell_type": "code",
   "execution_count": 32,
   "metadata": {
    "ExecuteTime": {
     "end_time": "2021-02-25T13:07:40.558939Z",
     "start_time": "2021-02-25T13:07:40.547968Z"
    },
    "id": "uEOkkp9aFDOr"
   },
   "outputs": [],
   "source": [
    "# Your code here:\n",
    "labels = ['blue']*80 + ['red']*80"
   ]
  },
  {
   "cell_type": "markdown",
   "metadata": {
    "id": "3IrkGs-gFDOr"
   },
   "source": [
    "Create a scatter plot of `pc1` and `pc2` below. Use the `colors` list above to color the observations by setting `c=colors`."
   ]
  },
  {
   "cell_type": "code",
   "execution_count": 33,
   "metadata": {
    "ExecuteTime": {
     "end_time": "2021-02-25T13:07:44.414315Z",
     "start_time": "2021-02-25T13:07:44.398349Z"
    },
    "id": "-AbrrG-TFDOr"
   },
   "outputs": [
    {
     "data": {
      "text/plain": [
       "<AxesSubplot:xlabel='pca1', ylabel='pca2'>"
      ]
     },
     "execution_count": 33,
     "metadata": {},
     "output_type": "execute_result"
    },
    {
     "data": {
      "image/png": "[encoded data removed]",
      "text/plain": [
       "<Figure size 432x288 with 1 Axes>"
      ]
     },
     "metadata": {
      "needs_background": "light"
     },
     "output_type": "display_data"
    }
   ],
   "source": [
    "# Your code here:\n",
    "import seaborn as sns \n",
    "import matplotlib.pyplot as plt\n",
    "\n",
    "df.plot.scatter(x='pca1', y='pca2', c=labels)\n"
   ]
  },
  {
   "cell_type": "markdown",
   "metadata": {},
   "source": [
    "### PCA from stats model"
   ]
  },
  {
   "cell_type": "code",
   "execution_count": 34,
   "metadata": {},
   "outputs": [
    {
     "data": {
      "text/plain": [
       "Principal Component Analysis(nobs: 160, nvar: 4096, transformation: Standardize (Correlation), normalization: True, number of components: 2, SVD, id: 0x7fae634acd60)"
      ]
     },
     "execution_count": 34,
     "metadata": {},
     "output_type": "execute_result"
    }
   ],
   "source": [
    "pca_stats"
   ]
  },
  {
   "cell_type": "code",
   "execution_count": 35,
   "metadata": {},
   "outputs": [
    {
     "data": {
      "text/html": [
       "<div>\n",
       "<style scoped>\n",
       "    .dataframe tbody tr th:only-of-type {\n",
       "        vertical-align: middle;\n",
       "    }\n",
       "\n",
       "    .dataframe tbody tr th {\n",
       "        vertical-align: top;\n",
       "    }\n",
       "\n",
       "    .dataframe thead th {\n",
       "        text-align: right;\n",
       "    }\n",
       "</style>\n",
       "<table border=\"1\" class=\"dataframe\">\n",
       "  <thead>\n",
       "    <tr style=\"text-align: right;\">\n",
       "      <th></th>\n",
       "      <th>pca1</th>\n",
       "      <th>pca2</th>\n",
       "    </tr>\n",
       "  </thead>\n",
       "  <tbody>\n",
       "    <tr>\n",
       "      <th>0</th>\n",
       "      <td>-0.126925</td>\n",
       "      <td>-0.130697</td>\n",
       "    </tr>\n",
       "    <tr>\n",
       "      <th>1</th>\n",
       "      <td>-0.128883</td>\n",
       "      <td>0.016662</td>\n",
       "    </tr>\n",
       "    <tr>\n",
       "      <th>2</th>\n",
       "      <td>0.026380</td>\n",
       "      <td>0.029428</td>\n",
       "    </tr>\n",
       "    <tr>\n",
       "      <th>3</th>\n",
       "      <td>-0.040758</td>\n",
       "      <td>0.118589</td>\n",
       "    </tr>\n",
       "    <tr>\n",
       "      <th>4</th>\n",
       "      <td>-0.072766</td>\n",
       "      <td>-0.040100</td>\n",
       "    </tr>\n",
       "    <tr>\n",
       "      <th>...</th>\n",
       "      <td>...</td>\n",
       "      <td>...</td>\n",
       "    </tr>\n",
       "    <tr>\n",
       "      <th>155</th>\n",
       "      <td>0.072222</td>\n",
       "      <td>0.046915</td>\n",
       "    </tr>\n",
       "    <tr>\n",
       "      <th>156</th>\n",
       "      <td>0.066406</td>\n",
       "      <td>0.106850</td>\n",
       "    </tr>\n",
       "    <tr>\n",
       "      <th>157</th>\n",
       "      <td>0.126079</td>\n",
       "      <td>0.058476</td>\n",
       "    </tr>\n",
       "    <tr>\n",
       "      <th>158</th>\n",
       "      <td>-0.047874</td>\n",
       "      <td>-0.001204</td>\n",
       "    </tr>\n",
       "    <tr>\n",
       "      <th>159</th>\n",
       "      <td>0.030278</td>\n",
       "      <td>-0.074388</td>\n",
       "    </tr>\n",
       "  </tbody>\n",
       "</table>\n",
       "<p>160 rows × 2 columns</p>\n",
       "</div>"
      ],
      "text/plain": [
       "         pca1      pca2\n",
       "0   -0.126925 -0.130697\n",
       "1   -0.128883  0.016662\n",
       "2    0.026380  0.029428\n",
       "3   -0.040758  0.118589\n",
       "4   -0.072766 -0.040100\n",
       "..        ...       ...\n",
       "155  0.072222  0.046915\n",
       "156  0.066406  0.106850\n",
       "157  0.126079  0.058476\n",
       "158 -0.047874 -0.001204\n",
       "159  0.030278 -0.074388\n",
       "\n",
       "[160 rows x 2 columns]"
      ]
     },
     "execution_count": 35,
     "metadata": {},
     "output_type": "execute_result"
    }
   ],
   "source": [
    "df_stats = pd.DataFrame(components_stats)\n",
    "df_stats.columns =['pca1','pca2']\n",
    "df_stats"
   ]
  },
  {
   "cell_type": "code",
   "execution_count": 36,
   "metadata": {},
   "outputs": [
    {
     "data": {
      "text/plain": [
       "<AxesSubplot:xlabel='pca1', ylabel='pca2'>"
      ]
     },
     "execution_count": 36,
     "metadata": {},
     "output_type": "execute_result"
    },
    {
     "data": {
      "image/png": "[encoded data removed]",
      "text/plain": [
       "<Figure size 432x288 with 1 Axes>"
      ]
     },
     "metadata": {
      "needs_background": "light"
     },
     "output_type": "display_data"
    }
   ],
   "source": [
    "df_stats.plot.scatter(x='pca1', y='pca2', c=labels)"
   ]
  },
  {
   "cell_type": "markdown",
   "metadata": {
    "id": "I-meGOYBFDOs"
   },
   "source": [
    "Do you see a clear separation between cats and dogs? Write your answer below."
   ]
  },
  {
   "cell_type": "code",
   "execution_count": 152,
   "metadata": {
    "ExecuteTime": {
     "end_time": "2021-02-25T13:07:49.361753Z",
     "start_time": "2021-02-25T13:07:49.348769Z"
    },
    "id": "nBPHDwtIFDOs"
   },
   "outputs": [],
   "source": [
    "# Your conclusions here:\n",
    "# There is a clear diffrence bwteen two groups cats(red) and dogs (blue)"
   ]
  },
  {
   "cell_type": "markdown",
   "metadata": {
    "id": "Qe4Em6IRevAK"
   },
   "source": [
    "## TSNE"
   ]
  },
  {
   "cell_type": "code",
   "execution_count": 37,
   "metadata": {
    "id": "1DqU2K1zFDOs"
   },
   "outputs": [],
   "source": [
    "# Your code here:\n",
    "from sklearn.manifold import TSNE"
   ]
  },
  {
   "cell_type": "markdown",
   "metadata": {
    "id": "5HvnGNv5e3GZ"
   },
   "source": [
    "And now let's use t-SNE to reduce the dimensions till 2 components"
   ]
  },
  {
   "cell_type": "code",
   "execution_count": 39,
   "metadata": {
    "id": "WOe6hJyNezfs"
   },
   "outputs": [
    {
     "name": "stdout",
     "output_type": "stream",
     "text": [
      "[t-SNE] Computing 121 nearest neighbors...\n",
      "[t-SNE] Indexed 160 samples in 0.002s...\n",
      "[t-SNE] Computed neighbors for 160 samples in 0.037s...\n",
      "[t-SNE] Computed conditional probabilities for sample 160 / 160\n",
      "[t-SNE] Mean sigma: 15.056200\n",
      "[t-SNE] KL divergence after 250 iterations with early exaggeration: 79.994827\n",
      "[t-SNE] KL divergence after 300 iterations: 1.930010\n"
     ]
    }
   ],
   "source": [
    "# Your code here:\n",
    "\n",
    "tsne = TSNE(n_components=2, verbose=1, perplexity=40, n_iter=300)\n",
    "X_reduced = tsne.fit_transform(CDSTD.T)"
   ]
  },
  {
   "cell_type": "markdown",
   "metadata": {
    "id": "s7uiHdrWe7vp"
   },
   "source": [
    "How many information we can describe with 2 components?"
   ]
  },
  {
   "cell_type": "markdown",
   "metadata": {
    "id": "fJSJ3tiie5Ou"
   },
   "source": [
    "The 2 components described the whole picture of cat or dog so 4096 features were replaced by 2 components, but as a graph below showed maybe the t-SNE method is not the best here because the diffrence between cat and dogs was more clear with PCA"
   ]
  },
  {
   "cell_type": "markdown",
   "metadata": {
    "id": "WTf4b5ePe-rx"
   },
   "source": [
    "Create a scatter plott"
   ]
  },
  {
   "cell_type": "code",
   "execution_count": 40,
   "metadata": {
    "id": "Yb1F8jlXe_Oq"
   },
   "outputs": [
    {
     "data": {
      "text/plain": [
       "<matplotlib.collections.PathCollection at 0x7fae295a89d0>"
      ]
     },
     "execution_count": 40,
     "metadata": {},
     "output_type": "execute_result"
    },
    {
     "data": {
      "image/png": "[encoded data removed]",
      "text/plain": [
       "<Figure size 432x288 with 1 Axes>"
      ]
     },
     "metadata": {},
     "output_type": "display_data"
    }
   ],
   "source": [
    "import seaborn as sns; sns.set()\n",
    "import matplotlib.pyplot as plt\n",
    "\n",
    "\n",
    "\n",
    "plt.scatter(X_reduced[:, 0], X_reduced[:, 1], c=labels, cmap=plt.cm.hot)"
   ]
  },
  {
   "cell_type": "code",
   "execution_count": null,
   "metadata": {},
   "outputs": [],
   "source": []
  }
 ],
 "metadata": {
  "colab": {
   "collapsed_sections": [],
   "name": "main.ipynb",
   "provenance": []
  },
  "kernelspec": {
   "display_name": "Python 3 (ipykernel)",
   "language": "python",
   "name": "python3"
  },
  "language_info": {
   "codemirror_mode": {
    "name": "ipython",
    "version": 3
   },
   "file_extension": ".py",
   "mimetype": "text/x-python",
   "name": "python",
   "nbconvert_exporter": "python",
   "pygments_lexer": "ipython3",
   "version": "3.9.7"
  },
  "toc": {
   "base_numbering": 1,
   "nav_menu": {},
   "number_sections": true,
   "sideBar": true,
   "skip_h1_title": false,
   "title_cell": "Table of Contents",
   "title_sidebar": "Contents",
   "toc_cell": false,
   "toc_position": {},
   "toc_section_display": true,
   "toc_window_display": false
  },
  "varInspector": {
   "cols": {
    "lenName": 16,
    "lenType": 16,
    "lenVar": 40
   },
   "kernels_config": {
    "python": {
     "delete_cmd_postfix": "",
     "delete_cmd_prefix": "del ",
     "library": "var_list.py",
     "varRefreshCmd": "print(var_dic_list())"
    },
    "r": {
     "delete_cmd_postfix": ") ",
     "delete_cmd_prefix": "rm(",
     "library": "var_list.r",
     "varRefreshCmd": "cat(var_dic_list()) "
    }
   },
   "types_to_exclude": [
    "module",
    "function",
    "builtin_function_or_method",
    "instance",
    "_Feature"
   ],
   "window_display": false
  }
 },
 "nbformat": 4,
 "nbformat_minor": 1
}
