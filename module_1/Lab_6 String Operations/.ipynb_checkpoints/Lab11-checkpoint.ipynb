{
 "cells": [
  {
   "cell_type": "code",
   "execution_count": 10,
   "id": "7d42f476",
   "metadata": {},
   "outputs": [
    {
     "name": "stdout",
     "output_type": "stream",
     "text": [
      "[2, 2, 4]\n"
     ]
    }
   ],
   "source": [
    "#Define a method/function that removes from a given array of integers all the values contained in a second array.\n",
    "\n",
    "integer_list =  [1, 1, 2 ,3 ,1 ,2 ,3 ,4]\n",
    "values_list = [1,3]\n",
    "for i in values_list:\n",
    "    while i in integer_list:\n",
    "        integer_list.remove(i)\n",
    "print(integer_list)\n",
    "\n",
    "    "
   ]
  },
  {
   "cell_type": "code",
   "execution_count": 15,
   "id": "4fadcc7f",
   "metadata": {},
   "outputs": [],
   "source": [
    "integer_list = [67, 31, 91, -9, 111, -888]\n",
    "compare_list=[1,8,9]\n",
    "\n",
    "def count_spec_digits(integer_list,compare_list):\n",
    "\n",
    "    x = ''.join(str(elem) for elem in integer_list)\n",
    "    z=x.replace(\"-\",\"\")\n",
    "    final=list(z)\n",
    "    final_1=[int(i) for i in final]\n",
    "    \n",
    "    freq={}\n",
    "\n",
    "    for i in compare_list:\n",
    "        freq[i]=final_1.count(i)\n",
    "    output=list(freq.items())\n",
    "    print(output)\n"
   ]
  },
  {
   "cell_type": "code",
   "execution_count": 16,
   "id": "6554c26a",
   "metadata": {},
   "outputs": [
    {
     "name": "stdout",
     "output_type": "stream",
     "text": [
      "[(1, 5), (8, 3), (9, 2)]\n"
     ]
    }
   ],
   "source": [
    "count_spec_digits(integer_list,compare_list)"
   ]
  },
  {
   "cell_type": "code",
   "execution_count": 51,
   "id": "cd0b4909",
   "metadata": {},
   "outputs": [
    {
     "name": "stdout",
     "output_type": "stream",
     "text": [
      "['a', 'b', 'r', 'a', 'c', 'a', 'd', 'a', 'b', 'r', 'a']\n",
      "[('a', 5), ('b', 2), ('r', 2), ('c', 1), ('d', 1)]\n"
     ]
    }
   ],
   "source": [
    "alph=(\"abracadabra\") \n",
    "\n",
    "\n",
    "freq= {}\n",
    "x=list(str(alph))\n",
    "print(x)\n",
    "for i in x:\n",
    "    freq[i] =x.count(i)\n",
    "output=list(freq.items())\n",
    "print(output)\n",
    "\n",
    "\n",
    "    \n",
    "   \n",
    "    \n",
    "   \n",
    "\n",
    "\n"
   ]
  },
  {
   "cell_type": "code",
   "execution_count": null,
   "id": "0ecbe80c",
   "metadata": {},
   "outputs": [],
   "source": []
  },
  {
   "cell_type": "code",
   "execution_count": null,
   "id": "500d08de",
   "metadata": {},
   "outputs": [],
   "source": []
  }
 ],
 "metadata": {
  "kernelspec": {
   "display_name": "Python 3",
   "language": "python",
   "name": "python3"
  },
  "language_info": {
   "codemirror_mode": {
    "name": "ipython",
    "version": 3
   },
   "file_extension": ".py",
   "mimetype": "text/x-python",
   "name": "python",
   "nbconvert_exporter": "python",
   "pygments_lexer": "ipython3",
   "version": "3.8.8"
  }
 },
 "nbformat": 4,
 "nbformat_minor": 5
}
