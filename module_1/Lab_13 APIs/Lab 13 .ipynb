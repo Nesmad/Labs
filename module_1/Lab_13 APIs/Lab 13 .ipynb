{
 "cells": [
  {
   "cell_type": "code",
   "execution_count": 1,
   "id": "cfc2f345",
   "metadata": {},
   "outputs": [],
   "source": [
    "import json;\n",
    "import requests;\n",
    "from pandas.io.json import json_normalize;"
   ]
  },
  {
   "cell_type": "code",
   "execution_count": 2,
   "id": "afe11382",
   "metadata": {},
   "outputs": [],
   "source": [
    "response = requests.get('https://api.github.com/repos/ironhack-datalabs/mad-oct-2018/forks');\n",
    "data = response.json();"
   ]
  },
  {
   "cell_type": "code",
   "execution_count": 3,
   "id": "7a122e58",
   "metadata": {},
   "outputs": [
    {
     "name": "stderr",
     "output_type": "stream",
     "text": [
      "/var/folders/5y/q1schvhj60b6r5_4vkhjylg40000gn/T/ipykernel_40494/3658106332.py:1: FutureWarning: pandas.io.json.json_normalize is deprecated, use pandas.json_normalize instead\n",
      "  forks = json_normalize(data);\n"
     ]
    },
    {
     "data": {
      "text/html": [
       "<div>\n",
       "<style scoped>\n",
       "    .dataframe tbody tr th:only-of-type {\n",
       "        vertical-align: middle;\n",
       "    }\n",
       "\n",
       "    .dataframe tbody tr th {\n",
       "        vertical-align: top;\n",
       "    }\n",
       "\n",
       "    .dataframe thead th {\n",
       "        text-align: right;\n",
       "    }\n",
       "</style>\n",
       "<table border=\"1\" class=\"dataframe\">\n",
       "  <thead>\n",
       "    <tr style=\"text-align: right;\">\n",
       "      <th></th>\n",
       "      <th>id</th>\n",
       "      <th>node_id</th>\n",
       "      <th>name</th>\n",
       "      <th>full_name</th>\n",
       "      <th>private</th>\n",
       "      <th>html_url</th>\n",
       "      <th>description</th>\n",
       "      <th>fork</th>\n",
       "      <th>url</th>\n",
       "      <th>forks_url</th>\n",
       "      <th>...</th>\n",
       "      <th>owner.events_url</th>\n",
       "      <th>owner.received_events_url</th>\n",
       "      <th>owner.type</th>\n",
       "      <th>owner.site_admin</th>\n",
       "      <th>license.key</th>\n",
       "      <th>license.name</th>\n",
       "      <th>license.spdx_id</th>\n",
       "      <th>license.url</th>\n",
       "      <th>license.node_id</th>\n",
       "      <th>license</th>\n",
       "    </tr>\n",
       "  </thead>\n",
       "  <tbody>\n",
       "    <tr>\n",
       "      <th>0</th>\n",
       "      <td>421388729</td>\n",
       "      <td>R_kgDOGR3huQ</td>\n",
       "      <td>mad-oct-2018</td>\n",
       "      <td>TheIronhidex/mad-oct-2018</td>\n",
       "      <td>False</td>\n",
       "      <td>https://github.com/TheIronhidex/mad-oct-2018</td>\n",
       "      <td>Student labs for Ironhack data analytics bootcamp</td>\n",
       "      <td>True</td>\n",
       "      <td>https://api.github.com/repos/TheIronhidex/mad-...</td>\n",
       "      <td>https://api.github.com/repos/TheIronhidex/mad-...</td>\n",
       "      <td>...</td>\n",
       "      <td>https://api.github.com/users/TheIronhidex/even...</td>\n",
       "      <td>https://api.github.com/users/TheIronhidex/rece...</td>\n",
       "      <td>User</td>\n",
       "      <td>False</td>\n",
       "      <td>unlicense</td>\n",
       "      <td>The Unlicense</td>\n",
       "      <td>Unlicense</td>\n",
       "      <td>https://api.github.com/licenses/unlicense</td>\n",
       "      <td>MDc6TGljZW5zZTE1</td>\n",
       "      <td>NaN</td>\n",
       "    </tr>\n",
       "    <tr>\n",
       "      <th>1</th>\n",
       "      <td>416830289</td>\n",
       "      <td>R_kgDOGNhTUQ</td>\n",
       "      <td>mad-oct-2018</td>\n",
       "      <td>techols/mad-oct-2018</td>\n",
       "      <td>False</td>\n",
       "      <td>https://github.com/techols/mad-oct-2018</td>\n",
       "      <td>Student labs for Ironhack data analytics bootcamp</td>\n",
       "      <td>True</td>\n",
       "      <td>https://api.github.com/repos/techols/mad-oct-2018</td>\n",
       "      <td>https://api.github.com/repos/techols/mad-oct-2...</td>\n",
       "      <td>...</td>\n",
       "      <td>https://api.github.com/users/techols/events{/p...</td>\n",
       "      <td>https://api.github.com/users/techols/received_...</td>\n",
       "      <td>User</td>\n",
       "      <td>False</td>\n",
       "      <td>unlicense</td>\n",
       "      <td>The Unlicense</td>\n",
       "      <td>Unlicense</td>\n",
       "      <td>https://api.github.com/licenses/unlicense</td>\n",
       "      <td>MDc6TGljZW5zZTE1</td>\n",
       "      <td>NaN</td>\n",
       "    </tr>\n",
       "    <tr>\n",
       "      <th>2</th>\n",
       "      <td>357335874</td>\n",
       "      <td>MDEwOlJlcG9zaXRvcnkzNTczMzU4NzQ=</td>\n",
       "      <td>mad-oct-2018</td>\n",
       "      <td>luisbang/mad-oct-2018</td>\n",
       "      <td>False</td>\n",
       "      <td>https://github.com/luisbang/mad-oct-2018</td>\n",
       "      <td>Student labs for Ironhack data analytics bootcamp</td>\n",
       "      <td>True</td>\n",
       "      <td>https://api.github.com/repos/luisbang/mad-oct-...</td>\n",
       "      <td>https://api.github.com/repos/luisbang/mad-oct-...</td>\n",
       "      <td>...</td>\n",
       "      <td>https://api.github.com/users/luisbang/events{/...</td>\n",
       "      <td>https://api.github.com/users/luisbang/received...</td>\n",
       "      <td>User</td>\n",
       "      <td>False</td>\n",
       "      <td>unlicense</td>\n",
       "      <td>The Unlicense</td>\n",
       "      <td>Unlicense</td>\n",
       "      <td>https://api.github.com/licenses/unlicense</td>\n",
       "      <td>MDc6TGljZW5zZTE1</td>\n",
       "      <td>NaN</td>\n",
       "    </tr>\n",
       "    <tr>\n",
       "      <th>3</th>\n",
       "      <td>335309218</td>\n",
       "      <td>MDEwOlJlcG9zaXRvcnkzMzUzMDkyMTg=</td>\n",
       "      <td>mad-oct-2018</td>\n",
       "      <td>Forastierii/mad-oct-2018</td>\n",
       "      <td>False</td>\n",
       "      <td>https://github.com/Forastierii/mad-oct-2018</td>\n",
       "      <td>Student labs for Ironhack data analytics bootcamp</td>\n",
       "      <td>True</td>\n",
       "      <td>https://api.github.com/repos/Forastierii/mad-o...</td>\n",
       "      <td>https://api.github.com/repos/Forastierii/mad-o...</td>\n",
       "      <td>...</td>\n",
       "      <td>https://api.github.com/users/Forastierii/event...</td>\n",
       "      <td>https://api.github.com/users/Forastierii/recei...</td>\n",
       "      <td>User</td>\n",
       "      <td>False</td>\n",
       "      <td>unlicense</td>\n",
       "      <td>The Unlicense</td>\n",
       "      <td>Unlicense</td>\n",
       "      <td>https://api.github.com/licenses/unlicense</td>\n",
       "      <td>MDc6TGljZW5zZTE1</td>\n",
       "      <td>NaN</td>\n",
       "    </tr>\n",
       "    <tr>\n",
       "      <th>4</th>\n",
       "      <td>220066216</td>\n",
       "      <td>MDEwOlJlcG9zaXRvcnkyMjAwNjYyMTY=</td>\n",
       "      <td>mad-oct-2018</td>\n",
       "      <td>ToniPons97/mad-oct-2018</td>\n",
       "      <td>False</td>\n",
       "      <td>https://github.com/ToniPons97/mad-oct-2018</td>\n",
       "      <td>Student labs for Ironhack data analytics bootcamp</td>\n",
       "      <td>True</td>\n",
       "      <td>https://api.github.com/repos/ToniPons97/mad-oc...</td>\n",
       "      <td>https://api.github.com/repos/ToniPons97/mad-oc...</td>\n",
       "      <td>...</td>\n",
       "      <td>https://api.github.com/users/ToniPons97/events...</td>\n",
       "      <td>https://api.github.com/users/ToniPons97/receiv...</td>\n",
       "      <td>User</td>\n",
       "      <td>False</td>\n",
       "      <td>unlicense</td>\n",
       "      <td>The Unlicense</td>\n",
       "      <td>Unlicense</td>\n",
       "      <td>https://api.github.com/licenses/unlicense</td>\n",
       "      <td>MDc6TGljZW5zZTE1</td>\n",
       "      <td>NaN</td>\n",
       "    </tr>\n",
       "  </tbody>\n",
       "</table>\n",
       "<p>5 rows × 99 columns</p>\n",
       "</div>"
      ],
      "text/plain": [
       "          id                           node_id          name  \\\n",
       "0  421388729                      R_kgDOGR3huQ  mad-oct-2018   \n",
       "1  416830289                      R_kgDOGNhTUQ  mad-oct-2018   \n",
       "2  357335874  MDEwOlJlcG9zaXRvcnkzNTczMzU4NzQ=  mad-oct-2018   \n",
       "3  335309218  MDEwOlJlcG9zaXRvcnkzMzUzMDkyMTg=  mad-oct-2018   \n",
       "4  220066216  MDEwOlJlcG9zaXRvcnkyMjAwNjYyMTY=  mad-oct-2018   \n",
       "\n",
       "                   full_name  private  \\\n",
       "0  TheIronhidex/mad-oct-2018    False   \n",
       "1       techols/mad-oct-2018    False   \n",
       "2      luisbang/mad-oct-2018    False   \n",
       "3   Forastierii/mad-oct-2018    False   \n",
       "4    ToniPons97/mad-oct-2018    False   \n",
       "\n",
       "                                       html_url  \\\n",
       "0  https://github.com/TheIronhidex/mad-oct-2018   \n",
       "1       https://github.com/techols/mad-oct-2018   \n",
       "2      https://github.com/luisbang/mad-oct-2018   \n",
       "3   https://github.com/Forastierii/mad-oct-2018   \n",
       "4    https://github.com/ToniPons97/mad-oct-2018   \n",
       "\n",
       "                                         description  fork  \\\n",
       "0  Student labs for Ironhack data analytics bootcamp  True   \n",
       "1  Student labs for Ironhack data analytics bootcamp  True   \n",
       "2  Student labs for Ironhack data analytics bootcamp  True   \n",
       "3  Student labs for Ironhack data analytics bootcamp  True   \n",
       "4  Student labs for Ironhack data analytics bootcamp  True   \n",
       "\n",
       "                                                 url  \\\n",
       "0  https://api.github.com/repos/TheIronhidex/mad-...   \n",
       "1  https://api.github.com/repos/techols/mad-oct-2018   \n",
       "2  https://api.github.com/repos/luisbang/mad-oct-...   \n",
       "3  https://api.github.com/repos/Forastierii/mad-o...   \n",
       "4  https://api.github.com/repos/ToniPons97/mad-oc...   \n",
       "\n",
       "                                           forks_url  ...  \\\n",
       "0  https://api.github.com/repos/TheIronhidex/mad-...  ...   \n",
       "1  https://api.github.com/repos/techols/mad-oct-2...  ...   \n",
       "2  https://api.github.com/repos/luisbang/mad-oct-...  ...   \n",
       "3  https://api.github.com/repos/Forastierii/mad-o...  ...   \n",
       "4  https://api.github.com/repos/ToniPons97/mad-oc...  ...   \n",
       "\n",
       "                                    owner.events_url  \\\n",
       "0  https://api.github.com/users/TheIronhidex/even...   \n",
       "1  https://api.github.com/users/techols/events{/p...   \n",
       "2  https://api.github.com/users/luisbang/events{/...   \n",
       "3  https://api.github.com/users/Forastierii/event...   \n",
       "4  https://api.github.com/users/ToniPons97/events...   \n",
       "\n",
       "                           owner.received_events_url owner.type  \\\n",
       "0  https://api.github.com/users/TheIronhidex/rece...       User   \n",
       "1  https://api.github.com/users/techols/received_...       User   \n",
       "2  https://api.github.com/users/luisbang/received...       User   \n",
       "3  https://api.github.com/users/Forastierii/recei...       User   \n",
       "4  https://api.github.com/users/ToniPons97/receiv...       User   \n",
       "\n",
       "  owner.site_admin license.key   license.name license.spdx_id  \\\n",
       "0            False   unlicense  The Unlicense       Unlicense   \n",
       "1            False   unlicense  The Unlicense       Unlicense   \n",
       "2            False   unlicense  The Unlicense       Unlicense   \n",
       "3            False   unlicense  The Unlicense       Unlicense   \n",
       "4            False   unlicense  The Unlicense       Unlicense   \n",
       "\n",
       "                                 license.url   license.node_id license  \n",
       "0  https://api.github.com/licenses/unlicense  MDc6TGljZW5zZTE1     NaN  \n",
       "1  https://api.github.com/licenses/unlicense  MDc6TGljZW5zZTE1     NaN  \n",
       "2  https://api.github.com/licenses/unlicense  MDc6TGljZW5zZTE1     NaN  \n",
       "3  https://api.github.com/licenses/unlicense  MDc6TGljZW5zZTE1     NaN  \n",
       "4  https://api.github.com/licenses/unlicense  MDc6TGljZW5zZTE1     NaN  \n",
       "\n",
       "[5 rows x 99 columns]"
      ]
     },
     "execution_count": 3,
     "metadata": {},
     "output_type": "execute_result"
    }
   ],
   "source": [
    "forks = json_normalize(data);\n",
    "forks.head()"
   ]
  },
  {
   "cell_type": "code",
   "execution_count": 4,
   "id": "8aa28c30",
   "metadata": {},
   "outputs": [
    {
     "name": "stdout",
     "output_type": "stream",
     "text": [
      "[None, 'Jupyter Notebook', 'HTML']\n"
     ]
    }
   ],
   "source": [
    "languages = [];\n",
    "\n",
    "for language in forks['language']:\n",
    "    if language not in languages:\n",
    "        languages.append(language); \n",
    "        \n",
    "print(languages);"
   ]
  },
  {
   "cell_type": "code",
   "execution_count": 5,
   "id": "6ee68bfd",
   "metadata": {},
   "outputs": [
    {
     "name": "stderr",
     "output_type": "stream",
     "text": [
      "/var/folders/5y/q1schvhj60b6r5_4vkhjylg40000gn/T/ipykernel_40494/474294437.py:3: FutureWarning: pandas.io.json.json_normalize is deprecated, use pandas.json_normalize instead\n",
      "  commits = json_normalize(data);\n"
     ]
    },
    {
     "data": {
      "text/plain": [
       "0     2019-08-19T11:11:36Z\n",
       "1     2019-03-07T15:49:16Z\n",
       "2     2019-03-07T15:38:52Z\n",
       "3     2019-01-18T18:28:33Z\n",
       "4     2019-01-17T21:59:35Z\n",
       "5     2019-01-17T06:33:16Z\n",
       "6     2019-01-17T06:28:16Z\n",
       "7     2019-01-17T06:24:01Z\n",
       "8     2019-01-16T23:20:01Z\n",
       "9     2019-01-16T22:24:40Z\n",
       "10    2019-01-16T22:24:35Z\n",
       "Name: commit.author.date, dtype: object"
      ]
     },
     "execution_count": 5,
     "metadata": {},
     "output_type": "execute_result"
    }
   ],
   "source": [
    "response = requests.get('https://api.github.com/repos/ironhack-datalabs/mad-oct-2018/commits?since=2019-15-01T00:00:00Z')\n",
    "data = response.json();\n",
    "commits = json_normalize(data);\n",
    "commits['commit.author.date']"
   ]
  },
  {
   "cell_type": "code",
   "execution_count": 6,
   "id": "2999a426",
   "metadata": {},
   "outputs": [
    {
     "data": {
      "text/plain": [
       "11"
      ]
     },
     "execution_count": 6,
     "metadata": {},
     "output_type": "execute_result"
    }
   ],
   "source": [
    "len(commits)"
   ]
  },
  {
   "cell_type": "code",
   "execution_count": 7,
   "id": "f972cda1",
   "metadata": {},
   "outputs": [],
   "source": [
    "response = requests.get('https://api.github.com/search/code?q=.scavengerhunt in:path+repo:ironhack-datalabs/scavenger');\n",
    "search = response.json();\n"
   ]
  },
  {
   "cell_type": "code",
   "execution_count": 8,
   "id": "0d0607da",
   "metadata": {},
   "outputs": [],
   "source": [
    "files = search['items'];\n",
    "files = sorted(files, key=lambda file: file['name']);"
   ]
  },
  {
   "cell_type": "code",
   "execution_count": 9,
   "id": "50f53767",
   "metadata": {},
   "outputs": [],
   "source": [
    "contents_list = []\n",
    "headers = {'Accept': 'application/vnd.github.v3.raw', };"
   ]
  },
  {
   "cell_type": "code",
   "execution_count": 10,
   "id": "59509a26",
   "metadata": {},
   "outputs": [],
   "source": [
    "for file in files:\n",
    "    content_path = 'https://api.github.com/repos/ironhack-datalabs/scavenger/contents/{}'.format(file['path']);\n",
    "    response = requests.get(content_path, headers=headers);\n",
    "    contents_list.append(response.text);"
   ]
  },
  {
   "cell_type": "code",
   "execution_count": 11,
   "id": "e4034f3a",
   "metadata": {},
   "outputs": [],
   "source": [
    "clean_contents = [word.strip('\\n') for word in contents_list]\n",
    "joke = \" \".join(clean_contents);"
   ]
  },
  {
   "cell_type": "code",
   "execution_count": 12,
   "id": "0931cf64",
   "metadata": {},
   "outputs": [
    {
     "name": "stdout",
     "output_type": "stream",
     "text": [
      "In data science, 80 percent of time spent is preparing data, 20 percent of time is spent complaining about the need to prepare data.\n"
     ]
    }
   ],
   "source": [
    "print(joke)"
   ]
  },
  {
   "cell_type": "code",
   "execution_count": null,
   "id": "5a28c6bb",
   "metadata": {},
   "outputs": [],
   "source": []
  }
 ],
 "metadata": {
  "kernelspec": {
   "display_name": "Python 3 (ipykernel)",
   "language": "python",
   "name": "python3"
  },
  "language_info": {
   "codemirror_mode": {
    "name": "ipython",
    "version": 3
   },
   "file_extension": ".py",
   "mimetype": "text/x-python",
   "name": "python",
   "nbconvert_exporter": "python",
   "pygments_lexer": "ipython3",
   "version": "3.9.7"
  }
 },
 "nbformat": 4,
 "nbformat_minor": 5
}
