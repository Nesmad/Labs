{
 "cells": [
  {
   "cell_type": "code",
   "execution_count": 6,
   "id": "e1cb95dc",
   "metadata": {},
   "outputs": [
    {
     "data": {
      "text/plain": [
       "Counter({True: 17, False: 7})"
      ]
     },
     "execution_count": 6,
     "metadata": {},
     "output_type": "execute_result"
    }
   ],
   "source": [
    "Sheep_counts=[True,  True,  True,  False,\n",
    "  True,  True,  True,  True ,\n",
    "  True,  False, True,  False,\n",
    "  True,  False, False, True ,\n",
    "  True,  True,  True,  True ,\n",
    "  False, False, True,  True]\n",
    "\n",
    "from collections import Counter\n",
    "Counter(Sheep_counts)"
   ]
  },
  {
   "cell_type": "code",
   "execution_count": 24,
   "id": "e9f52fce",
   "metadata": {},
   "outputs": [
    {
     "name": "stdout",
     "output_type": "stream",
     "text": [
      "[0, 2, 4, 6, 8, 10]\n"
     ]
    }
   ],
   "source": [
    "#Take an array and remove every second element from the array. Always keep the first element and start removing with the next element.\n",
    "\n",
    "array=[0,1, 2, 3, 4, 5, 6, 7, 8, 9, 10]\n",
    "z = array[::2]\n",
    "array=z\n",
    "    \n",
    "\n",
    "print(array)\n",
    "    \n",
    "        \n",
    "      "
   ]
  },
  {
   "cell_type": "code",
   "execution_count": 34,
   "id": "ffdde524",
   "metadata": {},
   "outputs": [
    {
     "name": "stdout",
     "output_type": "stream",
     "text": [
      "please enter a number567\n",
      "['7', '6', '5']\n"
     ]
    }
   ],
   "source": [
    "#Given a random non-negative number, you have to return the digits of this number within an array in reverse order.\n",
    "\n",
    "x=int(input(\"please enter a number\"))\n",
    "y=list(str(x))\n",
    "z=y[::-1]\n",
    "print(z)\n"
   ]
  },
  {
   "cell_type": "code",
   "execution_count": 43,
   "id": "0c293353",
   "metadata": {},
   "outputs": [
    {
     "name": "stdout",
     "output_type": "stream",
     "text": [
      "please enter a number123\n",
      "['1', '4', '9']\n",
      "149\n"
     ]
    }
   ],
   "source": [
    "#you are asked to square every digit of a number and concatenate them\n",
    "x=int(input(\"please enter a number\"))\n",
    "y=list(str(x))\n",
    "\n",
    "f=[]\n",
    "for i in y:\n",
    "    z=(int(i))**2\n",
    "    z=str(z)\n",
    "    f.append(z)\n",
    "print(f)\n",
    "\n",
    "M=\"\".join(f)\n",
    "print(M)\n",
    "\n",
    "\n",
    "    "
   ]
  },
  {
   "cell_type": "code",
   "execution_count": null,
   "id": "ef68dbba",
   "metadata": {},
   "outputs": [],
   "source": [
    "\n",
    "    \n",
    "    "
   ]
  },
  {
   "cell_type": "code",
   "execution_count": 40,
   "id": "0f74cc48",
   "metadata": {},
   "outputs": [],
   "source": [
    "integer_list = [67, 31, 91, -9, 111, -888]\n",
    "compare_list=[1,8,9]\n",
    "def count_spec_digits(integer_list,compare_list):\n",
    "\n",
    "    x = ''.join(str(elem) for elem in integers_list)\n",
    "    z=x.replace(\"-\",\"\")\n",
    "    final=list(z)\n",
    "    final_1=[int(i) for i in final]\n",
    "    \n",
    "    freq={}\n",
    "\n",
    "    for i in compare_list:\n",
    "        freq[i]=final_1.count(i)\n",
    "    output=list(freq.items())\n",
    "    print(output)\n"
   ]
  },
  {
   "cell_type": "code",
   "execution_count": 41,
   "id": "7db26dbb",
   "metadata": {},
   "outputs": [
    {
     "name": "stdout",
     "output_type": "stream",
     "text": [
      "[(1, 5), (8, 3), (9, 2)]\n"
     ]
    }
   ],
   "source": [
    "count_spec_digits(integer_list,compare_list)"
   ]
  },
  {
   "cell_type": "code",
   "execution_count": null,
   "id": "a224b9b3",
   "metadata": {},
   "outputs": [],
   "source": []
  }
 ],
 "metadata": {
  "kernelspec": {
   "display_name": "Python 3",
   "language": "python",
   "name": "python3"
  },
  "language_info": {
   "codemirror_mode": {
    "name": "ipython",
    "version": 3
   },
   "file_extension": ".py",
   "mimetype": "text/x-python",
   "name": "python",
   "nbconvert_exporter": "python",
   "pygments_lexer": "ipython3",
   "version": "3.8.8"
  }
 },
 "nbformat": 4,
 "nbformat_minor": 5
}
